{
 "cells": [
  {
   "cell_type": "markdown",
   "metadata": {},
   "source": [
    "### The Idea\n",
    "\n",
    "$$a^2 + b^2 = c^2  \\tag{1}$$ \n",
    "$$a + b + c = 1000 \\tag{2}$$\n",
    "\n",
    "_sub c from both sides in equation(2) and square them_\n",
    "\n",
    "$$a^2 + 2ab + b^2 = 1000^2 - 2000c + c^2 $$ \n",
    "\n",
    "_from equation(1) we can conclude that:_\n",
    "\n",
    "$$2ab = 1000^2 - 2000c \\tag{3}$$\n",
    "\n",
    "_by substituting from equation(2) in equation(3)_\n",
    "\n",
    "$$2a^2 - (2000 - 2c)a + (1000^2 - 2000c) = 0 \\tag{4}$$"
   ]
  },
  {
   "cell_type": "code",
   "execution_count": 1,
   "metadata": {},
   "outputs": [],
   "source": [
    "from math import sqrt"
   ]
  },
  {
   "cell_type": "code",
   "execution_count": 2,
   "metadata": {},
   "outputs": [],
   "source": [
    "def get_sides(c):\n",
    "    t1 = 2000-2*c\n",
    "    t2 = t1**2 - 8*(1000**2 - 2000*c)\n",
    "\n",
    "    if t2 >= 0:  \n",
    "        a = (t1 - sqrt(t2)) / 4\n",
    "        b = (t1 + sqrt(t2)) / 4\n",
    "        if (a == int(a)) and (b == int(b)):\n",
    "            return [True,(a,b,c)]\n",
    "\n",
    "    return [False,()]"
   ]
  },
  {
   "cell_type": "code",
   "execution_count": 3,
   "metadata": {},
   "outputs": [],
   "source": [
    "def get_sol(limits):\n",
    "    for c in range(limits[0],limits[1]):\n",
    "        gate,sides = get_sides(c)\n",
    "        if gate:\n",
    "            return sides"
   ]
  },
  {
   "cell_type": "code",
   "execution_count": 4,
   "metadata": {},
   "outputs": [
    {
     "name": "stdout",
     "output_type": "stream",
     "text": [
      "Wall time: 0 ns\n"
     ]
    },
    {
     "data": {
      "text/plain": [
       "(200.0, 375.0, 425)"
      ]
     },
     "execution_count": 4,
     "metadata": {},
     "output_type": "execute_result"
    }
   ],
   "source": [
    "# I solved it graphically and found that the hypotenuse is greater than 400 and definitely less than 500.\n",
    "# why 500 because in any triangle the sum of any two sides must be greater than the third one.\n",
    "%time get_sol((400,500))  "
   ]
  },
  {
   "cell_type": "code",
   "execution_count": 5,
   "metadata": {},
   "outputs": [
    {
     "data": {
      "text/plain": [
       "31875000"
      ]
     },
     "execution_count": 5,
     "metadata": {},
     "output_type": "execute_result"
    }
   ],
   "source": [
    "200*375*425"
   ]
  }
 ],
 "metadata": {
  "kernelspec": {
   "display_name": "Python 3",
   "language": "python",
   "name": "python3"
  },
  "language_info": {
   "codemirror_mode": {
    "name": "ipython",
    "version": 3
   },
   "file_extension": ".py",
   "mimetype": "text/x-python",
   "name": "python",
   "nbconvert_exporter": "python",
   "pygments_lexer": "ipython3",
   "version": "3.8.5"
  }
 },
 "nbformat": 4,
 "nbformat_minor": 4
}
