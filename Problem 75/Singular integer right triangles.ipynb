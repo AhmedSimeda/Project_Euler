{
 "cells": [
  {
   "cell_type": "markdown",
   "metadata": {},
   "source": [
    "### From 009_overoview"
   ]
  },
  {
   "cell_type": "code",
   "execution_count": 1,
   "metadata": {},
   "outputs": [],
   "source": [
    "def ceiling(Num):\n",
    "    return int(Num)+1"
   ]
  },
  {
   "cell_type": "code",
   "execution_count": 61,
   "metadata": {},
   "outputs": [],
   "source": [
    "from math import gcd,sqrt"
   ]
  },
  {
   "cell_type": "code",
   "execution_count": 68,
   "metadata": {},
   "outputs": [],
   "source": [
    "def get_triangle_sides(L):\n",
    "    sides  = [] \n",
    "    l2     = L/2\n",
    "    #mlimit = ceiling(l2)-1\n",
    "    for m in range(2,int(sqrt(l2))+1):\n",
    "        if l2 % m == 0 :\n",
    "            lm = L // m\n",
    "            while lm % 2 == 0:\n",
    "                lm = lm //2\n",
    "\n",
    "            if m % 2 == 1:\n",
    "                k = m+2\n",
    "            else:\n",
    "                k = m+1\n",
    "\n",
    "            while (k < 2*m) and (k <= lm):\n",
    "                if (lm % k == 0) and (gcd(k,m) == 1):\n",
    "                    d = l2 // (k*m)\n",
    "                    n = k-m\n",
    "                    a = int(d*(m*m-n*n))\n",
    "                    b = int(2*d*m*n)\n",
    "                    c = int(d*(m*m+n*n))\n",
    "                    sides.append((a,b,c))\n",
    "                k += 2\n",
    "    \n",
    "    return sides"
   ]
  },
  {
   "cell_type": "code",
   "execution_count": 14,
   "metadata": {},
   "outputs": [],
   "source": [
    "def get_sol(limit):\n",
    "    count = 0\n",
    "    for i in range(12,limit+1):\n",
    "        if len(get_triangle_sides(i)) == 1:\n",
    "            count += 1\n",
    "    print(count)"
   ]
  },
  {
   "cell_type": "code",
   "execution_count": 71,
   "metadata": {},
   "outputs": [
    {
     "name": "stdout",
     "output_type": "stream",
     "text": [
      "161667\n",
      "Wall time: 6min 16s\n"
     ]
    }
   ],
   "source": [
    "%time get_sol(1500000)"
   ]
  }
 ],
 "metadata": {
  "kernelspec": {
   "display_name": "Python 3",
   "language": "python",
   "name": "python3"
  },
  "language_info": {
   "codemirror_mode": {
    "name": "ipython",
    "version": 3
   },
   "file_extension": ".py",
   "mimetype": "text/x-python",
   "name": "python",
   "nbconvert_exporter": "python",
   "pygments_lexer": "ipython3",
   "version": "3.6.9"
  }
 },
 "nbformat": 4,
 "nbformat_minor": 2
}
