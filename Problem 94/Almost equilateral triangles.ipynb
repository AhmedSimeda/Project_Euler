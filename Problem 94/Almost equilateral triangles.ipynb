{
 "cells": [
  {
   "cell_type": "code",
   "execution_count": null,
   "metadata": {},
   "outputs": [],
   "source": [
    "from math import sqrt"
   ]
  },
  {
   "cell_type": "code",
   "execution_count": null,
   "metadata": {},
   "outputs": [],
   "source": [
    "def is_integral_area(a,b,c):\n",
    "    p = 0.5*(a+b+c)\n",
    "    area = sqrt(p*(p-a)*(p-b)*(p-c))\n",
    "    if int(area) == area:\n",
    "        return True\n",
    "    return False"
   ]
  },
  {
   "cell_type": "code",
   "execution_count": null,
   "metadata": {},
   "outputs": [],
   "source": [
    "def get_sol(limit):\n",
    "    perimeters = 0\n",
    "    a,b,c      = 1,1,2\n",
    "    while (a+b+c) <= limit:\n",
    "        if is_integral_area(a,b,c):\n",
    "            perimeters += (a+b+c)\n",
    "        a += 1\n",
    "        b += 1\n",
    "        c += 1\n",
    "    \n",
    "    print(perimeters)"
   ]
  },
  {
   "cell_type": "markdown",
   "metadata": {},
   "source": [
    "# Beautiful Approach\n",
    "**(with the help of the idea from mathblog to use pell equation)**\n",
    "+\n",
    "**see my notebook for more illustration**"
   ]
  },
  {
   "cell_type": "markdown",
   "metadata": {},
   "source": [
    "From problem 66"
   ]
  },
  {
   "cell_type": "code",
   "execution_count": 1,
   "metadata": {},
   "outputs": [],
   "source": [
    "from math import sqrt"
   ]
  },
  {
   "cell_type": "code",
   "execution_count": 2,
   "metadata": {},
   "outputs": [],
   "source": [
    "def get_cont_part(Num):\n",
    "    cont_part = []\n",
    "    \n",
    "    a = a1 = int(sqrt(Num))\n",
    "    u = u1 = 0\n",
    "    v = v1 = 1\n",
    "    \n",
    "    cont_part.append(a)\n",
    "        \n",
    "    while a != 2*a1 :\n",
    "        u = a*v - u\n",
    "        v = (Num - u**2)/v\n",
    "        a = int((sqrt(Num)+u)/v)\n",
    "        cont_part.append(a)\n",
    "        \n",
    "    return cont_part"
   ]
  },
  {
   "cell_type": "code",
   "execution_count": 3,
   "metadata": {},
   "outputs": [],
   "source": [
    "def Pell_equation(x,y,d):\n",
    "    return x**2 - d*(y**2)"
   ]
  },
  {
   "cell_type": "code",
   "execution_count": 4,
   "metadata": {},
   "outputs": [],
   "source": [
    "from itertools import cycle"
   ]
  },
  {
   "cell_type": "code",
   "execution_count": 8,
   "metadata": {},
   "outputs": [],
   "source": [
    "def get_solutions(D,coefficients):\n",
    "    solutions     = [] # as a tuple (x,y)\n",
    "    pre_prev_numo = 1\n",
    "    pre_prev_deno = 0\n",
    "    prev_numo     = coefficients[0]      #numo = a0\n",
    "    prev_deno     = 1\n",
    "    for coeff in cycle(coefficients[1:]):\n",
    "        if Pell_equation(prev_numo,prev_deno,D) == 1:\n",
    "            solutions.append((prev_numo,prev_deno))\n",
    "        curr_numo     = coeff*prev_numo + pre_prev_numo\n",
    "        curr_deno     = coeff*prev_deno + pre_prev_deno\n",
    "        pre_prev_numo = prev_numo\n",
    "        pre_prev_deno = prev_deno\n",
    "        prev_numo     = curr_numo\n",
    "        prev_deno     = curr_deno\n",
    "        if prev_deno > 333333333: #it can't be bigger than the two sides\n",
    "            break\n",
    "    return solutions"
   ]
  },
  {
   "cell_type": "code",
   "execution_count": 9,
   "metadata": {},
   "outputs": [],
   "source": [
    "#values for x and y\n",
    "solutions = get_solutions(3,get_cont_part(3))"
   ]
  },
  {
   "cell_type": "code",
   "execution_count": 10,
   "metadata": {},
   "outputs": [
    {
     "data": {
      "text/plain": [
       "[(2, 1),\n",
       " (7, 4),\n",
       " (26, 15),\n",
       " (97, 56),\n",
       " (362, 209),\n",
       " (1351, 780),\n",
       " (5042, 2911),\n",
       " (18817, 10864),\n",
       " (70226, 40545),\n",
       " (262087, 151316),\n",
       " (978122, 564719),\n",
       " (3650401, 2107560),\n",
       " (13623482, 7865521),\n",
       " (50843527, 29354524),\n",
       " (189750626, 109552575)]"
      ]
     },
     "execution_count": 10,
     "metadata": {},
     "output_type": "execute_result"
    }
   ],
   "source": [
    "solutions  #15 solutions"
   ]
  },
  {
   "cell_type": "code",
   "execution_count": 13,
   "metadata": {},
   "outputs": [],
   "source": [
    "def get_sides(solutions):\n",
    "    triangles  = [] #three sides as a tuple\n",
    "    perimeters = 0\n",
    "    for x,y in solutions[1:]: #(1,1,2) is not a triangle\n",
    "        if int((2*x+1)/3) == (2*x+1)/3:\n",
    "            triangles.append(((2*x+1)/3,(2*x+1)/3,((2*x+1)/3)-1))\n",
    "            perimeters += sum([(2*x+1)/3,(2*x+1)/3,((2*x+1)/3)-1])\n",
    "        else:\n",
    "            triangles.append(((2*x-1)/3,(2*x-1)/3,((2*x-1)/3)+1))\n",
    "            perimeters += sum([(2*x-1)/3,(2*x-1)/3,((2*x-1)/3)+1])\n",
    "    print('===================')\n",
    "    print(perimeters)\n",
    "    print('===================')\n",
    "    return triangles"
   ]
  },
  {
   "cell_type": "code",
   "execution_count": 14,
   "metadata": {},
   "outputs": [
    {
     "name": "stdout",
     "output_type": "stream",
     "text": [
      "===================\n",
      "518408346.0\n",
      "===================\n",
      "Wall time: 0 ns\n"
     ]
    },
    {
     "data": {
      "text/plain": [
       "[(5.0, 5.0, 4.0),\n",
       " (17.0, 17.0, 18.0),\n",
       " (65.0, 65.0, 64.0),\n",
       " (241.0, 241.0, 242.0),\n",
       " (901.0, 901.0, 900.0),\n",
       " (3361.0, 3361.0, 3362.0),\n",
       " (12545.0, 12545.0, 12544.0),\n",
       " (46817.0, 46817.0, 46818.0),\n",
       " (174725.0, 174725.0, 174724.0),\n",
       " (652081.0, 652081.0, 652082.0),\n",
       " (2433601.0, 2433601.0, 2433600.0),\n",
       " (9082321.0, 9082321.0, 9082322.0),\n",
       " (33895685.0, 33895685.0, 33895684.0),\n",
       " (126500417.0, 126500417.0, 126500418.0)]"
      ]
     },
     "execution_count": 14,
     "metadata": {},
     "output_type": "execute_result"
    }
   ],
   "source": [
    "%time get_sides(solutions)"
   ]
  }
 ],
 "metadata": {
  "kernelspec": {
   "display_name": "Python 3",
   "language": "python",
   "name": "python3"
  },
  "language_info": {
   "codemirror_mode": {
    "name": "ipython",
    "version": 3
   },
   "file_extension": ".py",
   "mimetype": "text/x-python",
   "name": "python",
   "nbconvert_exporter": "python",
   "pygments_lexer": "ipython3",
   "version": "3.6.9"
  }
 },
 "nbformat": 4,
 "nbformat_minor": 2
}
