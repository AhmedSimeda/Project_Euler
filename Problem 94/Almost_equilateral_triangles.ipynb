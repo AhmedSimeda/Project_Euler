{
  "nbformat": 4,
  "nbformat_minor": 0,
  "metadata": {
    "colab": {
      "name": "Almost equilateral triangles.ipynb",
      "provenance": [],
      "collapsed_sections": []
    },
    "kernelspec": {
      "name": "python3",
      "display_name": "Python 3"
    }
  },
  "cells": [
    {
      "cell_type": "code",
      "metadata": {
        "id": "ZsTmu5yOF1kO",
        "colab_type": "code",
        "colab": {}
      },
      "source": [
        "from decimal import *"
      ],
      "execution_count": null,
      "outputs": []
    },
    {
      "cell_type": "code",
      "metadata": {
        "id": "ujS4GdzATI6Z",
        "colab_type": "code",
        "colab": {}
      },
      "source": [
        "#rem_sum is the remainder of the summation\n",
        "#rem_sub is the remainder of the subtration + the next pair -- >'00'\n",
        "def get_rem(rem_sum,rem_sub):\n",
        "  for i in range(10):\n",
        "    if (int(rem_sum+str(i+1))*(i+1)) > int(rem_sub):\n",
        "      return str(i)"
      ],
      "execution_count": null,
      "outputs": []
    },
    {
      "cell_type": "code",
      "metadata": {
        "id": "IFP3jgObUSVw",
        "colab_type": "code",
        "colab": {}
      },
      "source": [
        "#res is the result\n",
        "#rem_sub is the remainder of the subtration operation\n",
        "#rem_sum is the remainder of the summation operation\n",
        "def sqrt(number):\n",
        "  #preprocessing\n",
        "  if 'e' in str(number):\n",
        "    number = str(int(number)) + '.0'\n",
        "  #spliting the number to two parts(bfore and after the floating point)\n",
        "  before,after = str(number).split('.')\n",
        "  #spliting the after portion into pairs (from right to left)\n",
        "  if len(before)%2 == 0:\n",
        "    num = [before[i:i+2] for i in range(0,len(before),2)]\n",
        "  else:\n",
        "    num = [before[0]] + [before[i:i+2] for i in range(1,len(before),2)]\n",
        "  #geting the numbers before the floating point\n",
        "  res     = ''\n",
        "  rem_sum = '0'\n",
        "  rem_sub = '0'\n",
        "  rem     = '0'\n",
        "  for n in range(len(num)):\n",
        "    rem_sub = str(int(rem_sub) - (int(rem_sum+rem)*int(rem)))+num[n]\n",
        "    rem_sum = str(int(rem_sum+rem) + int(rem))\n",
        "    rem     = get_rem(rem_sum,rem_sub)\n",
        "    res    += rem \n",
        "  #adding the floating point\n",
        "  res += '.'\n",
        "  #spliting the number into pairs (from right to left)\n",
        "  after = after + '0'*(20-len(after))\n",
        "  after = [after[i:i+2] for i in range(0,len(after),2)]\n",
        "  #geting the numbers after the floating point\n",
        "  i = 0\n",
        "  while (i < 10): #precision = 10 numbers after the floating point \n",
        "    rem_sub = str(int(rem_sub) - (int(rem_sum+rem)*int(rem)))+after[i]\n",
        "    rem_sum = str(int(rem_sum+rem) + int(rem))\n",
        "    rem     = get_rem(rem_sum,rem_sub)\n",
        "    res    += rem \n",
        "    i  += 1\n",
        "  \n",
        "  return res"
      ],
      "execution_count": null,
      "outputs": []
    },
    {
      "cell_type": "code",
      "metadata": {
        "id": "SEcAgzlL3PAw",
        "colab_type": "code",
        "colab": {}
      },
      "source": [
        "def is_integral_area(a,b,c):\n",
        "  #I don't care what the area is ... if the height is integer so the area must be integer\n",
        "  area = Decimal(sqrt(a**2-(c/2)**2))*Decimal(c/2)\n",
        "  if int(area) == area:\n",
        "    return True\n",
        "  return False"
      ],
      "execution_count": null,
      "outputs": []
    },
    {
      "cell_type": "code",
      "metadata": {
        "id": "ODLxZwEv3XHA",
        "colab_type": "code",
        "colab": {}
      },
      "source": [
        "def get_sol(limit):\n",
        "    perimeters = 0\n",
        "    ab         = 5 #as long as a = b \n",
        "    c          = 0 #the initial value doesn't affect anything\n",
        "    while True:\n",
        "      for c in [ab-1,ab+1]: #two possible values for c\n",
        "        if (ab*2+c) > limit:\n",
        "          return perimeters\n",
        "        if is_integral_area(ab,ab,c):\n",
        "          print('sides :',ab,ab,c)\n",
        "          perimeters += (ab*2+c)\n",
        "      if ab%10000000 == 0:\n",
        "        print('=================')\n",
        "        print(ab,'>>>',perimeters)\n",
        "        print('=================')\n",
        "      ab += 1"
      ],
      "execution_count": null,
      "outputs": []
    },
    {
      "cell_type": "code",
      "metadata": {
        "id": "FNwU4AGRuvuJ",
        "colab_type": "code",
        "colab": {
          "base_uri": "https://localhost:8080/",
          "height": 442
        },
        "outputId": "79ff93f8-7b3e-4525-b675-b3e3241eaf40"
      },
      "source": [
        "%time get_sol(1000000000)"
      ],
      "execution_count": null,
      "outputs": [
        {
          "output_type": "stream",
          "text": [
            "sides : 5 5 6\n",
            "sides : 17 17 16\n",
            "sides : 65 65 66\n",
            "sides : 241 241 240\n",
            "sides : 901 901 902\n",
            "sides : 3361 3361 3360\n",
            "sides : 12545 12545 12546\n",
            "sides : 46817 46817 46816\n",
            "sides : 174725 174725 174726\n",
            "sides : 652081 652081 652080\n",
            "sides : 2433601 2433601 2433602\n",
            "sides : 9082321 9082321 9082320\n",
            "=================\n",
            "10000000 >>> 37220040\n",
            "=================\n",
            "=================\n",
            "20000000 >>> 37220040\n",
            "=================\n",
            "=================\n",
            "30000000 >>> 37220040\n",
            "=================\n",
            "sides : 33895685 33895685 33895686\n",
            "=================\n",
            "40000000 >>> 138907096\n",
            "=================\n"
          ],
          "name": "stdout"
        }
      ]
    }
  ]
}