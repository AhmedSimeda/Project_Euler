{
 "cells": [
  {
   "cell_type": "code",
   "execution_count": 1,
   "metadata": {},
   "outputs": [],
   "source": [
    "import numpy as np"
   ]
  },
  {
   "cell_type": "code",
   "execution_count": 2,
   "metadata": {},
   "outputs": [],
   "source": [
    "numbers = []\n",
    "with open('p099_base_exp.txt','r') as big_numbers:\n",
    "    for number in big_numbers:\n",
    "        numbers.append(number.strip())"
   ]
  },
  {
   "cell_type": "code",
   "execution_count": 3,
   "metadata": {},
   "outputs": [],
   "source": [
    "def get_sol(numbers):\n",
    "    Max = -999999\n",
    "    line = 0\n",
    "    for n in range(len(numbers)):\n",
    "        number = list(map(int,numbers[n].split(',')))\n",
    "        number = np.log(number[0])*number[1]\n",
    "        if number > Max:\n",
    "            Max = number\n",
    "            line = n\n",
    "    print(line+1)  #the first line => index = 0"
   ]
  },
  {
   "cell_type": "code",
   "execution_count": 4,
   "metadata": {},
   "outputs": [
    {
     "name": "stdout",
     "output_type": "stream",
     "text": [
      "709\n",
      "Wall time: 9 ms\n"
     ]
    }
   ],
   "source": [
    "%time get_sol(numbers)"
   ]
  }
 ],
 "metadata": {
  "kernelspec": {
   "display_name": "Python 3",
   "language": "python",
   "name": "python3"
  },
  "language_info": {
   "codemirror_mode": {
    "name": "ipython",
    "version": 3
   },
   "file_extension": ".py",
   "mimetype": "text/x-python",
   "name": "python",
   "nbconvert_exporter": "python",
   "pygments_lexer": "ipython3",
   "version": "3.6.9"
  }
 },
 "nbformat": 4,
 "nbformat_minor": 2
}
