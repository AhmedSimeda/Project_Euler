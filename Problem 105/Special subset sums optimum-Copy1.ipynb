{
 "cells": [
  {
   "cell_type": "code",
   "execution_count": 1,
   "metadata": {},
   "outputs": [],
   "source": [
    "from itertools import *"
   ]
  },
  {
   "cell_type": "code",
   "execution_count": 2,
   "metadata": {},
   "outputs": [],
   "source": [
    "def is_really_special(C,B):\n",
    "    for i in range(1,len(B)+1):\n",
    "        Bs = list(combinations(B,i))\n",
    "        for j in range(len(Bs)):\n",
    "            if sum(list(C)) == sum(list(Bs[j])):\n",
    "                #print('11')\n",
    "                #print(C,Bs[j])\n",
    "                return False\n",
    "            elif len(list(C)) < len(list(Bs[j])):\n",
    "                if sum(list(C)) > sum(list(Bs[j])):\n",
    "                    #print('22')\n",
    "                    #print(C,Bs[j])\n",
    "                    return False\n",
    "    return True"
   ]
  },
  {
   "cell_type": "code",
   "execution_count": 3,
   "metadata": {},
   "outputs": [],
   "source": [
    "def is_special_sum(A):\n",
    "    if len(A) > len (set(A)): #should not be any repeated values\n",
    "        return False\n",
    "    else:\n",
    "        A = set(A)\n",
    "        for i in range(1,(len(A)//2)+1):\n",
    "            Cs = list(combinations(A,i))\n",
    "            Bs = list(map(lambda x:A-set(x),Cs))\n",
    "            for j in range(len(Cs)):\n",
    "                if not is_really_special(Cs[j],Bs[j]):\n",
    "                    return False\n",
    "        return True"
   ]
  },
  {
   "cell_type": "code",
   "execution_count": 7,
   "metadata": {},
   "outputs": [],
   "source": [
    "sets = []\n",
    "with open('p105_sets.txt') as file:\n",
    "    for line in file:\n",
    "        s = list(map(int,line.strip().split(',')))\n",
    "        sets.append(s)"
   ]
  },
  {
   "cell_type": "code",
   "execution_count": 8,
   "metadata": {},
   "outputs": [],
   "source": [
    "def get_sol(sets):\n",
    "    Sum = 0\n",
    "    for s in sets:\n",
    "        if is_special_sum(s):\n",
    "            Sum += sum(s)\n",
    "    print('The sum is:',Sum)"
   ]
  },
  {
   "cell_type": "code",
   "execution_count": 9,
   "metadata": {},
   "outputs": [
    {
     "name": "stdout",
     "output_type": "stream",
     "text": [
      "The sum is: 73702\n",
      "Wall time: 25.4 s\n"
     ]
    }
   ],
   "source": [
    "%time get_sol(sets)"
   ]
  },
  {
   "cell_type": "code",
   "execution_count": null,
   "metadata": {},
   "outputs": [],
   "source": []
  }
 ],
 "metadata": {
  "kernelspec": {
   "display_name": "Python 3",
   "language": "python",
   "name": "python3"
  },
  "language_info": {
   "codemirror_mode": {
    "name": "ipython",
    "version": 3
   },
   "file_extension": ".py",
   "mimetype": "text/x-python",
   "name": "python",
   "nbconvert_exporter": "python",
   "pygments_lexer": "ipython3",
   "version": "3.8.5"
  }
 },
 "nbformat": 4,
 "nbformat_minor": 4
}
