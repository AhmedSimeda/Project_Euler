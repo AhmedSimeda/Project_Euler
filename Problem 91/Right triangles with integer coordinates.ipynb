{
 "cells": [
  {
   "cell_type": "code",
   "execution_count": 102,
   "metadata": {},
   "outputs": [],
   "source": [
    "def is_right_triangle(x1,y1,x2,y2):\n",
    "    #squares of the sides\n",
    "    side1 = x1**2 + y1**2\n",
    "    side2 = x2**2 + y2**2\n",
    "    side3 = (x1-x2)**2 + (y1-y2)**2\n",
    "    sides = sorted([side1,side2,side3])\n",
    "    if not 0 in sides:\n",
    "        if sides[0] + sides[1] == sides[2]:\n",
    "            return True\n",
    "    return False"
   ]
  },
  {
   "cell_type": "code",
   "execution_count": 91,
   "metadata": {},
   "outputs": [],
   "source": [
    "def get_sol_App2(limit):\n",
    "    triangles = 0\n",
    "    for x1 in range(limit+1):\n",
    "        for y1 in range(limit+1):\n",
    "            for x2 in range(x1,limit+1):\n",
    "                for y2 in range(y1+1):\n",
    "                    if is_right_triangle(x1,y1,x2,y2):\n",
    "                        #print((x1,y1),(x2,y2))\n",
    "                        triangles += 1\n",
    "    \n",
    "    print(triangles)"
   ]
  },
  {
   "cell_type": "code",
   "execution_count": 106,
   "metadata": {},
   "outputs": [
    {
     "name": "stdout",
     "output_type": "stream",
     "text": [
      "14234\n",
      "Wall time: 12 s\n"
     ]
    }
   ],
   "source": [
    "%time get_sol_App2(50)"
   ]
  }
 ],
 "metadata": {
  "kernelspec": {
   "display_name": "Python 3",
   "language": "python",
   "name": "python3"
  },
  "language_info": {
   "codemirror_mode": {
    "name": "ipython",
    "version": 3
   },
   "file_extension": ".py",
   "mimetype": "text/x-python",
   "name": "python",
   "nbconvert_exporter": "python",
   "pygments_lexer": "ipython3",
   "version": "3.6.9"
  }
 },
 "nbformat": 4,
 "nbformat_minor": 2
}
