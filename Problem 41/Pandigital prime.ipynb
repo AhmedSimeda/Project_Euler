{
 "cells": [
  {
   "cell_type": "code",
   "execution_count": 1,
   "metadata": {},
   "outputs": [],
   "source": [
    "import math\n",
    "def is_prime(Num):\n",
    "    if Num < 0:\n",
    "        return False\n",
    "    elif Num in [0,1,-1]:\n",
    "        return False\n",
    "    elif Num < 4:\n",
    "        return True\n",
    "    else:\n",
    "        for i in range(2,int(math.sqrt(abs(Num))+1)):\n",
    "            if Num % i == 0:\n",
    "                return False\n",
    "        return True"
   ]
  },
  {
   "cell_type": "code",
   "execution_count": 2,
   "metadata": {},
   "outputs": [],
   "source": [
    "from itertools import permutations"
   ]
  },
  {
   "cell_type": "code",
   "execution_count": 7,
   "metadata": {},
   "outputs": [
    {
     "name": "stdout",
     "output_type": "stream",
     "text": [
      "7652413\n",
      "4231\n",
      "--------------------------------------\n",
      "time taken : 2.3601489067077637s\n",
      "--------------------------------------\n"
     ]
    }
   ],
   "source": [
    "from time import time\n",
    "start = time()\n",
    "\n",
    "for I in range(9,1,-1):\n",
    "    for item in list(permutations([str(i) for i in range(1,I+1)],I))[::-1]:\n",
    "        Num = int(''.join(item))\n",
    "        if is_prime(Num):\n",
    "            print(Num)\n",
    "            break\n",
    "        \n",
    "end = time()\n",
    "print(\"--------------------------------------\")\n",
    "print(\"time taken : \" + str(end - start) + \"s\")\n",
    "print(\"--------------------------------------\")"
   ]
  }
 ],
 "metadata": {
  "kernelspec": {
   "display_name": "Python 3",
   "language": "python",
   "name": "python3"
  },
  "language_info": {
   "codemirror_mode": {
    "name": "ipython",
    "version": 3
   },
   "file_extension": ".py",
   "mimetype": "text/x-python",
   "name": "python",
   "nbconvert_exporter": "python",
   "pygments_lexer": "ipython3",
   "version": "3.6.9"
  }
 },
 "nbformat": 4,
 "nbformat_minor": 2
}
