{
 "cells": [
  {
   "cell_type": "markdown",
   "metadata": {},
   "source": [
    "# With the help of [MathBlog](https://www.mathblog.dk/project-euler-113-googol-not-bouncy/)"
   ]
  },
  {
   "cell_type": "markdown",
   "metadata": {},
   "source": [
    "## Increasing numbers\n",
    "\n",
    "We can represent any increasing number via binary strings, in that case 001101001 will represent 2235. Something which is not really clear without an explanation. However, we have a counter k, which starts at 0. For every 0 we meet in the string we increase k by one, and for every 1 we meet in the string we print the value of k.  Thus we get this number.\n",
    "\n",
    "Using this method we can represent all 3 digit increasing numbers  made up of the digits 0,1, and 2 with strings of length 5:\n",
    "<ul>\n",
    "<li>11100 = 000</li>\n",
    "<li>11010 = 001</li>\n",
    "<li>11001 = 002</li>\n",
    "<li>10110 = 011</li>\n",
    "<li>10101 = 012</li>\n",
    "<li>10011 = 022</li>\n",
    "<li>01110 = 111</li>\n",
    "<li>01101 = 112</li>\n",
    "<li>01011 = 122</li>\n",
    "<li>00111 = 222</li>\n",
    "</ul>\n",
    "Which means that there are \n",
    "$${3+2 \\choose 3}-1 = 9$$\n",
    "of these numbers. The reason for substracting 1 is that **we don’t want to count the number “000” as a number**.\n",
    "\n",
    "In the same way all 3-digit increasing numbers with the digits 0-9 requires a string containing 3 ones and 9 zeroes and so on.\n",
    "We want to find all the increasing numbers below 10^{100} which gives us\n",
    "$${100+9 \\choose 100}-1$$\n",
    "and so on...\n",
    "\n",
    "\n",
    "## Decreasing numbers\n",
    "This is rather similar to the increasing numbers. The only difference is that instead of every zero increasing the previous number by 1 ( beginning from 0 ).Here every zero subtract the previous number by 1 ( and we begin from 10 )\n",
    "\n",
    "However, there is a small catch as you can see from the number. Before the first 1 we have zeros and after the third one we will have zeros again, that gives us the following patterns:\n",
    "<ul>\n",
    "<li>111000 = 000</li>\n",
    "<li>110100 = 002</li>\n",
    "<li>110010 = 001</li>\n",
    "<li>110001 = 000 *</li>\n",
    "<li>101100 = 022</li>\n",
    "<li>101010 = 021</li>\n",
    "<li>101001 = 020</li>\n",
    "<li>100110 = 011</li>\n",
    "<li>100101 = 010</li>\n",
    "<li>100011 = 000 *</li>\n",
    "<li>011100 = 222</li>\n",
    "<li>011010 = 221</li>\n",
    "<li>011001 = 220</li>\n",
    "<li>010110 = 211</li>\n",
    "<li>010101 = 210</li>\n",
    "<li>010011 = 200</li>\n",
    "<li>001110 = 111</li>\n",
    "<li>001101 = 110</li>\n",
    "<li>001011 = 100</li>\n",
    "<li>000111 = 000 *</li>\n",
    "</ul>\n",
    "\n",
    "The ***** marks a pattern which is repeated. You can see for 3 digit numbers that 000 will be repeated 3 times + the one time we want to discount it already. For an n-digit number the pattern repeats n times.\n",
    "\n",
    "Which gives us\n",
    "$${n+10 \\choose n}-1-n$$\n",
    "\n",
    "## Removing the doubles\n",
    "So far we have counted all the increasing number and all the decreasing numbers. However, numbers like 222 and 11 have both properties, which means that we have counted them twice and thus need to remove them from the counting. So let us figure out how many there are in total\n",
    "\n",
    "if we look at 1-digit numbers there are 1-9 ( **nine of them** ), and then 11, 22...( **also nine of them** ) and so on. Meaning there are **9*100** of these numbers which are counted twice.\n",
    "\n",
    "## Summing it up\n",
    "We now have the parts:\n",
    "$${n+9 \\choose n}-1+{n+10 \\choose n}-1-n-9n$$\n",
    "which will lead us to:\n",
    "$${n+9 \\choose n}+{n+10 \\choose n}-2-10n$$"
   ]
  },
  {
   "cell_type": "code",
   "execution_count": 1,
   "metadata": {},
   "outputs": [],
   "source": [
    "def fact(n):\n",
    "    if n < 1:\n",
    "        return 1\n",
    "    return n*fact(n-1)"
   ]
  },
  {
   "cell_type": "code",
   "execution_count": 2,
   "metadata": {},
   "outputs": [],
   "source": [
    "def C(n, k):\n",
    "    return fact(n)//(fact(n-k)*fact(k))"
   ]
  },
  {
   "cell_type": "code",
   "execution_count": 4,
   "metadata": {},
   "outputs": [],
   "source": [
    "def get_nonBouncy(n):\n",
    "    return C(n+10,n)+C(n+9,n)-10*n-2"
   ]
  },
  {
   "cell_type": "code",
   "execution_count": 7,
   "metadata": {},
   "outputs": [
    {
     "name": "stdout",
     "output_type": "stream",
     "text": [
      "Wall time: 0 ns\n"
     ]
    },
    {
     "data": {
      "text/plain": [
       "12951"
      ]
     },
     "execution_count": 7,
     "metadata": {},
     "output_type": "execute_result"
    }
   ],
   "source": [
    "%time get_nonBouncy(6)"
   ]
  },
  {
   "cell_type": "code",
   "execution_count": 8,
   "metadata": {},
   "outputs": [
    {
     "name": "stdout",
     "output_type": "stream",
     "text": [
      "Wall time: 0 ns\n"
     ]
    },
    {
     "data": {
      "text/plain": [
       "277032"
      ]
     },
     "execution_count": 8,
     "metadata": {},
     "output_type": "execute_result"
    }
   ],
   "source": [
    "%time get_nonBouncy(10)"
   ]
  },
  {
   "cell_type": "code",
   "execution_count": 9,
   "metadata": {},
   "outputs": [
    {
     "name": "stdout",
     "output_type": "stream",
     "text": [
      "Wall time: 1 ms\n"
     ]
    },
    {
     "data": {
      "text/plain": [
       "51161058134250"
      ]
     },
     "execution_count": 9,
     "metadata": {},
     "output_type": "execute_result"
    }
   ],
   "source": [
    "%time get_nonBouncy(100)"
   ]
  },
  {
   "cell_type": "code",
   "execution_count": null,
   "metadata": {},
   "outputs": [],
   "source": []
  }
 ],
 "metadata": {
  "kernelspec": {
   "display_name": "Python 3",
   "language": "python",
   "name": "python3"
  },
  "language_info": {
   "codemirror_mode": {
    "name": "ipython",
    "version": 3
   },
   "file_extension": ".py",
   "mimetype": "text/x-python",
   "name": "python",
   "nbconvert_exporter": "python",
   "pygments_lexer": "ipython3",
   "version": "3.8.3"
  }
 },
 "nbformat": 4,
 "nbformat_minor": 4
}
