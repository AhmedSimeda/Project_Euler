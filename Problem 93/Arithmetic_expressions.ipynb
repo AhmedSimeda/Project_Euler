{
  "nbformat": 4,
  "nbformat_minor": 0,
  "metadata": {
    "colab": {
      "name": "Arithmetic expressions.ipynb",
      "provenance": [],
      "collapsed_sections": []
    },
    "kernelspec": {
      "name": "python3",
      "display_name": "Python 3"
    }
  },
  "cells": [
    {
      "cell_type": "code",
      "metadata": {
        "id": "YUyrKkPbXmtD",
        "colab_type": "code",
        "colab": {}
      },
      "source": [
        "from itertools import combinations_with_replacement,permutations,combinations\n",
        "from functools import reduce\n",
        "import operator"
      ],
      "execution_count": 1,
      "outputs": []
    },
    {
      "cell_type": "code",
      "metadata": {
        "id": "RzXfGq-pXsvl",
        "colab_type": "code",
        "colab": {}
      },
      "source": [
        "diff_arthmetic_op_comb  = list(combinations_with_replacement(['+', '-', '*', '/'],3))\n",
        "diff_digits_combs       = list(map(lambda x:list(x),list(combinations([str(i) for i in range(1,10)],4))))"
      ],
      "execution_count": 3,
      "outputs": []
    },
    {
      "cell_type": "code",
      "metadata": {
        "id": "Y4M0chZhZv4C",
        "colab_type": "code",
        "colab": {}
      },
      "source": [
        "def add_operations(digits):\n",
        "  integers_set = set()\n",
        "  for operation in diff_arthmetic_op_comb:\n",
        "    operation = permutations(operation,3)\n",
        "    for operations in operation:\n",
        "      #making a copy of digits\n",
        "      temp = [d for d in digits]\n",
        "      #adding the arthmetic operators\n",
        "      temp.insert(1,operations[0])\n",
        "      temp.insert(3,operations[1])\n",
        "      temp.insert(5,operations[2])\n",
        "      #making it a string instead of a list\n",
        "      temp = reduce(operator.add,temp)\n",
        "      #adding parentheses\n",
        "      for i in range(0,len(temp)-3+1,2): #two by two\n",
        "        num = 0\n",
        "        try:#in case division by zero\n",
        "          num  = eval(temp[:i]+'('+temp[i:i+3]+')'+temp[i+3:]) \n",
        "          if (int(num) == num) and (num > 0):\n",
        "            integers_set.add(num)\n",
        "        except:\n",
        "          pass\n",
        "        num_temp = temp[:i]+'('+temp[i:i+3]+')'+temp[i+3:]\n",
        "        if i > 0:\n",
        "          try:#in case division by zero\n",
        "            num = eval(num_temp[:2]+'('+num_temp[2:]+')')\n",
        "          except:\n",
        "            pass\n",
        "        else:\n",
        "          try:#in case division by zero\n",
        "            num = eval('('+num_temp[:7]+')'+num_temp[7:])\n",
        "          except:\n",
        "            pass\n",
        "        if (int(num) == num) and (num > 0):\n",
        "          integers_set.add(num)\n",
        "      for i in range(0,len(temp)-5+1,2):  #three by three\n",
        "        try:#in case division by zero\n",
        "          num  = eval(temp[:i]+'('+temp[i:i+5]+')'+temp[i+5:]) \n",
        "          if (int(num) == num) and (num > 0):\n",
        "            integers_set.add(num)\n",
        "        except:\n",
        "          pass\n",
        "  return integers_set"
      ],
      "execution_count": 10,
      "outputs": []
    },
    {
      "cell_type": "code",
      "metadata": {
        "id": "cwTcPsdoJ9RU",
        "colab_type": "code",
        "colab": {}
      },
      "source": [
        "def get_consecutive_length(integers_set):\n",
        "  integers_set = list(integers_set) #to allow indexing\n",
        "  length = 1 \n",
        "  i = 1\n",
        "  while ((integers_set[i]-integers_set[i-1]) == 1) :\n",
        "    length += 1\n",
        "    i      += 1\n",
        "    if i == len(integers_set):\n",
        "      break\n",
        "  return length"
      ],
      "execution_count": 11,
      "outputs": []
    },
    {
      "cell_type": "code",
      "metadata": {
        "id": "p278jB39V4xf",
        "colab_type": "code",
        "colab": {}
      },
      "source": [
        "def get_sol():\n",
        "  Max          = -999999\n",
        "  longest_set  = []\n",
        "  for digits_set in diff_digits_combs:\n",
        "    integers_set = set()\n",
        "    diff_digits_permu = list(map(lambda x:list(x),permutations(digits_set,4)))\n",
        "    for digits in diff_digits_permu:\n",
        "      integers_set = integers_set.union(add_operations(digits))\n",
        "    length = get_consecutive_length(integers_set)\n",
        "    if length > Max :\n",
        "      Max = length\n",
        "      longest_set = digits_set\n",
        "  print('======================')\n",
        "  print(longest_set,Max)\n",
        "  print('======================')"
      ],
      "execution_count": 14,
      "outputs": []
    },
    {
      "cell_type": "code",
      "metadata": {
        "id": "nBknNDIwL9RJ",
        "colab_type": "code",
        "colab": {
          "base_uri": "https://localhost:8080/",
          "height": 102
        },
        "outputId": "f7f27fbd-cd85-455a-e634-42fa223e68ae"
      },
      "source": [
        "%time get_sol()"
      ],
      "execution_count": 15,
      "outputs": [
        {
          "output_type": "stream",
          "text": [
            "======================\n",
            "['1', '2', '5', '8'] 51\n",
            "======================\n",
            "CPU times: user 23.4 s, sys: 3.24 ms, total: 23.4 s\n",
            "Wall time: 23.5 s\n"
          ],
          "name": "stdout"
        }
      ]
    }
  ]
}