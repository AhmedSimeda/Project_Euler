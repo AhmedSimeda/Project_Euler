{
 "cells": [
  {
   "cell_type": "code",
   "execution_count": null,
   "metadata": {},
   "outputs": [],
   "source": [
    "from fractions import Fraction"
   ]
  },
  {
   "cell_type": "code",
   "execution_count": null,
   "metadata": {},
   "outputs": [],
   "source": [
    "def get_Totients(Num):\n",
    "    count = 0\n",
    "    for i in range(1,Num):\n",
    "        if Fraction(Num/i).limit_denominator().numerator == Num:\n",
    "            count += 1\n",
    "    return count"
   ]
  },
  {
   "cell_type": "code",
   "execution_count": null,
   "metadata": {},
   "outputs": [],
   "source": [
    "get_Totients(36)"
   ]
  },
  {
   "cell_type": "code",
   "execution_count": null,
   "metadata": {},
   "outputs": [],
   "source": [
    "from time import time"
   ]
  },
  {
   "cell_type": "code",
   "execution_count": null,
   "metadata": {},
   "outputs": [],
   "source": [
    "start = time()\n",
    "\n",
    "Max = -9999999\n",
    "limit       = 1000000\n",
    "for i in range(2,limit+1):\n",
    "    n_over_phai_n = get_Totients(i)\n",
    "    if n_over_phai_n > Max:\n",
    "        Max = n_over_phai_n\n",
    "        n   = i\n",
    "\n",
    "print(n)\n",
    "\n",
    "end   = time()\n",
    "print(\"========================================\")\n",
    "print(\"time taken is : \" + str(end-start) + \" s\")\n",
    "print(\"========================================\")"
   ]
  },
  {
   "cell_type": "markdown",
   "metadata": {},
   "source": [
    "# Version 2"
   ]
  },
  {
   "cell_type": "code",
   "execution_count": null,
   "metadata": {},
   "outputs": [],
   "source": [
    "from functools import reduce\n",
    "import numpy as np\n",
    "import operator"
   ]
  },
  {
   "cell_type": "code",
   "execution_count": null,
   "metadata": {},
   "outputs": [],
   "source": [
    "def factorize_and_get_Totients(Num):\n",
    "    Factors = []\n",
    "    factor  = 2\n",
    "    Number  = Num\n",
    "    while Num > 1:\n",
    "        n = 0\n",
    "        if Num % factor == 0:\n",
    "            while Num % factor == 0:\n",
    "                Num = Num // factor\n",
    "                n += 1\n",
    "            Factors.append((factor,n))\n",
    "        factor += 1\n",
    "    Factors = np.array([fact[0] for fact in Factors])\n",
    "    return Number/round(Number*reduce(operator.mul,1-(1/Factors)))"
   ]
  },
  {
   "cell_type": "code",
   "execution_count": null,
   "metadata": {},
   "outputs": [],
   "source": [
    "from time import time"
   ]
  },
  {
   "cell_type": "code",
   "execution_count": null,
   "metadata": {},
   "outputs": [],
   "source": [
    "start = time()\n",
    "\n",
    "limit = 1000000\n",
    "Nums  = np.arange(2,limit+1)\n",
    "print(max([(factorize_and_get_Totients(Num),Num) for Num in Nums],key=lambda x:x[0]))\n",
    "\n",
    "end   = time()\n",
    "print(\"========================================\")\n",
    "print(\"time taken is : \" + str(end-start) + \" s\")\n",
    "print(\"========================================\")"
   ]
  },
  {
   "cell_type": "markdown",
   "metadata": {},
   "source": [
    "# Version 3"
   ]
  },
  {
   "cell_type": "code",
   "execution_count": 8,
   "metadata": {},
   "outputs": [],
   "source": [
    "from math import sqrt "
   ]
  },
  {
   "cell_type": "code",
   "execution_count": 7,
   "metadata": {},
   "outputs": [],
   "source": [
    "def is_prime(Num):\n",
    "    if Num <= 1 :\n",
    "        return False\n",
    "    else:\n",
    "        for i in range(2,int(sqrt(Num))+1):\n",
    "            if Num % i == 0 :\n",
    "                return False\n",
    "    return True"
   ]
  },
  {
   "cell_type": "code",
   "execution_count": 12,
   "metadata": {},
   "outputs": [],
   "source": [
    "def phai(Num):\n",
    "    if is_prime(Num):\n",
    "        return Num-1\n",
    "    Factors = []\n",
    "    factor  = 2\n",
    "    phai_n  = Num\n",
    "    while factor*factor <= Num:\n",
    "        if Num % factor == 0:\n",
    "            phai_n *= (1-1/factor)\n",
    "            while Num % factor == 0:\n",
    "                Num = Num // factor\n",
    "        factor += 1\n",
    "    if Num > 1:\n",
    "        phai_n = phai_n * (1.0 - (1.0 / float(Num)))\n",
    "    return phai_n"
   ]
  },
  {
   "cell_type": "code",
   "execution_count": 9,
   "metadata": {},
   "outputs": [],
   "source": [
    "from time import time"
   ]
  },
  {
   "cell_type": "code",
   "execution_count": 14,
   "metadata": {},
   "outputs": [
    {
     "name": "stdout",
     "output_type": "stream",
     "text": [
      "510510\n",
      "========================================\n",
      "time taken is : 78.19818758964539 s\n",
      "========================================\n"
     ]
    }
   ],
   "source": [
    "start = time()\n",
    "\n",
    "Max   = -9999999\n",
    "limit = 1000000\n",
    "for n in range(2,limit+1):\n",
    "    phai_n  = phai(n)\n",
    "    if n/phai_n > Max:\n",
    "        Max = n/phai_n\n",
    "        N   = n\n",
    "\n",
    "print(N)\n",
    "\n",
    "end   = time()\n",
    "print(\"========================================\")\n",
    "print(\"time taken is : \" + str(end-start) + \" s\")\n",
    "print(\"========================================\")"
   ]
  },
  {
   "cell_type": "code",
   "execution_count": 12,
   "metadata": {},
   "outputs": [
    {
     "data": {
      "text/plain": [
       "510510"
      ]
     },
     "execution_count": 12,
     "metadata": {},
     "output_type": "execute_result"
    }
   ],
   "source": [
    "N                        #After 5 hours .... the above sol after seeing the sol on Geeks for Geeks ( the only diff was \"while factor*factor <= Num:\")"
   ]
  }
 ],
 "metadata": {
  "kernelspec": {
   "display_name": "Python 3",
   "language": "python",
   "name": "python3"
  },
  "language_info": {
   "codemirror_mode": {
    "name": "ipython",
    "version": 3
   },
   "file_extension": ".py",
   "mimetype": "text/x-python",
   "name": "python",
   "nbconvert_exporter": "python",
   "pygments_lexer": "ipython3",
   "version": "3.6.9"
  }
 },
 "nbformat": 4,
 "nbformat_minor": 2
}
