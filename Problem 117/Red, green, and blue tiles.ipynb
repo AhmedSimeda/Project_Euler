{
 "cells": [
  {
   "cell_type": "code",
   "execution_count": 8,
   "metadata": {},
   "outputs": [],
   "source": [
    "# Also the same\n",
    "cache = {}\n",
    "def get_ways(n):\n",
    "    ways = 1\n",
    "    \n",
    "    if 2 > n: return ways\n",
    "    \n",
    "    if n in cache: return cache[n]\n",
    "    \n",
    "    for start_pos in range(n-2+1):\n",
    "        for tile_length in range(2, n-start_pos+1):\n",
    "            if tile_length<5:\n",
    "                ways += get_ways(n-start_pos-tile_length)\n",
    "            \n",
    "    cache[n] = ways\n",
    "    return ways"
   ]
  },
  {
   "cell_type": "code",
   "execution_count": 10,
   "metadata": {},
   "outputs": [
    {
     "name": "stdout",
     "output_type": "stream",
     "text": [
      "Wall time: 5.91 ms\n"
     ]
    },
    {
     "data": {
      "text/plain": [
       "100808458960497"
      ]
     },
     "execution_count": 10,
     "metadata": {},
     "output_type": "execute_result"
    }
   ],
   "source": [
    "%time get_ways(50)"
   ]
  },
  {
   "cell_type": "code",
   "execution_count": null,
   "metadata": {},
   "outputs": [],
   "source": []
  }
 ],
 "metadata": {
  "kernelspec": {
   "display_name": "Python 3",
   "language": "python",
   "name": "python3"
  },
  "language_info": {
   "codemirror_mode": {
    "name": "ipython",
    "version": 3
   },
   "file_extension": ".py",
   "mimetype": "text/x-python",
   "name": "python",
   "nbconvert_exporter": "python",
   "pygments_lexer": "ipython3",
   "version": "3.8.3"
  }
 },
 "nbformat": 4,
 "nbformat_minor": 4
}
