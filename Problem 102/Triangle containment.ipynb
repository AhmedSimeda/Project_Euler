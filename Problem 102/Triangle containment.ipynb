{
 "cells": [
  {
   "cell_type": "markdown",
   "metadata": {},
   "source": [
    "_The source:_\n",
    "- https://mathworld.wolfram.com/TriangleInterior.html"
   ]
  },
  {
   "cell_type": "code",
   "execution_count": 1,
   "metadata": {},
   "outputs": [],
   "source": [
    "import numpy as np"
   ]
  },
  {
   "cell_type": "code",
   "execution_count": 2,
   "metadata": {},
   "outputs": [],
   "source": [
    "with open('p102_triangles.txt','r') as file:\n",
    "    triangles = []\n",
    "    for line in file:\n",
    "        line = line.strip()\n",
    "        line = list(map(int,line.split(',')))\n",
    "        triangle = []\n",
    "        for i in range(0,6,2):\n",
    "            point = np.array([line[i],line[i+1]])\n",
    "            triangle.append(point)\n",
    "        triangles.append(triangle)"
   ]
  },
  {
   "cell_type": "code",
   "execution_count": 3,
   "metadata": {},
   "outputs": [],
   "source": [
    "def det(vector1,vector2):\n",
    "    return vector1[0]*vector2[1]-vector1[1]*vector2[0]"
   ]
  },
  {
   "cell_type": "code",
   "execution_count": 4,
   "metadata": {},
   "outputs": [],
   "source": [
    "def get_vectors(triangle):\n",
    "    v0 = triangle[0]\n",
    "    v1 = triangle[1]-triangle[0]\n",
    "    v2 = triangle[2]-triangle[0]\n",
    "    return (v0,v1,v2)"
   ]
  },
  {
   "cell_type": "code",
   "execution_count": 5,
   "metadata": {},
   "outputs": [],
   "source": [
    "def is_inside(vectors,point):\n",
    "    a = (det(point,vectors[2])-det(vectors[0],vectors[2]))/det(vectors[1],vectors[2])\n",
    "    b = -(det(point,vectors[1])-det(vectors[0],vectors[1]))/det(vectors[1],vectors[2])\n",
    "    if (a > 0) and (b > 0) and (a+b < 1):\n",
    "        return True\n",
    "    return False"
   ]
  },
  {
   "cell_type": "code",
   "execution_count": 12,
   "metadata": {},
   "outputs": [],
   "source": [
    "def get_sol(triangles):\n",
    "    origin = np.array([0,0])\n",
    "    count  = 0\n",
    "    for t in range(len(triangles)):\n",
    "        vectors = get_vectors(triangles[t])\n",
    "        if is_inside(vectors,origin):\n",
    "            count += 1\n",
    "    \n",
    "    print('There are',count,'triangles that contain the origin.')"
   ]
  },
  {
   "cell_type": "code",
   "execution_count": 13,
   "metadata": {},
   "outputs": [
    {
     "name": "stdout",
     "output_type": "stream",
     "text": [
      "There are 228 triangles that contain the origin.\n",
      "Wall time: 45 ms\n"
     ]
    }
   ],
   "source": [
    "%time get_sol(triangles)"
   ]
  },
  {
   "cell_type": "code",
   "execution_count": null,
   "metadata": {},
   "outputs": [],
   "source": []
  }
 ],
 "metadata": {
  "kernelspec": {
   "display_name": "Python 3",
   "language": "python",
   "name": "python3"
  },
  "language_info": {
   "codemirror_mode": {
    "name": "ipython",
    "version": 3
   },
   "file_extension": ".py",
   "mimetype": "text/x-python",
   "name": "python",
   "nbconvert_exporter": "python",
   "pygments_lexer": "ipython3",
   "version": "3.8.5"
  }
 },
 "nbformat": 4,
 "nbformat_minor": 4
}
