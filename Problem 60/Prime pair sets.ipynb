{
 "cells": [
  {
   "cell_type": "code",
   "execution_count": null,
   "metadata": {},
   "outputs": [],
   "source": [
    "from math import sqrt \n",
    "def is_prime(Num):\n",
    "    if Num <= 1 :\n",
    "        return False\n",
    "    else:\n",
    "        for i in range(2,int(sqrt(Num))+1):\n",
    "            if Num % i == 0 :\n",
    "                return False\n",
    "    return True"
   ]
  },
  {
   "cell_type": "code",
   "execution_count": null,
   "metadata": {},
   "outputs": [],
   "source": [
    "def is_right(Num,n):\n",
    "    Nums = [n]\n",
    "    for N in Nums:\n",
    "        if not (is_prime(int(str(N) + str(Num))) and is_prime(int(str(Num) + str(N)))):\n",
    "            return False\n",
    "    return True"
   ]
  },
  {
   "cell_type": "code",
   "execution_count": null,
   "metadata": {},
   "outputs": [],
   "source": [
    "p1 = []\n",
    "for i in range(3,100000,2):\n",
    "    if is_prime(i) and is_right(i,3):\n",
    "        p1.append(i)"
   ]
  },
  {
   "cell_type": "code",
   "execution_count": null,
   "metadata": {},
   "outputs": [],
   "source": [
    "p2 = []\n",
    "for i in range(3,100000,2):\n",
    "    if is_prime(i) and is_right(i,7):\n",
    "        p2.append(i)"
   ]
  },
  {
   "cell_type": "code",
   "execution_count": null,
   "metadata": {},
   "outputs": [],
   "source": [
    "p3 = []\n",
    "for i in range(3,100000,2):\n",
    "    if is_prime(i) and is_right(i,109):\n",
    "        p3.append(i)"
   ]
  },
  {
   "cell_type": "code",
   "execution_count": null,
   "metadata": {},
   "outputs": [],
   "source": [
    "p4 = []\n",
    "for i in range(3,100000,2):\n",
    "    if is_prime(i) and is_right(i,673):\n",
    "        p4.append(i)"
   ]
  },
  {
   "cell_type": "markdown",
   "metadata": {},
   "source": [
    "# Trial_1"
   ]
  },
  {
   "cell_type": "code",
   "execution_count": null,
   "metadata": {},
   "outputs": [],
   "source": [
    "for p in set(p1) & set(p2):\n",
    "    P = []\n",
    "    for i in range(3,91275,2):\n",
    "        if is_prime(i) and is_right(i,p):\n",
    "            P.append(i)\n",
    "    if len(set(p1) & set(p2) & set(P)) >= 2:\n",
    "        print(p,set(p1) & set(p2) & set(P))"
   ]
  },
  {
   "cell_type": "markdown",
   "metadata": {},
   "source": [
    "# Level 2"
   ]
  },
  {
   "cell_type": "code",
   "execution_count": null,
   "metadata": {},
   "outputs": [],
   "source": [
    "p5 = []\n",
    "for i in range(3,100000,2):\n",
    "    if is_prime(i) and is_right(i,4729):\n",
    "        p5.append(i)"
   ]
  },
  {
   "cell_type": "code",
   "execution_count": null,
   "metadata": {},
   "outputs": [],
   "source": [
    "for p in {91009, 84697, 65257, 24847}:\n",
    "    P = []\n",
    "    for i in range(3,91275,2):\n",
    "        if is_prime(i) and is_right(i,p):\n",
    "            P.append(i)\n",
    "    if len(set(p1) & set(p2) & set(p5) & set(P)) == 1:\n",
    "        print(p)\n",
    "        break"
   ]
  },
  {
   "cell_type": "markdown",
   "metadata": {},
   "source": [
    "# Version 2"
   ]
  },
  {
   "cell_type": "code",
   "execution_count": 1,
   "metadata": {},
   "outputs": [],
   "source": [
    "from math import sqrt \n",
    "def is_prime(Num):\n",
    "    if Num <= 1 :\n",
    "        return False\n",
    "    else:\n",
    "        for i in range(2,int(sqrt(Num))+1):\n",
    "            if Num % i == 0 :\n",
    "                return False\n",
    "    return True"
   ]
  },
  {
   "cell_type": "code",
   "execution_count": 22,
   "metadata": {},
   "outputs": [],
   "source": [
    "#to check if the a certain collection satisify the needed condition\n",
    "def is_right(combination):\n",
    "    for i in range(len(combination)):\n",
    "        for j in range(i+1,len(combination)):\n",
    "            if not (is_prime(int(str(combination[i]) + str(combination[j]))) and is_prime(int(str(combination[j]) + str(combination[i])))):\n",
    "                return False\n",
    "    if len(combination) > 0:\n",
    "        return True\n",
    "    return False"
   ]
  },
  {
   "cell_type": "code",
   "execution_count": 38,
   "metadata": {},
   "outputs": [],
   "source": [
    "#to get all the numbers that satisfy the condition with the number c\n",
    "def get_poss(c):\n",
    "    P = []\n",
    "    for i in range(3,10000,2):\n",
    "        if is_prime(i) and is_right([i,c]):\n",
    "            P.append(i)\n",
    "    return P"
   ]
  },
  {
   "cell_type": "code",
   "execution_count": 32,
   "metadata": {},
   "outputs": [],
   "source": [
    "primes = [i for i in range(3,10000,2)if is_prime(i)]"
   ]
  },
  {
   "cell_type": "code",
   "execution_count": 5,
   "metadata": {},
   "outputs": [],
   "source": [
    "from itertools import combinations"
   ]
  },
  {
   "cell_type": "code",
   "execution_count": 33,
   "metadata": {},
   "outputs": [],
   "source": [
    "Combination = list(combinations(primes,2))"
   ]
  },
  {
   "cell_type": "code",
   "execution_count": 35,
   "metadata": {},
   "outputs": [],
   "source": [
    "#if the two numbers intersect with each other in more than three numbers ( we select the smallest sum of the three that satisfy the condition)\n",
    "def is_right_V2(combination):\n",
    "    combo = list(combinations(combination,3))      \n",
    "    P     = [] \n",
    "    for c in combo:\n",
    "        if is_right(c):\n",
    "            P.append(c)\n",
    "    if len(P) > 0:\n",
    "        return min(P,key=sum)\n",
    "    return []"
   ]
  },
  {
   "cell_type": "code",
   "execution_count": 39,
   "metadata": {},
   "outputs": [
    {
     "name": "stdout",
     "output_type": "stream",
     "text": [
      "[13, 5197, 8389, 5701, 6733] 26033\n",
      "=======================================\n",
      "time taken is: 130.94569087028503 s\n",
      "=======================================\n"
     ]
    }
   ],
   "source": [
    "from time import time\n",
    "start = time()\n",
    "\n",
    "Min    = 999999\n",
    "Target = []\n",
    "for comb in Combination:\n",
    "    if is_right(comb):\n",
    "        P = []\n",
    "        for c in comb:\n",
    "            p = get_poss(c)\n",
    "            P.append(p)\n",
    "        p1,p2 = P\n",
    "        comm  = list(set(p1) & set(p2))\n",
    "        if len(comm) >= 3:                                 \n",
    "            if len(comm) > 3:                              \n",
    "                comm = is_right_V2(comm)\n",
    "                if len(comm) > 0:\n",
    "                    Sum = sum(list(comb) + list(comm))\n",
    "                    if Sum < Min:\n",
    "                        Min    = Sum\n",
    "                        Target = list(comb) + list(comm)\n",
    "                        print(Target,Min)\n",
    "                        break\n",
    "            elif is_right(comm):\n",
    "                Sum = sum(list(comb) + comm)\n",
    "                if Sum < Min:\n",
    "                    Min    = Sum\n",
    "                    Target = list(comb) + comm\n",
    "                    print(Target,Min)\n",
    "                    break\n",
    "            \n",
    "end = time()\n",
    "print(\"=======================================\")\n",
    "print(\"time taken is: \" + str(end-start) + \" s\")\n",
    "print(\"=======================================\")"
   ]
  },
  {
   "cell_type": "code",
   "execution_count": null,
   "metadata": {},
   "outputs": [],
   "source": []
  }
 ],
 "metadata": {
  "kernelspec": {
   "display_name": "Python 3",
   "language": "python",
   "name": "python3"
  },
  "language_info": {
   "codemirror_mode": {
    "name": "ipython",
    "version": 3
   },
   "file_extension": ".py",
   "mimetype": "text/x-python",
   "name": "python",
   "nbconvert_exporter": "python",
   "pygments_lexer": "ipython3",
   "version": "3.6.9"
  }
 },
 "nbformat": 4,
 "nbformat_minor": 2
}
