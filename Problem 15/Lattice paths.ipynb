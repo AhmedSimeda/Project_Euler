{
 "cells": [
  {
   "cell_type": "markdown",
   "metadata": {},
   "source": [
    "we will treat it like this :\n",
    "a path from the required paths can be treated like this : \"rrrrrrrrrrrrrrrrrrrrdddddddddddddddddddd\"\n",
    "such that r stands for right and d for left \n",
    ".\n",
    ".\n",
    "so we can think of it like this ... we have 40 places and 20r , 20d .. how many ways..?"
   ]
  },
  {
   "cell_type": "code",
   "execution_count": 2,
   "metadata": {},
   "outputs": [],
   "source": [
    "from itertools import combinations\n",
    "from collections import Counter"
   ]
  },
  {
   "cell_type": "code",
   "execution_count": 12,
   "metadata": {},
   "outputs": [],
   "source": [
    "Ways = ['r'*i for i in range(1,3)] + ['d'*i for i in range(1,3)]"
   ]
  },
  {
   "cell_type": "code",
   "execution_count": 6,
   "metadata": {},
   "outputs": [],
   "source": [
    "def remove_1(item):\n",
    "    if len(item) <= 4 :\n",
    "        return True\n",
    "    return False"
   ]
  },
  {
   "cell_type": "code",
   "execution_count": 7,
   "metadata": {},
   "outputs": [],
   "source": [
    "def remove_2(item):\n",
    "    count = Counter(item)\n",
    "    if count['r'] == 2 and count['d'] == 2 :\n",
    "        return True\n",
    "    return False"
   ]
  },
  {
   "cell_type": "markdown",
   "metadata": {},
   "source": [
    "after all that the idea is just \" partation method \" :\n",
    "i tried it first .. but the calculator was not able to cal it the number has an error ..\n",
    "so i will calc it here"
   ]
  },
  {
   "cell_type": "code",
   "execution_count": 16,
   "metadata": {},
   "outputs": [],
   "source": [
    "def factorial(Num):\n",
    "    fact = 1\n",
    "    for i in range(2,Num+1):\n",
    "        fact *= i\n",
    "    return fact"
   ]
  },
  {
   "cell_type": "code",
   "execution_count": 17,
   "metadata": {},
   "outputs": [
    {
     "data": {
      "text/plain": [
       "137846528820.0"
      ]
     },
     "execution_count": 17,
     "metadata": {},
     "output_type": "execute_result"
    }
   ],
   "source": [
    "factorial(40)/(factorial(20))**2"
   ]
  }
 ],
 "metadata": {
  "kernelspec": {
   "display_name": "Python 3",
   "language": "python",
   "name": "python3"
  },
  "language_info": {
   "codemirror_mode": {
    "name": "ipython",
    "version": 3
   },
   "file_extension": ".py",
   "mimetype": "text/x-python",
   "name": "python",
   "nbconvert_exporter": "python",
   "pygments_lexer": "ipython3",
   "version": "3.6.9"
  }
 },
 "nbformat": 4,
 "nbformat_minor": 2
}
