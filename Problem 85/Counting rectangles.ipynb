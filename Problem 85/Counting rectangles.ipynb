{
 "cells": [
  {
   "cell_type": "markdown",
   "metadata": {},
   "source": [
    "## The idea :\n",
    "- first as we know from CNN we can deduce the number of square of are n X m in a gride of area w X m with this double   summation:\n",
    "$$\\sum_{n=1}^h\\\\sum_{m=1}^w (w+1-n)(h+1-m)\\$$\n",
    "                       "
   ]
  },
  {
   "cell_type": "markdown",
   "metadata": {},
   "source": [
    "- which equals to :\n",
    "$$(\\sum_{n=1}^h (w+1-n)) (\\sum_{m=1}^w (h+1-m))$$"
   ]
  },
  {
   "cell_type": "code",
   "execution_count": 1,
   "metadata": {},
   "outputs": [],
   "source": [
    "def count_rect(width,height):\n",
    "    return(sum([(width+1-i)for i in range(1,width+1)])*sum([(height+1-i)for i in range(1,height+1)]))"
   ]
  },
  {
   "cell_type": "code",
   "execution_count": 8,
   "metadata": {},
   "outputs": [],
   "source": [
    "from time import time "
   ]
  },
  {
   "cell_type": "code",
   "execution_count": 10,
   "metadata": {},
   "outputs": [
    {
     "name": "stdout",
     "output_type": "stream",
     "text": [
      "The area of the grid is : 2772\n",
      "=================================\n",
      "time taken is : 0.30301833152770996\n",
      "=================================\n"
     ]
    }
   ],
   "source": [
    "start = time()\n",
    "\n",
    "Max = -9999999 \n",
    "for w in range(100):\n",
    "    for h in range(100):\n",
    "        if w != h:\n",
    "            rects = count_rect(w,h)\n",
    "            if (rects > Max) & (rects < 2000000):\n",
    "                Max  = rects\n",
    "                grid = (w,h)\n",
    "\n",
    "print(\"The area of the grid is : \" + str(grid[0]*grid[1]))\n",
    "\n",
    "end = time()\n",
    "print(\"=================================\")\n",
    "print(\"time taken is : \" + str(end-start))\n",
    "print(\"=================================\")"
   ]
  }
 ],
 "metadata": {
  "kernelspec": {
   "display_name": "Python 3",
   "language": "python",
   "name": "python3"
  },
  "language_info": {
   "codemirror_mode": {
    "name": "ipython",
    "version": 3
   },
   "file_extension": ".py",
   "mimetype": "text/x-python",
   "name": "python",
   "nbconvert_exporter": "python",
   "pygments_lexer": "ipython3",
   "version": "3.6.9"
  }
 },
 "nbformat": 4,
 "nbformat_minor": 2
}
