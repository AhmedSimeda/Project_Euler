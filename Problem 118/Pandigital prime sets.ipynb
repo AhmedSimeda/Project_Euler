{
 "cells": [
  {
   "cell_type": "code",
   "execution_count": null,
   "metadata": {},
   "outputs": [],
   "source": [
    "from itertools import combinations, permutations\n",
    "from functools import reduce\n",
    "import sympy as sy\n",
    "import operator"
   ]
  },
  {
   "cell_type": "code",
   "execution_count": null,
   "metadata": {},
   "outputs": [],
   "source": [
    "# first let's get the prime numbers that has no repeated digits\n",
    "primes = []\n",
    "for n_digits in range(1,10):\n",
    "    for number in permutations([str(i) for i in range(1,10)], n_digits):\n",
    "        number = reduce(operator.add, number)\n",
    "        if sy.isprime(int(number)):\n",
    "            primes.append(number) # it's better to be string so that i can check the digits form it easily"
   ]
  },
  {
   "cell_type": "code",
   "execution_count": null,
   "metadata": {},
   "outputs": [],
   "source": [
    "# now let's correct combinations\n",
    "def get_sol():\n",
    "    count = 0\n",
    "    \n",
    "    for p in range(len(primes)):\n",
    "        # After filtering the primes\n",
    "        available_primes = list(filter(lambda x: len(x)<=(9-len(primes[p])), primes))\n",
    "        available_primes = primes[p:p+1]+list(filter(lambda x: set(primes[p])&set(x) == set(), available_primes))\n",
    "        \n",
    "        # let's now combine them and add the number of correct ones\n",
    "        for c in range(9-len(primes[p])+1, 6):\n",
    "            for comb in combinations(available_primes, c):\n",
    "                out = reduce(operator.add, comb)\n",
    "                if len(set(out)) == len(out):\n",
    "                    count += 1\n",
    "        \n",
    "    \n",
    "    return count "
   ]
  },
  {
   "cell_type": "markdown",
   "metadata": {},
   "source": [
    "# Another Approach"
   ]
  },
  {
   "cell_type": "markdown",
   "metadata": {},
   "source": [
    "Let's generate all permutations of the digits 1-9 and then check if i can split them into ordered sets of primes."
   ]
  },
  {
   "cell_type": "code",
   "execution_count": null,
   "metadata": {},
   "outputs": [],
   "source": [
    "# important packages\n",
    "from itertools import permutations\n",
    "from functools import reduce\n",
    "import sympy as sy\n",
    "import operator"
   ]
  },
  {
   "cell_type": "code",
   "execution_count": null,
   "metadata": {},
   "outputs": [],
   "source": [
    "# To check if the given combination is correct or not by checking that every number is existed only once\n",
    "# (As they are already prime numbers)\n",
    "def is_correct_set(combination):\n",
    "    combination = reduce(operator.add, combination)\n",
    "    if len(set(combination)) == len(combination):\n",
    "        return True\n",
    "    return False"
   ]
  },
  {
   "cell_type": "code",
   "execution_count": null,
   "metadata": {},
   "outputs": [],
   "source": [
    "# first let's get the different ways we're gonna split the generated sets\n",
    "ways_to_split = []\n",
    "for way in product(range(10), repeat=9):\n",
    "    if sum(way) == 9:\n",
    "        ways_to_split.append(way)"
   ]
  },
  {
   "cell_type": "code",
   "execution_count": null,
   "metadata": {},
   "outputs": [],
   "source": [
    "ways_to_split"
   ]
  },
  {
   "cell_type": "code",
   "execution_count": null,
   "metadata": {},
   "outputs": [],
   "source": [
    "# here we take a permutation and count the number of correct sets that can be formed from it \n",
    "def get_sets(permutation):\n",
    "    count = 0\n",
    "    for i in range(1,10):\n",
    "        temp = []\n",
    "        finished = True\n",
    "        for j in range(9//i):\n",
    "            num = reduce(operator.add, permutation[j*i:j*i+i])\n",
    "            if sy.isprime(int(num)):\n",
    "                temp.append(num)\n",
    "            else:\n",
    "                finished = False\n",
    "                break\n",
    "        if finished and (9%i != 0):\n",
    "            last_num = reduce(operator.add, permutation[(9//i)*i:])\n",
    "            if sy.isprime(int(last_num)):\n",
    "                temp.append(last_num)\n",
    "        else:\n",
    "            temp = []\n",
    "            \n",
    "        if len(temp) > 0:        \n",
    "            if is_correct_set(temp):\n",
    "                count += 1\n",
    "    \n",
    "\n",
    "    return count"
   ]
  },
  {
   "cell_type": "markdown",
   "metadata": {},
   "source": [
    "# Last Approach\n",
    "#### Note : I got the idea right but i had some problems in translating it in code so i got some [help](https://www.mathblog.dk/project-euler-118-sets-prime-elements/)"
   ]
  },
  {
   "cell_type": "code",
   "execution_count": 1,
   "metadata": {},
   "outputs": [],
   "source": [
    "from itertools import permutations\n",
    "from sympy import isprime"
   ]
  },
  {
   "cell_type": "code",
   "execution_count": 2,
   "metadata": {},
   "outputs": [],
   "source": [
    "def count_sets(idx=0, prev=0):\n",
    "    count = 0\n",
    "    for i in range(idx, len(permu)):\n",
    "        number = 0\n",
    "        for j in range(idx, i+1):\n",
    "            number = permu[idx:j+1]\n",
    " \n",
    "        # We only count ordered sets,\n",
    "        ## check that the current number is larger than the previous\n",
    "        if (int(number) < int(prev))|(not isprime(int(number))):\n",
    "            continue\n",
    " \n",
    "        # No more digits so return\n",
    "        if i == (len(permu)-1):\n",
    "            return count + 1\n",
    " \n",
    "        count += count_sets(i + 1, number)\n",
    " \n",
    "    return count"
   ]
  },
  {
   "cell_type": "code",
   "execution_count": 3,
   "metadata": {},
   "outputs": [],
   "source": [
    "from time import time"
   ]
  },
  {
   "cell_type": "code",
   "execution_count": 5,
   "metadata": {},
   "outputs": [
    {
     "name": "stdout",
     "output_type": "stream",
     "text": [
      "The number of distinct sets is 44680 sets\n",
      "########################################\n",
      "time taken = 37.70996403694153 s\n",
      "########################################\n"
     ]
    }
   ],
   "source": [
    "start = time()\n",
    "\n",
    "count = 0\n",
    "for permu in permutations([str(i) for i in range(1,10)], 9):\n",
    "    permu = ''.join(list(permu))\n",
    "    count += count_sets()\n",
    "\n",
    "print(f'The number of distinct sets is {count} sets')\n",
    "end = time()\n",
    "\n",
    "print('#'*40)\n",
    "print(f'time taken = {end-start} s')\n",
    "print('#'*40)"
   ]
  },
  {
   "cell_type": "code",
   "execution_count": null,
   "metadata": {},
   "outputs": [],
   "source": []
  }
 ],
 "metadata": {
  "kernelspec": {
   "display_name": "Python 3",
   "language": "python",
   "name": "python3"
  },
  "language_info": {
   "codemirror_mode": {
    "name": "ipython",
    "version": 3
   },
   "file_extension": ".py",
   "mimetype": "text/x-python",
   "name": "python",
   "nbconvert_exporter": "python",
   "pygments_lexer": "ipython3",
   "version": "3.8.3"
  }
 },
 "nbformat": 4,
 "nbformat_minor": 4
}
