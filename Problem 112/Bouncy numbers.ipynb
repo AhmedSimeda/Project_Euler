{
 "cells": [
  {
   "cell_type": "code",
   "execution_count": 1,
   "metadata": {},
   "outputs": [],
   "source": [
    "def is_bouncy(number):\n",
    "    number = list(str(number))\n",
    "    not_bouncy = [sorted(number), sorted(number, reverse=True)]\n",
    "    if number in not_bouncy:\n",
    "        return False\n",
    "    return True"
   ]
  },
  {
   "cell_type": "code",
   "execution_count": 2,
   "metadata": {},
   "outputs": [],
   "source": [
    "def get_sol(percentage):\n",
    "    numbers = [1]          #just to avoid division by zero\n",
    "    bouncy  = []\n",
    "    number  = 2\n",
    "    while (len(bouncy)/len(numbers))*100 != percentage:\n",
    "        if is_bouncy(number):\n",
    "            numbers.append(number)\n",
    "            bouncy.append(number)\n",
    "        else:\n",
    "            numbers.append(number)\n",
    "        \n",
    "        number += 1\n",
    "        \n",
    "    print(\"By the time we reach {} the proportion of bouncy numbers is equal to {}%\".format(numbers[-1], percentage))\n",
    "    print(\"-------------------------------------------\")"
   ]
  },
  {
   "cell_type": "code",
   "execution_count": 3,
   "metadata": {},
   "outputs": [
    {
     "name": "stdout",
     "output_type": "stream",
     "text": [
      "By the time we reach 538 the proportion of bouncy numbers is equal to 50%\n",
      "-------------------------------------------\n",
      "Wall time: 5.86 ms\n"
     ]
    }
   ],
   "source": [
    "%time get_sol(50)"
   ]
  },
  {
   "cell_type": "code",
   "execution_count": 4,
   "metadata": {},
   "outputs": [
    {
     "name": "stdout",
     "output_type": "stream",
     "text": [
      "By the time we reach 21780 the proportion of bouncy numbers is equal to 90%\n",
      "-------------------------------------------\n",
      "Wall time: 151 ms\n"
     ]
    }
   ],
   "source": [
    "%time get_sol(90)"
   ]
  },
  {
   "cell_type": "code",
   "execution_count": 5,
   "metadata": {},
   "outputs": [
    {
     "name": "stdout",
     "output_type": "stream",
     "text": [
      "By the time we reach 1587000 the proportion of bouncy numbers is equal to 99%\n",
      "-------------------------------------------\n",
      "Wall time: 9.52 s\n"
     ]
    }
   ],
   "source": [
    "%time get_sol(99)"
   ]
  }
 ],
 "metadata": {
  "kernelspec": {
   "display_name": "Python 3",
   "language": "python",
   "name": "python3"
  },
  "language_info": {
   "codemirror_mode": {
    "name": "ipython",
    "version": 3
   },
   "file_extension": ".py",
   "mimetype": "text/x-python",
   "name": "python",
   "nbconvert_exporter": "python",
   "pygments_lexer": "ipython3",
   "version": "3.8.3"
  }
 },
 "nbformat": 4,
 "nbformat_minor": 4
}
