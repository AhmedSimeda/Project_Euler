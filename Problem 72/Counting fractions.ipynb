{
 "cells": [
  {
   "cell_type": "code",
   "execution_count": 1,
   "metadata": {},
   "outputs": [],
   "source": [
    "from math import sqrt "
   ]
  },
  {
   "cell_type": "code",
   "execution_count": 2,
   "metadata": {},
   "outputs": [],
   "source": [
    "def is_prime(Num):\n",
    "    if Num <= 1 :\n",
    "        return False\n",
    "    else:\n",
    "        for i in range(2,int(sqrt(Num))+1):\n",
    "            if Num % i == 0 :\n",
    "                return False\n",
    "    return True"
   ]
  },
  {
   "cell_type": "code",
   "execution_count": 3,
   "metadata": {},
   "outputs": [],
   "source": [
    "def phai(Num):\n",
    "    if is_prime(Num):\n",
    "        return Num-1\n",
    "    Factors = []\n",
    "    factor  = 2\n",
    "    phai_n  = Num\n",
    "    while factor*factor <= Num:\n",
    "        if Num % factor == 0:\n",
    "            phai_n *= (1-1/factor)\n",
    "            while Num % factor == 0:\n",
    "                Num = Num // factor\n",
    "        factor += 1\n",
    "    if Num > 1:\n",
    "        phai_n = phai_n * (1.0 - (1.0 / float(Num)))\n",
    "    return int(phai_n)"
   ]
  },
  {
   "cell_type": "code",
   "execution_count": 4,
   "metadata": {},
   "outputs": [],
   "source": [
    "def count_fractions(limit):\n",
    "    count = 0\n",
    "    for i in range(2,limit+1):\n",
    "        count += phai(i)\n",
    "    print(count)"
   ]
  },
  {
   "cell_type": "code",
   "execution_count": 6,
   "metadata": {},
   "outputs": [
    {
     "name": "stdout",
     "output_type": "stream",
     "text": [
      "303963552391\n",
      "Wall time: 1min 20s\n"
     ]
    }
   ],
   "source": [
    "%time count_fractions(1000000)"
   ]
  }
 ],
 "metadata": {
  "kernelspec": {
   "display_name": "Python 3",
   "language": "python",
   "name": "python3"
  },
  "language_info": {
   "codemirror_mode": {
    "name": "ipython",
    "version": 3
   },
   "file_extension": ".py",
   "mimetype": "text/x-python",
   "name": "python",
   "nbconvert_exporter": "python",
   "pygments_lexer": "ipython3",
   "version": "3.6.9"
  }
 },
 "nbformat": 4,
 "nbformat_minor": 2
}
