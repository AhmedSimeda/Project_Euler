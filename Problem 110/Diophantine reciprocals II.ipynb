{
 "cells": [
  {
   "cell_type": "markdown",
   "metadata": {},
   "source": [
    "As we've seen in Problem 108 With the help of this [great website](https://www.alpertron.com.ar/QUAD.HTM) again.Let's get started :)"
   ]
  },
  {
   "cell_type": "markdown",
   "metadata": {},
   "source": [
    "## The idea :\n",
    "**The equation we're trying to solve:**\n",
    "$$a⁢x^2 + b⁢x⁢y + c⁢y^2 + d⁢x + e⁢y + f = 0$$\n",
    "where :$$(a = 0, b=-1, c=0, d=n, e=n, f=0)$$\n",
    "**Steps:**\n",
    "- calculate the discriminant:$$b² − 4⁢a⁢c$$\n",
    "<center>(which will always be equal to one in this case)</center>\n",
    "- Let D be the discriminant. We apply the transformation of Legendre **`Dx = X + α, Dy = Y + β`**, and we obtain:\n",
    "\n",
    "$$α = 2⁢c⁢d - b⁢e$$\n",
    ">by substituting the above values we get:**`α = n`**\n",
    "\n",
    "$$β = 2⁢a⁢e - b⁢d$$\n",
    ">by substituting the above values we get:**`β = n`**\n",
    "\n",
    "- I donno the where this equation came from :\n",
    "\n",
    "$$-X⁢Y = -D (a⁢e^2 - b⁢e⁢d + c⁢d^2 + f⁢D)$$\n",
    ">by substituting the above values we get:**`X⁢Y = n^2`**"
   ]
  },
  {
   "cell_type": "markdown",
   "metadata": {},
   "source": [
    "In other words if we find **all the factors of n^2** we can find **the number of valid solution to this equation** and by some mathematics we can also find the real value of x and y.But i think i doesn't matter here."
   ]
  },
  {
   "cell_type": "markdown",
   "metadata": {},
   "source": [
    "with the help of this [idea](https://discuss.codechef.com/t/what-is-the-most-efficient-way-to-find-no-of-factors-of-a-number/14370/2) we can calculate the number of factors without knowing the all the factors just the prime ones.\n",
    "\n",
    "**Steps:**\n",
    "- Let X be a number, whose prime factorization yields-\n",
    "\n",
    "$$X= 2^a * 3^b *… $$\n",
    "- Then number of factors is product of (exponents +1). Meaning, number of factors are :\n",
    "**`Number of factors = (a+1)x(b+1)…`**"
   ]
  },
  {
   "cell_type": "code",
   "execution_count": 1,
   "metadata": {},
   "outputs": [],
   "source": [
    "from sympy import isprime,prime\n",
    "from functools import reduce \n",
    "import numpy as np\n",
    "import operator"
   ]
  },
  {
   "cell_type": "code",
   "execution_count": 2,
   "metadata": {},
   "outputs": [],
   "source": [
    "def get_Nsols(number):\n",
    "    number = number**2 \n",
    "    exponents = []\n",
    "    factor = 2\n",
    "    while number > 1:\n",
    "        n = 0\n",
    "        if number%factor == 0:\n",
    "            while number%factor == 0:\n",
    "                number //= factor\n",
    "                n +=1\n",
    "            exponents.append(n+1)    #adding one to the exponent\n",
    "            \n",
    "        factor +=1\n",
    "    \n",
    "    num_factors = reduce(operator.mul,exponents)\n",
    "    \n",
    "    # As something like 16 --> 5 factors only {1,2,4,8,16} so we need to do the following\n",
    "    if num_factors%2 == 0:\n",
    "        return num_factors//2\n",
    "    return (num_factors+1)//2"
   ]
  },
  {
   "cell_type": "markdown",
   "metadata": {},
   "source": [
    "If you saw my notebook for problem 108 you'll see that the only problem i have now is how can i search for this number without looping over every number"
   ]
  },
  {
   "cell_type": "code",
   "execution_count": 3,
   "metadata": {},
   "outputs": [],
   "source": [
    "def get_sol(limit):\n",
    "    n = limit   #it must be bigger than 4 million\n",
    "    sols = get_Nsols(n)\n",
    "    while sols <= limit:\n",
    "        n += 1\n",
    "        if not isprime(n):   # trying to reduce the time of searching\n",
    "            sols = get_Nsols(n)\n",
    "    \n",
    "    print (\"The least value of n for which the number of distinct solutions exceeds one-thousand is \" + str(n))"
   ]
  },
  {
   "cell_type": "code",
   "execution_count": null,
   "metadata": {},
   "outputs": [],
   "source": [
    "%time get_sol(4e6)"
   ]
  },
  {
   "cell_type": "markdown",
   "metadata": {},
   "source": [
    ">it seems that this approach will take forever... let's see if there's a pattern that i can reduce the run time"
   ]
  },
  {
   "cell_type": "markdown",
   "metadata": {},
   "source": [
    "### Workspace"
   ]
  },
  {
   "cell_type": "markdown",
   "metadata": {},
   "source": [
    "Let's see if the increasing number of factors has a pattern"
   ]
  },
  {
   "cell_type": "code",
   "execution_count": 4,
   "metadata": {},
   "outputs": [],
   "source": [
    "def get_pattern(N):\n",
    "    '''\n",
    "    this function prints the first N number provided that \n",
    "    each number has number of factors biger than the one preceding it\n",
    "    '''\n",
    "    numbers = []\n",
    "    factors = []\n",
    "    num = 2\n",
    "    max_factors = -999999\n",
    "    while N > 0:\n",
    "        fact = get_Nsols(num)\n",
    "        if fact > max_factors:\n",
    "            numbers.append(num)\n",
    "            factors.append(fact)\n",
    "            #print('The number of distinct solutions for',num,'are',fact)\n",
    "            max_factors = fact\n",
    "            N -= 1\n",
    "        num += 1\n",
    "        \n",
    "    return numbers,factors"
   ]
  },
  {
   "cell_type": "markdown",
   "metadata": {},
   "source": [
    "Let's get the first 30 numbers"
   ]
  },
  {
   "cell_type": "code",
   "execution_count": null,
   "metadata": {},
   "outputs": [],
   "source": [
    "numbers = get_pattern(30)"
   ]
  },
  {
   "cell_type": "markdown",
   "metadata": {},
   "source": [
    "As i took so match time i used **Google Colab** to make life easier but i mangaged to get the first 29 numbers only :("
   ]
  },
  {
   "cell_type": "code",
   "execution_count": 5,
   "metadata": {},
   "outputs": [],
   "source": [
    "numbers = [     2,      4,      6,     12,     24,     30,     60,    120,\n",
    "              180,    210,    360,    420,    840,   1260,   1680,   2520,\n",
    "             4620,   7560,   9240,  13860,  18480,  27720,  55440,  83160,\n",
    "           110880, 120120, 180180, 240240, 360360]"
   ]
  },
  {
   "cell_type": "markdown",
   "metadata": {},
   "source": [
    "let's see now the factors themselves maybe i can get something"
   ]
  },
  {
   "cell_type": "code",
   "execution_count": 6,
   "metadata": {},
   "outputs": [],
   "source": [
    "def get_factors(number):\n",
    "    num = number**2\n",
    "    factors = []\n",
    "    factor = 2\n",
    "    while num > 1:\n",
    "        n = 0\n",
    "        if num%factor == 0:\n",
    "            while num%factor == 0:\n",
    "                num //= factor\n",
    "                n +=1\n",
    "            factors.append([factor,n])    #adding one to the exponent\n",
    "            \n",
    "        factor +=1\n",
    "    \n",
    "    return factors"
   ]
  },
  {
   "cell_type": "code",
   "execution_count": 7,
   "metadata": {},
   "outputs": [
    {
     "name": "stdout",
     "output_type": "stream",
     "text": [
      "2 [[2, 2]]\n",
      "4 [[2, 4]]\n",
      "6 [[2, 2], [3, 2]]\n",
      "12 [[2, 4], [3, 2]]\n",
      "24 [[2, 6], [3, 2]]\n",
      "30 [[2, 2], [3, 2], [5, 2]]\n",
      "60 [[2, 4], [3, 2], [5, 2]]\n",
      "120 [[2, 6], [3, 2], [5, 2]]\n",
      "180 [[2, 4], [3, 4], [5, 2]]\n",
      "210 [[2, 2], [3, 2], [5, 2], [7, 2]]\n",
      "360 [[2, 6], [3, 4], [5, 2]]\n",
      "420 [[2, 4], [3, 2], [5, 2], [7, 2]]\n",
      "840 [[2, 6], [3, 2], [5, 2], [7, 2]]\n",
      "1260 [[2, 4], [3, 4], [5, 2], [7, 2]]\n",
      "1680 [[2, 8], [3, 2], [5, 2], [7, 2]]\n",
      "2520 [[2, 6], [3, 4], [5, 2], [7, 2]]\n",
      "4620 [[2, 4], [3, 2], [5, 2], [7, 2], [11, 2]]\n",
      "7560 [[2, 6], [3, 6], [5, 2], [7, 2]]\n",
      "9240 [[2, 6], [3, 2], [5, 2], [7, 2], [11, 2]]\n",
      "13860 [[2, 4], [3, 4], [5, 2], [7, 2], [11, 2]]\n",
      "18480 [[2, 8], [3, 2], [5, 2], [7, 2], [11, 2]]\n",
      "27720 [[2, 6], [3, 4], [5, 2], [7, 2], [11, 2]]\n",
      "55440 [[2, 8], [3, 4], [5, 2], [7, 2], [11, 2]]\n",
      "83160 [[2, 6], [3, 6], [5, 2], [7, 2], [11, 2]]\n",
      "110880 [[2, 10], [3, 4], [5, 2], [7, 2], [11, 2]]\n",
      "120120 [[2, 6], [3, 2], [5, 2], [7, 2], [11, 2], [13, 2]]\n",
      "180180 [[2, 4], [3, 4], [5, 2], [7, 2], [11, 2], [13, 2]]\n",
      "240240 [[2, 8], [3, 2], [5, 2], [7, 2], [11, 2], [13, 2]]\n",
      "360360 [[2, 6], [3, 4], [5, 2], [7, 2], [11, 2], [13, 2]]\n"
     ]
    }
   ],
   "source": [
    "for n in numbers:\n",
    "    print(n,get_factors(n))"
   ]
  },
  {
   "cell_type": "markdown",
   "metadata": {},
   "source": [
    ">I don't know this a pattern or not but we can see the following:\n",
    "- 2 and 3 are only the prime numbers that has exponents bigger than 2.\n",
    "- Also we can see that the exponent of 2 is bigger than or equal to 3's which is ,in turn, bigger than or equal to 5's and so on.\n",
    "- also all the exponents are even number and that actually makes sense because they are perfect squares."
   ]
  },
  {
   "cell_type": "markdown",
   "metadata": {},
   "source": [
    "we can see that the lowest power is 2. which means the lowest value in the production term (to get the number of factors) is 2+1 = 3.Let's see the largest number of distinct prime factors i need. "
   ]
  },
  {
   "cell_type": "code",
   "execution_count": 8,
   "metadata": {},
   "outputs": [
    {
     "name": "stdout",
     "output_type": "stream",
     "text": [
      "15\n"
     ]
    }
   ],
   "source": [
    "n_distict_factors  = 1                        # only one prime factor\n",
    "number_of_factors  = (3**n_distict_factors)//2 \n",
    "while number_of_factors <= 4e6:\n",
    "    n_distict_factors += 1\n",
    "    number_of_factors  = (3**n_distict_factors)//2\n",
    "\n",
    "print(n_distict_factors)"
   ]
  },
  {
   "cell_type": "markdown",
   "metadata": {},
   "source": [
    "> Then the maximum number of distinct factors is 14"
   ]
  },
  {
   "cell_type": "markdown",
   "metadata": {},
   "source": [
    "## Let's solve it"
   ]
  },
  {
   "cell_type": "markdown",
   "metadata": {},
   "source": [
    ">I will try to run **all the possibilities** if it takes too long i will think of something else"
   ]
  },
  {
   "cell_type": "markdown",
   "metadata": {},
   "source": [
    "That's the pattern of powers i want to generate:2,0,0,0,0,0,0,0,0../2,2,0,0,0,0,0,0,0../8,6,6,2,2,2,2..and so on"
   ]
  },
  {
   "cell_type": "code",
   "execution_count": 9,
   "metadata": {},
   "outputs": [],
   "source": [
    "from functools import reduce\n",
    "from itertools import *\n",
    "from sympy import *\n",
    "import numpy as np\n",
    "import operator"
   ]
  },
  {
   "cell_type": "code",
   "execution_count": 10,
   "metadata": {},
   "outputs": [],
   "source": [
    "# Two Rules:\n",
    "# 1) the powers p1 >= p2 >= p3 ..\n",
    "# 2) the powers are even\n",
    "# 3) the total number of powers <= 14\n",
    "def generate_powers(n_powers,prev_pow):\n",
    "    powers = [0]*n_powers\n",
    "    for idx in cycle(range(n_powers)):\n",
    "        if not(idx == n_powers-1):\n",
    "            if (set([powers[idx]]) == set(powers[idx+1:])): #[] just to make powers[idx+1] iterable and be able to be a set\n",
    "                powers[idx] += 2\n",
    "                powers[idx+1:] = [0]*len(powers[idx+1:])\n",
    "        else:\n",
    "            powers[idx] += 2\n",
    "        \n",
    "        if powers != prev_pow: # in order not to generate two identical consecutive powers \n",
    "            yield powers"
   ]
  },
  {
   "cell_type": "code",
   "execution_count": 18,
   "metadata": {},
   "outputs": [],
   "source": [
    "def get_Nsols(number):\n",
    "    #number = number**2\n",
    "    exponents = []\n",
    "    factor = 2\n",
    "    while number > 1:\n",
    "        n = 0\n",
    "        if number%factor == 0:\n",
    "            while number%factor == 0:\n",
    "                number //= factor\n",
    "                n +=1\n",
    "            exponents.append(n+1)    #adding one to the exponent\n",
    "            \n",
    "        factor +=1\n",
    "    \n",
    "    num_factors = reduce(operator.mul,exponents)\n",
    "    \n",
    "    # As something like 16 --> 5 factors only {1,2,4,8,16} so we need to do the following\n",
    "    if num_factors%2 == 0:\n",
    "        return num_factors//2\n",
    "    return (num_factors+1)//2"
   ]
  },
  {
   "cell_type": "code",
   "execution_count": 12,
   "metadata": {},
   "outputs": [
    {
     "data": {
      "text/plain": [
       "[2, 3, 5, 7, 11, 13, 17, 19, 23, 29, 31, 37, 41, 43]"
      ]
     },
     "execution_count": 12,
     "metadata": {},
     "output_type": "execute_result"
    }
   ],
   "source": [
    "#first 14 prime numbers\n",
    "primes = []\n",
    "for nth in range(1,15):\n",
    "    primes.append(prime(nth))\n",
    "\n",
    "primes"
   ]
  },
  {
   "cell_type": "code",
   "execution_count": 13,
   "metadata": {},
   "outputs": [],
   "source": [
    "def get_num(powers,primes):\n",
    "    \"\"\"\n",
    "    this function combine the power list and primes list to get the number that was factored from them\n",
    "    \"\"\"\n",
    "    number = 1\n",
    "    for i in range(len(powers)):\n",
    "        number *= primes[i]**powers[i]\n",
    "        \n",
    "    return number"
   ]
  },
  {
   "cell_type": "code",
   "execution_count": 32,
   "metadata": {},
   "outputs": [],
   "source": [
    "def get_sol(primes,n_powers,nth):\n",
    "    \"\"\"\n",
    "    n_powers : maximum number of powers we want\n",
    "    nth : because we can't make sure that the first one is the smallest one \n",
    "        so i'll take the nth one\n",
    "    \"\"\"\n",
    "    Min   = 1e100   #very big number\n",
    "    Min_p = []\n",
    "    power = [0]*n_powers\n",
    "    power = generate_powers(n_powers,power)\n",
    "    while nth > 0:\n",
    "        p = next(power)\n",
    "        n_squared = get_num(p,primes)\n",
    "        if (get_Nsols(n_squared) > 4e6) and (n_squared < Min):\n",
    "            nth  -= 1\n",
    "            Min   = n_squared\n",
    "            Min_p = p\n",
    "            print(\"The least value of n for which the number of distinct solutions exceeds four million is\",int(n_squared**(1/2)))\n",
    "            print(Min_p)\n",
    "            print('-------------------------------------------------------------')"
   ]
  },
  {
   "cell_type": "code",
   "execution_count": 34,
   "metadata": {
    "scrolled": true
   },
   "outputs": [
    {
     "name": "stdout",
     "output_type": "stream",
     "text": [
      "The least value of n for which the number of distinct solutions exceeds four million is 78496567990020176\n",
      "[4, 4, 2, 2, 2, 2, 2, 2, 2, 2, 2, 2, 2, 2]\n",
      "-------------------------------------------------------------\n",
      "The least value of n for which the number of distinct solutions exceeds four million is 63892555340714104\n",
      "[4, 4, 4, 4, 2, 2, 2, 2, 2, 2, 2, 2, 2, 0]\n",
      "-------------------------------------------------------------\n",
      "The least value of n for which the number of distinct solutions exceeds four million is 52331045326680120\n",
      "[6, 2, 2, 2, 2, 2, 2, 2, 2, 2, 2, 2, 2, 2]\n",
      "-------------------------------------------------------------\n",
      "The least value of n for which the number of distinct solutions exceeds four million is 18255015811632600\n",
      "[6, 4, 4, 2, 2, 2, 2, 2, 2, 2, 2, 2, 2, 0]\n",
      "-------------------------------------------------------------\n",
      "The least value of n for which the number of distinct solutions exceeds four million is 10953009486979560\n",
      "[6, 6, 2, 2, 2, 2, 2, 2, 2, 2, 2, 2, 2, 0]\n",
      "-------------------------------------------------------------\n",
      "The least value of n for which the number of distinct solutions exceeds four million is 9350130049860600\n",
      "[6, 6, 4, 4, 2, 2, 2, 2, 2, 2, 2, 2, 0, 0]\n",
      "-------------------------------------------------------------\n",
      "Wall time: 54.3 ms\n"
     ]
    }
   ],
   "source": [
    "n_powers = 14\n",
    "nth = 6                  #after some trials i found that the answer was the 6th\n",
    "%time powers = get_sol(primes,n_powers,nth)"
   ]
  },
  {
   "cell_type": "code",
   "execution_count": null,
   "metadata": {},
   "outputs": [],
   "source": []
  }
 ],
 "metadata": {
  "kernelspec": {
   "display_name": "Python 3",
   "language": "python",
   "name": "python3"
  },
  "language_info": {
   "codemirror_mode": {
    "name": "ipython",
    "version": 3
   },
   "file_extension": ".py",
   "mimetype": "text/x-python",
   "name": "python",
   "nbconvert_exporter": "python",
   "pygments_lexer": "ipython3",
   "version": "3.8.3"
  }
 },
 "nbformat": 4,
 "nbformat_minor": 4
}
