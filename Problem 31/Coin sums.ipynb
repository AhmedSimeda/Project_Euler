{
 "cells": [
  {
   "cell_type": "code",
   "execution_count": 7,
   "metadata": {},
   "outputs": [],
   "source": [
    "def collect(ways,Num_coins):\n",
    "    coins = [200,100,50,20,10,5,2,1]\n",
    "    sub_ways = []\n",
    "    for I in ways:\n",
    "        for J in range(Num_coins):\n",
    "            S = I + [J]\n",
    "            if sum(list(map(lambda x:x[0]*x[1],list(zip(S+[0]*(len(coins)-len(S)),coins))))) <= 200:\n",
    "                sub_ways.append(S)\n",
    "    return sub_ways"
   ]
  },
  {
   "cell_type": "code",
   "execution_count": 8,
   "metadata": {},
   "outputs": [],
   "source": [
    "W = [[0],[1]]\n",
    "for Num in [3,5,11,21,41,101,201]:\n",
    "       W = collect(W,Num) "
   ]
  },
  {
   "cell_type": "code",
   "execution_count": 9,
   "metadata": {},
   "outputs": [],
   "source": [
    "coins = [200,100,50,20,10,5,2,1]\n",
    "Ways = []\n",
    "for way in W:\n",
    "    if (sum(list(map(lambda x:x[0]*x[1],list(zip(way,coins))))) == 200):\n",
    "        Ways.append(way)"
   ]
  },
  {
   "cell_type": "code",
   "execution_count": 10,
   "metadata": {},
   "outputs": [
    {
     "data": {
      "text/plain": [
       "73682"
      ]
     },
     "execution_count": 10,
     "metadata": {},
     "output_type": "execute_result"
    }
   ],
   "source": [
    "len(Ways)"
   ]
  }
 ],
 "metadata": {
  "kernelspec": {
   "display_name": "Python 3",
   "language": "python",
   "name": "python3"
  },
  "language_info": {
   "codemirror_mode": {
    "name": "ipython",
    "version": 3
   },
   "file_extension": ".py",
   "mimetype": "text/x-python",
   "name": "python",
   "nbconvert_exporter": "python",
   "pygments_lexer": "ipython3",
   "version": "3.6.9"
  }
 },
 "nbformat": 4,
 "nbformat_minor": 2
}
