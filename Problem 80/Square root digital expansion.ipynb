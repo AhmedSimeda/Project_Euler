{
 "cells": [
  {
   "cell_type": "code",
   "execution_count": 1,
   "metadata": {},
   "outputs": [],
   "source": [
    "from math import sqrt"
   ]
  },
  {
   "cell_type": "code",
   "execution_count": 82,
   "metadata": {},
   "outputs": [],
   "source": [
    "#rs is the remainder of the summation\n",
    "#rs_00 is the remainder of the subtration + the next pair -- >'00'\n",
    "def get_rem(rs,rs_00):\n",
    "    for i in range(10):\n",
    "        if (int(str(rs)+str(i+1))*(i+1)) > rs_00:\n",
    "            return i\n",
    "            break"
   ]
  },
  {
   "cell_type": "code",
   "execution_count": 99,
   "metadata": {},
   "outputs": [],
   "source": [
    "#res is the result\n",
    "#rem_sub is the remainder of the subtration operation\n",
    "#rem_sum is the remainder of the summation operation\n",
    "def squar_root_approx(Num):\n",
    "    res     = []\n",
    "    rem_sum = 2*int(sqrt(Num))\n",
    "    rem_sub = Num - int(sqrt(Num))**2\n",
    "    i       = 0\n",
    "    while i < 99: #because the first digit(which complete them to hundred is the one before the floating pont)\n",
    "        i  += 1\n",
    "        n = get_rem(rem_sum,int(str(rem_sub) + '00'))\n",
    "        res.append(n)\n",
    "        rem_sub = int(str(rem_sub) + '00') - (int(str(rem_sum)+str(n))*n)\n",
    "        rem_sum = int(str(rem_sum)+str(n)) + n\n",
    "    return sum(res)+int(sqrt(Num))"
   ]
  },
  {
   "cell_type": "code",
   "execution_count": 54,
   "metadata": {},
   "outputs": [],
   "source": [
    "def is_a_perfect_square(Num):\n",
    "    if (int(sqrt(Num))**2) == Num:\n",
    "        return True\n",
    "    return False"
   ]
  },
  {
   "cell_type": "code",
   "execution_count": 58,
   "metadata": {},
   "outputs": [],
   "source": [
    "def get_total_sum(limit):\n",
    "    Sum = 0\n",
    "    for num in range(limit):\n",
    "        if not is_a_perfect_square(num):\n",
    "            Sum += squar_root_approx(num)\n",
    "    print(Sum)"
   ]
  },
  {
   "cell_type": "code",
   "execution_count": 101,
   "metadata": {},
   "outputs": [
    {
     "name": "stdout",
     "output_type": "stream",
     "text": [
      "40886\n",
      "Wall time: 264 ms\n"
     ]
    }
   ],
   "source": [
    "%time get_total_sum(100)"
   ]
  }
 ],
 "metadata": {
  "kernelspec": {
   "display_name": "Python 3",
   "language": "python",
   "name": "python3"
  },
  "language_info": {
   "codemirror_mode": {
    "name": "ipython",
    "version": 3
   },
   "file_extension": ".py",
   "mimetype": "text/x-python",
   "name": "python",
   "nbconvert_exporter": "python",
   "pygments_lexer": "ipython3",
   "version": "3.6.9"
  }
 },
 "nbformat": 4,
 "nbformat_minor": 2
}
