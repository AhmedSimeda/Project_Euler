{
 "cells": [
  {
   "cell_type": "code",
   "execution_count": 114,
   "metadata": {},
   "outputs": [],
   "source": [
    "def det_RS(Deno):\n",
    "    RES = []\n",
    "    REM = []\n",
    "    rem = 10\n",
    "    while rem != 0:\n",
    "        temp = rem % Deno\n",
    "        if temp in REM:\n",
    "            r = temp*10 % Deno\n",
    "            return REM.index(temp),REM.index(r),RES\n",
    "        REM.append(temp)\n",
    "        RES.append(rem//Deno)\n",
    "        rem = temp * 10\n",
    "    return 0,0,[]"
   ]
  },
  {
   "cell_type": "code",
   "execution_count": 117,
   "metadata": {},
   "outputs": [],
   "source": [
    "d = 0\n",
    "Max_Len = 0\n",
    "for i in range(2,1000):\n",
    "    I,K,R = det_RS(i)\n",
    "    if len(R)-K-1 > Max_Len :\n",
    "        Max_Len = len(R)-K-1\n",
    "        d = i"
   ]
  },
  {
   "cell_type": "code",
   "execution_count": 118,
   "metadata": {},
   "outputs": [
    {
     "name": "stdout",
     "output_type": "stream",
     "text": [
      "983\n"
     ]
    }
   ],
   "source": [
    "print(d)"
   ]
  }
 ],
 "metadata": {
  "kernelspec": {
   "display_name": "Python 3",
   "language": "python",
   "name": "python3"
  },
  "language_info": {
   "codemirror_mode": {
    "name": "ipython",
    "version": 3
   },
   "file_extension": ".py",
   "mimetype": "text/x-python",
   "name": "python",
   "nbconvert_exporter": "python",
   "pygments_lexer": "ipython3",
   "version": "3.6.9"
  }
 },
 "nbformat": 4,
 "nbformat_minor": 2
}
