{
 "cells": [
  {
   "cell_type": "code",
   "execution_count": 7,
   "metadata": {},
   "outputs": [],
   "source": [
    "roman_numerals = [r[:-1] for r in open('p089_roman.txt','r').readlines()]"
   ]
  },
  {
   "cell_type": "code",
   "execution_count": 50,
   "metadata": {},
   "outputs": [],
   "source": [
    "roman_numerals[-1] += 'I' #editing the last item"
   ]
  },
  {
   "cell_type": "code",
   "execution_count": 10,
   "metadata": {},
   "outputs": [],
   "source": [
    "denominations  = {'M':1000,'CM':900,'D':500,'CD':400,'C':100,'XC':90,'L':50,'XL':40,'X':10,'IX':9,'V':5,'IV':4,'I':1}    "
   ]
  },
  {
   "cell_type": "code",
   "execution_count": 23,
   "metadata": {},
   "outputs": [],
   "source": [
    "def get_decimalValue(romanNumeral):\n",
    "    number = 0\n",
    "    r      = 0\n",
    "    while r < len(romanNumeral):\n",
    "        #the rule of descending order is satisfied , 'I' i will not count it but it helps not to get an error while i am checking the last element\n",
    "        if denominations[romanNumeral[r]] < denominations[(romanNumeral+'I')[r+1]]: \n",
    "            number += denominations[romanNumeral[r:r+2]]\n",
    "            r += 2\n",
    "        else:\n",
    "            number += denominations[romanNumeral[r]]\n",
    "            r += 1\n",
    "    return number"
   ]
  },
  {
   "cell_type": "code",
   "execution_count": 29,
   "metadata": {},
   "outputs": [],
   "source": [
    "def get_minimal(number):\n",
    "    numeral = ''\n",
    "    for deno in denominations:\n",
    "        while denominations[deno] <= number:\n",
    "            numeral += deno\n",
    "            number  -= denominations[deno]\n",
    "    return numeral"
   ]
  },
  {
   "cell_type": "code",
   "execution_count": 52,
   "metadata": {},
   "outputs": [],
   "source": [
    "def get_sol(roman_numerals):\n",
    "    chars_saved = 0\n",
    "    for romanNumeral in roman_numerals:\n",
    "        number    = get_decimalValue(romanNumeral)\n",
    "        mini_numo = get_minimal(number)\n",
    "        chars_saved += len(romanNumeral)-len(mini_numo)\n",
    "    return chars_saved"
   ]
  },
  {
   "cell_type": "code",
   "execution_count": 53,
   "metadata": {},
   "outputs": [
    {
     "name": "stdout",
     "output_type": "stream",
     "text": [
      "Wall time: 23 ms\n"
     ]
    },
    {
     "data": {
      "text/plain": [
       "743"
      ]
     },
     "execution_count": 53,
     "metadata": {},
     "output_type": "execute_result"
    }
   ],
   "source": [
    "%time get_sol(roman_numerals)"
   ]
  }
 ],
 "metadata": {
  "kernelspec": {
   "display_name": "Python 3",
   "language": "python",
   "name": "python3"
  },
  "language_info": {
   "codemirror_mode": {
    "name": "ipython",
    "version": 3
   },
   "file_extension": ".py",
   "mimetype": "text/x-python",
   "name": "python",
   "nbconvert_exporter": "python",
   "pygments_lexer": "ipython3",
   "version": "3.6.9"
  }
 },
 "nbformat": 4,
 "nbformat_minor": 2
}
