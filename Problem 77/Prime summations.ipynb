{
 "cells": [
  {
   "cell_type": "code",
   "execution_count": 1,
   "metadata": {},
   "outputs": [],
   "source": [
    "from math import sqrt "
   ]
  },
  {
   "cell_type": "code",
   "execution_count": 2,
   "metadata": {},
   "outputs": [],
   "source": [
    "def is_prime(Num):\n",
    "    if Num <= 1 :\n",
    "        return False\n",
    "    else:\n",
    "        for i in range(2,int(sqrt(Num))+1):\n",
    "            if Num % i == 0 :\n",
    "                return False\n",
    "    return True"
   ]
  },
  {
   "cell_type": "code",
   "execution_count": 3,
   "metadata": {},
   "outputs": [],
   "source": [
    "def prime_gen(limit):\n",
    "    return [0,2] + [i for i in range(3,limit+1,2)if is_prime(i)]"
   ]
  },
  {
   "cell_type": "code",
   "execution_count": null,
   "metadata": {},
   "outputs": [],
   "source": [
    "def count_ways(target,avc):\n",
    "    if avc <= 0 :\n",
    "        return 1\n",
    "    \n",
    "    res = 0\n",
    "    while target > 0:\n",
    "        res += count_ways(target,avc-1)\n",
    "        target -= primes[avc]\n",
    "    \n",
    "    return res"
   ]
  },
  {
   "cell_type": "code",
   "execution_count": null,
   "metadata": {},
   "outputs": [],
   "source": [
    "count_ways(10,3)"
   ]
  },
  {
   "cell_type": "markdown",
   "metadata": {},
   "source": [
    "## Approach 2"
   ]
  },
  {
   "cell_type": "code",
   "execution_count": 4,
   "metadata": {},
   "outputs": [],
   "source": [
    "def ways(amount,length):\n",
    "    Ways = [1]+[0]*amount\n",
    "    for i in range(1,length):\n",
    "        for j in range(primes[i],amount+1):\n",
    "            Ways[j] += Ways[j-primes[i]] \n",
    "    return Ways[amount]"
   ]
  },
  {
   "cell_type": "code",
   "execution_count": 11,
   "metadata": {},
   "outputs": [],
   "source": [
    "def num_of_terms(Terms):\n",
    "    terms = 0\n",
    "    Num   = 0\n",
    "    while terms <= Terms: \n",
    "        Num   += 1\n",
    "        global primes \n",
    "        primes = prime_gen(Num)\n",
    "        terms  = ways(Num,len(primes))\n",
    "        \n",
    "        \n",
    "    print(Num)"
   ]
  },
  {
   "cell_type": "code",
   "execution_count": 13,
   "metadata": {},
   "outputs": [
    {
     "name": "stdout",
     "output_type": "stream",
     "text": [
      "71\n",
      "Wall time: 14 ms\n"
     ]
    }
   ],
   "source": [
    "%time num_of_terms(5000)"
   ]
  }
 ],
 "metadata": {
  "kernelspec": {
   "display_name": "Python 3",
   "language": "python",
   "name": "python3"
  },
  "language_info": {
   "codemirror_mode": {
    "name": "ipython",
    "version": 3
   },
   "file_extension": ".py",
   "mimetype": "text/x-python",
   "name": "python",
   "nbconvert_exporter": "python",
   "pygments_lexer": "ipython3",
   "version": "3.6.9"
  }
 },
 "nbformat": 4,
 "nbformat_minor": 2
}
