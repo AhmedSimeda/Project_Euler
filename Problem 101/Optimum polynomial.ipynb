{
 "cells": [
  {
   "cell_type": "code",
   "execution_count": 1,
   "metadata": {},
   "outputs": [],
   "source": [
    "import numpy as np "
   ]
  },
  {
   "cell_type": "code",
   "execution_count": 2,
   "metadata": {},
   "outputs": [],
   "source": [
    "def func(n):\n",
    "    return 1-n+n**2-n**3+n**4-n**5+n**6-n**7+n**8-n**9+n**10"
   ]
  },
  {
   "cell_type": "code",
   "execution_count": 3,
   "metadata": {},
   "outputs": [],
   "source": [
    "def get_A(terms):\n",
    "    A = []\n",
    "    for i in range(1,terms+1):\n",
    "        a = [i**j for j in range(terms)]\n",
    "        A.append(a)\n",
    "    return A"
   ]
  },
  {
   "cell_type": "code",
   "execution_count": 4,
   "metadata": {},
   "outputs": [],
   "source": [
    "def get_b(terms):\n",
    "    return [func(n) for n in range(1,terms+1)]"
   ]
  },
  {
   "cell_type": "code",
   "execution_count": 7,
   "metadata": {},
   "outputs": [],
   "source": [
    "def get_sol(limit):\n",
    "    FITs = []\n",
    "    for terms in range(1,limit):\n",
    "        A = np.array(get_A(terms))\n",
    "        b = np.array(get_b(terms))\n",
    "        ans = np.linalg.solve(A,b)\n",
    "        FITs.append(sum([round(ans[i])*(terms+1)**i for i in range(len(ans))]))\n",
    "    return (FITs,sum(FITs))"
   ]
  },
  {
   "cell_type": "code",
   "execution_count": 8,
   "metadata": {},
   "outputs": [
    {
     "name": "stdout",
     "output_type": "stream",
     "text": [
      "Wall time: 3 ms\n"
     ]
    },
    {
     "data": {
      "text/plain": [
       "([1,\n",
       "  1365,\n",
       "  130813,\n",
       "  3092453,\n",
       "  32740951,\n",
       "  205015603,\n",
       "  898165577,\n",
       "  3093310441,\n",
       "  9071313571,\n",
       "  23772343751],\n",
       " 37076114526)"
      ]
     },
     "execution_count": 8,
     "metadata": {},
     "output_type": "execute_result"
    }
   ],
   "source": [
    "%time get_sol(11)"
   ]
  },
  {
   "cell_type": "code",
   "execution_count": null,
   "metadata": {},
   "outputs": [],
   "source": []
  }
 ],
 "metadata": {
  "kernelspec": {
   "display_name": "Python 3",
   "language": "python",
   "name": "python3"
  },
  "language_info": {
   "codemirror_mode": {
    "name": "ipython",
    "version": 3
   },
   "file_extension": ".py",
   "mimetype": "text/x-python",
   "name": "python",
   "nbconvert_exporter": "python",
   "pygments_lexer": "ipython3",
   "version": "3.8.5"
  }
 },
 "nbformat": 4,
 "nbformat_minor": 4
}
