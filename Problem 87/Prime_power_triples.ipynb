{
  "nbformat": 4,
  "nbformat_minor": 0,
  "metadata": {
    "colab": {
      "name": "Prime power triples.ipynb",
      "provenance": []
    },
    "kernelspec": {
      "name": "python3",
      "display_name": "Python 3"
    }
  },
  "cells": [
    {
      "cell_type": "code",
      "metadata": {
        "id": "xgTGNd2-vWu2",
        "colab_type": "code",
        "colab": {}
      },
      "source": [
        "from math import sqrt"
      ],
      "execution_count": 1,
      "outputs": []
    },
    {
      "cell_type": "code",
      "metadata": {
        "id": "qv9oDqr2vbox",
        "colab_type": "code",
        "colab": {}
      },
      "source": [
        "def is_prime(Num):\n",
        "    if Num <= 1:\n",
        "        return False\n",
        "    else:\n",
        "        for n in range(2,int(sqrt(Num))+1):\n",
        "            if Num%n == 0:\n",
        "                return False\n",
        "    return True"
      ],
      "execution_count": 2,
      "outputs": []
    },
    {
      "cell_type": "code",
      "metadata": {
        "id": "xTEnXhBYvcXw",
        "colab_type": "code",
        "colab": {}
      },
      "source": [
        "from time import time"
      ],
      "execution_count": 3,
      "outputs": []
    },
    {
      "cell_type": "code",
      "metadata": {
        "id": "xI6K3Goavvjf",
        "colab_type": "code",
        "colab": {}
      },
      "source": [
        "#list of the numbers appropriate for square\n",
        "square_upper_Bound = int(50000000**(1/2))+1\n",
        "square_list = []\n",
        "for num in range(square_upper_Bound):\n",
        "    if is_prime(num):\n",
        "        square_list.append(num)"
      ],
      "execution_count": 6,
      "outputs": []
    },
    {
      "cell_type": "code",
      "metadata": {
        "id": "2c5SQy1XxJz3",
        "colab_type": "code",
        "colab": {}
      },
      "source": [
        "#list of the numbers appropriate for cube\n",
        "cube_upper_Bound = int(50000000**(1/3))+1\n",
        "cube_list = []\n",
        "for num in range(cube_upper_Bound):\n",
        "    if is_prime(num):\n",
        "        cube_list.append(num)"
      ],
      "execution_count": 7,
      "outputs": []
    },
    {
      "cell_type": "code",
      "metadata": {
        "id": "xFI_LXmqxPlu",
        "colab_type": "code",
        "colab": {}
      },
      "source": [
        "#list of the numbers appropriate for fourth\n",
        "fourth_upper_Bound = int(50000000**(1/4))+1\n",
        "fourth_list = []\n",
        "for num in range(fourth_upper_Bound):\n",
        "    if is_prime(num):\n",
        "        fourth_list.append(num)"
      ],
      "execution_count": 9,
      "outputs": []
    },
    {
      "cell_type": "code",
      "metadata": {
        "id": "baKYYS8axRxM",
        "colab_type": "code",
        "colab": {
          "base_uri": "https://localhost:8080/",
          "height": 85
        },
        "outputId": "4b24f54a-bd44-46a3-acfc-6f848d32ab1f"
      },
      "source": [
        "start = time()\n",
        "\n",
        "Numbers = []\n",
        "for s in square_list:\n",
        "  for c in cube_list:\n",
        "    for f in fourth_list:\n",
        "      num = s**2+c**3+f**4\n",
        "      if num <= 50000000:\n",
        "        Numbers.append(num)\n",
        "\n",
        "print(len(set(Numbers)))\n",
        "\n",
        "end   = time()\n",
        "print(\"=================================\")\n",
        "print(\"time taken is : \" + str(end-start))\n",
        "print(\"=================================\")"
      ],
      "execution_count": 16,
      "outputs": [
        {
          "output_type": "stream",
          "text": [
            "1097343\n",
            "=================================\n",
            "time taken is : 1.745682954788208\n",
            "=================================\n"
          ],
          "name": "stdout"
        }
      ]
    }
  ]
}