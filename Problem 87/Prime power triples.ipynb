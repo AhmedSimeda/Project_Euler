{
 "cells": [
  {
   "cell_type": "code",
   "execution_count": 1,
   "metadata": {},
   "outputs": [],
   "source": [
    "from math import sqrt"
   ]
  },
  {
   "cell_type": "code",
   "execution_count": 6,
   "metadata": {},
   "outputs": [],
   "source": [
    "def is_prime(Num):\n",
    "    if Num <= 1:\n",
    "        return False\n",
    "    else:\n",
    "        for n in range(2,int(sqrt(Num))+1):\n",
    "            if Num%n == 0:\n",
    "                return False\n",
    "    return True"
   ]
  },
  {
   "cell_type": "code",
   "execution_count": 26,
   "metadata": {},
   "outputs": [],
   "source": [
    "#list of the numbers appropriate for square\n",
    "square_upper_Bound = int(50**(1/2))+1\n",
    "square_list = []\n",
    "for num in range(square_upper_Bound):\n",
    "    if is_prime(num):\n",
    "        square_list.append(num)"
   ]
  },
  {
   "cell_type": "code",
   "execution_count": 27,
   "metadata": {},
   "outputs": [],
   "source": [
    "#list of the numbers appropriate for cube\n",
    "cube_upper_Bound = int(50**(1/3))+1\n",
    "cube_list = []\n",
    "for num in range(cube_upper_Bound):\n",
    "    if is_prime(num):\n",
    "        cube_list.append(num)"
   ]
  },
  {
   "cell_type": "code",
   "execution_count": 28,
   "metadata": {},
   "outputs": [],
   "source": [
    "#list of the numbers appropriate for fourth\n",
    "fourth_upper_Bound = int(50**(1/4))+1\n",
    "fourth_list = []\n",
    "for num in range(fourth_upper_Bound):\n",
    "    if is_prime(num):\n",
    "        fourth_list.append(num)"
   ]
  },
  {
   "cell_type": "code",
   "execution_count": 29,
   "metadata": {},
   "outputs": [
    {
     "name": "stdout",
     "output_type": "stream",
     "text": [
      "4\n"
     ]
    }
   ],
   "source": [
    "count = 0\n",
    "for s in square_list:\n",
    "    for c in cube_list:\n",
    "        for f in fourth_list:\n",
    "            if s**2+c**3+f**4 < 50:\n",
    "                count += 1\n",
    "\n",
    "print(count)"
   ]
  },
  {
   "cell_type": "code",
   "execution_count": null,
   "metadata": {},
   "outputs": [],
   "source": []
  }
 ],
 "metadata": {
  "kernelspec": {
   "display_name": "Python 3",
   "language": "python",
   "name": "python3"
  },
  "language_info": {
   "codemirror_mode": {
    "name": "ipython",
    "version": 3
   },
   "file_extension": ".py",
   "mimetype": "text/x-python",
   "name": "python",
   "nbconvert_exporter": "python",
   "pygments_lexer": "ipython3",
   "version": "3.6.9"
  }
 },
 "nbformat": 4,
 "nbformat_minor": 2
}
