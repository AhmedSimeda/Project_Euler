{
 "cells": [
  {
   "cell_type": "code",
   "execution_count": 1,
   "metadata": {},
   "outputs": [],
   "source": [
    "from sympy import *"
   ]
  },
  {
   "cell_type": "code",
   "execution_count": 2,
   "metadata": {},
   "outputs": [],
   "source": [
    "def M_N(n, d):\n",
    "    M = 0\n",
    "    N = []\n",
    "    for prime in primerange(int('1'+'0'*(n-1)),int('9'*n)):\n",
    "        m = str(prime).count(str(d))\n",
    "        if m > M:\n",
    "            N = [prime]\n",
    "            M = m\n",
    "        elif m == M:\n",
    "            N.append(prime)\n",
    "    return M,N"
   ]
  },
  {
   "cell_type": "code",
   "execution_count": 3,
   "metadata": {},
   "outputs": [],
   "source": [
    "def get_sol(n_digits):\n",
    "    Sum = 0\n",
    "    print('Digit(d)'+',M('+str(n_digits)+',d)'+',N('+str(n_digits)+',d)'+',S('+str(n_digits)+',d)')\n",
    "    for d in range(10):\n",
    "        m,n = M_N(n_digits, d)\n",
    "        print('   {}    ,  {}   ,  {}   ,{}'.format(d,m,len(n),sum(n)))\n",
    "        Sum += sum(n)\n",
    "    print('-----------')\n",
    "    print(Sum)"
   ]
  },
  {
   "cell_type": "code",
   "execution_count": 4,
   "metadata": {},
   "outputs": [],
   "source": [
    "def get_pattern(n):\n",
    "    for i in range(1,n+1):\n",
    "        get_sol(i)\n",
    "        print(\"===================================\")"
   ]
  },
  {
   "cell_type": "code",
   "execution_count": 5,
   "metadata": {
    "scrolled": false
   },
   "outputs": [
    {
     "name": "stdout",
     "output_type": "stream",
     "text": [
      "Digit(d),M(1,d),N(1,d),S(1,d)\n",
      "   0    ,  0   ,  4   ,17\n",
      "   1    ,  0   ,  4   ,17\n",
      "   2    ,  1   ,  1   ,2\n",
      "   3    ,  1   ,  1   ,3\n",
      "   4    ,  0   ,  4   ,17\n",
      "   5    ,  1   ,  1   ,5\n",
      "   6    ,  0   ,  4   ,17\n",
      "   7    ,  1   ,  1   ,7\n",
      "   8    ,  0   ,  4   ,17\n",
      "   9    ,  0   ,  4   ,17\n",
      "-----------\n",
      "119\n",
      "===================================\n",
      "Digit(d),M(2,d),N(2,d),S(2,d)\n",
      "   0    ,  0   ,  21   ,1043\n",
      "   1    ,  2   ,  1   ,11\n",
      "   2    ,  1   ,  2   ,52\n",
      "   3    ,  1   ,  8   ,356\n",
      "   4    ,  1   ,  3   ,131\n",
      "   5    ,  1   ,  2   ,112\n",
      "   6    ,  1   ,  2   ,128\n",
      "   7    ,  1   ,  8   ,488\n",
      "   8    ,  1   ,  2   ,172\n",
      "   9    ,  1   ,  6   ,372\n",
      "-----------\n",
      "2865\n",
      "===================================\n",
      "Digit(d),M(3,d),N(3,d),S(3,d)\n",
      "   0    ,  1   ,  15   ,6883\n",
      "   1    ,  2   ,  10   ,3112\n",
      "   2    ,  2   ,  3   ,679\n",
      "   3    ,  2   ,  9   ,3489\n",
      "   4    ,  2   ,  2   ,892\n",
      "   5    ,  2   ,  1   ,557\n",
      "   6    ,  2   ,  1   ,661\n",
      "   7    ,  2   ,  10   ,7226\n",
      "   8    ,  2   ,  3   ,2651\n",
      "   9    ,  2   ,  7   ,5133\n",
      "-----------\n",
      "31283\n",
      "===================================\n",
      "Digit(d),M(4,d),N(4,d),S(4,d)\n",
      "   0    ,  2   ,  13   ,67061\n",
      "   1    ,  3   ,  9   ,22275\n",
      "   2    ,  3   ,  1   ,2221\n",
      "   3    ,  3   ,  12   ,46214\n",
      "   4    ,  3   ,  2   ,8888\n",
      "   5    ,  3   ,  1   ,5557\n",
      "   6    ,  3   ,  1   ,6661\n",
      "   7    ,  3   ,  9   ,57863\n",
      "   8    ,  3   ,  1   ,8887\n",
      "   9    ,  3   ,  7   ,48073\n",
      "-----------\n",
      "273700\n",
      "===================================\n",
      "Digit(d),M(5,d),N(5,d),S(5,d)\n",
      "   0    ,  3   ,  8   ,450046\n",
      "   1    ,  4   ,  10   ,115756\n",
      "   2    ,  4   ,  1   ,22229\n",
      "   3    ,  4   ,  7   ,226559\n",
      "   4    ,  4   ,  1   ,44449\n",
      "   5    ,  3   ,  28   ,1506848\n",
      "   6    ,  3   ,  31   ,1999373\n",
      "   7    ,  4   ,  12   ,907810\n",
      "   8    ,  4   ,  1   ,88883\n",
      "   9    ,  4   ,  8   ,683904\n",
      "-----------\n",
      "6045857\n",
      "===================================\n",
      "Digit(d),M(6,d),N(6,d),S(6,d)\n",
      "   0    ,  4   ,  9   ,4200049\n",
      "   1    ,  5   ,  13   ,3358141\n",
      "   2    ,  4   ,  33   ,10838231\n",
      "   3    ,  5   ,  14   ,5065904\n",
      "   4    ,  5   ,  2   ,888892\n",
      "   5    ,  5   ,  1   ,555557\n",
      "   6    ,  5   ,  1   ,666667\n",
      "   7    ,  5   ,  11   ,8510217\n",
      "   8    ,  5   ,  1   ,888887\n",
      "   9    ,  5   ,  10   ,8580230\n",
      "-----------\n",
      "43552775\n",
      "===================================\n",
      "Wall time: 1min 4s\n"
     ]
    }
   ],
   "source": [
    "%time get_pattern(6)"
   ]
  },
  {
   "cell_type": "markdown",
   "metadata": {},
   "source": [
    "> Sadly, there is no pattern.Let's see another approach."
   ]
  },
  {
   "cell_type": "markdown",
   "metadata": {},
   "source": [
    "## With help of [mathblog](https://www.mathblog.dk/project-euler-111-10-digit-primes-repeated-digits/)"
   ]
  },
  {
   "cell_type": "code",
   "execution_count": 1,
   "metadata": {},
   "outputs": [],
   "source": [
    "from functools import reduce\n",
    "from sympy import isprime\n",
    "from itertools import *\n",
    "import operator"
   ]
  },
  {
   "cell_type": "markdown",
   "metadata": {},
   "source": [
    "The idea is to generate the numbers and test them for two things:\n",
    "- there are no leading zeros\n",
    "- they are prime numbers"
   ]
  },
  {
   "cell_type": "code",
   "execution_count": 2,
   "metadata": {},
   "outputs": [],
   "source": [
    "#first we put d in the right positions of the number\n",
    "def fill_d(number, positions, d):\n",
    "    for p in positions:\n",
    "        number = number[:p] + str(d) + number[p+1:]\n",
    "    \n",
    "    return number"
   ]
  },
  {
   "cell_type": "code",
   "execution_count": 46,
   "metadata": {},
   "outputs": [],
   "source": [
    "#secondly puting all possible numbers in positions\n",
    "def gen_number(number, positions, d):\n",
    "    filling_digits = set(range(10)) - {d}\n",
    "    poss_nums = product(filling_digits,repeat=len(positions))\n",
    "    for nums in poss_nums:\n",
    "        for p,num in zip(positions,nums):\n",
    "            number = number[:p] + str(num) + number[p+1:]\n",
    "            \n",
    "        yield number"
   ]
  },
  {
   "cell_type": "code",
   "execution_count": 62,
   "metadata": {},
   "outputs": [],
   "source": [
    "#finally let's test if the number of repeated times can generate prime numbers\n",
    "def get_primes(n, d, repeated_times):\n",
    "    primes = []\n",
    "    for positions in combinations(range(n),repeated_times):\n",
    "        number = '0'*n\n",
    "        number = fill_d(number, positions, d)\n",
    "        remaining_positions = set(range(n)) - set(positions)\n",
    "        for number in gen_number(number, remaining_positions, d):\n",
    "            if isprime(int(number)) and (number[0] != '0'):\n",
    "                primes.append(int(number))\n",
    "        \n",
    "    \n",
    "    if len(primes) > 0:\n",
    "        return (True,primes)\n",
    "    \n",
    "    return (False,[])"
   ]
  },
  {
   "cell_type": "code",
   "execution_count": 63,
   "metadata": {},
   "outputs": [],
   "source": [
    "#now let's get the maximum repeated number\n",
    "def get_max_rn(n,d):\n",
    "    for rn in range(n-1,1,-1):\n",
    "        gate, primes = get_primes(n, d, rn)\n",
    "        if gate:\n",
    "            return primes"
   ]
  },
  {
   "cell_type": "code",
   "execution_count": 66,
   "metadata": {},
   "outputs": [],
   "source": [
    "#now let's build the final function that puts all those together\n",
    "def get_sol(n):\n",
    "    Sum = 0\n",
    "    for d in range(10):\n",
    "        primes = get_max_rn(n, d)\n",
    "        Sum += sum(primes)\n",
    "        \n",
    "    print(\"The sum of all S({}, d) is {}\".format(n, Sum))"
   ]
  },
  {
   "cell_type": "code",
   "execution_count": 67,
   "metadata": {},
   "outputs": [
    {
     "name": "stdout",
     "output_type": "stream",
     "text": [
      "The sum of all S(4, d) is 273700\n",
      "Wall time: 8 ms\n"
     ]
    }
   ],
   "source": [
    "%time get_sol(4)"
   ]
  },
  {
   "cell_type": "code",
   "execution_count": 68,
   "metadata": {},
   "outputs": [
    {
     "name": "stdout",
     "output_type": "stream",
     "text": [
      "The sum of all S(10, d) is 612407567715\n",
      "Wall time: 176 ms\n"
     ]
    }
   ],
   "source": [
    "%time get_sol(10)"
   ]
  },
  {
   "cell_type": "code",
   "execution_count": null,
   "metadata": {},
   "outputs": [],
   "source": []
  }
 ],
 "metadata": {
  "kernelspec": {
   "display_name": "Python 3",
   "language": "python",
   "name": "python3"
  },
  "language_info": {
   "codemirror_mode": {
    "name": "ipython",
    "version": 3
   },
   "file_extension": ".py",
   "mimetype": "text/x-python",
   "name": "python",
   "nbconvert_exporter": "python",
   "pygments_lexer": "ipython3",
   "version": "3.8.3"
  }
 },
 "nbformat": 4,
 "nbformat_minor": 4
}
