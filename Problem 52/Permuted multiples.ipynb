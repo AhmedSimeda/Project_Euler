{
 "cells": [
  {
   "cell_type": "code",
   "execution_count": 6,
   "metadata": {},
   "outputs": [],
   "source": [
    "def Num2List(num):\n",
    "    Num = []\n",
    "    for i in str(num):\n",
    "        Num.append(int(i))\n",
    "    \n",
    "    return Num"
   ]
  },
  {
   "cell_type": "code",
   "execution_count": 8,
   "metadata": {},
   "outputs": [
    {
     "name": "stdout",
     "output_type": "stream",
     "text": [
      "142857\n",
      "=====================================\n",
      "time taken : 5.742385625839233 s\n",
      "=====================================\n"
     ]
    }
   ],
   "source": [
    "from time import time\n",
    "start = time()\n",
    "\n",
    "for i in range(10,1000000):\n",
    "    if len(set(Num2List(i)) & set(Num2List(i*2)) & set(Num2List(i*3)) & set(Num2List(i*4)) & set(Num2List(i*5)) & set(Num2List(i*6))) == len(str(i)):\n",
    "        print(i)\n",
    "        break\n",
    "    \n",
    "end = time()\n",
    "print(\"=====================================\")\n",
    "print(\"time taken : \" + str(end-start) + \" s\")\n",
    "print(\"=====================================\")"
   ]
  }
 ],
 "metadata": {
  "kernelspec": {
   "display_name": "Python 3",
   "language": "python",
   "name": "python3"
  },
  "language_info": {
   "codemirror_mode": {
    "name": "ipython",
    "version": 3
   },
   "file_extension": ".py",
   "mimetype": "text/x-python",
   "name": "python",
   "nbconvert_exporter": "python",
   "pygments_lexer": "ipython3",
   "version": "3.6.9"
  }
 },
 "nbformat": 4,
 "nbformat_minor": 2
}
