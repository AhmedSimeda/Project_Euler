{
 "cells": [
  {
   "cell_type": "markdown",
   "metadata": {},
   "source": [
    "#### Let's Investigate the problem and dig deeper to see if there is any pattern or something"
   ]
  },
  {
   "cell_type": "code",
   "execution_count": 17,
   "metadata": {},
   "outputs": [],
   "source": [
    "def get_rem(a):\n",
    "    for n in range(1,20):\n",
    "        rem = ((a-1)**n + (a+1)**n)%(a**2)\n",
    "        print((a-1)**n, (a+1)**n, rem)\n",
    "        print('-'*50)"
   ]
  },
  {
   "cell_type": "code",
   "execution_count": 19,
   "metadata": {},
   "outputs": [
    {
     "name": "stdout",
     "output_type": "stream",
     "text": [
      "6 8 14\n",
      "--------------------------------------------------\n",
      "36 64 2\n",
      "--------------------------------------------------\n",
      "216 512 42\n",
      "--------------------------------------------------\n",
      "1296 4096 2\n",
      "--------------------------------------------------\n",
      "7776 32768 21\n",
      "--------------------------------------------------\n",
      "46656 262144 2\n",
      "--------------------------------------------------\n",
      "279936 2097152 0\n",
      "--------------------------------------------------\n",
      "1679616 16777216 2\n",
      "--------------------------------------------------\n",
      "10077696 134217728 28\n",
      "--------------------------------------------------\n",
      "60466176 1073741824 2\n",
      "--------------------------------------------------\n",
      "362797056 8589934592 7\n",
      "--------------------------------------------------\n",
      "2176782336 68719476736 2\n",
      "--------------------------------------------------\n",
      "13060694016 549755813888 35\n",
      "--------------------------------------------------\n",
      "78364164096 4398046511104 2\n",
      "--------------------------------------------------\n",
      "470184984576 35184372088832 14\n",
      "--------------------------------------------------\n",
      "2821109907456 281474976710656 2\n",
      "--------------------------------------------------\n",
      "16926659444736 2251799813685248 42\n",
      "--------------------------------------------------\n",
      "101559956668416 18014398509481984 2\n",
      "--------------------------------------------------\n",
      "609359740010496 144115188075855872 21\n",
      "--------------------------------------------------\n"
     ]
    }
   ],
   "source": [
    "get_rem(7)"
   ]
  },
  {
   "cell_type": "markdown",
   "metadata": {},
   "source": [
    "We can see that there is actually a pattern. Let's take **some example**:\n",
    "- n=5 : `10, 2, 5, 2, 0, 2, 20, 2, 15, 2`, 10, 2, 5, 2, 0, 2, 20, 2, 15... and so on.\n",
    "- n=7 : `14, 2, 42, 2, 21, 2, 0, 2, 28, 2, 7, 2, 35, 2`, 14, 2, 42, 2, 21... and so on."
   ]
  },
  {
   "cell_type": "code",
   "execution_count": 36,
   "metadata": {},
   "outputs": [],
   "source": [
    "def get_rmax(a):\n",
    "    rems = []\n",
    "    n    = 1\n",
    "    rem  = ((a-1)**n + (a+1)**n)%(a**2)\n",
    "    while (rem not in rems)|(rem == 2):\n",
    "        rems.append(rem)\n",
    "        n  += 1\n",
    "        rem = ((a-1)**n + (a+1)**n)%(a**2)\n",
    "           \n",
    "    return max(rems)"
   ]
  },
  {
   "cell_type": "code",
   "execution_count": 38,
   "metadata": {},
   "outputs": [
    {
     "name": "stdout",
     "output_type": "stream",
     "text": [
      "==================================================\n",
      "∑ rmax = 333082500\n",
      "--------------------------------------------------\n",
      "time taken is equal to 32.591747999191284 s\n",
      "==================================================\n"
     ]
    }
   ],
   "source": [
    "from time import time\n",
    "\n",
    "start = time()\n",
    "\n",
    "Sum = 0\n",
    "for a in range(3, 1001):\n",
    "    Sum += get_rmax(a)\n",
    "    \n",
    "end = time()\n",
    "\n",
    "print('='*50)\n",
    "print(f'∑ rmax = {Sum}')\n",
    "print('-'*50)\n",
    "print(f'time taken is equal to {end-start} s')\n",
    "print('='*50)"
   ]
  },
  {
   "cell_type": "code",
   "execution_count": null,
   "metadata": {},
   "outputs": [],
   "source": []
  }
 ],
 "metadata": {
  "kernelspec": {
   "display_name": "Python 3",
   "language": "python",
   "name": "python3"
  },
  "language_info": {
   "codemirror_mode": {
    "name": "ipython",
    "version": 3
   },
   "file_extension": ".py",
   "mimetype": "text/x-python",
   "name": "python",
   "nbconvert_exporter": "python",
   "pygments_lexer": "ipython3",
   "version": "3.8.3"
  }
 },
 "nbformat": 4,
 "nbformat_minor": 4
}
