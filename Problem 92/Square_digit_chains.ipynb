{
  "nbformat": 4,
  "nbformat_minor": 0,
  "metadata": {
    "colab": {
      "name": "Square digit chains",
      "provenance": []
    },
    "kernelspec": {
      "name": "python3",
      "display_name": "Python 3"
    }
  },
  "cells": [
    {
      "cell_type": "code",
      "metadata": {
        "id": "0raYBJyMZSUL",
        "colab_type": "code",
        "colab": {}
      },
      "source": [
        "def get_loop(number):\n",
        "  while (number != 1) and (number != 89):\n",
        "    temp = 0\n",
        "    for n in str(number):\n",
        "      temp += int(n)**2\n",
        "    number = temp\n",
        "  return number"
      ],
      "execution_count": 15,
      "outputs": []
    },
    {
      "cell_type": "code",
      "metadata": {
        "id": "JgE4Ej3ObN6r",
        "colab_type": "code",
        "colab": {}
      },
      "source": [
        "def get_sol(limit):\n",
        "  count = 0\n",
        "  for i in range(1,limit):\n",
        "    if get_loop(i) == 89:\n",
        "      count += 1\n",
        "  \n",
        "  print(count)"
      ],
      "execution_count": 16,
      "outputs": []
    },
    {
      "cell_type": "code",
      "metadata": {
        "id": "JBayq4CfcgEk",
        "colab_type": "code",
        "colab": {
          "base_uri": "https://localhost:8080/",
          "height": 68
        },
        "outputId": "3c155e0f-2ea4-42a9-b5dc-65aa8b53d409"
      },
      "source": [
        "%time get_sol(10000000)"
      ],
      "execution_count": 17,
      "outputs": [
        {
          "output_type": "stream",
          "text": [
            "8581146\n",
            "CPU times: user 1min 36s, sys: 269 µs, total: 1min 36s\n",
            "Wall time: 1min 36s\n"
          ],
          "name": "stdout"
        }
      ]
    }
  ]
}