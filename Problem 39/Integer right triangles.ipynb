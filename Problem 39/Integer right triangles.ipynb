{
 "cells": [
  {
   "cell_type": "code",
   "execution_count": 10,
   "metadata": {},
   "outputs": [],
   "source": [
    "import math\n",
    "def func(c,p):\n",
    "    T1 = 2*p-2*c\n",
    "    T2 = T1**2 - 8*(p**2 - 2*p*c)\n",
    "\n",
    "    try:\n",
    "        a = (T1 - math.sqrt(T2)) / 4\n",
    "        b = (T1 + math.sqrt(T2)) / 4\n",
    "    except:\n",
    "        return [0]\n",
    "\n",
    "    if (a != int(a)) or (a < 0):\n",
    "        a = 0\n",
    "\n",
    "    if (b != int(b)) or (b < 0):\n",
    "        b = 0\n",
    "    \n",
    "    return (a,b,c)"
   ]
  },
  {
   "cell_type": "code",
   "execution_count": 30,
   "metadata": {},
   "outputs": [],
   "source": [
    "Result = []\n",
    "Max = -99999\n",
    "P   = 0 \n",
    "for i in range(1000):\n",
    "    R = []\n",
    "    for j in range(500):\n",
    "        if not (0 in func(j,i)):\n",
    "            R.append(func(j,i))\n",
    "\n",
    "    if len(R) > Max :\n",
    "        Max = len(R)\n",
    "        Result = R\n",
    "        P = i"
   ]
  },
  {
   "cell_type": "code",
   "execution_count": 31,
   "metadata": {},
   "outputs": [
    {
     "name": "stdout",
     "output_type": "stream",
     "text": [
      "[(240.0, 252.0, 348), (210.0, 280.0, 350), (168.0, 315.0, 357), (140.0, 336.0, 364), (120.0, 350.0, 370), (105.0, 360.0, 375), (56.0, 390.0, 394), (40.0, 399.0, 401)]\n",
      "840\n"
     ]
    }
   ],
   "source": [
    "print(Result)\n",
    "print(P)"
   ]
  }
 ],
 "metadata": {
  "kernelspec": {
   "display_name": "Python 3",
   "language": "python",
   "name": "python3"
  },
  "language_info": {
   "codemirror_mode": {
    "name": "ipython",
    "version": 3
   },
   "file_extension": ".py",
   "mimetype": "text/x-python",
   "name": "python",
   "nbconvert_exporter": "python",
   "pygments_lexer": "ipython3",
   "version": "3.6.9"
  }
 },
 "nbformat": 4,
 "nbformat_minor": 2
}
