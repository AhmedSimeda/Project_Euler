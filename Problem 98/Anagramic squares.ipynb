{
 "cells": [
  {
   "cell_type": "code",
   "execution_count": 1,
   "metadata": {},
   "outputs": [],
   "source": [
    "from math import sqrt\n",
    "from collections import Counter"
   ]
  },
  {
   "cell_type": "code",
   "execution_count": 5,
   "metadata": {},
   "outputs": [],
   "source": [
    "#Let's open the file\n",
    "with open('p098_words.txt','r') as words:\n",
    "    for line in words:\n",
    "        Words = line.split(',')\n",
    "#Now Let's remove '\"' in '\"word\"'\n",
    "Words = list(map(lambda x:x.replace('\"',''),Words))"
   ]
  },
  {
   "cell_type": "code",
   "execution_count": 7,
   "metadata": {},
   "outputs": [],
   "source": [
    "def get_anagrams(Words):\n",
    "    Words_copy = Words.copy()\n",
    "    Anagrams = []\n",
    "    i = 0\n",
    "    #I will remove every word i take until Words_copy become empty\n",
    "    while len(Words_copy) > 0:\n",
    "        word = Words[i]\n",
    "        if word in Words_copy:\n",
    "            Words_copy.remove(word)\n",
    "            anagram = []\n",
    "            for w in range(i+1,len(Words)):\n",
    "                if Words[w] in Words_copy:\n",
    "                    if (Counter(word) == Counter(Words[w])) and (word != Words[w][::-1]):\n",
    "                        Words_copy.remove(Words[w])\n",
    "                        anagram.append(Words[w])\n",
    "            \n",
    "            if len(anagram) > 0:\n",
    "                anagram.append(word)\n",
    "                Anagrams.append(anagram)\n",
    "                \n",
    "        i += 1\n",
    "    \n",
    "    return Anagrams"
   ]
  },
  {
   "cell_type": "code",
   "execution_count": 8,
   "metadata": {},
   "outputs": [],
   "source": [
    "Anagrams = get_anagrams(Words)\n",
    "Anagrams = sorted(Anagrams,key=lambda x:len(x[0]))"
   ]
  },
  {
   "cell_type": "code",
   "execution_count": 9,
   "metadata": {
    "scrolled": true
   },
   "outputs": [
    {
     "data": {
      "text/plain": [
       "[['CAT', 'ACT'],\n",
       " ['TEA', 'EAT'],\n",
       " ['WHO', 'HOW'],\n",
       " ['SIT', 'ITS'],\n",
       " ['OWN', 'NOW'],\n",
       " ['RACE', 'CARE'],\n",
       " ['LEAD', 'DEAL'],\n",
       " ['NEAR', 'EARN'],\n",
       " ['SEAT', 'EAST'],\n",
       " ['LIFE', 'FILE'],\n",
       " ['FROM', 'FORM'],\n",
       " ['HEAT', 'HATE'],\n",
       " ['TIME', 'ITEM'],\n",
       " ['MEAL', 'MALE'],\n",
       " ['NAME', 'MEAN'],\n",
       " ['TONE', 'NOTE'],\n",
       " ['SPOT', 'STOP', 'POST'],\n",
       " ['TEAR', 'RATE'],\n",
       " ['THUS', 'SHUT'],\n",
       " ['SING', 'SIGN'],\n",
       " ['USER', 'SURE'],\n",
       " ['RAISE', 'ARISE'],\n",
       " ['BROAD', 'BOARD'],\n",
       " ['HEART', 'EARTH'],\n",
       " ['STEAL', 'LEAST'],\n",
       " ['THING', 'NIGHT'],\n",
       " ['SHAPE', 'PHASE'],\n",
       " ['QUITE', 'QUIET'],\n",
       " ['THESE', 'SHEET'],\n",
       " ['SOUTH', 'SHOUT'],\n",
       " ['WORTH', 'THROW'],\n",
       " ['RECENT', 'CENTRE'],\n",
       " ['SOURCE', 'COURSE'],\n",
       " ['DIRECT', 'CREDIT'],\n",
       " ['GARDEN', 'DANGER'],\n",
       " ['EXPECT', 'EXCEPT'],\n",
       " ['REFORM', 'FORMER'],\n",
       " ['REGION', 'IGNORE'],\n",
       " ['REACTION', 'CREATION'],\n",
       " ['REDUCTION', 'INTRODUCE']]"
      ]
     },
     "execution_count": 9,
     "metadata": {},
     "output_type": "execute_result"
    }
   ],
   "source": [
    "Anagrams"
   ]
  },
  {
   "cell_type": "code",
   "execution_count": 10,
   "metadata": {},
   "outputs": [],
   "source": [
    "def get_dict(word,number):\n",
    "    ch2num = {}\n",
    "    for i in range(len(str(number))):\n",
    "        ch2num[word[i]] = str(number)[i]\n",
    "    \n",
    "    return ch2num"
   ]
  },
  {
   "cell_type": "code",
   "execution_count": 11,
   "metadata": {},
   "outputs": [],
   "source": [
    "def convert2numbers(anagrams,ch2num):\n",
    "    for ch,num in ch2num.items():\n",
    "        anagrams = list(map(lambda x:x.replace(ch,num),anagrams))\n",
    "    \n",
    "    return anagrams"
   ]
  },
  {
   "cell_type": "code",
   "execution_count": 29,
   "metadata": {},
   "outputs": [],
   "source": [
    "def is_anagramic_squares(anagrams,number):\n",
    "    #let's assign each number of the number to the corresponding character\n",
    "    length = len(anagrams[0])\n",
    "    for i in range(len(anagrams)):\n",
    "        ch2num   = get_dict(anagrams[i],number)\n",
    "        anagrams = convert2numbers(anagrams,ch2num)\n",
    "        for anagram in anagrams:\n",
    "            if (int(sqrt(int(anagram))) != sqrt(int(anagram))) or (len(str(int(anagram))) != length):\n",
    "                return (False,[])\n",
    "            \n",
    "        anagrams = list(map(int,anagrams))\n",
    "        return (True,anagrams)"
   ]
  },
  {
   "cell_type": "code",
   "execution_count": 30,
   "metadata": {},
   "outputs": [],
   "source": [
    "def get_largest_square(Anagrams):\n",
    "    for anagrams in Anagrams:\n",
    "        lower_bound = int(sqrt(10**(len(anagrams[0])-1)))\n",
    "        upper_bound = int(sqrt(10**len(anagrams[0])))\n",
    "        for i in range(lower_bound,upper_bound):\n",
    "            if len(set(str(i**2))) == len(set(anagrams[0])):\n",
    "                test = is_anagramic_squares(anagrams,i**2)\n",
    "                if test[0]:\n",
    "                    print(anagrams)\n",
    "                    print(test[1])\n",
    "                    return max(test[1])"
   ]
  },
  {
   "cell_type": "code",
   "execution_count": 32,
   "metadata": {},
   "outputs": [
    {
     "name": "stdout",
     "output_type": "stream",
     "text": [
      "['BROAD', 'BOARD']\n",
      "[18769, 17689]\n",
      "Wall time: 207 ms\n"
     ]
    },
    {
     "data": {
      "text/plain": [
       "18769"
      ]
     },
     "execution_count": 32,
     "metadata": {},
     "output_type": "execute_result"
    }
   ],
   "source": [
    "%time get_largest_square(Anagrams[::-1])"
   ]
  }
 ],
 "metadata": {
  "kernelspec": {
   "display_name": "Python 3",
   "language": "python",
   "name": "python3"
  },
  "language_info": {
   "codemirror_mode": {
    "name": "ipython",
    "version": 3
   },
   "file_extension": ".py",
   "mimetype": "text/x-python",
   "name": "python",
   "nbconvert_exporter": "python",
   "pygments_lexer": "ipython3",
   "version": "3.6.9"
  }
 },
 "nbformat": 4,
 "nbformat_minor": 2
}
