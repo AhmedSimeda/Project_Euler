{
 "cells": [
  {
   "cell_type": "code",
   "execution_count": null,
   "metadata": {},
   "outputs": [],
   "source": [
    "from math import gcd"
   ]
  },
  {
   "cell_type": "code",
   "execution_count": null,
   "metadata": {},
   "outputs": [],
   "source": [
    "def get_closest_numo(limit,numerator,denominator):\n",
    "    for i in range(limit,1,-1):\n",
    "        app_numo = (numerator/denominator)*i\n",
    "        if (int(app_numo) != round(app_numo)) & (i % denominator != 0) & (gcd(round(app_numo),i) == 1):\n",
    "            try:\n",
    "                if (round(app_numo)/i) < (closest_numo/closest_deno):\n",
    "                    closest_numo = round(app_numo)\n",
    "                    closest_deno = i\n",
    "            except:   #The First time\n",
    "                closest_numo = round(app_numo)\n",
    "                closest_deno = i\n",
    "    return(closest_numo,closest_deno)"
   ]
  },
  {
   "cell_type": "code",
   "execution_count": null,
   "metadata": {},
   "outputs": [],
   "source": [
    "def count_in_range(limit,start_numerator,start_denominator,final_numerator,final_denominator):\n",
    "    count = 0\n",
    "    while True:\n",
    "        closest_numo,closest_deno = get_closest_numo(limit,start_numerator,start_denominator)\n",
    "        if (closest_numo == final_numerator) & (closest_deno == final_denominator):\n",
    "            break\n",
    "        count +=1\n",
    "        start_numerator,start_denominator = closest_numo,closest_deno\n",
    "    print(count)"
   ]
  },
  {
   "cell_type": "code",
   "execution_count": null,
   "metadata": {},
   "outputs": [],
   "source": [
    "%time count_in_range(12000,1,3,1,2)"
   ]
  },
  {
   "cell_type": "markdown",
   "metadata": {},
   "source": [
    "# Version 2"
   ]
  },
  {
   "cell_type": "code",
   "execution_count": 1,
   "metadata": {},
   "outputs": [],
   "source": [
    "from math import gcd"
   ]
  },
  {
   "cell_type": "code",
   "execution_count": 33,
   "metadata": {},
   "outputs": [],
   "source": [
    "def get_Totient(Num):\n",
    "    count = 0\n",
    "    for i in range(int(Num/3)+1,int(Num/2)):\n",
    "        if gcd(Num,i) == 1:\n",
    "            count += 1\n",
    "    if (Num % 2 != 0) & (int(Num/2) >= (int(Num/3)+1)):\n",
    "        count += 1\n",
    "    return count"
   ]
  },
  {
   "cell_type": "code",
   "execution_count": 3,
   "metadata": {},
   "outputs": [],
   "source": [
    "def count_Num_in_between(limit):\n",
    "    Num_in_between = 0\n",
    "    for i in range(2,limit+1):\n",
    "        Num_in_between += get_Totient(i)\n",
    "    print(Num_in_between)"
   ]
  },
  {
   "cell_type": "code",
   "execution_count": 39,
   "metadata": {},
   "outputs": [
    {
     "name": "stdout",
     "output_type": "stream",
     "text": [
      "7295372\n",
      "Wall time: 10.1 s\n"
     ]
    }
   ],
   "source": [
    "%time count_Num_in_between(12000)"
   ]
  }
 ],
 "metadata": {
  "kernelspec": {
   "display_name": "Python 3",
   "language": "python",
   "name": "python3"
  },
  "language_info": {
   "codemirror_mode": {
    "name": "ipython",
    "version": 3
   },
   "file_extension": ".py",
   "mimetype": "text/x-python",
   "name": "python",
   "nbconvert_exporter": "python",
   "pygments_lexer": "ipython3",
   "version": "3.6.9"
  }
 },
 "nbformat": 4,
 "nbformat_minor": 2
}
