{
 "cells": [
  {
   "cell_type": "code",
   "execution_count": 1,
   "metadata": {},
   "outputs": [],
   "source": [
    "import math\n",
    "import time"
   ]
  },
  {
   "cell_type": "code",
   "execution_count": 2,
   "metadata": {},
   "outputs": [],
   "source": [
    "def is_prime(Num):\n",
    "    if Num < 0:\n",
    "        return False\n",
    "    elif Num in [0,1,-1]:\n",
    "        return False\n",
    "    elif Num < 4:\n",
    "        return True\n",
    "    else:\n",
    "        for i in range(2,int(math.sqrt(abs(Num))+1)):\n",
    "            if Num % i == 0:\n",
    "                return False\n",
    "        return True\n",
    "    \n",
    "def func(n,a,b):\n",
    "    return math.pow(n,2) + n*a + b\n",
    "\n",
    "def count_primes(a,b):\n",
    "    count = 0\n",
    "    n     = 0\n",
    "    while is_prime(func(n,a,b)):\n",
    "        count +=1\n",
    "        n     +=1\n",
    "    \n",
    "    return count"
   ]
  },
  {
   "cell_type": "code",
   "execution_count": 3,
   "metadata": {},
   "outputs": [],
   "source": [
    "B = []\n",
    "for i in range(2,1001):\n",
    "    if is_prime(i):\n",
    "        B.append(i)\n",
    "\n",
    "A = [i for i in range(1000)] + [-i for i in range(1000)]"
   ]
  },
  {
   "cell_type": "code",
   "execution_count": 4,
   "metadata": {},
   "outputs": [
    {
     "name": "stdout",
     "output_type": "stream",
     "text": [
      "Time taken: 5.371179103851318 s\n"
     ]
    }
   ],
   "source": [
    "start = time.time()\n",
    "F_a,F_b,Max = 0,0,0\n",
    "for a in A:\n",
    "    for b in B:\n",
    "        count = count_primes(a,b)\n",
    "        if count > Max:\n",
    "            F_a,F_b,Max = a,b,count\n",
    "end = time.time()\n",
    "print('Time taken: '+ str(end-start) + \" s\")"
   ]
  },
  {
   "cell_type": "code",
   "execution_count": 5,
   "metadata": {},
   "outputs": [
    {
     "data": {
      "text/plain": [
       "71"
      ]
     },
     "execution_count": 5,
     "metadata": {},
     "output_type": "execute_result"
    }
   ],
   "source": [
    "Max"
   ]
  },
  {
   "cell_type": "code",
   "execution_count": 6,
   "metadata": {},
   "outputs": [
    {
     "data": {
      "text/plain": [
       "-59231"
      ]
     },
     "execution_count": 6,
     "metadata": {},
     "output_type": "execute_result"
    }
   ],
   "source": [
    "F_a*F_b"
   ]
  }
 ],
 "metadata": {
  "kernelspec": {
   "display_name": "Python 3",
   "language": "python",
   "name": "python3"
  },
  "language_info": {
   "codemirror_mode": {
    "name": "ipython",
    "version": 3
   },
   "file_extension": ".py",
   "mimetype": "text/x-python",
   "name": "python",
   "nbconvert_exporter": "python",
   "pygments_lexer": "ipython3",
   "version": "3.6.9"
  }
 },
 "nbformat": 4,
 "nbformat_minor": 2
}
