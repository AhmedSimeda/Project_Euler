{
 "cells": [
  {
   "cell_type": "code",
   "execution_count": null,
   "metadata": {},
   "outputs": [],
   "source": [
    "import numpy as np"
   ]
  },
  {
   "cell_type": "code",
   "execution_count": null,
   "metadata": {},
   "outputs": [],
   "source": [
    "def gen_spiral(n):\n",
    "    Nums = np.zeros((n, n))\n",
    "    Horizontal = False\n",
    "    Vertical   = False\n",
    "    count      = n*n \n",
    "    y          = n-1       #col-position\n",
    "    x          = n-1          #row-position\n",
    "    i          = 0          #iterations to change the number of positions to be filled\n",
    "    J          = 0          #to control when we change the number of positions to be filled\n",
    "    I          = 0          #number of iterations  \n",
    "    while count != 0:\n",
    "        for j in range(i,n):\n",
    "            if I % 2 == 0:\n",
    "                Nums[x][y] = count\n",
    "                if Horizontal:\n",
    "                    y += 1\n",
    "                else:\n",
    "                    y -= 1\n",
    "            else:\n",
    "                Nums[x][y] = count\n",
    "                if Vertical:\n",
    "                    x += 1\n",
    "                else:\n",
    "                    x -= 1\n",
    "\n",
    "            count -= 1\n",
    "\n",
    "        if (I % 2 == 0) & (Horizontal):\n",
    "            Horizontal = not Horizontal\n",
    "            x += 1\n",
    "            y -= 1\n",
    "        elif (I % 2 == 0) & (not Horizontal):\n",
    "            Horizontal = not Horizontal\n",
    "            x -= 1\n",
    "            y += 1\n",
    "        elif (I % 2 != 0) & (Vertical):\n",
    "            Vertical   = not Vertical\n",
    "            y -= 1\n",
    "            x -= 1\n",
    "        else:\n",
    "            Vertical   = not Vertical\n",
    "            y += 1\n",
    "            x += 1\n",
    "\n",
    "        if (i == 0) & (J == 0) :\n",
    "            i += 1\n",
    "        elif J == 2:\n",
    "            J = 0\n",
    "            i +=1\n",
    "\n",
    "        J += 1\n",
    "        I += 1\n",
    "    \n",
    "    cach = [Nums,Horizontal,Vertical,count]\n",
    "    return(Nums)"
   ]
  },
  {
   "cell_type": "code",
   "execution_count": 2,
   "metadata": {},
   "outputs": [],
   "source": [
    "from math import sqrt \n",
    "\n",
    "def is_prime(Num):\n",
    "    if Num <= 1 :\n",
    "        return False\n",
    "    else:\n",
    "        for i in range(2,int(sqrt(Num))+1):\n",
    "            if Num % i == 0 :\n",
    "                return False\n",
    "    return True"
   ]
  },
  {
   "cell_type": "code",
   "execution_count": null,
   "metadata": {},
   "outputs": [],
   "source": [
    "def get_diagonals(matrix):\n",
    "    n = len(matrix)\n",
    "    Num_diag = []\n",
    "    for i in range(n):\n",
    "        Num_diag.append(matrix[i][i])\n",
    "        Num_diag.append(matrix[i][n-i-1])\n",
    "    return(Num_diag)"
   ]
  },
  {
   "cell_type": "code",
   "execution_count": null,
   "metadata": {},
   "outputs": [],
   "source": [
    "from time import time\n",
    "start = time()\n",
    "\n",
    "for i in range(1001,10001,2):\n",
    "    Matrix     = gen_spiral(i)\n",
    "    Nums       = get_diagonals(Matrix)\n",
    "    prime_N    = list(filter(is_prime,Nums)) \n",
    "    percentage = (len(prime_N)/(len(Nums)-1))*100\n",
    "    if percentage < 10:\n",
    "        print(i)\n",
    "\n",
    "end = time()\n",
    "print(\"========================================\")\n",
    "print(\"time taken is : \" + str(end-start) + \" s\")\n",
    "print(\"========================================\")"
   ]
  },
  {
   "cell_type": "markdown",
   "metadata": {},
   "source": [
    "# Version 2"
   ]
  },
  {
   "cell_type": "code",
   "execution_count": 1,
   "metadata": {},
   "outputs": [],
   "source": [
    "def get_diag_V2(n,In_1,In_2):\n",
    "    New = [n**2-i*(n-1) for i in range(4)]\n",
    "    return(In_1+New , In_2+list(filter(is_prime,New)))"
   ]
  },
  {
   "cell_type": "code",
   "execution_count": null,
   "metadata": {},
   "outputs": [],
   "source": [
    "#not used\n",
    "from math import sqrt\n",
    "def is_prime_V2(Num):\n",
    "    if   Num == 1     :return False\n",
    "    elif Num <  4     :return True\n",
    "    elif Num %  2 == 0:return False\n",
    "    elif Num <  9     :return True\n",
    "    elif Num %  3 == 0:return False\n",
    "    else:\n",
    "        r = round(sqrt(Num))\n",
    "        f = 5\n",
    "        while f <= r :\n",
    "            if   (Num % f == 0)  or (Num % (f+2) == 0):return False\n",
    "            f += 6\n",
    "        return True"
   ]
  },
  {
   "cell_type": "code",
   "execution_count": 10,
   "metadata": {},
   "outputs": [
    {
     "name": "stdout",
     "output_type": "stream",
     "text": [
      "26241\n",
      "========================================\n",
      "time taken is : 59.15609264373779 s\n",
      "========================================\n"
     ]
    }
   ],
   "source": [
    "from time import time\n",
    "start = time()\n",
    "\n",
    "Nums    = [1]\n",
    "prime_N = []\n",
    "for n in range(3,100001,2):\n",
    "    Nums,prime_N= get_diag_V2(n,Nums,prime_N) \n",
    "    percentage = (len(prime_N)/len(Nums))*100\n",
    "    if percentage < 10:\n",
    "        print(n)\n",
    "        break\n",
    "        \n",
    "end = time()\n",
    "print(\"========================================\")\n",
    "print(\"time taken is : \" + str(end-start) + \" s\")\n",
    "print(\"========================================\")"
   ]
  }
 ],
 "metadata": {
  "kernelspec": {
   "display_name": "Python 3",
   "language": "python",
   "name": "python3"
  },
  "language_info": {
   "codemirror_mode": {
    "name": "ipython",
    "version": 3
   },
   "file_extension": ".py",
   "mimetype": "text/x-python",
   "name": "python",
   "nbconvert_exporter": "python",
   "pygments_lexer": "ipython3",
   "version": "3.6.9"
  }
 },
 "nbformat": 4,
 "nbformat_minor": 2
}
