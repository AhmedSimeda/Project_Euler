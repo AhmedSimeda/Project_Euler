{
 "cells": [
  {
   "cell_type": "markdown",
   "metadata": {},
   "source": [
    "# First approach"
   ]
  },
  {
   "cell_type": "code",
   "execution_count": 1,
   "metadata": {},
   "outputs": [],
   "source": [
    "def is_pos_integer(number):\n",
    "    if (int(number) == number) and (number > 0):\n",
    "        return True\n",
    "    return False"
   ]
  },
  {
   "cell_type": "code",
   "execution_count": 2,
   "metadata": {},
   "outputs": [],
   "source": [
    "from math import sqrt"
   ]
  },
  {
   "cell_type": "code",
   "execution_count": 3,
   "metadata": {},
   "outputs": [],
   "source": [
    "def solve(c):\n",
    "    #Equ : x**2 - x - c = 0\n",
    "    d = 1 + 4*c\n",
    "    if d >= 0:  #real roots \n",
    "        r1 = (1 + sqrt(d))/2\n",
    "        r2 = (1 - sqrt(d))/2\n",
    "        return [r1,r2]\n",
    "    return []"
   ]
  },
  {
   "cell_type": "code",
   "execution_count": 4,
   "metadata": {},
   "outputs": [],
   "source": [
    "def check(blues,c):\n",
    "    if blues*(blues-1) == c:\n",
    "        return True\n",
    "    return False"
   ]
  },
  {
   "cell_type": "code",
   "execution_count": 5,
   "metadata": {},
   "outputs": [],
   "source": [
    "def get_sol(total):\n",
    "    while total < 2000000:\n",
    "        c = total*(total-1)//2\n",
    "        roots = solve(c)\n",
    "        roots = list(filter(is_pos_integer,roots))\n",
    "        if len(roots) == 1:\n",
    "            blues = int(roots[0])\n",
    "            if check(blues,c) and (blues%2 != 0):\n",
    "                print('----------------------')\n",
    "                print('number of disks:',total)\n",
    "                print('number of blues:',blues)\n",
    "                #break\n",
    "        #if total%10000000000 == 0:\n",
    "           # print(total)\n",
    "        total += 1"
   ]
  },
  {
   "cell_type": "code",
   "execution_count": 6,
   "metadata": {},
   "outputs": [
    {
     "name": "stdout",
     "output_type": "stream",
     "text": [
      "----------------------\n",
      "number of disks: 4\n",
      "number of blues: 3\n",
      "----------------------\n",
      "number of disks: 21\n",
      "number of blues: 15\n",
      "----------------------\n",
      "number of disks: 120\n",
      "number of blues: 85\n",
      "----------------------\n",
      "number of disks: 697\n",
      "number of blues: 493\n",
      "----------------------\n",
      "number of disks: 4060\n",
      "number of blues: 2871\n",
      "----------------------\n",
      "number of disks: 23661\n",
      "number of blues: 16731\n",
      "----------------------\n",
      "number of disks: 137904\n",
      "number of blues: 97513\n",
      "----------------------\n",
      "number of disks: 803761\n",
      "number of blues: 568345\n",
      "Wall time: 14 s\n"
     ]
    }
   ],
   "source": [
    "%time get_sol(2)"
   ]
  },
  {
   "cell_type": "markdown",
   "metadata": {},
   "source": [
    "### Notes:\n",
    "- number of disks is even and odd interchangeably(so i will try to find the type of the total before 10^12)\n",
    "- number of blues is always odd"
   ]
  },
  {
   "cell_type": "markdown",
   "metadata": {},
   "source": [
    "# Final Approach\n",
    ">**(with the help of the idea from mathblog to use `diophantine equation`)+see my notebook for more illustration**\n",
    " - http://www.alpertron.com.ar/QUAD.HTM"
   ]
  },
  {
   "cell_type": "code",
   "execution_count": 36,
   "metadata": {},
   "outputs": [],
   "source": [
    "def get_sol(limit):\n",
    "    #b:blues,t:total\n",
    "    b = 3\n",
    "    t = 4\n",
    "    while t < limit:\n",
    "        b,t = 3*b+2*t-2,4*b+3*t-3\n",
    "\n",
    "    print(b,t)"
   ]
  },
  {
   "cell_type": "code",
   "execution_count": 37,
   "metadata": {},
   "outputs": [
    {
     "name": "stdout",
     "output_type": "stream",
     "text": [
      "756872327473 1070379110497\n",
      "Wall time: 0 ns\n"
     ]
    }
   ],
   "source": [
    "%time get_sol(10**12)"
   ]
  },
  {
   "cell_type": "code",
   "execution_count": null,
   "metadata": {},
   "outputs": [],
   "source": []
  }
 ],
 "metadata": {
  "kernelspec": {
   "display_name": "Python 3",
   "language": "python",
   "name": "python3"
  },
  "language_info": {
   "codemirror_mode": {
    "name": "ipython",
    "version": 3
   },
   "file_extension": ".py",
   "mimetype": "text/x-python",
   "name": "python",
   "nbconvert_exporter": "python",
   "pygments_lexer": "ipython3",
   "version": "3.8.5"
  }
 },
 "nbformat": 4,
 "nbformat_minor": 4
}
