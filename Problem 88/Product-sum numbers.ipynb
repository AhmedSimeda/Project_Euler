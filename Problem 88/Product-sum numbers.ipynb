{
 "cells": [
  {
   "cell_type": "markdown",
   "metadata": {},
   "source": [
    "## Let's build a whole new counting system"
   ]
  },
  {
   "cell_type": "code",
   "execution_count": null,
   "metadata": {},
   "outputs": [],
   "source": [
    "from functools import reduce\n",
    "import operator"
   ]
  },
  {
   "cell_type": "code",
   "execution_count": null,
   "metadata": {},
   "outputs": [],
   "source": [
    "def next_coll(curr_coll,upper_bound,position):\n",
    "    if curr_coll.count(str(upper_bound))+curr_coll.count(curr_coll[position]) == len(curr_coll):\n",
    "        p = curr_coll.count(curr_coll[position])\n",
    "        curr_coll = curr_coll[:-p] + str(int(curr_coll[-p])+1) + curr_coll[-p+1 :]\n",
    "    else:\n",
    "        curr_coll = curr_coll[:position] + str(int(curr_coll[position])+1) + curr_coll[position+1 :]\n",
    "    return curr_coll"
   ]
  },
  {
   "cell_type": "code",
   "execution_count": null,
   "metadata": {},
   "outputs": [],
   "source": [
    "def my_countng_system(n):\n",
    "    Product,Sum = 1,0\n",
    "    upper_bound = 2\n",
    "    while Product != Sum:\n",
    "        curr_coll = str(upper_bound) + '1'*(n-1)          #current collection\n",
    "        position = n-1\n",
    "        while curr_coll != str(upper_bound)*n:\n",
    "            print(curr_coll)\n",
    "            curr_coll = next_coll(curr_coll,upper_bound,position)\n",
    "            if position-1 == curr_coll.count(str(upper_bound))-1:\n",
    "                position  = n-1\n",
    "            else:\n",
    "                position -= 1\n",
    "        upper_bound += 1\n",
    "        if upper_bound == 9:\n",
    "            break"
   ]
  },
  {
   "cell_type": "markdown",
   "metadata": {},
   "source": [
    "## Another approach"
   ]
  },
  {
   "cell_type": "markdown",
   "metadata": {},
   "source": [
    "I managed to come to these all these insights from MATH BLOG website except for that insight about 2*k thing :\n",
    "\n",
    "**Mathematical insights into the problem**\n",
    "\n",
    "The first insight we should get is that if we have a set of factors say {2,3,4} we get that 234 = 24 and 2+3+4 = 9. Something that isn’t exactly a product-sum like we are looking for. However, we can add ones which doesn’t change the product but change the sum. Indeed if we add 24-9 = 15 ones we will get a product sum with 18 factors. In other words any set of factors can be converted into a product-sum for k = “product of factor” – “sum of factors” + “number of factors”. Whether this is minimal or not is another question which we wont answer just yet.\n",
    "\n",
    "The second insight we might get is that the minimal product-sum for k is larger than or equal to k since the minimal product-sum consist of k ones which sums to k. The upper limit for the minimal product sum for k is 2k. The reason is that we can always use the factors {2,k} this gives us the product 2k and the sum 2+k. By adding k-2 ones we end up with a valid product sum for k which equals 2k. In other words the minimal product-sum (mps) for k is k≤mps(k)≤2k."
   ]
  },
  {
   "cell_type": "code",
   "execution_count": 4,
   "metadata": {},
   "outputs": [],
   "source": [
    "from itertools import combinations_with_replacement,product\n",
    "from functools import reduce\n",
    "import numpy as np\n",
    "import operator"
   ]
  },
  {
   "cell_type": "code",
   "execution_count": 5,
   "metadata": {},
   "outputs": [],
   "source": [
    "def factorize(Num):\n",
    "    Factors = []\n",
    "    factor  = 2\n",
    "    while Num > 1:\n",
    "        n = 0\n",
    "        if Num % factor == 0:\n",
    "            while Num % factor == 0:\n",
    "                Num = Num // factor\n",
    "                n += 1\n",
    "            Factors.append((factor,n))\n",
    "        factor += 1\n",
    "    return Factors"
   ]
  },
  {
   "cell_type": "code",
   "execution_count": 6,
   "metadata": {},
   "outputs": [],
   "source": [
    "def comp_comb(factor,power):\n",
    "    return list(map(lambda x:list(factor**np.array(x)),filter(lambda c:sum(c) == power,combinations_with_replacement([i for i in range(power+1)],power))))"
   ]
  },
  {
   "cell_type": "code",
   "execution_count": 11,
   "metadata": {},
   "outputs": [],
   "source": [
    "def combine_factors(prime_factors):\n",
    "    seperate_comb = []\n",
    "    for factor,power in prime_factors:    \n",
    "        seperate_comb.append(comp_comb(factor,power))\n",
    "    \n",
    "    comb = seperate_comb[0]\n",
    "    for i in range(1,len(seperate_comb)):\n",
    "        comb = list(product(comb,seperate_comb[i]))\n",
    "        for c in range(len(comb)):                     #to edit [[1,4],[3]] ---> [1,4,3]\n",
    "            comb[c] = reduce(operator.add,comb[c])\n",
    "    \n",
    "    return sorted(comb,key=lambda x:sum(x))"
   ]
  },
  {
   "cell_type": "code",
   "execution_count": 10,
   "metadata": {},
   "outputs": [],
   "source": [
    "def get_sol(start,end):\n",
    "    minimal_prosu = []\n",
    "    for k in range(start,end+1):\n",
    "        Product,Sum = -1,1\n",
    "        num = k\n",
    "        while Sum != Product:\n",
    "            num += 1  \n",
    "            sol = combine_factors(factorize(num))\n",
    "            for s in sol:\n",
    "                Product = reduce(operator.mul,s)\n",
    "                Sum     = sum(s+[1]*(k-len(s)))\n",
    "                if Sum == Product:  \n",
    "                    minimal_prosu.append(Product)\n",
    "                    break\n",
    "            \n",
    "            if num == 2*k:\n",
    "                break\n",
    "    print(\"for \" + str(start) + \" <= k <= \" + str(end) + \" the sum is \" + str(sum(set(minimal_prosu))) )\n",
    "    return minimal_prosu"
   ]
  },
  {
   "cell_type": "code",
   "execution_count": 12,
   "metadata": {},
   "outputs": [
    {
     "name": "stdout",
     "output_type": "stream",
     "text": [
      "for 2 <= k <= 12 the sum is 61\n",
      "Wall time: 4 ms\n"
     ]
    },
    {
     "data": {
      "text/plain": [
       "[4, 6, 8, 8, 12, 12, 15, 16, 16, 16]"
      ]
     },
     "execution_count": 12,
     "metadata": {},
     "output_type": "execute_result"
    }
   ],
   "source": [
    "%time get_sol(2,12)"
   ]
  }
 ],
 "metadata": {
  "kernelspec": {
   "display_name": "Python 3",
   "language": "python",
   "name": "python3"
  },
  "language_info": {
   "codemirror_mode": {
    "name": "ipython",
    "version": 3
   },
   "file_extension": ".py",
   "mimetype": "text/x-python",
   "name": "python",
   "nbconvert_exporter": "python",
   "pygments_lexer": "ipython3",
   "version": "3.6.9"
  }
 },
 "nbformat": 4,
 "nbformat_minor": 2
}
