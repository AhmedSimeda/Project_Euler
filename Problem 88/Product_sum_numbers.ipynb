{
  "nbformat": 4,
  "nbformat_minor": 0,
  "metadata": {
    "kernelspec": {
      "display_name": "Python 3",
      "language": "python",
      "name": "python3"
    },
    "language_info": {
      "codemirror_mode": {
        "name": "ipython",
        "version": 3
      },
      "file_extension": ".py",
      "mimetype": "text/x-python",
      "name": "python",
      "nbconvert_exporter": "python",
      "pygments_lexer": "ipython3",
      "version": "3.6.9"
    },
    "colab": {
      "name": "Product-sum numbers.ipynb",
      "provenance": [],
      "collapsed_sections": []
    }
  },
  "cells": [
    {
      "cell_type": "markdown",
      "metadata": {
        "id": "rzzibpIkAqY4",
        "colab_type": "text"
      },
      "source": [
        "## Let's build a whole new counting system"
      ]
    },
    {
      "cell_type": "code",
      "metadata": {
        "id": "Qpl8d1GhAqZM",
        "colab_type": "code",
        "colab": {}
      },
      "source": [
        "def next_coll(curr_coll,upper_bound,position):\n",
        "  if (curr_coll.count(str(upper_bound))+curr_coll.count(curr_coll[-1]) == len(curr_coll)) and (curr_coll[-1] != '1') and (int(curr_coll[-1]) != upper_bound): # to test the cases like : '33222', '99994444'\n",
        "    #print(curr_coll,'--->',position,'if')\n",
        "    p = curr_coll.count(str(upper_bound))\n",
        "    curr_coll = curr_coll[:p] + str(int(curr_coll[p])+1) + '1'*(curr_coll.count(curr_coll[-1])-1)\n",
        "    #print('>',curr_coll)\n",
        "    position  = len(curr_coll)-1\n",
        "  else:\n",
        "    if (position != len(curr_coll)-1):\n",
        "      if (int(curr_coll[position]) != upper_bound) and (int(curr_coll[position]) > int(curr_coll[position+1])): #to test cases like : '43222','4432222'\n",
        "        #print(curr_coll,'--->',position,'elif')\n",
        "        curr_coll = curr_coll[:position+1] + str(int(curr_coll[position+1])+1) + '1'*(len(curr_coll)-position-2)\n",
        "        #print('>',curr_coll)\n",
        "        position  = len(curr_coll)-1\n",
        "        return position,curr_coll\n",
        "    #Noraml Cases\n",
        "    #print(curr_coll,'--->',position,'else')\n",
        "    curr_coll = curr_coll[:position] + str(int(curr_coll[position])+1) + curr_coll[position+1 :]\n",
        "    #print('>',curr_coll)\n",
        "    if (len(set(curr_coll[:position])) == 1) and (upper_bound != 1):\n",
        "      position  = len(curr_coll)-1\n",
        "    else:\n",
        "      position -= 1\n",
        "\n",
        "  return position,curr_coll"
      ],
      "execution_count": null,
      "outputs": []
    },
    {
      "cell_type": "code",
      "metadata": {
        "id": "pLjHBlGiAqY-",
        "colab_type": "code",
        "colab": {}
      },
      "source": [
        "from functools import reduce\n",
        "import operator"
      ],
      "execution_count": null,
      "outputs": []
    },
    {
      "cell_type": "code",
      "metadata": {
        "id": "1qmB5dVtAqZW",
        "colab_type": "code",
        "colab": {}
      },
      "source": [
        "def my_countng_system(n):\n",
        "  Product,Sum = 1,0\n",
        "  upper_bound = 1\n",
        "  while True:\n",
        "    curr_coll = str(upper_bound) + '1'*(n-1)          #current collection\n",
        "    position = n-1\n",
        "    #print('============================')\n",
        "    while curr_coll != str(upper_bound)*n:\n",
        "      position,curr_coll = next_coll(curr_coll,upper_bound,position)\n",
        "      Product = reduce(operator.mul,[int(i) for i in curr_coll])\n",
        "      Sum     = sum([int(i) for i in curr_coll])\n",
        "      if Sum == Product:\n",
        "        return curr_coll,Sum\n",
        "    upper_bound += 1"
      ],
      "execution_count": null,
      "outputs": []
    },
    {
      "cell_type": "code",
      "metadata": {
        "id": "ALL8z5VUAqZg",
        "colab_type": "code",
        "colab": {}
      },
      "source": [
        "def get_sum(limit):\n",
        "  Sum  = 0\n",
        "  mpsn = []\n",
        "  for n in range(2,limit+1):\n",
        "    _,s = my_countng_system(n)\n",
        "    if not s in mpsn:\n",
        "      Sum += s\n",
        "      mpsn.append(s)\n",
        "    if n%1000 == 0:\n",
        "      print(n)\n",
        "      print('------------')\n",
        "  return Sum"
      ],
      "execution_count": null,
      "outputs": []
    },
    {
      "cell_type": "code",
      "metadata": {
        "id": "MAl9s8iEhLML",
        "colab_type": "code",
        "colab": {}
      },
      "source": [
        "%time get_sum(12000)"
      ],
      "execution_count": null,
      "outputs": []
    },
    {
      "cell_type": "markdown",
      "metadata": {
        "id": "zKK2uhvO0iAY",
        "colab_type": "text"
      },
      "source": [
        "##**Anothe Beautiful Approach**"
      ]
    },
    {
      "cell_type": "code",
      "metadata": {
        "id": "-Ors-phk0r1-",
        "colab_type": "code",
        "colab": {}
      },
      "source": [
        "from itertools import combinations_with_replacement,product\n",
        "from functools import reduce\n",
        "import numpy as np\n",
        "import operator"
      ],
      "execution_count": null,
      "outputs": []
    },
    {
      "cell_type": "code",
      "metadata": {
        "id": "pO85yGtW0vnj",
        "colab_type": "code",
        "colab": {}
      },
      "source": [
        "def factorize(number):\n",
        "  Factors = []\n",
        "  factor  = 2\n",
        "  num = number\n",
        "  while num > 1:\n",
        "    n = 1\n",
        "    if num % factor == 0:\n",
        "      while num % factor == 0:\n",
        "        Factors.append([number//(factor*n)]+[factor]*n)\n",
        "        num = num // factor\n",
        "        n += 1\n",
        "    factor += 1\n",
        "  return Factors"
      ],
      "execution_count": null,
      "outputs": []
    },
    {
      "cell_type": "code",
      "metadata": {
        "id": "FPmHkF3aixxU",
        "colab_type": "code",
        "colab": {
          "base_uri": "https://localhost:8080/",
          "height": 34
        },
        "outputId": "1e4bfecb-364c-4943-d55a-ff99216ef04f"
      },
      "source": [
        "factorize(12000)"
      ],
      "execution_count": null,
      "outputs": [
        {
          "output_type": "execute_result",
          "data": {
            "text/plain": [
              "[[6, 2], [3, 2, 2], [4, 3]]"
            ]
          },
          "metadata": {
            "tags": []
          },
          "execution_count": 39
        }
      ]
    },
    {
      "cell_type": "code",
      "metadata": {
        "id": "wuJeJR4P0xJc",
        "colab_type": "code",
        "colab": {}
      },
      "source": [
        "def comp_comb(factor,power):\n",
        "    return list(map(lambda x:list(factor**np.array(x)),filter(lambda c:sum(c) == power,combinations_with_replacement([i for i in range(power+1)],power))))"
      ],
      "execution_count": null,
      "outputs": []
    },
    {
      "cell_type": "code",
      "metadata": {
        "id": "sPb1Y7AD0yjc",
        "colab_type": "code",
        "colab": {}
      },
      "source": [
        "def combine_factors(prime_factors):\n",
        "    seperate_comb = []\n",
        "    for factor,power in prime_factors:    \n",
        "        seperate_comb.append(comp_comb(factor,power))\n",
        "    \n",
        "    comb = seperate_comb[0]\n",
        "    for i in range(1,len(seperate_comb)):\n",
        "        comb = list(product(comb,seperate_comb[i]))\n",
        "        for c in range(len(comb)):                     #to edit [[1,4],[3]] ---> [1,4,3]\n",
        "            comb[c] = reduce(operator.add,comb[c])\n",
        "    \n",
        "    return sorted(comb,key=lambda x:sum(x))"
      ],
      "execution_count": null,
      "outputs": []
    },
    {
      "cell_type": "code",
      "metadata": {
        "id": "VY4sINmh00Ji",
        "colab_type": "code",
        "colab": {
          "base_uri": "https://localhost:8080/",
          "height": 54
        },
        "outputId": "b456f87a-ead8-4e37-95b6-cd8b56084ab1"
      },
      "source": [
        "start = 2\n",
        "end   = 25\n",
        "minimal_prosu = []\n",
        "for k in range(start,end+1):\n",
        "  Product,Sum = -1,1\n",
        "  num = k\n",
        "  while Sum != Product:\n",
        "    num += 1  \n",
        "    sol = combine_factors(factorize(num))\n",
        "    for s in sol:\n",
        "      Product = reduce(operator.mul,s)\n",
        "      Sum     = sum(s+[1]*(k-len(s)))\n",
        "      if Sum == Product:  \n",
        "        minimal_prosu.append((k,Product))\n",
        "        break\n",
        "            \n",
        "    if num == 2*k:\n",
        "      break\n",
        "          \n",
        "  if k%1000 == 0:\n",
        "    print('at k =',k,\"the sum is equal to\",sum(set(minimal_prosu)))\n",
        "\n",
        "#print(\"for \" + str(start) + \" <= k <= \" + str(end) + \" the sum is \" + str(sum(set(minimal_prosu))) )\n",
        "print(minimal_prosu)"
      ],
      "execution_count": null,
      "outputs": [
        {
          "output_type": "stream",
          "text": [
            "[(2, 4), (3, 6), (4, 8), (5, 8), (7, 12), (8, 12), (9, 15), (10, 16), (11, 16), (12, 16), (13, 18), (14, 20), (15, 24), (16, 32), (17, 25), (18, 24), (19, 24), (20, 28), (21, 27), (22, 32), (23, 30), (25, 32)]\n"
          ],
          "name": "stdout"
        }
      ]
    },
    {
      "cell_type": "code",
      "metadata": {
        "id": "J5UZn5DcV9Hy",
        "colab_type": "code",
        "colab": {
          "base_uri": "https://localhost:8080/",
          "height": 119
        },
        "outputId": "3c3b5841-6297-41a8-f4bb-2689a2d1ac83"
      },
      "source": [
        "Product,Sum = -1,1\n",
        "k   = 6\n",
        "num = k\n",
        "while Sum != Product:\n",
        "  num += 1  \n",
        "  sol = combine_factors(factorize(num))\n",
        "  print(num)\n",
        "  for s in sol:\n",
        "    Product = reduce(operator.mul,s)\n",
        "    Sum     = sum(s+[1]*(k-len(s)))\n",
        "    if Sum == Product:  \n",
        "      print(Product)\n",
        "      break\n",
        "  if num == 2*k:\n",
        "      break"
      ],
      "execution_count": null,
      "outputs": [
        {
          "output_type": "stream",
          "text": [
            "7\n",
            "8\n",
            "9\n",
            "10\n",
            "11\n",
            "12\n"
          ],
          "name": "stdout"
        }
      ]
    },
    {
      "cell_type": "code",
      "metadata": {
        "id": "vyGNN-ZLgycF",
        "colab_type": "code",
        "colab": {
          "base_uri": "https://localhost:8080/",
          "height": 34
        },
        "outputId": "766ee46a-b4af-45dc-ac34-abbc680dbc45"
      },
      "source": [
        "combine_factors(factorize(12))"
      ],
      "execution_count": null,
      "outputs": [
        {
          "output_type": "execute_result",
          "data": {
            "text/plain": [
              "[[2, 2, 3], [1, 4, 3]]"
            ]
          },
          "metadata": {
            "tags": []
          },
          "execution_count": 21
        }
      ]
    },
    {
      "cell_type": "code",
      "metadata": {
        "id": "7CIHfwyogiQf",
        "colab_type": "code",
        "colab": {
          "base_uri": "https://localhost:8080/",
          "height": 34
        },
        "outputId": "9723c16d-93ec-44ea-beba-34db281f4a80"
      },
      "source": [
        "seperate_comb = []\n",
        "prime_factors = factorize(12)\n",
        "for factor,power in prime_factors:    \n",
        "  seperate_comb.append(comp_comb(factor,power))\n",
        "seperate_comb"
      ],
      "execution_count": null,
      "outputs": [
        {
          "output_type": "execute_result",
          "data": {
            "text/plain": [
              "[[[1, 4], [2, 2]], [[3]]]"
            ]
          },
          "metadata": {
            "tags": []
          },
          "execution_count": 22
        }
      ]
    },
    {
      "cell_type": "markdown",
      "metadata": {
        "id": "0NjhVPUDU1VQ",
        "colab_type": "text"
      },
      "source": [
        "**solution**"
      ]
    },
    {
      "cell_type": "code",
      "metadata": {
        "id": "BbyDy88tW1KW",
        "colab_type": "code",
        "colab": {}
      },
      "source": [
        "import numpy as np\n",
        "\n",
        "def findallprimes(maxnum):\n",
        "    \n",
        "    ori = np.arange(1, maxnum+1)\n",
        "    Bool = np.ones(maxnum, dtype = bool)\n",
        "    Bool[0] = 0\n",
        "    maxiter = int(np.sqrt(maxnum))\n",
        "    for i in range(2, maxiter+1):\n",
        "        if Bool[i-1]:\n",
        "            # Sieve of Eratosthenes\n",
        "            Bool[np.arange(2*i-1, maxnum, i)] = False\n",
        "    \n",
        "    return ori[Bool]\n",
        "\n",
        "def factorize_2(num, primes, cache):\n",
        "    \n",
        "    if num in primes:\n",
        "        cache[num] = {(num,)}\n",
        "        return cache[num]\n",
        "    ways = cache.get(num, set())\n",
        "    if len(ways):\n",
        "        return ways\n",
        "    for i in range(2, int(np.sqrt(num))+1):\n",
        "        q, r = divmod(num, i)\n",
        "        if r == 0:\n",
        "            part1 = factorize_2(i, primes, cache)\n",
        "            part2 = factorize_2(q, primes, cache)\n",
        "            for p1 in part1:\n",
        "                for p2 in part2:\n",
        "                    tmp = list(p1+p2)\n",
        "                    tmp.sort()\n",
        "                    ways.add(tuple(tmp))\n",
        "    ways.add((num,))\n",
        "    cache[num] = ways\n",
        "    return ways\n",
        "\n",
        "def worker(maxk):\n",
        "    \n",
        "    primes = set(findallprimes(2*maxk))\n",
        "    cache = {}\n",
        "    pairs = {}\n",
        "    for num in range(4, 2*maxk+1):\n",
        "        ways = factorize_2(num, primes, cache)\n",
        "        for w in ways:\n",
        "            if len(w) > 1:\n",
        "                k = num - sum(w) + len(w)\n",
        "                if k <= maxk:\n",
        "                    pairs.setdefault(k, num)\n",
        "    res = sum(set(pairs.values()))\n",
        "    \n",
        "    return res, pairs"
      ],
      "execution_count": null,
      "outputs": []
    },
    {
      "cell_type": "code",
      "metadata": {
        "id": "CDaXEF8pdnVL",
        "colab_type": "code",
        "colab": {
          "base_uri": "https://localhost:8080/",
          "height": 442
        },
        "outputId": "d14b4c7e-3fb9-4439-faa3-14f9434034a2"
      },
      "source": [
        "worker(25)"
      ],
      "execution_count": null,
      "outputs": [
        {
          "output_type": "execute_result",
          "data": {
            "text/plain": [
              "(288,\n",
              " {2: 4,\n",
              "  3: 6,\n",
              "  4: 8,\n",
              "  5: 8,\n",
              "  6: 12,\n",
              "  7: 12,\n",
              "  8: 12,\n",
              "  9: 15,\n",
              "  10: 16,\n",
              "  11: 16,\n",
              "  12: 16,\n",
              "  13: 18,\n",
              "  14: 20,\n",
              "  15: 24,\n",
              "  16: 24,\n",
              "  17: 24,\n",
              "  18: 24,\n",
              "  19: 24,\n",
              "  20: 28,\n",
              "  21: 27,\n",
              "  22: 32,\n",
              "  23: 30,\n",
              "  24: 48,\n",
              "  25: 32})"
            ]
          },
          "metadata": {
            "tags": []
          },
          "execution_count": 9
        }
      ]
    },
    {
      "cell_type": "markdown",
      "metadata": {
        "id": "rLMCgsQGl5KH",
        "colab_type": "text"
      },
      "source": [
        "**My Approach**"
      ]
    },
    {
      "cell_type": "code",
      "metadata": {
        "id": "_NTT1dkfl4IQ",
        "colab_type": "code",
        "colab": {}
      },
      "source": [
        "from itertools import combinations_with_replacement,product,combinations\n",
        "from functools import reduce\n",
        "import numpy as np\n",
        "import operator"
      ],
      "execution_count": null,
      "outputs": []
    },
    {
      "cell_type": "code",
      "metadata": {
        "id": "xi0m4UvxmDsX",
        "colab_type": "code",
        "colab": {}
      },
      "source": [
        "def factorize(number):\n",
        "  Factors = []\n",
        "  factor  = 2\n",
        "  while number > 1:\n",
        "    n = 0\n",
        "    if number % factor == 0:\n",
        "      while number % factor == 0:\n",
        "        number = number // factor\n",
        "        n += 1\n",
        "      Factors.append((factor,n)) \n",
        "    factor += 1\n",
        "  return Factors"
      ],
      "execution_count": null,
      "outputs": []
    },
    {
      "cell_type": "code",
      "metadata": {
        "id": "FdEEHvnp3_JN",
        "colab_type": "code",
        "colab": {}
      },
      "source": [
        "def comp_comb(factor,power):\n",
        "    comb_1 = list(map(lambda x:list(factor**np.array(x)),filter(lambda c:sum(c) == power,combinations_with_replacement([i for i in range(power+1)],power))))\n",
        "    "
      ],
      "execution_count": null,
      "outputs": []
    },
    {
      "cell_type": "code",
      "metadata": {
        "id": "0QQx6RA03Jy8",
        "colab_type": "code",
        "colab": {}
      },
      "source": [
        "def combine_factors(number):\n",
        "  prime_factors = factorize(number)\n",
        "  seperate_comb = []\n",
        "  for factor,power in prime_factors:    \n",
        "    seperate_comb.append(comp_comb(factor,power))\n",
        "    \n",
        "  comb = seperate_comb[0]\n",
        "  for i in range(1,len(seperate_comb)):\n",
        "    comb = list(product(comb,seperate_comb[i]))\n",
        "    for c in range(len(comb)):                     #to edit [[1,4],[3]] ---> [1,4,3]\n",
        "      comb[c] = reduce(operator.add,comb[c])\n",
        "  \n",
        "  for c in comb:\n",
        "    for i in range(2,len(c)):\n",
        "      for stride in range(1,(len(c)//i)+1):\n",
        "        for j in range((len(c)-i+1)//stride):\n",
        "          fact = sorted(c[:j]+[reduce(operator.mul,c[j:i+j])]+c[i+j:])\n",
        "          if not fact in comb:comb.append(fact)\n",
        "  \n",
        "  comb = sorted(comb,key=lambda x:sum(x))\n",
        "\n",
        "  for i in range(2,len(comb[0])):\n",
        "    C = combinations(comb[0],i)\n",
        "    for c in C:\n",
        "      fact = sorted([number//reduce(operator.mul,c)]+[reduce(operator.mul,c)])\n",
        "      if not fact in comb:comb.append(fact)\n",
        "      temp = [i for i in comb[0]]\n",
        "      for j in c:\n",
        "        temp.remove(j)\n",
        "      fact = sorted([reduce(operator.mul,c)]+temp)\n",
        "      if not fact in comb:comb.append(fact)\n",
        "  \n",
        "  #for factor,power in prime_factors:    \n",
        "  #  for n in range(power+1):\n",
        "     # fact = sorted([number//(factor**n)]+[factor**(n)])\n",
        "     # if not fact in comb:comb.append(fact)\n",
        "     # fact = sorted([number//(factor**n)]+[factor]*(n))\n",
        "     # if not fact in comb:comb.append(fact)\n",
        "  return sorted(comb,key=lambda x:sum(x))"
      ],
      "execution_count": null,
      "outputs": []
    },
    {
      "cell_type": "code",
      "metadata": {
        "id": "0lIc6VwDL-jf",
        "colab_type": "code",
        "colab": {
          "base_uri": "https://localhost:8080/",
          "height": 697
        },
        "outputId": "cb124971-db8c-4515-f1ce-57d82bf5ea92"
      },
      "source": [
        "combine_factors(180)"
      ],
      "execution_count": null,
      "outputs": [
        {
          "output_type": "execute_result",
          "data": {
            "text/plain": [
              "[[2, 2, 3, 3, 5],\n",
              " [3, 3, 4, 5],\n",
              " [1, 4, 3, 3, 5],\n",
              " [2, 3, 5, 6],\n",
              " [5, 6, 6],\n",
              " [4, 5, 9],\n",
              " [2, 2, 5, 9],\n",
              " [2, 3, 3, 10],\n",
              " [2, 2, 1, 9, 5],\n",
              " [1, 4, 5, 9],\n",
              " [1, 4, 1, 9, 5],\n",
              " [3, 5, 12],\n",
              " [1, 3, 5, 12],\n",
              " [2, 9, 10],\n",
              " [2, 2, 3, 15],\n",
              " [3, 4, 15],\n",
              " [1, 3, 4, 15],\n",
              " [2, 6, 15],\n",
              " [2, 5, 18],\n",
              " [3, 3, 20],\n",
              " [12, 15],\n",
              " [1, 12, 15],\n",
              " [10, 18],\n",
              " [9, 20],\n",
              " [1, 9, 20],\n",
              " [2, 3, 30],\n",
              " [6, 30],\n",
              " [5, 36],\n",
              " [1, 5, 36],\n",
              " [2, 2, 45],\n",
              " [4, 45],\n",
              " [1, 4, 45],\n",
              " [1, 2, 2, 45],\n",
              " [1, 1, 4, 45],\n",
              " [3, 60],\n",
              " [1, 3, 60],\n",
              " [2, 90],\n",
              " [1, 2, 90],\n",
              " [1, 180],\n",
              " [1, 1, 180]]"
            ]
          },
          "metadata": {
            "tags": []
          },
          "execution_count": 182
        }
      ]
    },
    {
      "cell_type": "code",
      "metadata": {
        "id": "mZ28OFkZtc0k",
        "colab_type": "code",
        "colab": {}
      },
      "source": [
        "from time import time"
      ],
      "execution_count": null,
      "outputs": []
    },
    {
      "cell_type": "code",
      "metadata": {
        "id": "AUsLub35mMRH",
        "colab_type": "code",
        "colab": {
          "base_uri": "https://localhost:8080/",
          "height": 122
        },
        "outputId": "fb7cd3ef-57bf-47d9-fedb-3fc7b7d9a0da"
      },
      "source": [
        "tic = time()\n",
        "\n",
        "start = 2\n",
        "end   = 165\n",
        "minimal_prosu = []\n",
        "for k in range(start,end+1):\n",
        "  Product,Sum = -1,1\n",
        "  num = k\n",
        "  while Sum != Product:\n",
        "    num += 1  \n",
        "    sol = combine_factors(num)\n",
        "    for s in sol:\n",
        "      Product = reduce(operator.mul,s)\n",
        "      Sum     = sum(s+[1]*(k-len(s)))\n",
        "      if Sum == Product:  \n",
        "        minimal_prosu.append(Product)\n",
        "        break\n",
        "            \n",
        "    if num == 2*k:\n",
        "      break\n",
        "          \n",
        "  if k%1000 == 0:\n",
        "    print('at k =',k,\"the sum is equal to\",sum(set(minimal_prosu)))\n",
        "\n",
        "print(\"for \" + str(start) + \" <= k <= \" + str(end) + \" the sum is \" + str(sum(set(minimal_prosu))) )\n",
        "print(minimal_prosu)\n",
        "\n",
        "toc = time()\n",
        "print(\"=============================\")\n",
        "print(\"time taken is \" + str(toc-tic))\n",
        "print(\"=============================\")"
      ],
      "execution_count": null,
      "outputs": [
        {
          "output_type": "stream",
          "text": [
            "for 2 <= k <= 165 the sum is 5282\n",
            "[4, 6, 8, 8, 12, 12, 12, 15, 16, 16, 16, 18, 20, 24, 24, 24, 24, 24, 28, 27, 32, 30, 48, 32, 32, 32, 36, 36, 36, 42, 40, 40, 48, 48, 48, 45, 48, 48, 48, 48, 48, 54, 60, 54, 56, 54, 60, 63, 60, 60, 60, 63, 64, 64, 64, 64, 64, 70, 72, 72, 72, 72, 72, 72, 84, 80, 80, 81, 80, 80, 80, 81, 84, 88, 96, 90, 96, 90, 108, 90, 96, 96, 96, 96, 96, 96, 96, 96, 100, 110, 112, 105, 108, 108, 108, 117, 108, 108, 108, 112, 112, 120, 120, 120, 128, 120, 120, 120, 120, 120, 152, 125, 228, 126, 128, 128, 128, 128, 128, 128, 140, 144, 140, 135, 156, 140, 140, 144, 144, 144, 144, 144, 144, 144, 144, 150, 156, 150, 156, 162, 192, 160, 168, 160, 160, 160, 176, 160, 160, 160, 176, 162, 168, 168, 168, 168, 176, 184, 176, 175, 176, 180, 220, 180]\n",
            "=============================\n",
            "time taken is 0.7456099987030029\n",
            "=============================\n"
          ],
          "name": "stdout"
        }
      ]
    },
    {
      "cell_type": "markdown",
      "metadata": {
        "id": "rnPmge0L_jtp",
        "colab_type": "text"
      },
      "source": [
        "**Final Solution**\n"
      ]
    },
    {
      "cell_type": "code",
      "metadata": {
        "id": "xCWfK1AsFFMh",
        "colab_type": "code",
        "colab": {}
      },
      "source": [
        "from itertools import product\n",
        "from functools import reduce\n",
        "from math import sqrt\n",
        "import operator"
      ],
      "execution_count": 1,
      "outputs": []
    },
    {
      "cell_type": "code",
      "metadata": {
        "id": "s-Skayh5_3n-",
        "colab_type": "code",
        "colab": {}
      },
      "source": [
        "def factorize(num):\n",
        "  factors = set()\n",
        "  for n in range(2,int(sqrt(num))+1):\n",
        "    if num%n == 0:\n",
        "      pair = tuple(sorted((num//n,n)))\n",
        "      #print(pair)\n",
        "      factors.add(pair)\n",
        "      a,b = pair\n",
        "      A = factorize(a)\n",
        "      B = factorize(b)\n",
        "      comb = list(product(list(A),list(B)))\n",
        "      for c in comb:\n",
        "        factors.add(tuple(sorted(reduce(operator.add,c))))\n",
        "  \n",
        "  if len(factors) == 0:\n",
        "    return [(num,)] #to treat it as a tuple\n",
        "  else:\n",
        "    factors.add((num,))\n",
        "    return sorted(factors,key=lambda x:sum(x))"
      ],
      "execution_count": 2,
      "outputs": []
    },
    {
      "cell_type": "code",
      "metadata": {
        "id": "RkMkNoM9_Ydn",
        "colab_type": "code",
        "colab": {}
      },
      "source": [
        "from time import time"
      ],
      "execution_count": 4,
      "outputs": []
    },
    {
      "cell_type": "code",
      "metadata": {
        "id": "WZT2Mde1_yn5",
        "colab_type": "code",
        "colab": {
          "base_uri": "https://localhost:8080/",
          "height": 326
        },
        "outputId": "ac8f1896-77e1-4e4b-d845-78fd2955fc66"
      },
      "source": [
        "tic = time()\n",
        "\n",
        "start = 2\n",
        "end   = 12000\n",
        "minimal_prosu = []\n",
        "for k in range(start,end+1):\n",
        "  Product,Sum = -1,1\n",
        "  num = k\n",
        "  while Sum != Product:\n",
        "    num += 1  \n",
        "    sol = factorize(num)\n",
        "    for s in sol:\n",
        "      Product = reduce(operator.mul,s)\n",
        "      Sum     = sum(list(s)+[1]*(k-len(s)))\n",
        "      if Sum == Product:  \n",
        "        minimal_prosu.append(Product)\n",
        "        break\n",
        "\n",
        "    if num == 2*k:\n",
        "      break\n",
        "          \n",
        "  if k%1000 == 0:\n",
        "    print('at k =',k,\"the sum is equal to\",sum(set(minimal_prosu)))\n",
        "\n",
        "print(\"for \" + str(start) + \" <= k <= \" + str(end) + \" the sum is \" + str(sum(set(minimal_prosu))) )\n",
        "print(minimal_prosu)\n",
        "\n",
        "toc = time()\n",
        "print(\"=============================\")\n",
        "print(\"time taken is \" + str(toc-tic))\n",
        "print(\"=============================\")"
      ],
      "execution_count": 5,
      "outputs": [
        {
          "output_type": "stream",
          "text": [
            "at k = 1000 the sum is equal to 93063\n",
            "at k = 2000 the sum is equal to 301947\n",
            "at k = 3000 the sum is equal to 628865\n",
            "at k = 4000 the sum is equal to 1049022\n",
            "at k = 5000 the sum is equal to 1517617\n",
            "at k = 6000 the sum is equal to 2125990\n",
            "at k = 7000 the sum is equal to 2848337\n",
            "at k = 8000 the sum is equal to 3628175\n",
            "at k = 9000 the sum is equal to 4476437\n",
            "at k = 10000 the sum is equal to 5441890\n",
            "at k = 11000 the sum is equal to 6487065\n",
            "at k = 12000 the sum is equal to 7587457\n",
            "for 2 <= k <= 12000 the sum is 7587457\n",
            "[4, 6, 8, 8, 12, 12, 12, 15, 16, 16, 16, 18, 20, 24, 24, 24, 24, 24, 28, 27, 32, 30, 48, 32, 32, 32, 36, 36, 36, 42, 40, 40, 48, 48, 48, 45, 48, 48, 48, 48, 48, 54, 60, 54, 56, 54, 60, 63, 60, 60, 60, 63, 64, 64, 64, 64, 64, 70, 72, 72, 72, 72, 72, 72, 84, 80, 80, 81, 80, 80, 80, 81, 84, 88, 96, 90, 96, 90, 108, 90, 96, 96, 96, 96, 96, 96, 96, 96, 100, 110, 112, 105, 108, 108, 108, 117, 108, 108, 108, 112, 112, 120, 120, 120, 120, 120, 120, 120, 120, 120, 152, 125, 228, 126, 128, 128, 128, 128, 128, 128, 140, 144, 140, 135, 156, 140, 140, 144, 144, 144, 144, 144, 144, 144, 144, 150, 156, 150, 156, 162, 192, 160, 168, 160, 160, 160, 176, 160, 160, 160, 176, 162, 168, 168, 168, 168, 176, 184, 176, 175, 176, 180, 180, 180, 180, 190, 180, 180, 180, 192, 192, 189, 348, 192, 192, 189, 192, 192, 192, 192, 192, 192, 192, 200, 216, 216, 200, 200, 208, 208, 208, 210, 216, 210, 216, 210, 216, 216, 216, 216, 216, 216, 216, 216, 216, 216, 224, 224, 240, 224, 224, 224, 248, 234, 240, 234, 240, 240, 240, 240, 240, 240, 240, 240, 240, 240, 240, 240, 240, 264, 252, 243, 252, 252, 252, 250, 252, 252, 252, 260, 256, 256, 256, 256, 256, 256, 256, 264, 272, 270, 272, 270, 280, 270, 288, 270, 312, 270, 280, 280, 280, 280, 288, 288, 280, 280, 288, 288, 288, 288, 288, 288, 288, 288, 288, 288, 288, 288, 300, 297, 300, 306, 300, 306, 300, 300, 300, 308, 308, 312, 312, 312, 312, 312, 320, 315, 320, 320, 324, 315, 320, 324, 320, 320, 320, 320, 320, 320, 320, 330, 324, 324, 324, 336, 336, 336, 336, 342, 336, 336, 336, 336, 336, 343, 352, 352, 396, 350, 384, 350, 352, 351, 360, 350, 352, 352, 360, 360, 360, 360, 360, 360, 360, 360, 360, 360, 360, 360, 468, 378, 380, 375, 408, 378, 380, 384, 392, 378, 384, 375, 384, 378, 384, 378, 384, 384, 384, 384, 384, 384, 384, 384, 384, 384, 392, 392, 396, 396, 396, 405, 420, 400, 400, 405, 400, 400, 400, 405, 420, 432, 420, 405, 416, 416, 420, 416, 416, 416, 420, 425, 420, 432, 420, 420, 420, 432, 432, 432, 432, 432, 432, 432, 432, 432, 432, 432, 432, 432, 432, 432, 432, 440, 448, 441, 448, 450, 448, 448, 448, 448, 448, 448, 448, 448, 448, 450, 468, 504, 588, 462, 484, 462, 888, 468, 468, 480, 468, 468, 468, 476, 476, 480, 480, 480, 480, 480, 480, 480, 480, 480, 480, 480, 480, 480, 480, 480, 480, 480, 500, 486, 504, 486, 528, 486, 504, 495, 500, 504, 504, 504, 500, 504, 504, 500, 500, 504, 504, 504, 504, 504, 512, 525, 512, 512, 512, 512, 512, 512, 512, 512, 512, 512, 528, 528, 528, 540, 528, 525, 528, 528, 528, 540, 540, 540, 540, 539, 540, 540, 540, 540, 540, 540, 540, 546, 540, 540, 540, 575, 576, 550, 560, 560, 588, 560, 560, 567, 560, 560, 560, 560, 560, 570, 560, 560, 560, 572, 572, 567, 576, 576, 576, 567, 576, 576, 576, 576, 576, 576, 576, 576, 576, 576, 576, 576, 576, 594, 600, 595, 588, 588, 588, 594, 600, 594, 600, 594, 600, 600, 600, 600, 600, 600, 600, 600, 600, 600, 612, 612, 612, 616, 624, 616, 624, 624, 616, 616, 624, 624, 624, 630, 624, 624, 624, 624, 624, 630, 644, 625, 648, 630, 640, 630, 640, 630, 640, 640, 640, 648, 640, 640, 640, 640, 640, 640, 640, 640, 640, 640, 648, 648, 648, 648, 648, 648, 648, 648, 660, 672, 660, 660, 660, 672, 680, 672, 672, 672, 672, 672, 672, 672, 672, 672, 672, 672, 672, 672, 672, 672, 684, 675, 696, 696, 720, 700, 720, 686, 700, 693, 720, 700, 720, 693, 700, 720, 700, 702, 700, 702, 700, 702, 720, 700, 700, 704, 704, 704, 704, 714, 720, 720, 720, 720, 720, 720, 720, 720, 720, 720, 720, 720, 720, 720, 720, 720, 720, 720, 720, 729, 748, 750, 780, 729, 768, 750, 756, 729, 756, 748, 748, 756, 756, 750, 756, 756, 756, 750, 756, 756, 756, 750, 756, 750, 756, 750, 756, 756, 756, 768, 756, 756, 756, 768, 768, 768, 768, 768, 768, 768, 768, 768, 768, 768, 768, 768, 768, 768, 768, 780, 780, 784, 784, 792, 784, 792, 784, 784, 784, 798, 792, 792, 792, 792, 792, 792, 800, 810, 800, 800, 840, 800, 800, 800, 840, 800, 800, 800, 816, 810, 816, 810, 816, 810, 816, 810, 828, 810, 828, 828, 828, 832, 832, 832, 840, 825, 832, 840, 840, 832, 832, 832, 832, 832, 832, 840, 840, 840, 840, 840, 840, 840, 840, 840, 840, 840, 884, 864, 864, 855, 864, 858, 864, 858, 864, 864, 864, 864, 864, 864, 864, 864, 864, 864, 864, 864, 864, 864, 864, 864, 864, 864, 864, 864, 880, 882, 896, 875, 880, 882, 880, 880, 880, 882, 896, 882, 896, 912, 896, 891, 900, 896, 896, 891, 896, 896, 896, 896, 896, 896, 896, 896, 896, 896, 900, 900, 900, 910, 912, 918, 920, 918, 924, 918, 924, 918, 924, 924, 924, 936, 936, 931, 924, 924, 924, 935, 960, 950, 936, 936, 936, 952, 936, 936, 936, 936, 936, 936, 960, 950, 952, 945, 960, 950, 960, 945, 952, 952, 960, 945, 960, 960, 960, 960, 960, 960, 960, 960, 960, 960, 960, 960, 960, 960, 960, 960, 960, 960, 960, 972, 972, 972, 972, 972, 972, 972, 972, 990, 972, 972, 972, 980, 980, 990, 1000, 1000, 1164, 990, 1000, 990, 1008, 990, 1000, 1000, 1008, 1008, 1008, 1000, 1008, 1008, 1000, 1000, 1008, 1008, 1000, 1000, 1008, 1008, 1008, 1008, 1008, 1008, 1008, 1008, 1008, 1020, 1020, 1026, 1024, 1024, 1024, 1024, 1024, 1024, 1024, 1024, 1024, 1024, 1024, 1024, 1024, 1024, 1024, 1024, 1024, 1040, 1040, 1050, 1040, 1040, 1040, 1050, 1056, 1056, 1080, 1050, 1056, 1050, 1056, 1050, 1064, 1050, 1056, 1050, 1056, 1056, 1056, 1056, 1056, 1056, 1080, 1071, 1080, 1080, 1080, 1071, 1080, 1080, 1080, 1078, 1080, 1080, 1080, 1080, 1080, 1078, 1080, 1080, 1080, 1080, 1080, 1080, 1080, 1080, 1080, 1080, 1080, 1080, 1092, 1092, 1092, 1188, 1100, 1104, 1104, 1104, 1100, 1120, 1116, 1100, 1100, 1120, 1120, 1122, 1152, 1120, 1120, 1134, 1120, 1125, 1120, 1120, 1120, 1122, 1120, 1120, 1140, 1120, 1120, 1120, 1120, 1120, 1472, 1120, 1120, 1120, 1140, 1134, 1140, 1125, 1140, 1134, 1140, 1134, 1140, 1134, 1152, 1134, 1144, 1134, 1152, 1152, 1152, 1152, 1152, 1152, 1152, 1152, 1152, 1152, 1152, 1152, 1152, 1152, 1152, 1152, 1152, 1152, 1152, 1152, 1152, 1152, 1184, 1176, 1200, 1170, 1176, 1170, 1188, 1170, 1188, 1176, 1176, 1176, 1188, 1176, 1176, 1176, 1176, 1176, 1188, 1215, 1200, 1188, 1188, 1188, 1188, 1200, 1188, 1188, 1188, 1200, 1200, 1200, 1200, 1200, 1200, 1200, 1200, 1200, 1200, 1200, 1200, 1200, 1200, 1200, 1200, 1216, 1216, 1215, 1216, 1216, 1216, 1215, 1224, 1232, 1224, 1215, 1224, 1224, 1224, 1215, 1232, 1240, 1248, 1225, 1232, 1242, 1232, 1242, 1232, 1232, 1232, 1242, 1248, 1248, 1248, 1248, 1248, 1260, 1260, 1248, 1248, 1248, 1248, 1248, 1248, 1248, 1248, 1248, 1260, 1260, 1260, 1250, 1260, 1260, 1260, 1260, 1260, 1260, 1260, 1275, 1260, 1260, 1260, 1320, 1280, 1280, 1296, 1274, 1280, 1280, 1280, 1280, 1280, 1280, 1280, 1280, 1280, 1280, 1280, 1280, 1280, 1280, 1280, 1280, 1280, 1280, 1280, 1296, 1296, 1296, 1296, 1296, 1296, 1296, 1296, 1296, 1296, 1296, 1296, 1296, 1296, 1296, 1296, 1320, 1320, 1320, 1320, 1320, 1320, 1320, 1320, 1320, 1320, 1320, 1320, 1320, 1320, 1320, 1320, 1320, 1344, 1344, 1344, 1323, 1344, 1344, 1344, 1344, 1344, 1344, 1344, 1344, 1344, 1344, 1344, 1344, 1344, 1344, 1344, 1344, 1344, 1344, 1344, 1344, 1344, 1344, 1344, 1344, 1344, 1350, 1360, 1350, 1360, 1350, 1360, 1375, 1368, 1368, 1368, 1365, 1368, 1368, 1380, 1377, 1372, 1392, 1380, 1377, 1380, 1372, 1372, 1375, 1392, 1386, 1392, 1392, 1392, 1386, 1400, 1386, 1440, 1386, 1400, 1386, 1400, 1400, 1404, 1400, 1400, 1458, 1404, 1400, 1428, 1400, 1400, 1400, 1400, 1400, 1404, 1408, 1400, 1400, 1404, 1408, 1408, 1408, 1408, 1408, 1408, 1408, 1464, 1430, 1428, 1428, 1428, 1425, 1440, 1430, 1428, 1428, 1428, 1430, 1440, 1440, 1440, 1440, 1440, 1440, 1440, 1440, 1440, 1440, 1440, 1440, 1440, 1440, 1440, 1440, 1440, 1440, 1440, 1440, 1440, 1440, 1440, 1440, 1452, 1458, 1456, 1482, 1456, 1456, 1456, 1458, 1472, 1458, 1508, 1458, 1472, 1458, 1472, 1458, 1472, 1458, 1488, 1470, 1488, 1470, 1488, 1470, 1488, 1485, 1508, 1500, 1496, 1485, 1500, 1500, 1500, 1485, 1500, 1496, 1500, 1485, 1496, 1496, 1500, 1521, 1512, 1500, 1500, 1512, 1512, 1500, 1500, 1500, 1500, 1512, 1500, 1512, 1500, 1500, 1500, 1512, 1512, 1512, 1512, 1512, 1512, 1512, 1512, 1512, 1512, 1512, 1512, 1512, 1536, 1536, 1548, 1530, 1536, 1530, 1536, 1530, 1536, 1536, 1536, 1536, 1536, 1536, 1536, 1536, 1536, 1536, 1536, 1536, 1536, 1536, 1536, 1536, 1536, 1536, 1536, 1536, 1560, 1560, 1560, 1566, 1560, 1560, 1560, 1560, 1560, 1560, 1560, 1560, 1560, 1560, 1568, 1568, 1584, 1568, 1568, 1568, 1568, 1568, 1584, 1568, 1568, 1568, 1584, 1575, 1584, 1584, 1584, 1575, 1584, 1584, 1584, 1584, 1584, 1584, 1584, 1584, 1584, 1596, 1596, 1600, 1600, 1600, 1600, 1600, 1600, 1600, 1600, 1600, 1600, 1620, 1600, 1600, 1600, 1600, 1600, 1600, 1600, 1620, 1640, 1620, 1620, 1620, 1620, 1617, 1620, 1620, 1620, 1620, 1620, 1620, 1620, 1620, 1620, 1632, 1620, 1620, 1620, 1632, 1632, 1632, 1672, 1638, 1680, 1638, 1656, 1638, 1680, 1650, 1656, 1650, 1656, 1650, 1656, 1656, 1656, 1650, 1656, 1650, 1664, 1650, 1664, 1664, 1664, 1664, 1664, 1674, 1680, 1664, 1680, 1664, 1664, 1664, 1664, 1664, 1664, 1664, 1680, 1680, 1680, 1680, 1680, 1680, 1680, 1680, 1680, 1680, 1680, 1680, 1680, 1680, 1680, 1680, 1680, 1680, 1680, 1701, 1700, 1694, 1716, 1701, 1700, 1710, 1740, 1700, 1700, 1710, 1716, 1701, 1716, 1710, 1716, 1701, 1740, 1710, 1728, 1701, 1728, 1728, 1716, 1716, 1716, 1728, 1728, 1715, 1728, 1728, 1728, 1728, 1728, 1728, 1728, 1728, 1728, 1728, 1728, 1728, 1728, 1728, 1728, 1728, 1728, 1728, 1728, 1728, 1728, 1728, 1728, 1760, 1760, 1800, 1760, 1755, 1764, 1760, 1760, 1750, 1760, 1750, 1760, 1755, 1760, 1750, 1764, 1755, 1764, 1760, 1760, 1760, 1764, 1760, 1760, 1760, 1764, 1782, 1764, 1764, 1764, 1782, 1792, 1782, 1800, 1782, 1792, 1782, 1792, 1782, 1792, 1782, 1792, 1782, 1792, 1782, 1800, 1782, 1792, 1792, 1792, 1792, 1792, 1792, 1792, 1792, 1792, 1792, 1792, 1792, 1792, 1792, 1792, 1800, 1800, 1800, 1800, 1800, 1800, 1800, 1820, 1840, 1824, 1815, 1820, 1824, 1820, 1824, 1824, 1820, 1820, 1824, 1824, 1824, 1836, 1836, 1840, 1848, 1848, 1836, 1836, 1836, 1836, 1840, 1836, 1836, 1836, 1860, 1848, 1848, 1848, 1848, 1856, 1848, 1848, 1848, 1856, 1848, 1848, 1848, 1848, 1848, 1872, 1863, 1920, 1862, 1872, 1863, 1872, 1870, 1872, 1872, 1872, 1870, 1872, 1872, 1920, 1872, 1872, 1872, 1872, 1872, 1872, 1872, 1872, 1872, 1872, 1890, 1900, 1890, 1900, 1875, 1904, 1890, 2016, 1890, 1904, 1890, 1900, 1890, 1920, 1890, 1900, 1890, 1980, 1890, 1900, 1890, 1904, 1920, 1904, 1904, 1904, 1920, 1920, 1920, 1920, 1920, 1920, 1911, 1920, 1920, 1920, 1920, 1920, 1920, 1920, 1920, 1920, 1920, 1920, 1920, 1920, 1920, 1920, 1920, 1920, 1920, 1920, 1920, 1920, 1920, 1936, 1944, 1936, 1936, 1936, 1944, 1944, 1944, 1944, 1944, 1944, 1944, 1944, 1944, 1944, 1944, 1944, 1944, 1944, 1944, 1944, 1944, 1944, 1944, 1980, 1980, 1960, 1960, 1960, 1960, 1980, 1976, 1960, 1960, 1976, 1976, 1980, 1980, 1980, 1980, 1980, 1998, 1980, 1980, 1980, 1980, 1980, 1980, 1980, 1989, 1980, 1980, 1980, 2002, 2016, 2000, 2000, 1995, 2000, 2000, 2000, 2015, 2000, 2000, 2000, 2000, 2016, 2000, 2000, 2016, 2016, 2000, 2000, 2016, 2000, 2000, 2000, 2016, 2016, 2016, 2016, 2016, 2016, 2016, 2016, 2016, 2016, 2016, 2016, 2016, 2016, 2016, 2016, 2016, 2040, 2040, 2040, 2025, 2040, 2040, 2040, 2025, 2040, 2040, 2040, 2040, 2040, 2040, 2064, 2070, 2048, 2052, 2048, 2048, 2048, 2048, 2048, 2048, 2048, 2048, 2048, 2048, 2048, 2048, 2048, 2048, 2048, 2048, 2048, 2048, 2112, 2070, 2088, 2079, 2080, 2080, 2080, 2079, 2080, 2080, 2080, 2088, 2088, 2080, 2088, 2079, 2080, 2080, 2100, 2079, 2080, 2080, 2100, 2100, 2100, 2100, 2100, 2100, 2100, 2208, 2100, 2100, 2100, 2112, 2100, 2100, 2100, 2100, 2100, 2106, 2100, 2106, 2100, 2100, 2100, 2106, 2112, 2106, 2112, 2112, 2112, 2112, 2112, 2112, 2112, 2112, 2112, 2142, 2128, 2125, 2128, 2128, 2128, 2142, 2160, 2142, 2160, 2142, 2160, 2160, 2160, 2142, 2160, 2142, 2160, 2142, 2160, 2142, 2156, 2145, 2160, 2160, 2156, 2160, 2156, 2160, 2160, 2160, 2156, 2160, 2160, 2160, 2160, 2156, 2156, 2160, 2160, 2160, 2160, 2160, 2160, 2160, 2160, 2160, 2160, 2160, 2160, 2160, 2160, 2176, 2176, 2176, 2176, 2176, 2176, 2176, 2184, 2184, 2200, 2184, 2184, 2184, 2184, 2184, 2200, 2200, 2232, 2187, 2200, 2214, 2200, 2187, 2220, 2200, 2208, 2187, 2200, 2200, 2208, 2205, 2200, 2200, 2236, 2205, 2232, 2232, 2280, 2205, 2232, 2232, 2232, 2223, 2232, 2232, 2232, 2232, 2232, 2232, 2240, 2240, 2240, 2240, 2240, 2240, 2244, 2240, 2240, 2240, 2268, 2240, 2268, 2240, 2240, 2240, 2240, 2240, 2240, 2240, 2240, 2240, 2240, 2240, 2240, 2240, 2240, 2240, 2240, 2250, 2268, 2280, 2268, 2250, 2268, 2250, 2268, 2250, 2268, 2268, 2268, 2277, 2268, 2268, 2268, 2268, 2268, 2268, 2268, 2268, 2268, 2268, 2268, 2275, 2268, 2268, 2268, 2280, 2304, 2300, 2304, 2295, 2288, 2304, 2288, 2288, 2288, 2304, 2300, 2295, 2304, 2300, 2300, 2295, 2304, 2304, 2304, 2304, 2304, 2304, 2304, 2304, 2304, 2304, 2304, 2304, 2304, 2304, 2304, 2304, 2304, 2304, 2304, 2304, 2304, 2304, 2304, 2340, 2340, 2350, 2340, 2352, 2340, 2688, 2368, 2340, 2340, 2340, 2340, 2340, 2340, 2352, 2340, 2340, 2340, 2340, 2340, 2340, 2340, 2352, 2340, 2340, 2340, 2376, 2352, 2352, 2352, 2352, 2352, 2352, 2352, 2352, 2352, 2366, 2352, 2352, 2352, 2352, 2352, 2366, 2376, 2376, 2376, 2376, 2376, 2376, 2376, 2376, 2376, 2375, 2376, 2376, 2376, 2376, 2376, 2376, 2376, 2376, 2376, 2376, 2376, 2376, 2400, 2394, 2400, 2394, 2400, 2394, 2400, 2394, 2400, 2400, 2400, 2400, 2400, 2400, 2400, 2400, 2400, 2400, 2400, 2400, 2400, 2400, 2400, 2400, 2400, 2400, 2400, 2400, 2432, 2430, 2432, 2430, 2420, 2430, 2432, 2420, 2420, 2430, 2432, 2436, 2436, 2430, 2448, 2430, 2432, 2430, 2432, 2430, 2432, 2430, 2448, 2430, 2448, 2430, 2448, 2430, 2464, 2430, 2448, 2448, 2448, 2448, 2448, 2448, 2448, 2448, 2448, 2450, 2464, 2464, 2480, 2450, 2484, 2464, 2464, 2457, 2480, 2464, 2464, 2464, 2464, 2464, 2480, 2464, 2464, 2464, 2496, 2475, 2496, 2484, 2484, 2475, 2484, 2496, 2484, 2475, 2484, 2508, 2496, 2496, 2496, 2496, 2496, 2496, 2496, 2496, 2496, 2496, 2500, 2496, 2496, 2496, 2496, 2496, 2496, 2496, 2496, 2496, 2496, 2520, 2500, 2520, 2520, 2500, 2500, 2520, 2520, 2520, 2520, 2520, 2520, 2520, 2520, 2520, 2520, 2520, 2520, 2520, 2520, 2520, 2520, 2520, 2520, 2520, 2520, 2520, 2548, 2535, 2592, 2550, 2560, 2610, 2548, 2550, 2560, 2541, 2560, 2550, 2548, 2560, 2576, 2550, 2560, 2548, 2548, 2550, 2576, 2560, 2560, 2574, 2560, 2560, 2560, 2560, 2560, 2560, 2560, 2560, 2560, 2560, 2560, 2560, 2560, 2560, 2560, 2560, 2560, 2560, 2560, 2560, 2592, 2592, 2592, 2592, 2592, 2592, 2592, 2592, 2592, 2592, 2592, 2592, 2592, 2592, 2592, 2592, 2592, 2592, 2592, 2592, 2592, 2592, 2592, 2592, 2592, 2592, 2592, 2592, 2592, 2592, 2592, 2592, 2640, 2625, 2640, 2640, 2664, 2618, 2640, 2640, 2640, 2625, 2768, 2646, 2640, 2625, 2640, 2640, 2640, 2625, 2640, 2640, 2640, 2640, 2640, 2640, 2640, 2625, 2640, 2640, 2640, 2640, 2640, 2640, 2640, 2640, 2640, 2640, 2640, 2640, 2640, 2640, 2640, 2646, 2700, 2646, 2660, 2646, 2660, 2646, 2688, 2660, 2660, 2662, 2688, 2673, 2688, 2688, 2688, 2688, 2688, 2688, 2688, 2688, 2700, 2688, 2688, 2673, 2688, 2688, 2688, 2673, 2688, 2688, 2688, 2673, 2688, 2688, 2688, 2688, 2688, 2688, 2688, 2688, 2688, 2688, 2688, 2688, 2688, 2688, 2688, 2688, 2688, 2688, 2688, 2688, 2700, 2700, 2700, 2700, 2700, 2700, 2700, 2720, 2700, 2700, 2700, 2728, 2744, 2720, 2736, 2720, 2720, 2720, 2736, 2720, 2720, 2720, 2736, 2730, 2736, 2730, 2752, 2730, 2736, 2730, 2736, 2730, 2736, 2736, 2736, 2736, 2736, 2744, 2820, 2754, 2760, 2772, 2744, 2744, 2760, 2744, 2760, 2754, 2744, 2744, 2760, 2754, 2760, 2750, 2760, 2754, 2772, 2772, 2772, 2805, 2772, 2800, 2772, 2772, 2772, 2790, 2772, 2783, 2772, 2772, 2772, 2772, 2772, 2784, 2772, 2772, 2772, 2790, 2880, 2800, 2800, 2800, 2800, 2800, 2800, 2800, 2800, 2793, 2800, 2800, 2800, 2800, 2800, 2808, 2800, 2800, 2808, 2800, 2800, 2800, 2800, 2800, 2800, 2800, 2800, 2808, 2800, 2800, 2800, 2808, 2808, 2808, 2808, 2808, 2816, 2816, 2816, 2856, 2816, 2816, 2816, 2816, 2816, 2816, 2816, 2850, 2856, 2835, 2880, 2850, 2880, 2835, 2856, 2856, 2856, 2835, 2856, 2856, 2856, 2835, 2880, 2870, 2856, 2835, 2860, 2850, 2860, 2850, 2856, 2856, 2880, 2856, 2856, 2856, 2856, 2856, 2880, 2860, 2860, 2873, 2880, 2880, 2880, 2880, 2880, 2880, 2880, 2875, 2880, 2880, 2880, 2880, 2880, 2880, 2880, 2880, 2880, 2880, 2880, 2880, 2880, 2880, 2880, 2880, 2880, 2880, 2880, 2880, 2880, 2880, 2880, 2880, 2880, 2904, 2904, 2904, 2912, 2912, 2904, 2912, 2916, 2904, 2904, 2904, 2904, 2904, 2916, 2912, 2912, 2912, 2912, 2912, 2916, 2912, 2912, 2912, 2916, 2916, 2916, 2916, 2916, 2916, 2916, 2916, 2916, 2988, 2916, 2916, 2916, 2944, 2940, 2952, 2940, 2940, 2940, 2944, 2940, 2940, 2940, 2940, 2940, 2944, 2940, 2970, 2940, 2940, 2940, 2970, 3072, 2964, 3040, 2970, 2976, 2970, 2964, 2964, 2964, 2970, 2976, 2976, 2976, 2970, 2976, 2970, 2976, 2970, 3040, 2970, 2992, 2970, 3000, 2970, 2992, 2970, 2992, 2970, 3024, 2990, 2992, 2997, 3000, 3000, 3000, 3000, 2992, 3000, 2992, 2992, 2992, 3000, 3000, 3000, 3000, 3000, 3000, 3016, 3000, 3000, 3000, 3000, 3000, 3000, 3000, 3000, 3000, 3000, 3000, 3000, 3000, 3000, 3024, 3024, 3024, 3024, 3024, 3024, 3024, 3024, 3024, 3024, 3024, 3024, 3024, 3024, 3024, 3024, 3024, 3024, 3024, 3024, 3024, 3024, 3024, 3024, 3024, 3040, 3060, 3040, 3040, 3040, 3060, 3072, 3060, 3060, 3060, 3060, 3080, 3060, 3060, 3072, 3060, 3060, 3060, 3060, 3060, 3060, 3060, 3072, 3060, 3060, 3060, 3078, 3072, 3072, 3072, 3072, 3072, 3072, 3072, 3072, 3072, 3072, 3072, 3072, 3072, 3072, 3072, 3072, 3072, 3072, 3072, 3072, 3072, 3072, 3072, 3072, 3072, 3087, 3108, 3120, 3120, 3087, 3120, 3132, 3120, 3105, 3120, 3120, 3120, 3105, 3120, 3120, 3120, 3120, 3120, 3120, 3120, 3120, 3120, 3120, 3120, 3120, 3120, 3120, 3120, 3120, 3120, 3120, 3120, 3120, 3120, 3120, 3120, 3120, 3120, 3136, 3168, 3135, 3136, 3146, 3136, 3125, 3136, 3136, 3136, 3150, 3136, 3136, 3136, 3136, 3136, 3136, 3136, 3136, 3136, 3150, 3168, 3150, 3168, 3150, 3168, 3150, 3168, 3150, 3168, 3150, 3168, 3150, 3168, 3159, 3168, 3168, 3168, 3159, 3168, 3168, 3168, 3168, 3168, 3168, 3168, 3168, 3168, 3168, 3168, 3168, 3192, 3192, 3200, 3200, 3200, 3192, 3192, 3185, 3200, 3192, 3192, 3192, 3192, 3192, 3200, 3200, 3200, 3200, 3200, 3200, 3200, 3200, 3200, 3200, 3200, 3200, 3200, 3200, 3200, 3200, 3200, 3200, 3200, 3200, 3200, 3200, 3220, 3230, 3240, 3234, 3240, 3230, 3240, 3240, 3240, 3240, 3240, 3234, 3240, 3234, 3240, 3240, 3240, 3234, 3240, 3240, 3240, 3234, 3240, 3234, 3240, 3240, 3240, 3240, 3240, 3240, 3240, 3240, 3240, 3240, 3240, 3240, 3240, 3240, 3240, 3240, 3276, 3264, 3264, 3264, 3276, 3264, 3264, 3264, 3264, 3264, 3264, 3264, 3264, 3264, 3264, 3267, 3276, 3348, 3276, 3276, 3276, 3276, 3276, 3315, 3276, 3276, 3276, 3311, 3300, 3300, 3300, 3300, 3300, 3312, 3300, 3300, 3300, 3328, 3300, 3300, 3300, 3312, 3300, 3300, 3300, 3300, 3300, 3312, 3300, 3312, 3300, 3300, 3300, 3312, 3312, 3312, 3312, 3330, 3328, 3328, 3328, 3402, 3328, 3348, 3328, 3328, 3328, 3325, 3328, 3328, 3328, 3328, 3344, 3328, 3328, 3332, 3328, 3328, 3328, 3328, 3328, 3328, 3328, 3348, 3344, 3344, 3344, 3360, 3360, 3360, 3360, 3360, 3360, 3360, 3360, 3360, 3360, 3360, 3360, 3360, 3360, 3360, 3360, 3360, 3360, 3360, 3360, 3360, 3360, 3360, 3360, 3360, 3360, 3360, 3360, 3360, 3360, 3360, 3388, 3375, 3380, 3416, 3420, 3375, 3380, 3402, 3420, 3375, 3388, 3402, 3400, 3375, 3432, 3388, 3388, 3402, 3420, 3402, 3420, 3400, 3420, 3402, 3400, 3400, 3420, 3402, 3400, 3400, 3420, 3402, 3420, 3402, 3456, 3402, 3420, 3402, 3420, 3402, 3420, 3402, 3420, 3420, 3420, 3440, 3420, 3420, 3420, 3432, 3432, 3432, 3456, 3456, 3432, 3450, 3456, 3430, 3432, 3430, 3432, 3432, 3456, 3430, 3456, 3450, 3456, 3456, 3456, 3450, 3456, 3450, 3456, 3450, 3456, 3456, 3456, 3456, 3456, 3456, 3456, 3456, 3456, 3456, 3456, 3456, 3456, 3456, 3456, 3456, 3456, 3456, 3456, 3456, 3456, 3456, 3456, 3456, 3456, 3456, 3528, 3500, 3564, 3534, 3500, 3496, 3528, 3500, 3496, 3496, 3500, 3500, 3500, 3515, 3500, 3510, 3500, 3500, 3552, 3500, 3500, 3510, 3528, 3500, 3520, 3520, 3500, 3510, 3500, 3519, 3500, 3510, 3500, 3510, 3528, 3500, 3500, 3510, 3520, 3510, 3520, 3510, 3520, 3510, 3520, 3520, 3520, 3520, 3520, 3528, 3520, 3520, 3520, 3520, 3520, 3520, 3520, 3528, 3528, 3528, 3528, 3528, 3528, 3528, 3528, 3528, 3564, 3564, 3564, 3564, 3564, 3564, 3588, 3549, 3564, 3564, 3564, 3584, 3564, 3564, 3564, 3570, 3564, 3570, 3564, 3570, 3564, 3600, 3564, 3564, 3564, 3564, 3564, 3564, 3564, 3564, 3564, 3570, 3564, 3564, 3564, 3575, 3584, 3584, 3584, 3584, 3584, 3584, 3584, 3584, 3584, 3584, 3584, 3584, 3584, 3584, 3584, 3584, 3584, 3584, 3584, 3584, 3584, 3584, 3584, 3584, 3600, 3600, 3600, 3600, 3600, 3600, 3600, 3600, 3600, 3600, 3600, 3600, 3600, 3600, 3600, 3625, 3648, 3640, 3660, 3645, 3640, 3640, 3640, 3630, 3648, 3630, 3640, 3640, 3648, 3630, 3648, 3630, 3640, 3630, 3648, 3640, 3672, 3672, 3640, 3640, 3640, 3640, 3672, 3645, 3640, 3640, 3648, 3645, 3648, 3648, 3648, 3645, 3648, 3672, 3672, 3645, 3672, 3672, 3672, 3645, 3672, 3672, 3680, 3672, 3672, 3672, 3672, 3675, 3672, 3672, 3672, 3672, 3672, 3672, 3672, 3672, 3672, 3672, 3680, 3680, 3696, 3696, 3696, 3675, 3696, 3696, 3696, 3696, 3696, 3720, 3696, 3696, 3696, 3696, 3696, 3696, 3696, 3696, 3696, 3705, 3696, 3696, 3696, 3696, 3696, 3712, 3712, 3712, 3720, 3720, 3720, 3720, 3740, 3718, 3744, 3744, 3724, 3726, 3740, 3726, 3744, 3724, 3724, 3726, 3740, 3726, 3744, 3744, 3740, 3744, 3744, 3751, 3744, 3744, 3740, 3744, 3744, 3740, 3740, 3744, 3744, 3744, 3744, 3744, 3744, 3744, 3744, 3744, 3744, 3744, 3744, 3744, 3744, 3744, 3780, 3762, 3780, 3750, 3780, 3750, 3780, 3750, 3780, 3780, 3780, 3780, 3780, 3780, 3780, 3780, 3780, 3780, 3780, 3780, 3780, 3773, 3780, 3780, 3780, 3780, 3780, 3780, 3780, 3780, 3780, 3780, 3780, 3780, 3780, 3808, 3780, 3780, 3780, 3800, 3808, 3808, 3800, 3800, 3840, 3840, 3800, 3800, 3840, 3808, 3808, 3808, 3808, 3808, 3840, 3808, 3808, 3808, 3840, 3822, 3828, 3828, 3828, 3840, 3840, 3822, 3840, 3840, 3840, 3822, 3840, 3822, 3840, 3825, 3840, 3840, 3840, 3840, 3840, 3840, 3840, 3840, 3840, 3840, 3840, 3840, 3840, 3840, 3840, 3840, 3840, 3840, 3840, 3840, 3840, 3840, 3840, 3840, 3840, 3840, 3840, 3840, 3840, 3864, 3864, 3861, 3864, 3864, 3920, 3861, 3888, 3872, 3872, 3872, 3876, 3888, 3888, 3887, 3872, 3872, 3888, 3872, 3872, 3872, 3888, 3888, 3888, 3888, 3888, 3888, 3888, 3888, 3888, 3888, 3888, 3888, 3888, 3888, 3888, 3888, 3888, 3888, 3888, 3888, 3888, 3888, 3888, 3888, 3888, 3888, 3888, 3900, 3900, 3915, 3936, 3948, 3920, 3920, 3936, 3936, 3920, 3933, 3920, 3920, 3920, 3920, 3920, 3948, 3920, 3920, 3920, 3920, 3920, 3944, 3920, 3920, 3920, 3960, 3952, 3960, 3960, 3952, 3952, 3952, 3960, 3969, 3960, 3960, 3960, 3960, 3952, 3960, 3952, 3952, 3952, 3960, 3960, 3960, 3960, 3960, 3960, 3960, 3960, 3960, 3960, 3960, 3960, 3960, 3960, 3960, 3960, 3960, 3960, 3960, 3960, 3960, 3996, 3969, 4000, 3978, 4020, 3969, 3996, 3990, 3996, 3969, 3996, 3990, 3996, 3990, 4000, 3990, 4000, 3990, 4004, 3990, 4032, 3993, 4000, 4000, 4004, 4000, 4000, 4000, 4000, 4000, 4000, 4000, 4000, 4004, 4000, 4000, 4032, 4000, 4000, 4000, 4032, 4000, 4000, 4000, 4032, 4032, 4032, 4032, 4032, 4025, 4032, 4032, 4032, 4032, 4032, 4032, 4032, 4032, 4032, 4032, 4032, 4032, 4032, 4032, 4032, 4032, 4032, 4032, 4032, 4032, 4032, 4032, 4032, 4032, 4032, 4032, 4032, 4050, 4080, 4050, 4056, 4050, 4080, 4050, 4056, 4050, 4056, 4050, 4080, 4050, 4080, 4050, 4080, 4050, 4080, 4080, 4080, 4080, 4080, 4080, 4080, 4080, 4080, 4080, 4080, 4080, 4080, 4080, 4080, 4080, 4080, 4080, 4080, 4080, 4080, 4096, 4096, 4095, 4096, 4104, 4096, 4095, 4096, 4104, 4096, 4095, 4104, 4096, 4096, 4095, 4096, 4096, 4096, 4096, 4096, 4096, 4096, 4096, 4096, 4096, 4096, 4096, 4096, 4096, 4096, 4125, 4116, 4116, 4116, 4158, 4160, 4140, 4116, 4116, 4116, 4140, 4140, 4131, 4140, 4140, 4140, 4125, 4140, 4140, 4140, 4131, 4140, 4140, 4140, 4158, 4176, 4158, 4160, 4158, 4160, 4158, 4200, 4200, 4160, 4158, 4160, 4158, 4160, 4158, 4160, 4158, 4160, 4160, 4176, 4158, 4160, 4158, 4160, 4158, 4160, 4158, 4160, 4160, 4160, 4176, 4176, 4185, 4180, 4218, 4200, 4180, 4180, 4200, 4200, 4200, 4200, 4200, 4200, 4199, 4200, 4200, 4200, 4200, 4200, 4200, 4200, 4200, 4200, 4200, 4200, 4200, 4200, 4200, 4200, 4200, 4200, 4200, 4200, 4200, 4200, 4200, 4200, 4200, 4200, 4200, 4200, 4200, 4212, 4212, 4212, 4212, 4212, 4224, 4212, 4212, 4212, 4224, 4224, 4224, 4224, 4224, 4224, 4224, 4224, 4224, 4224, 4224, 4224, 4224, 4224, 4224, 4300, 4256, 4256, 4256, 4256, 4284, 4284, 4277, 4288, 4288, 4256, 4250, 4284, 4256, 4256, 4250, 4256, 4256, 4284, 4256, 4256, 4256, 4284, 4275, 4284, 4300, 4300, 4284, 4284, 4300, 4284, 4275, 4284, 4290, 4284, 4275, 4284, 4284, 4284, 4275, 4284, 4300, 4284, 4284, 4284, 4284, 4284, 4290, 4284, 4284, 4284, 4290, 4312, 4290, 4320, 4290, 4312, 4320, 4320, 4312, 4320, 4320, 4312, 4320, 4320, 4312, 4320, 4320, 4320, 4312, 4312, 4312, 4320, 4320, 4312, 4312, 4320, 4312, 4320, 4320, 4312, 4312, 4320, 4320, 4320, 4320, 4320, 4320, 4320, 4320, 4320, 4320, 4320, 4320, 4320, 4320, 4320, 4320, 4320, 4320, 4352, 4350, 4352, 4347, 4352, 4350, 4352, 4347, 4368, 4352, 4352, 4352, 4356, 4352, 4352, 4368, 4352, 4352, 4352, 4352, 4352, 4352, 4352, 4356, 4356, 4368, 4368, 4368, 4368, 4368, 4368, 4368, 4368, 4374, 4368, 4368, 4368, 4368, 4368, 4374, 4400, 4374, 4400, 4374, 4440, 4374, 4400, 4374, 5808, 4374, 4416, 4374, 4400, 4374, 4400, 4400, 4400, 4400, 4400, 4400, 4420, 4400, 4400, 4400, 4400, 4410, 4440, 4400, 4400, 4410, 4400, 4400, 4400, 4410, 4416, 4410, 4416, 4410, 4416, 4410, 4416, 4410, 4440, 4410, 4440, 4440, 4440, 4440, 4440, 4440, 4464, 4455, 4488, 4446, 4480, 4455, 4472, 4472, 4480, 4455, 4464, 4446, 4464, 4446, 4464, 4446, 4464, 4455, 4464, 4464, 4480, 4464, 4464, 4464, 4464, 4455, 4464, 4464, 4464, 4455, 4464, 4480, 4480, 4455, 4480, 4480, 4500, 4455, 4480, 4480, 4480, 4480, 4480, 4480, 4480, 4488, 4480, 4480, 4480, 4480, 4480, 4480, 4480, 4480, 4480, 4480, 4480, 4480, 4480, 4480, 4480, 4480, 4480, 4480, 4480, 4480, 4480, 4480, 4500, 4500, 4500, 4500, 4500, 4500, 4500, 4508, 4500, 4500, 4500, 4500, 4500, 4500, 4500, 4524, 4500, 4500, 4500, 4536, 4536, 4536, 4536, 4536, 4536, 4536, 4536, 4536, 4536, 4536, 4536, 4536, 4536, 4536, 4536, 4536, 4536, 4536, 4536, 4536, 4536, 4536, 4536, 4536, 4536, 4536, 4536, 4536, 4536, 4536, 4536, 4536, 4536, 4536, 4536, 4536, 4560, 4560, 4560, 4550, 4560, 4560, 4560, 4560, 4560, 4560, 4560, 4560, 4560, 4563, 4608, 4576, 4576, 4576, 4576, 4576, 4592, 4590, 4592, 4590, 4576, 4576, 4608, 4576, 4576, 4576, 4600, 4590, 4608, 4590, 4600, 4590, 4608, 4590, 4608, 4590, 4608, 4590, 4600, 4590, 4608, 4608, 4600, 4600, 4608, 4608, 4608, 4608, 4608, 4608, 4608, 4608, 4608, 4608, 4608, 4608, 4608, 4608, 4608, 4608, 4608, 4608, 4608, 4608, 4608, 4608, 4608, 4608, 4608, 4608, 4608, 4608, 4620, 4640, 4640, 4640, 4680, 4640, 4640, 4640, 4680, 4641, 4680, 4650, 4680, 4650, 4680, 4662, 4680, 4662, 4752, 4662, 4680, 4680, 4680, 4746, 4680, 4655, 4680, 4680, 4680, 4675, 4680, 4680, 4680, 4680, 4680, 4680, 4680, 4680, 4680, 4680, 4680, 4680, 4680, 4680, 4680, 4675, 4680, 4680, 4680, 4680, 4680, 4680, 4680, 4680, 4680, 4680, 4680, 4680, 4680, 4680, 4680, 4680, 4704, 4698, 4704, 4698, 4704, 4704, 4704, 4704, 4704, 4704, 4704, 4704, 4704, 4704, 4704, 4704, 4704, 4704, 4704, 4704, 4704, 4704, 4704, 4704, 4704, 4704, 4704, 4704, 4752, 4736, 4732, 4725, 4736, 4736, 4736, 4725, 4732, 4752, 4752, 4725, 4752, 4732, 4732, 4725, 4752, 4750, 4752, 4725, 4752, 4752, 4752, 4752, 4752, 4752, 4752, 4752, 4752, 4750, 4752, 4752, 4752, 4750, 4752, 4752, 4752, 4752, 4752, 4752, 4752, 4752, 4752, 4752, 4752, 4752, 4752, 4784, 4784, 4784, 4788, 4797, 4788, 4788, 4788, 4785, 4784, 4800, 4784, 4784, 4784, 4800, 4788, 4800, 4788, 4788, 4788, 4788, 4788, 4800, 4788, 4788, 4788, 4800, 4800, 4800, 4800, 4800, 4800, 4800, 4800, 4800, 4800, 4800, 4800, 4800, 4800, 4800, 4800, 4800, 4800, 4800, 4800, 4800, 4800, 4800, 4800, 4800, 4800, 4851, 4860, 4830, 4836, 4830, 4836, 4830, 4872, 4830, 4860, 4830, 4860, 4845, 4860, 4840, 4840, 4851, 4840, 4840, 4860, 4845, 4860, 4860, 4840, 4840, 4860, 4860, 4840, 4840, 4860, 4860, 4860, 4860, 4860, 4860, 4860, 4851, 4860, 4860, 4860, 4851, 4860, 4860, 4860, 4860, 4860, 4860, 4860, 4860, 4860, 4860, 4860, 4860, 4860, 4860, 4860, 4875, 4860, 4860, 4860, 4896, 4896, 4896, 4896, 4875, 4896, 4896, 4896, 4896, 4896, 4896, 4896, 4896, 4896, 4896, 4896, 4896, 4896, 4896, 4896, 4896, 4896, 4896, 4896, 4896, 4896, 4896, 4900, 4914, 4900, 4914, 4928, 4900, 4900, 4914, 4928, 4930, 4940, 4914, 4968, 4914, 4928, 4914, 4928, 4914, 4928, 4928, 4928, 4968, 4928, 4928, 4928, 4950, 4928, 4928, 4928, 4928, 4928, 4928, 4928, 4928, 4928, 4950, 4960, 4950, 4960, 4950, 4992, 4950, 4968, 4950, 4960, 4950, 4968, 4950, 4960, 4960, 5040, 4950, 4968, 4950, 4968, 4950, 4968, 4968, 4968, 4968, 4968, 4968, 4968, 4968, 4968, 4968, 4992, 4992, 4992, 4992, 4992, 4992, 4992, 4992, 4992, 4992, 4992, 4992, 4992, 4992, 4992, 4992, 4992, 4992, 4992, 4992, 4992, 4992, 4992, 4992, 4992, 4992, 4992, 4992, 4992, 4992, 4992, 4992, 4992, 4992, 5016, 5000, 5040, 5022, 5000, 5000, 5040, 5016, 5000, 5000, 5016, 5016, 5040, 5040, 5040, 5040, 5040, 5040, 5040, 5040, 5040, 5040, 5040, 5040, 5040, 5040, 5040, 5040, 5040, 5040, 5040, 5040, 5040, 5040, 5040, 5040, 5040, 5040, 5040, 5040, 5040, 5040, 5040, 5040, 5040, 5040, 5040, 5040, 5040, 5040, 5040, 5082, 5088, 5088, 5088, 5070, 5088, 5088, 5100, 5070, 5096, 5075, 5100, 5070, 5100, 5070, 5096, 5070, 5100, 5082, 5124, 5082, 5096, 5096, 5100, 5082, 5100, 5100, 5096, 5082, 5100, 5082, 5100, 5100, 5096, 5096, 5104, 5100, 5100, 5103, 5096, 5096, 5100, 5096, 5100, 5120, 5096, 5096, 5100, 5100, 5100, 5103, 5120, 5120, 5120, 5103, 5120, 5120, 5120, 5103, 5120, 5120, 5120, 5103, 5120, 5120, 5120, 5120, 5120, 5120, 5120, 5120, 5120, 5120, 5120, 5120, 5120, 5120, 5120, 5120, 5120, 5120, 5120, 5120, 5120, 5160, 5148, 5145, 5148, 5152, 5152, 5145, 5152, 5148, 5148, 5152, 5148, 5148, 5148, 5145, 5180, 5184, 5184, 5175, 5168, 5184, 5168, 5168, 5168, 5180, 5180, 5175, 5184, 5184, 5184, 5175, 5184, 5184, 5184, 5175, 5184, 5184, 5184, 5184, 5184, 5184, 5184, 5184, 5184, 5184, 5184, 5184, 5184, 5184, 5184, 5184, 5184, 5184, 5184, 5184, 5184, 5184, 5184, 5184, 5184, 5184, 5184, 5184, 5184, 5200, 5200, 5220, 5200, 5200, 5200, 5220, 5220, 5280, 5220, 5220, 5220, 5236, 5280, 5239, 5236, 5250, 5264, 5225, 5248, 5250, 5236, 5244, 5280, 5248, 5236, 5248, 5244, 5244, 5244, 5236, 5236, 5250, 5264, 5250, 5264, 5250, 5264, 5250, 5280, 5250, 5280, 5250, 5280, 5250, 5280, 5250, 5280, 5270, 5280, 5250, 5280, 5250, 5280, 5250, 5280, 5250, 5280, 5250, 5280, 5278, 5292, 5265, 5280, 5280, 5280, 5265, 5280, 5280, 5280, 5265, 5280, 5280, 5280, 5280, 5280, 5280, 5280, 5280, 5280, 5280, 5280, 5280, 5280, 5280, 5280, 5280, 5280, 5280, 5292, 5292, 5292, 5486, 5292, 5292, 5292, 5292, 5292, 5304, 5292, 5292, 5292, 5313, 5400, 5328, 5320, 5328, 5328, 5320, 5328, 5328, 5320, 5320, 5320, 5320, 5360, 5376, 5320, 5320, 5376, 5324, 5324, 5346, 5368, 5346, 5376, 5346, 5412, 5346, 5376, 5346, 5376, 5346, 5424, 5346, 5376, 5346, 5376, 5346, 5376, 5346, 5376, 5346, 5376, 5346, 5376, 5346, 5376, 5346, 5376, 5346, 5376, 5346, 5376, 5346, 5376, 5376, 5376, 5376, 5376, 5376, 5376, 5376, 5376, 5376, 5376, 5376, 5376, 5376, 5376, 5376, 5376, 5376, 5376, 5376, 5376, 5376, 5376, 5376, 5376, 5376, 5376, 5376, 5376, 5376, 5376, 5376, 5376, 5376, 5376, 5400, 5400, 5390, 5400, 5400, 5400, 5400, 5400, 5400, 5400, 5400, 5400, 5400, 5400, 5400, 5400, 5400, 5400, 5400, 5400, 5400, 5400, 5400, 5440, 5440, 5460, 5440, 5440, 5439, 5440, 5460, 5440, 5434, 5440, 5544, 5440, 5440, 5440, 5440, 5440, 5440, 5440, 5440, 5460, 5440, 5440, 5460, 5440, 5440, 5440, 5440, 5440, 5440, 5440, 5460, 5460, 5445, 5460, 5472, 5460, 5460, 5460, 5472, 5460, 5460, 5460, 5460, 5460, 5472, 5460, 5472, 5460, 5460, 5460, 5472, 5472, 5472, 5472, 5472, 5472, 5472, 5472, 5472, 5472, 5472, 5488, 5488, 5488, 5504, 5500, 5504, 5504, 5488, 5488, 5488, 5488, 5520, 5508, 5488, 5488, 5508, 5488, 5500, 5488, 5488, 5488, 5544, 5500, 5520, 5508, 5508, 5500, 5508, 5508, 5500, 5500, 5508, 5508, 5520, 5508, 5508, 5508, 5520, 5520, 5520, 5520, 5520, 5520, 5525, 5544, 5544, 5544, 5544, 5544, 5544, 5568, 5544, 5544, 5544, 5544, 5544, 5544, 5544, 5544, 5544, 5544, 5544, 5544, 5544, 5544, 5544, 5544, 5544, 5544, 5544, 5544, 5544, 5544, 5544, 5544, 5544, 5600, 5566, 5568, 5568, 5568, 5568, 5568, 5568, 5568, 5568, 5568, 5580, 5580, 5580, 5580, 5589, 5580, 5580, 5580, 5577, 5600, 5600, 5600, 5600, 5600, 5586, 5600, 5589, 5616, 5586, 5600, 5586, 5600, 5600, 5600, 5589, 5600, 5600, 5600, 5600, 5600, 5600, 5600, 5600, 5600, 5600, 5600, 5600, 5600, 5600, 5600, 5600, 5600, 5600, 5600, 5600, 5616, 5600, 5600, 5600, 5616, 5616, 5616, 5616, 5616, 5616, 5616, 5616, 5616, 5616, 5616, 5616, 5616, 5632, 5664, 5625, 5632, 5632, 5632, 5625, 5632, 5632, 5632, 5625, 5632, 5632, 5632, 5632, 5632, 5632, 5632, 5632, 5684, 5670, 5712, 5670, 5676, 5670, 5676, 5670, 5712, 5670, 5740, 5670, 5700, 5670, 5700, 5670, 5684, 5670, 5712, 5670, 5700, 5670, 5684, 5670, 5712, 5670, 5700, 5670, 5684, 5670, 5700, 5670, 5712, 5670, 5700, 5670, 5700, 5670, 5700, 5700, 5700, 5712, 5712, 5700, 5700, 5720, 5712, 5700, 5700, 5700, 5700, 5712, 5700, 5712, 5700, 5700, 5700, 5712, 5712, 5712, 5712, 5712, 5712, 5712, 5712, 5720, 5712, 5712, 5712, 5712, 5712, 5742, 5720, 5720, 5740, 5742, 5720, 5720, 5760, 5733, 5760, 5742, 5760, 5742, 5760, 5742, 5760, 5733, 5760, 5760, 5760, 5733, 5760, 5760, 5760, 5760, 5760, 5750, 5760, 5760, 5760, 5750, 5760, 5760, 5760, 5760, 5760, 5760, 5760, 5760, 5760, 5760, 5760, 5760, 5760, 5760, 5760, 5760, 5760, 5760, 5760, 5760, 5760, 5760, 5760, 5760, 5760, 5760, 5760, 5760, 5760, 5760, 5840, 5840, 5796, 5775, 5796, 5808, 5796, 5800, 5796, 5796, 5796, 5796, 5796, 5814, 5796, 5796, 5796, 5814, 5808, 5808, 5832, 5832, 5808, 5808, 5808, 5808, 5808, 5814, 5808, 5808, 5808, 5824, 5808, 5808, 5808, 5808, 5808, 5824, 5824, 5832, 5824, 5824, 5824, 5824, 5824, 5832, 5824, 5824, 5824, 5824, 5824, 5824, 5824, 5824, 5824, 5832, 5832, 5832, 5832, 5832, 5832, 5832, 5832, 5832, 5832, 5832, 5832, 5832, 5832, 5832, 5832, 5832, 5880, 5880, 5880, 5850, 5880, 5850, 5880, 5850, 5880, 5880, 5880, 5880, 5888, 5880, 5880, 5880, 5880, 5880, 5880, 5880, 5880, 5880, 5880, 5880, 5880, 5880, 5880, 5880, 5880, 5880, 5880, 5880, 5880, 5880, 5880, 5880, 5880, 5880, 5880, 5880, 5880, 5880, 5920, 5916, 5920, 5922, 5920, 5922, 5916, 5916, 5916, 5920, 5920, 5920, 5936, 5920, 5920, 5920, 5940, 5940, 5940, 5928, 5928, 5915, 5940, 5940, 5940, 5940, 5928, 5940, 5940, 5928, 5928, 5928, 5928, 5928, 5940, 5950, 5940, 5929, 5940, 5978, 5940, 5940, 5940, 5940, 5940, 5940, 5940, 5940, 5940, 5940, 5940, 5940, 5940, 5940, 5940, 5950, 5940, 5940, 5940, 5950, 6000, 5984, 5984, 5984, 5980, 5985, 5984, 5980, 5980, 5967, 6000, 6000, 5984, 5967, 6000, 5984, 5980, 5984, 6000, 5980, 5980, 5984, 5984, 5984, 6000, 5985, 6000, 5994, 5984, 5984, 6000, 5984, 5984, 5984, 6000, 6000, 6000, 6000, 6000, 6000, 6000, 6000, 6000, 6000, 6000, 6000, 6000, 6000, 6000, 6000, 6000, 6000, 6000, 6000, 6000, 6000, 6000, 6000, 6000, 6000, 6000, 6000, 6000, 6048, 6032, 6048, 6032, 6032, 6032, 6045, 6048, 6048, 6048, 6048, 6048, 6048, 6048, 6045, 6048, 6048, 6048, 6048, 6048, 6048, 6048, 6048, 6048, 6048, 6048, 6048, 6048, 6048, 6048, 6048, 6048, 6048, 6048, 6048, 6048, 6048, 6048, 6048, 6048, 6048, 6048, 6048, 6048, 6048, 6048, 6048, 6048, 6048, 6072, 6072, 6072, 6072, 6120, 6075, 6080, 6080, 6080, 6075, 6084, 6080, 6080, 6075, 6080, 6080, 6080, 6075, 6080, 6080, 6080, 6075, 6084, 6120, 6120, 6075, 6120, 6120, 6120, 6120, 6120, 6136, 6120, 6118, 6144, 6120, 6120, 6120, 6120, 6118, 6120, 6120, 6144, 6120, 6120, 6120, 6120, 6138, 6120, 6120, 6120, 6120, 6120, 6120, 6120, 6120, 6120, 6120, 6120, 6120, 6120, 6120, 6144, 6150, 6144, 6144, 6144, 6144, 6144, 6125, 6144, 6144, 6144, 6144, 6144, 6144, 6144, 6144, 6144, 6144, 6144, 6144, 6144, 6144, 6144, 6144, 6144, 6144, 6144, 6144, 6144, 6144, 6144, 6144, 6144, 6144, 6144, 6144, 6144, 6144, 6160, 6171, 6160, 6160, 6160, 6174, 6192, 6174, 6188, 6174, 6192, 6200, 6204, 6174, 6188, 6174, 6216, 6174, 6216, 6174, 6188, 6210, 6200, 6200, 6216, 6210, 6200, 6200, 6240, 6216, 6216, 6216, 6240, 6210, 6216, 6210, 6216, 6210, 6232, 6210, 6240, 6210, 6240, 6210, 6240, 6210, 6240, 6240, 6240, 6237, 6240, 6240, 6240, 6240, 6240, 6240, 6240, 6237, 6240, 6240, 6240, 6237, 6240, 6240, 6240, 6237, 6240, 6240, 6240, 6237, 6240, 6240, 6240, 6237, 6240, 6240, 6240, 6237, 6240, 6240, 6240, 6237, 6240, 6240, 6240, 6240, 6264, 6264, 6264, 6264, 6264, 6264, 6264, 6250, 6264, 6264, 6272, 6250, 6272, 6270, 6272, 6270, 6272, 6270, 6272, 6272, 6272, 6272, 6272, 6272, 6272, 6272, 6272, 6272, 6272, 6272, 6272, 6272, 6272, 6272, 6272, 6272, 6300, 6300, 6300, 6292, 6292, 6300, 6300, 6300, 6300, 6300, 6300, 6300, 6300, 6300, 6300, 6318, 6300, 6300, 6300, 6300, 6300, 6300, 6300, 6336, 6300, 6300, 6300, 6336, 6336, 6318, 6336, 6318, 6336, 6318, 6336, 6318, 6336, 6318, 6336, 6318, 6336, 6318, 6336, 6336, 6336, 6336, 6336, 6336, 6336, 6336, 6336, 6336, 6336, 6336, 6336, 6336, 6336, 6336, 6336, 6336, 6336, 6336, 6336, 6370, 6384, 6400, 6384, 6375, 6380, 6380, 6384, 6405, 6380, 6392, 6384, 6370, 6384, 6384, 6380, 6384, 6384, 6370, 6380, 6370, 6384, 6396, 6384, 6370, 6384, 6384, 6384, 6375, 6384, 6384, 6384, 6510, 6384, 6384, 6384, 6384, 6384, 6400, 6400, 6400, 6400, 6400, 6400, 6417, 6400, 6400, 6400, 6400, 6400, 6400, 6400, 6400, 6400, 6400, 6400, 6400, 6400, 6400, 6400, 6400, 6400, 6400, 6400, 6400, 6400, 6400, 6400, 6426, 6440, 6426, 6480, 6448, 6448, 6426, 6440, 6426, 6468, 6426, 6468, 6426, 6440, 6440, 6440, 6435, 6448, 6468, 6440, 6435, 6468, 6460, 6480, 6475, 6468, 6468, 6480, 6480, 6468, 6480, 6460, 6480, 6480, 6460, 6460, 6468, 6468, 6468, 6468, 6475, 6468, 6480, 6480, 6468, 6468, 6480, 6468, 6480, 6468, 6468, 6468, 6480, 6480, 6480, 6468, 6468, 6468, 6480, 6480, 6480, 6480, 6480, 6480, 6480, 6480, 6480, 6480, 6480, 6480, 6480, 6480, 6480, 6480, 6480, 6480, 6480, 6480, 6480, 6480, 6510, 6500, 6510, 6528, 6525, 6500, 6528, 6536, 6500, 6500, 6528, 6528, 6525, 6528, 6528, 6528, 6517, 6528, 6528, 6528, 6525, 6528, 6528, 6528, 6528, 6528, 6528, 6528, 6528, 6528, 6528, 6528, 6528, 6528, 6528, 6528, 6528, 6528, 6528, 6552, 6534, 6552, 6534, 6552, 6545, 6552, 6552, 6552, 6552, 6552, 6552, 6552, 6552, 6552, 6552, 6552, 6552, 6552, 6552, 6552, 6552, 6552, 6552, 6600, 6561, 6600, 6600, 6600, 6561, 6600, 6600, 6600, 6561, 6600, 6608, 6600, 6561, 6600, 6600, 6600, 6561, 6600, 6624, 6624, 6600, 6600, 6600, 6600, 6591, 6600, 6600, 6600, 6600, 6600, 6600, 6600, 6600, 6600, 6600, 6600, 6600, 6600, 6600, 6600, 6600, 6600, 6600, 6600, 6600, 6600, 6600, 6600, 6600, 6624, 6624, 6624, 6615, 6624, 6624, 6624, 6615, 6624, 6624, 6624, 6615, 6624, 6624, 6624, 6615, 6656, 6630, 6656, 6656, 6656, 6650, 6688, 6650, 6660, 6678, 6660, 6656, 6660, 6656, 6656, 6656, 6656, 6650, 6656, 6650, 6656, 6656, 6664, 6650, 6656, 6656, 6656, 6655, 6656, 6656, 6656, 6696, 6656, 6656, 6656, 6656, 6656, 6656, 6656, 6656, 6656, 6656, 6688, 6688, 6696, 6696, 6720, 6688, 6720, 6688, 6688, 6688, 6696, 6720, 6696, 6696, 6688, 6688, 6696, 6688, 6688, 6688, 6696, 6696, 6720, 6720, 6720, 6720, 6720, 6720, 6720, 6720, 6720, 6720, 6720, 6720, 6720, 6720, 6720, 6720, 6720, 6720, 6720, 6720, 6720, 6720, 6720, 6720, 6720, 6720, 6720, 6720, 6720, 6720, 6720, 6720, 6720, 6720, 6720, 6720, 6720, 6720, 6720, 6720, 6720, 6720, 6720, 6720, 6720, 6750, 6760, 6750, 6768, 6750, 6768, 6750, 6768, 6750, 6768, 6750, 6768, 6750, 6760, 6760, 6776, 6750, 6784, 6750, 6784, 6750, 6760, 6750, 6804, 6750, 6760, 6750, 6804, 6750, 6800, 6804, 6804, 6816, 6776, 6776, 6804, 6786, 6776, 6776, 6804, 6776, 6820, 6800, 6776, 6776, 6800, 6825, 6804, 6800, 6800, 6804, 6800, 6800, 6800, 6804, 6800, 6800, 6804, 6800, 6804, 6800, 6800, 6804, 6804, 6800, 6800, 6804, 6800, 6800, 6800, 6804, 6804, 6804, 6804, 6804, 6804, 6804, 6804, 6804, 6804, 6840, 6804, 6804, 6804, 6840, 6840, 6825, 6860, 6840, 6840, 6831, 6840, 6840, 6840, 6825, 6840, 6840, 6840, 6840, 6840, 6840, 6840, 6840, 6840, 6840, 6840, 6840, 6840, 6840, 6860, 6864, 6864, 6864, 6864, 6860, 6864, 6864, 6864, 6864, 6864, 6860, 6860, 6864, 6860, 6880, 6864, 6864, 6860, 6888, 6860, 6864, 6864, 6860, 6860, 6885, 7020, 6912, 6900, 6912, 6900, 6900, 6900, 6885, 6912, 6912, 6900, 6875, 6900, 6902, 6912, 6885, 6900, 6912, 6912, 6885, 6900, 6900, 6900, 6912, 6900, 6912, 6900, 6900, 6900, 6912, 6912, 6912, 6912, 6912, 6912, 6912, 6912, 6912, 6912, 6912, 6912, 6912, 6912, 6912, 6912, 6912, 6912, 6912, 6912, 6912, 6912, 6912, 6912, 6912, 6912, 6912, 6912, 6912, 6912, 6912, 6912, 6930, 6960, 6930, 6944, 6930, 6960, 6930, 7896, 6960, 6960, 6960, 6960, 6960, 6960, 6960, 6960, 6960, 6960, 6960, 6960, 6960, 6960, 6960, 6960, 6996, 7008, 6975, 6992, 7008, 6996, 6975, 6992, 7000, 7020, 6975, 7020, 7000, 7020, 6992, 7000, 7000, 7000, 6993, 7000, 7020, 6992, 6993, 6992, 6992, 6992, 7011, 7000, 7000, 7040, 7000, 7000, 7000, 7000, 7000, 7000, 7000, 7000, 7038, 7000, 7000, 7020, 7000, 7000, 7000, 7020, 7000, 7020, 7000, 7000, 7000, 7000, 7000, 7020, 7040, 7000, 7000, 7020, 7020, 7020, 7020, 7020, 7020, 7020, 7020, 7020, 7020, 7020, 7020, 7020, 7038, 7020, 7020, 7020, 7040, 7040, 7056, 7040, 7040, 7040, 7040, 7040, 7040, 7040, 7040, 7040, 7040, 7040, 7040, 7040, 7040, 7040, 7040, 7040, 7040, 7040, 7040, 7056, 7056, 7056, 7056, 7056, 7056, 7056, 7056, 7056, 7056, 7056, 7056, 7056, 7056, 7056, 7056, 7056, 7072, 7072, 7072, 7128, 7098, 7104, 7084, 7084, 7106, 7140, 7104, 7104, 7104, 7128, 7104, 7104, 7098, 7104, 7104, 7104, 7104, 7104, 7098, 7104, 7105, 7140, 7098, 7128, 7098, 7128, 7128, 7128, 7125, 7128, 7150, 7128, 7128, 7128, 7128, 7128, 7125, 7128, 7128, 7128, 7128, 7128, 7128, 7128, 7125, 7128, 7128, 7128, 7128, 7128, 7128, 7128, 7125, 7128, 7128, 7128, 7128, 7128, 7128, 7128, 7128, 7128, 7128, 7128, 7128, 7128, 7128, 7140, 7140, 7140, 7168, 7176, 7161, 7176, 7150, 7168, 7182, 7168, 7150, 7168, 7168, 7168, 7176, 7168, 7168, 7168, 7168, 7168, 7168, 7168, 7168, 7168, 7168, 7168, 7168, 7168, 7168, 7168, 7168, 7168, 7168, 7168, 7168, 7168, 7168, 7168, 7168, 7168, 7168, 7168, 7168, 7168, 7200, 7200, 7200, 7200, 7200, 7200, 7200, 7200, 7200, 7200, 7200, 7200, 7200, 7200, 7200, 7200, 7200, 7200, 7200, 7200, 7200, 7200, 7200, 7200, 7200, 7200, 7200, 7200, 7200, 7200, 7200, 7280, 7225, 7280, 7280, 7296, 7245, 7252, 7254, 7260, 7250, 7296, 7254, 7252, 7245, 7260, 7260, 7260, 7245, 7252, 7254, 7260, 7245, 7280, 7254, 7260, 7245, 7260, 7260, 7260, 7280, 7260, 7290, 7280, 7280, 7260, 7260, 7260, 7290, 7260, 7260, 7260, 7260, 7260, 7290, 7260, 7280, 7260, 7260, 7260, 7290, 7280, 7280, 7280, 7280, 7280, 7296, 7280, 7280, 7280, 7280, 7280, 7290, 7280, 7280, 7280, 7280, 7280, 7290, 7280, 7280, 7280, 7290, 7296, 7290, 7296, 7290, 7296, 7290, 7296, 7290, 7296, 7290, 7296, 7290, 7296, 7290, 7332, 7290, 7344, 7290, 7344, 7326, 7392, 7315, 7344, 7344, 7344, 7344, 7344, 7344, 7344, 7344, 7344, 7344, 7344, 7344, 7344, 7344, 7360, 7344, 7344, 7344, 7344, 7344, 7344, 7344, 7344, 7344, 7344, 7344, 7344, 7344, 7344, 7344, 7344, 7344, 7344, 7344, 7344, 7344, 7344, 7344, 7344, 7344, 7344, 7350, 7360, 7350, 7360, 7350, 7360, 7350, 7360, 7350, 7360, 7371, 7380, 7392, 7392, 7371, 7392, 7392, 7392, 7371, 7392, 7392, 7392, 7371, 7392, 7392, 7392, 7371, 7392, 7392, 7392, 7392, 7392, 7392, 7392, 7392, 7424, 7392, 7392, 7392, 7392, 7392, 7392, 7392, 7392, 7392, 7392, 7392, 7392, 7392, 7392, 7392, 7440, 7410, 7452, 7410, 7440, 7424, 7424, 7424, 7436, 7424, 7424, 7425, 7424, 7424, 7424, 7424, 7424, 7424, 7424, 7425, 7436, 7440, 7440, 7425, 7440, 7440, 7440, 7425, 7440, 7436, 7436, 7425, 7488, 7448, 7452, 7488, 7452, 7480, 7448, 7448, 7548, 7448, 7452, 7452, 7448, 7448, 7452, 7475, 7452, 7452, 7452, 7480, 7488, 7488, 7480, 7488, 7488, 7480, 7488, 7488, 7480, 7480, 7500, 7475, 7480, 7488, 7480, 7480, 7488, 7488, 7488, 7488, 7480, 7480, 7488, 7488, 7480, 7480, 7488, 7488, 7488, 7488, 7488, 7488, 7488, 7488, 7488, 7488, 7488, 7488, 7488, 7488, 7488, 7488, 7488, 7488, 7488, 7500, 7500, 7514, 7524, 7500, 7500, 7500, 7500, 7544, 7500, 7560, 7500, 7500, 7500, 7540, 7540, 7524, 7552, 7524, 7524, 7552, 7524, 7524, 7524, 7548, 7548, 7533, 7540, 7560, 7560, 7560, 7560, 7560, 7560, 7560, 7560, 7560, 7560, 7560, 7560, 7546, 7560, 7560, 7560, 7546, 7560, 7560, 7560, 7560, 7560, 7546, 7560, 7560, 7560, 7560, 7560, 7560, 7560, 7560, 7560, 7560, 7560, 7560, 7560, 7560, 7560, 7560, 7560, 7560, 7560, 7560, 7560, 7560, 7560, 7560, 7616, 7590, 7600, 7650, 7616, 7590, 7600, 7590, 7600, 7590, 7600, 7600, 7600, 7614, 7600, 7600, 7616, 7600, 7632, 7600, 7600, 7632, 7616, 7600, 7600, 7616, 7600, 7600, 7600, 7616, 7616, 7605, 7700, 7656, 7616, 7616, 7616, 7644, 7616, 7616, 7616, 7616, 7616, 7616, 7616, 7616, 7616, 7623, 7668, 7644, 7644, 7623, 7680, 7656, 7656, 7644, 7644, 7650, 7680, 7650, 7644, 7644, 7644, 7650, 7656, 7680, 7644, 7644, 7644, 7650, 7656, 7650, 7644, 7644, 7644, 7650, 7680, 7650, 7680, 7650, 7680, 7680, 7680, 7680, 7680, 7680, 7680, 7680, 7680, 7680, 7680, 7680, 7680, 7680, 7680, 7680, 7680, 7680, 7680, 7680, 7680, 7680, 7680, 7680, 7680, 7680, 7680, 7680, 7680, 7680, 7680, 7680, 7680, 7680, 7680, 7680, 7680, 7680, 7680, 7680, 7680, 7680, 7680, 7680, 7700, 7722, 7700, 7722, 7700, 7722, 7728, 7700, 7700, 7728, 7728, 7722, 7728, 7722, 7728, 7722, 7728, 7722, 7728, 7728, 7728, 7722, 7728, 7722, 7728, 7722, 7728, 7722, 7728, 7752, 7744, 7735, 7744, 7770, 7776, 7776, 7776, 7744, 7744, 7770, 7744, 7744, 7744, 7752, 7744, 7752, 7752, 7744, 7744, 7744, 7744, 7744, 7744, 7770, 7776, 7770, 7776, 7776, 7776, 7776, 7776, 7774, 7776, 7776, 7776, 7776, 7776, 7776, 7776, 7776, 7776, 7776, 7776, 7776, 7776, 7776, 7776, 7776, 7776, 7776, 7776, 7776, 7776, 7776, 7776, 7776, 7776, 7776, 7776, 7776, 7776, 7776, 7776, 7776, 7776, 7776, 7800, 7800, 7800, 7800, 7800, 7800, 7800, 7800, 7800, 7800, 7800, 7800, 7800, 7800, 7820, 7840, 7840, 7830, 7872, 7830, 7840, 7830, 7840, 7830, 7840, 7830, 7840, 7830, 7840, 7830, 7884, 7840, 7840, 7840, 7840, 7854, 7872, 7840, 7840, 7875, 7840, 7840, 7840, 7840, 7840, 7840, 7840, 7840, 7904, 7840, 7840, 7840, 7840, 7840, 7872, 7840, 7840, 7840, 7872, 7866, 7872, 7872, 7872, 7875, 7896, 7896, 7904, 7865, 7920, 7896, 7896, 7875, 7920, 7896, 7888, 7875, 7888, 7888, 7888, 7875, 7920, 7904, 7912, 7875, 7904, 7904, 7920, 7875, 7904, 7904, 7920, 7875, 7920, 7904, 7904, 7904, 7904, 7920, 7920, 7920, 7920, 7920, 7904, 7904, 7920, 7904, 7904, 7904, 7920, 7920, 7920, 7920, 7920, 7920, 7920, 7920, 7920, 7920, 7920, 7920, 7920, 7920, 7920, 7920, 7920, 7920, 7920, 7920, 7920, 7920, 7920, 7920, 7920, 7920, 7920, 7920, 7920, 7938, 7992, 7938, 7956, 7938, 7956, 7938, 7956, 7938, 7956, 7938, 7956, 7938, 7980, 7938, 7980, 7938, 7980, 7938, 7956, 7990, 7956, 7956, 7956, 7980, 7980, 7992, 7980, 7992, 7980, 7975, 7980, 8000, 7980, 7986, 7980, 7980, 7980, 7995, 7980, 7980, 7980, 7980, 7980, 7986, 7980, 7992, 7980, 7980, 7980, 8000, 8000, 7986, 8000, 7986, 8000, 8000, 8000, 8000, 8000, 8008, 8000, 8000, 8000, 8000, 8000, 8000, 8000, 8000, 8000, 8000, 8000, 8000, 8000, 8000, 8000, 8050, 8000, 8000, 8000, 8000, 8000, 8000, 8000, 8056, 8064, 8019, 8064, 8064, 8064, 8019, 8064, 8050, 8064, 8019, 8064, 8064, 8060, 8019, 8064, 8060, 8060, 8064, 8064, 8064, 8064, 8064, 8064, 8050, 8060, 8050, 8064, 8060, 8060, 8050, 8064, 8064, 8064, 8064, 8064, 8064, 8064, 8064, 8064, 8064, 8064, 8064, 8064, 8064, 8064, 8064, 8064, 8064, 8064, 8064, 8064, 8064, 8064, 8064, 8064, 8064, 8064, 8064, 8064, 8064, 8064, 8064, 8064, 8064, 8096, 8085, 8100, 8092, 8092, 8100, 8096, 8096, 8100, 8085, 8096, 8096, 8100, 8100, 8100, 8100, 8100, 8100, 8100, 8100, 8100, 8100, 8100, 8100, 8100, 8100, 8100, 8100, 8100, 8100, 8100, 8112, 8100, 8100, 8100, 8160, 8140, 8151, 8160, 8140, 8140, 8151, 8160, 8160, 8160, 8160, 8160, 8160, 8160, 8125, 8160, 8160, 8160, 8160, 8160, 8160, 8160, 8160, 8160, 8160, 8160, 8151, 8160, 8160, 8160, 8160, 8160, 8160, 8160, 8160, 8160, 8160, 8160, 8160, 8160, 8160, 8160, 8160, 8160, 8160, 8160, 8160, 8160, 8160, 8160, 8160, 8208, 8184, 8184, 8184, 8184, 8184, 8192, 8190, 8192, 8190, 8192, 8192, 8192, 8190, 8192, 8190, 8192, 8190, 8192, 8190, 8208, 8190, 8192, 8190, 8208, 8190, 8192, 8190, 8192, 8190, 8192, 8192, 8192, 8192, 8192, 8192, 8192, 8192, 8192, 8192, 8192, 8192, 8192, 8192, 8192, 8192, 8208, 8250, 8320, 8250, 8232, 8232, 8260, 8250, 8232, 8228, 8228, 8232, 8280, 8232, 8256, 8232, 8232, 8232, 8256, 8250, 8256, 8232, 8232, 8232, 8256, 8232, 8232, 8232, 8232, 8232, 8272, 8262, 8272, 8250, 8280, 8250, 8280, 8250, 8280, 8262, 8280, 8250, 8280, 8250, 8280, 8250, 8316, 8262, 8316, 8262, 8280, 8262, 8280, 8262, 8280, 8262, 8280, 8280, 8280, 8280, 8280, 8280, 8280, 8280, 8280, 8280, 8280, 8280, 8316, 8316, 8316, 8316, 8320, 8316, 8316, 8320, 8316, 8316, 8316, 8316, 8316, 8316, 8316, 8316, 8316, 8316, 8316, 8316, 8316, 8316, 8316, 8316, 8316, 8316, 8316, 8316, 8316, 8320, 8316, 8316, 8316, 8316, 8316, 8320, 8316, 8316, 8316, 8316, 8316, 8320, 8316, 8316, 8316, 8320, 8320, 8320, 8320, 8320, 8424, 8352, 8352, 8352, 8352, 8352, 8352, 8349, 8352, 8352, 8352, 8352, 8352, 8352, 8352, 8352, 8352, 8352, 8400, 8370, 8372, 8370, 8360, 8360, 8400, 8370, 8360, 8360, 8400, 8370, 8400, 8370, 8372, 8400, 8400, 8379, 8400, 8398, 8400, 8400, 8400, 8398, 8400, 8379, 8400, 8400, 8400, 8379, 8400, 8400, 8400, 8400, 8400, 8398, 8400, 8400, 8400, 8400, 8400, 8400, 8400, 8400, 8400, 8400, 8400, 8400, 8400, 8400, 8400, 8400, 8400, 8400, 8400, 8400, 8400, 8400, 8400, 8400, 8400, 8400, 8400, 8400, 8400, 8415, 8424, 8424, 8424, 8424, 8448, 8424, 8424, 8424, 8424, 8448, 8424, 8424, 8424, 8424, 8424, 8424, 8424, 8424, 8424, 8424, 8448, 8448, 8448, 8448, 8448, 8448, 8448, 8448, 8448, 8448, 8448, 8448, 8448, 8448, 8448, 8448, 8448, 8448, 8448, 8448, 8448, 8448, 8448, 8448, 8448, 8448, 8448, 8470, 8496, 8528, 8512, 8470, 8500, 8470, 8512, 8505, 8500, 8470, 8520, 8500, 8532, 8510, 8512, 8505, 8532, 8510, 8544, 8505, 8500, 8526, 8512, 8500, 8500, 8514, 8512, 8500, 8512, 8512, 8512, 8505, 8500, 8512, 8512, 8505, 8500, 8540, 8528, 8500, 8500, 8512, 8512, 8505, 8512, 8512, 8512, 8505, 8512, 8512, 8512, 8505, 8512, 8526, 8568, 8505, 8568, 8568, 8568, 8550, 8568, 8550, 8576, 8547, 8568, 8568, 8580, 8550, 8556, 8550, 8556, 8550, 8576, 8550, 8568, 8568, 8568, 8550, 8568, 8550, 8568, 8550, 8580, 8568, 8580, 8550, 8568, 8550, 8568, 8550, 8568, 8568, 8568, 8568, 8568, 8568, 8568, 8568, 8568, 8568, 8568, 8568, 8568, 8568, 8568, 8568, 8568, 8568, 8568, 8568, 8580, 8580, 8580, 8580, 8580, 8610, 8580, 8600, 8580, 8575, 8580, 8610, 8624, 8602, 8640, 8610, 8640, 8610, 8624, 8640, 8624, 8624, 8624, 8624, 8640, 8613, 8624, 8624, 8640, 8613, 8640, 8640, 8640, 8624, 8640, 8640, 8624, 8619, 8624, 8624, 8640, 8624, 8624, 8640, 8624, 8624, 8624, 8624, 8624, 8625, 8640, 8624, 8624, 8640, 8624, 8640, 8624, 8624, 8624, 8640, 8640, 8640, 8640, 8640, 8640, 8640, 8640, 8640, 8640, 8640, 8640, 8640, 8640, 8640, 8640, 8640, 8640, 8640, 8640, 8640, 8640, 8640, 8640, 8640, 8640, 8694, 8704, 8670, 8700, 8670, 8680, 8670, 8680, 8680, 8700, 8694, 8680, 8680, 8700, 8694, 8712, 8704, 8700, 8694, 8700, 8694, 8712, 8694, 8700, 8694, 8704, 8700, 8700, 8694, 8700, 8694, 8700, 8694, 8700, 8694, 8700, 8704, 8704, 8704, 8704, 8712, 8704, 8704, 8704, 8745, 8704, 8704, 8704, 8704, 8704, 8704, 8704, 8704, 8704, 8704, 8712, 8712, 8712, 8712, 8712, 8712, 8736, 8736, 8736, 8736, 8736, 8736, 8736, 8736, 8736, 8736, 8736, 8736, 8736, 8736, 8736, 8736, 8736, 8736, 8736, 8736, 8736, 8736, 8736, 8736, 8736, 8736, 8748, 8748, 8748, 8778, 8748, 8748, 8748, 8748, 8748, 8748, 8748, 8748, 8748, 8748, 8748, 8748, 8748, 8775, 8748, 8748, 8748, 8775, 8816, 8778, 8800, 8775, 8788, 8778, 8800, 8775, 8800, 8820, 8800, 8775, 8800, 8800, 8816, 8775, 8788, 8800, 8820, 8800, 8800, 8816, 8800, 8800, 8800, 8800, 8800, 8800, 8800, 8800, 8800, 8800, 8800, 8800, 8800, 8800, 8820, 8800, 8800, 8800, 8820, 8800, 8800, 8800, 8820, 8820, 8820, 8820, 8820, 8820, 8820, 8820, 8820, 8832, 8820, 8820, 8820, 8820, 8820, 8820, 8820, 8832, 8820, 8820, 8820, 8832, 8832, 8832, 8856, 8856, 8840, 8840, 8856, 8856, 8880, 8874, 8928, 8880, 8880, 8855, 8880, 8880, 8880, 8925, 8892, 8880, 8880, 8874, 8880, 8874, 8880, 8874, 8880, 8880, 8880, 8880, 8880, 8880, 8880, 8880, 8880, 8904, 8892, 8904, 8892, 8904, 8892, 8904, 8892, 8910, 8892, 8910, 8928, 8910, 8928, 8892, 8928, 8892, 8892, 8928, 8892, 8892, 8892, 8910, 8928, 8910, 8928, 8910, 8964, 8910, 8928, 8910, 8928, 8910, 8964, 8910, 8928, 8910, 8960, 8910, 8928, 8910, 8928, 8910, 8928, 8910, 8928, 8910, 8928, 8910, 8928, 8910, 8928, 8910, 8928, 8928, 8960, 8960, 8960, 8925, 8960, 8960, 8960, 8954, 8976, 8960, 8960, 8970, 8960, 8960, 8960, 8960, 8960, 8960, 8960, 8960, 8960, 8960, 8960, 8960, 8960, 8960, 8960, 8960, 8960, 8960, 8960, 8960, 8960, 8960, 8960, 8960, 8960, 8960, 8960, 8960, 8960, 8960, 8960, 8960, 8960, 8960, 8960, 8960, 8960, 8960, 8960, 8960, 8960, 8976, 8976, 8991, 9000, 9000, 9000, 9000, 9000, 9000, 9000, 9000, 9000, 9000, 9000, 9000, 9000, 9000, 9000, 9000, 9000, 9000, 9000, 9000, 9000, 9000, 9000, 9000, 9000, 9000, 9000, 9000, 9000, 9000, 9000, 9000, 9000, 9000, 9000, 9000, 9072, 9044, 9044, 9048, 9044, 9072, 9072, 9048, 9048, 9048, 9072, 9061, 9072, 9072, 9044, 9072, 9072, 9048, 9048, 9044, 9044, 9048, 9072, 9072, 9072, 9072, 9072, 9072, 9072, 9072, 9072, 9065, 9072, 9072, 9072, 9072, 9072, 9072, 9072, 9072, 9072, 9072, 9072, 9072, 9072, 9072, 9072, 9072, 9072, 9072, 9072, 9072, 9072, 9072, 9072, 9072, 9072, 9072, 9072, 9072, 9072, 9072, 9072, 9072, 9072, 9072, 9072, 9072, 9072, 9072, 9072, 9072, 9072, 9100, 9100, 9114, 9108, 9100, 9100, 9120, 9100, 9108, 9100, 9108, 9100, 9114, 9100, 9108, 9108, 9100, 9100, 9120, 9120, 9120, 9120, 9120, 9120, 9120, 9120, 9120, 9120, 9120, 9120, 9120, 9120, 9120, 9120, 9120, 9120, 9120, 9152, 9126, 9240, 9126, 9180, 9180, 9152, 9180, 9152, 9152, 9152, 9152, 9180, 9180, 9176, 9152, 9152, 9152, 9152, 9152, 9152, 9152, 9152, 9180, 9152, 9177, 9180, 9152, 9152, 9152, 9152, 9152, 9152, 9163, 9180, 9184, 9180, 9177, 9180, 9180, 9180, 9184, 9180, 9180, 9180, 9180, 9180, 9180, 9180, 9180, 9180, 9180, 9180, 9180, 9180, 9180, 9180, 9200, 9180, 9180, 9180, 9200, 9216, 9196, 9196, 9200, 9200, 9216, 9216, 9200, 9200, 9216, 9200, 9200, 9200, 9216, 9216, 9216, 9216, 9216, 9216, 9216, 9216, 9216, 9216, 9216, 9216, 9216, 9216, 9216, 9216, 9216, 9216, 9216, 9216, 9216, 9216, 9216, 9216, 9216, 9216, 9216, 9216, 9216, 9216, 9216, 9216, 9216, 9216, 9216, 9216, 9234, 9240, 9234, 9240, 9240, 9240, 9240, 9240, 9240, 9240, 9240, 9240, 9240, 9280, 9261, 9280, 9288, 9300, 9261, 9360, 9288, 9288, 9261, 9288, 9280, 9280, 9280, 9280, 9280, 9288, 9261, 9280, 9288, 9280, 9261, 9280, 9280, 9280, 9280, 9280, 9282, 9324, 9282, 9300, 9324, 9328, 9300, 9300, 9300, 9300, 9315, 9300, 9360, 9300, 9295, 9300, 9338, 9328, 9315, 9324, 9324, 9324, 9344, 9324, 9360, 9324, 9310, 9324, 9310, 9324, 9315, 9324, 9310, 9324, 9315, 9360, 9348, 9360, 9315, 9360, 9350, 9348, 9348, 9348, 9360, 9360, 9350, 9360, 9360, 9360, 9360, 9360, 9360, 9360, 9360, 9360, 9350, 9360, 9360, 9360, 9360, 9360, 9350, 9360, 9360, 9360, 9360, 9360, 9350, 9360, 9360, 9360, 9350, 9360, 9360, 9360, 9360, 9360, 9360, 9360, 9360, 9360, 9360, 9360, 9360, 9360, 9360, 9360, 9360, 9360, 9360, 9360, 9360, 9360, 9375, 9384, 9384, 9384, 9384, 9396, 9400, 9396, 9375, 9396, 9396, 9408, 9396, 9396, 9396, 9396, 9375, 9396, 9408, 9396, 9396, 9396, 9408, 9408, 9405, 9408, 9408, 9408, 9405, 9408, 9408, 9408, 9405, 9408, 9408, 9408, 9408, 9408, 9408, 9408, 9408, 9408, 9408, 9408, 9408, 9408, 9408, 9408, 9408, 9408, 9408, 9408, 9450, 9472, 9438, 9460, 9438, 9464, 9450, 9500, 9450, 9460, 9450, 9464, 9438, 9460, 9438, 9504, 9450, 9472, 9450, 9504, 9450, 9500, 9450, 9464, 9450, 9540, 9450, 9472, 9450, 9464, 9450, 9472, 9450, 9472, 9450, 9464, 9450, 9472, 9450, 9472, 9450, 9464, 9464, 9504, 9477, 9500, 9486, 9504, 9504, 9504, 9500, 9504, 9477, 9504, 9504, 9504, 9477, 9500, 9504, 9500, 9477, 9500, 9500, 9500, 9477, 9504, 9500, 9504, 9504, 9504, 9504, 9500, 9504, 9504, 9504, 9500, 9504, 9504, 9500, 9500, 9504, 9504, 9504, 9504, 9504, 9504, 9504, 9504, 9504, 9504, 9504, 9504, 9504, 9504, 9504, 9520, 9520, 9520, 9558, 9520, 9520, 9520, 9558, 9568, 9537, 9548, 9568, 9568, 9570, 9576, 9548, 9548, 9555, 9576, 9568, 9576, 9568, 9568, 9568, 9576, 9576, 9576, 9576, 9576, 9555, 9576, 9568, 9568, 9555, 9568, 9576, 9576, 9570, 9576, 9570, 9568, 9555, 9576, 9568, 9568, 9568, 9576, 9576, 9576, 9576, 9576, 9576, 9576, 9576, 9576, 9576, 9576, 9576, 9576, 9576, 9576, 9576, 9600, 9600, 9600, 9600, 9600, 9600, 9600, 9600, 9600, 9600, 9600, 9600, 9600, 9600, 9600, 9600, 9600, 9600, 9600, 9600, 9600, 9600, 9600, 9600, 9600, 9600, 9600, 9600, 9600, 9600, 9600, 9600, 9600, 9600, 9600, 9600, 9600, 9600, 9696, 9657, 9660, 9696, 9660, 9633, 9660, 9702, 9660, 9639, 9660, 9672, 9660, 9625, 9660, 9660, 9660, 9639, 9660, 9702, 9720, 9639, 9672, 9672, 9660, 9639, 9660, 9660, 9660, 9672, 9660, 9660, 9660, 9660, 9660, 9680, 9660, 9672, 9660, 9660, 9660, 9672, 9720, 9690, 9680, 9680, 9720, 9680, 9680, 9690, 9728, 9702, 9720, 9680, 9680, 9680, 9720, 9680, 9680, 9702, 9680, 9690, 9720, 9680, 9680, 9690, 9680, 9680, 9680, 9702, 9720, 9702, 9720, 9702, 9720, 9720, 9720, 9702, 9720, 9702, 9720, 9702, 9720, 9720, 9720, 9702, 9720, 9702, 9720, 9702, 9720, 9702, 9720, 9720, 9720, 9720, 9720, 9720, 9720, 9720, 9720, 9720, 9720, 9720, 9720, 9720, 9720, 9720, 9720, 9720, 9720, 9720, 9720, 9720, 9720, 9720, 9720, 9720, 9720, 9720, 9744, 9747, 9768, 9750, 9792, 9765, 9768, 9750, 9776, 9765, 9768, 9750, 9768, 9765, 9792, 9750, 9792, 9750, 9792, 9750, 9792, 9792, 9792, 9792, 9792, 9775, 9792, 9792, 9792, 9792, 9792, 9792, 9792, 9792, 9792, 9792, 9792, 9792, 9792, 9792, 9792, 9792, 9792, 9792, 9792, 9792, 9792, 9792, 9792, 9792, 9792, 9792, 9792, 9792, 9792, 9792, 9792, 9792, 9792, 9792, 9792, 9792, 9792, 9800, 9828, 9800, 9800, 9800, 9800, 9800, 9828, 9840, 9800, 9800, 9828, 9828, 9828, 9828, 9828, 9828, 9828, 9828, 9828, 9840, 9828, 9828, 9828, 9828, 9828, 9856, 9828, 9828, 9828, 9828, 9828, 9870, 9828, 9828, 9828, 9856, 9856, 9870, 9856, 9856, 9900, 9856, 9856, 9856, 9856, 9856, 9856, 9856, 9856, 9856, 9856, 9856, 9856, 9856, 9856, 9856, 9856, 9856, 9856, 9856, 9856, 9856, 9856, 9856, 9856, 9856, 9900, 9900, 9900, 9900, 9880, 9880, 9900, 9900, 9880, 9880, 9900, 9900, 9900, 9900, 9900, 9900, 9900, 9922, 9900, 9900, 9900, 9900, 9900, 9936, 9900, 9900, 9900, 9900, 9900, 9900, 9900, 9918, 9900, 9900, 9900, 9900, 9900, 9900, 9900, 9933, 9900, 9900, 9900, 9920, 9920, 9920, 9920, 9936, 9936, 9936, 9936, 9936, 9936, 9990, 9936, 9936, 9936, 9936, 9936, 9936, 9936, 9936, 9936, 9936, 9936, 9936, 9936, 9936, 9936, 9936, 9936, 9945, 9984, 9984, 9984, 9945, 9984, 9984, 9984, 9963, 9984, 9996, 9984, 9975, 9984, 9984, 9984, 9984, 9984, 9982, 9984, 9975, 9984, 9984, 9984, 9975, 9984, 9984, 9984, 9975, 9984, 9984, 9984, 9984, 9984, 9984, 9984, 9975, 9984, 9984, 9984, 9984, 9984, 9984, 9984, 9984, 9984, 9984, 9984, 9984, 9984, 9984, 9984, 9984, 9984, 9984, 9984, 9984, 9984, 9996, 9996, 10010, 10000, 10000, 10000, 10000, 10032, 10000, 10000, 10010, 10032, 10000, 10000, 10010, 10000, 10000, 10000, 10032, 10044, 10044, 10032, 10032, 10032, 10032, 10032, 10045, 10032, 10032, 10032, 10044, 10032, 10032, 10032, 10032, 10032, 10044, 10044, 10062, 10044, 10044, 10044, 10080, 10064, 10064, 10064, 10075, 10080, 10080, 10080, 10080, 10080, 10080, 10080, 10080, 10080, 10080, 10080, 10080, 10080, 10080, 10080, 10075, 10080, 10080, 10080, 10080, 10080, 10080, 10080, 10080, 10080, 10080, 10080, 10080, 10080, 10080, 10080, 10080, 10080, 10080, 10080, 10080, 10080, 10080, 10080, 10080, 10080, 10080, 10080, 10080, 10080, 10080, 10080, 10080, 10080, 10080, 10080, 10080, 10164, 10098, 10108, 10098, 10152, 10120, 10120, 10125, 10120, 10120, 10140, 10115, 10140, 10152, 10120, 10120, 10152, 10150, 10120, 10120, 10164, 10140, 10140, 10125, 10140, 10292, 10140, 10125, 10152, 10150, 10140, 10125, 10140, 10140, 10140, 10125, 10164, 10140, 10140, 10125, 10140, 10150, 10140, 10125, 10140, 10140, 10140, 10176, 10176, 10176, 10164, 10164, 10164, 10164, 10176, 10192, 10164, 10200, 10200, 10164, 10164, 10200, 10164, 10206, 10164, 10164, 10164, 10179, 10200, 10200, 10164, 10164, 10164, 10200, 10200, 10200, 10200, 10192, 10192, 10206, 10200, 10200, 10192, 10192, 10192, 10200, 10192, 10200, 10200, 10192, 10192, 10192, 10192, 10200, 10200, 10192, 10192, 10200, 10192, 10200, 10192, 10192, 10192, 10200, 10200, 10200, 10200, 10200, 10200, 10200, 10260, 10206, 10248, 10206, 10248, 10206, 10240, 10206, 10240, 10206, 10240, 10206, 10240, 10206, 10240, 10206, 10240, 10240, 10240, 10240, 10240, 10240, 10240, 10240, 10240, 10240, 10240, 10240, 10240, 10240, 10240, 10240, 10240, 10240, 10240, 10240, 10240, 10240, 10240, 10240, 10240, 10240, 10240, 10240, 10240, 10240, 10240, 10240, 10240, 10240, 10240, 10240, 10240, 10240, 10260, 10290, 10260, 10260, 10260, 10296, 10296, 10290, 10296, 10290, 10296, 10304, 10296, 10290, 10296, 10290, 10296, 10290, 10296, 10285, 10296, 10290, 10296, 10290, 10296, 10290, 10296, 10290, 10296, 10296, 10296, 10290, 10296, 10290, 10296, 10290, 10296, 10290, 10296, 10290, 10296, 10296, 10304, 10304, 10304, 10336, 10332, 10332, 10332, 10332, 10332, 10336, 10332, 10332, 10332, 10336, 10368, 10360, 10368, 10350, 10336, 10350, 10360, 10350, 10368, 10368, 10336, 10336, 10368, 10336, 10336, 10336, 10360, 10350, 10368, 10353, 10368, 10350, 10360, 10350, 10360, 10350, 10368, 10368, 10360, 10350, 10368, 10350, 10368, 10350, 10368, 10368, 10368, 10368, 10368, 10368, 10368, 10368, 10368, 10368, 10368, 10368, 10368, 10368, 10368, 10368, 10368, 10368, 10368, 10368, 10368, 10368, 10368, 10368, 10368, 10368, 10368, 10368, 10368, 10368, 10368, 10368, 10368, 10368, 10368, 10368, 10368, 10368, 10400, 10400, 10416, 10395, 10400, 10400, 10400, 10395, 10400, 10400, 10400, 10395, 10400, 10400, 10416, 10395, 10400, 10400, 10416, 10400, 10400, 10400, 10440, 10440, 10440, 10440, 10488, 10488, 10472, 10440, 10440, 10440, 10440, 10450, 10440, 10440, 10440, 10440, 10440, 10440, 10440, 10440, 10440, 10440, 10440, 10440, 10440, 10440, 10472, 10450, 10496, 10469, 10472, 10488, 10472, 10450, 10500, 10472, 10500, 10450, 10488, 10472, 10500, 10494, 10472, 10488, 10472, 10465, 10496, 10478, 10488, 10488, 10472, 10472, 10500, 10512, 10472, 10472, 10500, 10472, 10500, 10496, 10472, 10472, 10500, 10488, 10488, 10488, 10488, 10488, 10496, 10496, 10496, 10496, 10496, 10500, 10500, 10500, 10500, 10500, 10500, 10500, 10500, 10500, 10500, 10500, 10500, 10500, 10500, 10528, 10500, 10500, 10500, 10528, 10500, 10500, 10500, 10500, 10500, 10530, 10500, 10530, 10500, 10500, 10500, 10530, 10556, 10530, 10560, 10530, 10540, 10530, 10560, 10540, 10540, 10530, 10556, 10530, 10560, 10530, 10560, 10530, 10556, 10530, 10560, 10530, 10560, 10530, 10556, 10530, 10560, 10530, 10560, 10556, 10556, 10557, 10560, 10560, 10560, 10557, 10560, 10560, 10560, 10560, 10560, 10560, 10560, 10560, 10560, 10560, 10560, 10560, 10560, 10560, 10560, 10560, 10560, 10560, 10560, 10560, 10560, 10560, 10560, 10560, 10560, 10584, 10584, 10584, 10584, 10584, 10584, 10584, 10584, 10584, 10584, 10584, 10584, 10584, 10584, 10584, 10584, 10584, 10584, 10584, 10584, 10584, 10584, 10584, 10584, 10584, 10656, 10626, 10608, 10608, 10608, 10650, 10608, 10608, 10608, 10608, 10608, 10626, 10640, 10625, 10656, 10626, 10640, 10656, 10640, 10626, 10640, 10626, 10640, 10710, 10640, 10640, 10640, 10656, 10656, 10625, 10640, 10640, 10656, 10640, 10640, 10656, 10640, 10640, 10640, 10640, 10640, 10648, 10640, 10640, 10640, 10647, 10656, 10648, 10692, 10647, 10648, 10648, 10672, 10672, 10672, 10692, 10692, 10692, 10692, 10692, 10692, 10693, 10692, 10710, 10692, 10692, 10692, 10692, 10720, 10710, 10692, 10692, 10692, 10692, 10692, 10692, 10692, 10692, 10692, 10692, 10692, 10692, 10692, 10710, 10692, 10692, 10692, 10710, 10692, 10710, 10692, 10692, 10692, 10710, 10692, 10692, 10692, 10692, 10692, 10692, 10692, 10692, 10692, 10710, 10692, 10692, 10692, 10710, 10752, 10710, 10752, 10710, 10752, 10710, 10752, 10710, 10752, 10752, 10752, 10752, 10752, 10725, 10752, 10752, 10752, 10752, 10752, 10750, 10752, 10725, 10752, 10750, 10752, 10752, 10752, 10752, 10752, 10752, 10752, 10752, 10752, 10752, 10752, 10752, 10752, 10752, 10752, 10752, 10752, 10752, 10752, 10752, 10752, 10752, 10752, 10752, 10752, 10752, 10752, 10752, 10752, 10752, 10752, 10752, 10752, 10752, 10752, 10752, 10752, 10752, 10752, 10752, 10780, 10773, 10780, 10780, 10780, 10773, 10780, 10800, 10800, 10800, 10780, 10800, 10780, 10800, 10800, 10780, 10780, 10800, 10800, 10800, 10800, 10800, 10800, 10800, 10800, 10800, 10800, 10800, 10800, 10800, 10800, 10800, 10800, 10800, 10800, 10800, 10800, 10800, 10800, 10800, 10800, 10800, 10800, 10800, 10800, 10800, 10800, 10816, 10816, 10816, 10816, 10830, 10880, 10829, 10880, 10846, 10880, 10857, 10908, 10868, 10868, 10902, 10868, 10850, 10880, 10850, 10880, 10880, 10868, 10850, 10912, 10880, 10868, 10875, 10880, 10880, 10920, 10880, 10868, 10878, 10868, 10875, 10920, 10880, 10880, 10878, 10880, 10880, 10880, 10868, 10868, 10878, 10880, 10880, 10920, 10880, 10880, 10875, 10880, 10880, 10880, 10880, 10880, 10880, 10880, 10880, 10880, 10890, 10880, 10880, 10880, 10880, 10880, 10880, 10880, 10880, 10880, 10880, 10920, 10912, 10912, 10890, 10944, 10890, 10920, 10890, 10912, 10912, 10920, 10912, 10912, 10912, 10920, 10920, 10920, 10920, 10920, 10920, 10920, 10920, 10920, 10920, 10920, 10920, 10920, 10920, 10920, 10920, 10920, 10920, 10920, 10920, 10920, 10920, 10920, 10920, 10920, 10920, 10944, 10944, 10944, 10935, 10944, 10944, 10944, 10935, 10944, 10944, 10944, 10935, 10944, 10944, 10944, 10935, 10944, 10944, 10944, 10935, 10944, 10944, 10944, 10935, 11000, 10962, 11016, 10962, 10976, 10998, 11000, 11000, 11016, 10976, 10976, 11025, 10976, 10982, 11008, 10976, 10976, 10976, 10976, 10976, 11016, 11016, 10976, 10976, 10976, 10976, 11000, 10976, 10976, 10976, 10976, 10976, 11008, 10976, 10976, 10976, 11000, 11000, 11008, 11000, 11000, 11000, 11016, 11000, 11000, 11000, 11000, 11000, 11016, 11000, 11016, 11016, 11000, 11000, 11016, 11011, 11000, 11000, 11016, 11016, 11016, 11040, 11016, 11016, 11016, 11016, 11016, 11016, 11016, 11016, 11016, 11016, 11040, 11040, 11040, 11025, 11040, 11040, 11040, 11025, 11040, 11040, 11040, 11025, 11040, 11040, 11040, 11040, 11040, 11040, 11088, 11050, 11088, 11070, 11088, 11050, 11088, 11070, 11088, 11070, 11088, 11070, 11088, 11088, 11088, 11088, 11088, 11088, 11088, 11088, 11088, 11088, 11088, 11088, 11088, 11088, 11088, 11088, 11088, 11088, 11088, 11088, 11088, 11088, 11088, 11088, 11088, 11088, 11088, 11088, 11088, 11088, 11088, 11088, 11088, 11088, 11088, 11088, 11088, 11088, 11088, 11088, 11088, 11088, 11088, 11088, 11088, 11130, 11132, 11136, 11132, 11115, 11136, 11136, 11136, 11115, 11160, 11152, 11152, 11115, 11132, 11136, 11136, 11136, 11160, 11154, 11136, 11136, 11136, 11132, 11132, 11136, 11136, 11136, 11136, 11136, 11136, 11136, 11136, 11136, 11136, 11136, 11172, 11160, 11160, 11160, 11160, 11154, 11160, 11154, 11160, 11160, 11160, 11160, 11160, 11160, 11160, 11154, 11160, 11154, 11160, 11160, 11172, 11178, 11200, 11178, 11200, 11172, 11172, 11232, 11220, 11178, 11172, 11172, 11172, 11178, 11200, 11178, 11172, 11172, 11172, 11178, 11200, 11178, 11200, 11178, 11200, 11178, 11220, 11200, 11200, 11223, 11200, 11200, 11200, 11200, 11200, 11200, 11200, 11200, 11200, 11200, 11200, 11200, 11200, 11200, 11200, 11200, 11200, 11200, 11200, 11200, 11200, 11200, 11200, 11200, 11200, 11200, 11200, 11200, 11200, 11200, 11200, 11232, 11220, 11232, 11220, 11220, 11220, 11232, 11232, 11232, 11232, 11232, 11232, 11232, 11232, 11232, 11232, 11232, 11232, 11232, 11232, 11232, 11232, 11232, 11232, 11232, 11232, 11232, 11232, 11232, 11264, 11250, 11264, 11250, 11264, 11280, 11264, 11250, 11264, 11250, 11280, 11250, 11264, 11264, 11280, 11250, 11264, 11250, 11264, 11250, 11264, 11264, 11264, 11264, 11264, 11264, 11264, 11264, 11264, 11264, 11264, 11264, 11264, 11264, 11264, 11286, 11340, 11286, 11316, 11286, 11316, 11286, 11340, 11319, 11328, 11310, 11328, 11328, 11328, 11310, 11328, 11305, 11328, 11310, 11340, 11322, 11340, 11340, 11340, 11319, 11340, 11340, 11340, 11339, 11340, 11340, 11340, 11319, 11340, 11340, 11340, 11340, 11340, 11340, 11340, 11340, 11340, 11340, 11340, 11319, 11340, 11340, 11340, 11340, 11340, 11340, 11340, 11340, 11340, 11340, 11340, 11340, 11340, 11340, 11340, 11340, 11340, 11340, 11340, 11340, 11340, 11340, 11340, 11340, 11340, 11340, 11340, 11385, 11340, 11340, 11340, 11368, 11400, 11396, 11368, 11368, 11396, 11400, 11400, 11375, 11400, 11424, 11396, 11400, 11400, 11400, 11396, 11385, 11400, 11400, 11424, 11385, 11396, 11400, 11400, 11375, 11400, 11400, 11400, 11400, 11400, 11400, 11400, 11400, 11400, 11424, 11400, 11400, 11400, 11400, 11400, 11400, 11400, 11400, 11400, 11400, 11400, 11400, 11400, 11400, 11424, 11424, 11424, 11424, 11424, 11424, 11424, 11424, 11424, 11424, 11448, 11424, 11424, 11424, 11424, 11424, 11424, 11424, 11424, 11424, 11424, 11424, 11424, 11424, 11424, 11424, 11440, 11440, 11440, 11440, 11440, 11466, 11440, 11480, 11480, 11440, 11440, 11466, 11440, 11440, 11440, 11466, 11484, 11466, 11480, 11502, 11520, 11480, 11484, 11466, 11480, 11466, 11480, 11466, 11500, 11466, 11480, 11466, 11484, 11475, 11484, 11466, 11520, 11466, 11492, 11466, 11484, 11466, 11484, 11484, 11484, 11475, 11500, 11520, 11500, 11475, 11520, 11500, 11500, 11492, 11492, 11500, 11520, 11495, 11520, 11520, 11500, 11520, 11520, 11520, 11500, 11520, 11520, 11500, 11500, 11520, 11520, 11520, 11520, 11520, 11520, 11520, 11520, 11520, 11520, 11520, 11520, 11520, 11520, 11520, 11520, 11520, 11520, 11520, 11520, 11520, 11520, 11520, 11520, 11520, 11520, 11520, 11520, 11520, 11520, 11520, 11520, 11520, 11520, 11520, 11520, 11520, 11520, 11520, 11520, 11550, 11552, 11550, 11560, 11550, 11552, 11550, 11592, 11550, 11616, 11550, 11560, 11550, 11592, 11550, 11560, 11550, 11592, 11550, 11592, 11583, 11592, 11592, 11592, 11583, 11592, 11592, 11600, 11583, 11592, 11592, 11592, 11594, 11592, 11592, 11600, 11592, 11592, 11592, 11592, 11583, 11592, 11592, 11592, 11583, 11592, 11592, 11592, 11583, 11592, 11592, 11592, 11592, 11600, 11600, 11600, 11616, 11616, 11616, 11616, 11616, 11616, 11616, 11616, 11616, 11616, 11616, 11616, 11616, 11664, 11616, 11616, 11616, 11616, 11616, 11648, 11616, 11616, 11616, 11616, 11616, 11616, 11616, 11616, 11616, 11648, 11648, 11648, 11648, 11648, 11664, 11648, 11648, 11664, 11648, 11648, 11648, 11648, 11648, 11648, 11648, 11648, 11648, 11648, 11648, 11648, 11648, 11648, 11648, 11648, 11648, 11648, 11648, 11648, 11648, 11648, 11648, 11648, 11648, 11664, 11664, 11664, 11662, 11664, 11664, 11664, 11664, 11664, 11664, 11664, 11664, 11664, 11664, 11664, 11664, 11664, 11664, 11664, 11664, 11664, 11664, 11664, 11664, 11664, 11700, 11700, 11700, 11700, 11700, 11700, 11718, 11700, 11700, 11700, 11700, 11700, 11700, 11700, 11704, 11700, 11700, 11700, 11700, 11700, 11700, 11700, 11718, 11700, 11700, 11700, 11718, 11760, 11730, 11760, 11760, 11760, 11730, 11760, 11730, 11760, 11730, 11760, 11750, 11760, 11760, 11760, 11750, 11760, 11745, 11760, 11760, 11760, 11745, 11760, 11760, 11760, 11745, 11760, 11760, 11760, 11745, 11760, 11760, 11760, 11760, 11760, 11760, 11760, 11760, 11760, 11760, 11760, 11760, 11760, 11760, 11760, 11760, 11760, 11760, 11760, 11760, 11760, 11760, 11760, 11760, 11760, 11760, 11760, 11760, 11760, 11760, 11760, 11760, 11760, 11776, 11776, 11776, 11776, 11776, 11776, 11776, 11808, 11808, 11808, 11799, 11808, 11808, 11808, 11799, 11808, 11808, 11808, 11808, 11808, 11808, 11832, 11840, 11840, 11844, 11840, 11825, 11832, 11832, 11840, 11875, 11840, 11830, 11844, 11844, 11844, 11880, 11832, 11840, 11844, 11832, 11832, 11832, 11832, 11830, 11844, 11840, 11840, 12000, 11840, 11830, 11840, 11830, 11840, 11840, 11840, 11830, 11856, 11880, 11856, 11856, 11856, 11856, 11856, 11872, 11856, 11856, 11856, 11856, 11856, 11856, 11880, 11880, 11856, 11856, 11856, 11858, 11856, 11856, 11856, 11856, 11856, 11880, 11880, 11880, 11880, 11858, 11880, 11880, 11880, 11880, 11880, 11880, 11880, 11880, 11880, 11880, 11880, 11880, 11880, 11880, 11880, 11875, 11880, 11880, 11880, 11880, 11880, 11880, 11880, 11880, 11880, 11880, 11880, 11880, 11880, 11880, 11880, 11880, 11900, 11904, 11900, 11904, 11900, 11904, 11900, 11904, 11984, 11900, 11900, 11907, 11956, 11934, 12096, 11907, 12000, 11934, 11956, 11907, 11960, 11934, 12000, 11907, 11956, 11934, 11960, 11907, 11968, 11934, 11968, 11968, 11988, 11970, 12000, 11934, 11960, 11934, 11960, 11934, 11988, 11934, 11968, 11968, 11988, 11960, 11968, 11968, 11960, 11960, 11968, 11968, 11968, 11970, 12000, 11970, 11960, 11960, 11968, 11970, 11960, 11960, 11968, 11968, 11968, 11970, 11968, 11968, 11968, 11970, 11968, 11970, 11988, 11968, 11968, 11968, 11968, 11968, 11968, 11970, 11988, 12000, 11988, 11979, 11988, 12000, 12200, 11979, 12000, 12000, 12000, 12000, 12000, 12000, 12000, 12000, 12000, 12000, 12000, 12000, 12000, 12000, 12000, 12000, 12000, 12000, 12000, 12000, 12000, 12000, 12000, 12000, 12000, 12000, 12000, 12000, 12000, 12000, 12000, 12000, 12000, 12000, 12000, 12000, 12060, 12060, 12040, 12040, 12096, 12054, 12096, 12064, 12064, 12064, 12084, 12054, 12096, 12096, 12064, 12054, 12096, 12054, 12096]\n",
            "=============================\n",
            "time taken is 1333.4313020706177\n",
            "=============================\n"
          ],
          "name": "stdout"
        }
      ]
    }
  ]
}