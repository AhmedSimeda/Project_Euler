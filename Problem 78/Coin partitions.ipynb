{
 "cells": [
  {
   "cell_type": "markdown",
   "metadata": {},
   "source": [
    "## Solution(Not Mine)\n",
    "Source:\n",
    "- http://brianmannmath.github.io/blog/2014/02/21/integer-partitions/\n",
    "- Note : k ≠ 0 means k>0 and k<0"
   ]
  },
  {
   "cell_type": "code",
   "execution_count": 3,
   "metadata": {},
   "outputs": [],
   "source": [
    "def get_n(divisor):\n",
    "    part = [1] ##Because P(0)=1\n",
    "\n",
    "    #Uses Euler's recursion to find p(n).\n",
    "    while (part[-1] % divisor) != 0:\n",
    "        val = 0\n",
    "        k = 1\n",
    "        n = len(part)\n",
    "        while (n >= (k*(3*k-1))/2):  ## Because part[i] can't have negative index\n",
    "            val = val + ((-1)**(k-1))*part[int(n-(k*(3*k-1))/2)]\n",
    "            k = k+1\n",
    "        k = -1\n",
    "        while (n >= (k*(3*k-1))/2):\n",
    "            val = val + ((-1)**(k-1))*part[int(n-(k*(3*k-1))/2)]\n",
    "            k = k-1\n",
    "\n",
    "        #We only need to keep the last 7 digits, since we're only adding, \n",
    "        #and if a % m = 0 and b % m = 0 then \n",
    "        #a + b % m = 0!!!\n",
    "        part.append(val % divisor)\n",
    "\n",
    "    print(len(part)-1)"
   ]
  },
  {
   "cell_type": "code",
   "execution_count": 4,
   "metadata": {},
   "outputs": [
    {
     "name": "stdout",
     "output_type": "stream",
     "text": [
      "55374\n",
      "Wall time: 36.5 s\n"
     ]
    }
   ],
   "source": [
    "%time get_n(1000000)"
   ]
  },
  {
   "cell_type": "markdown",
   "metadata": {},
   "source": [
    "### Morals:\n",
    "- Store the values that you always return to them istead of calculating it again\n",
    "- The part in which he stored only the last 7 digits is an amazing idea "
   ]
  }
 ],
 "metadata": {
  "kernelspec": {
   "display_name": "Python 3",
   "language": "python",
   "name": "python3"
  },
  "language_info": {
   "codemirror_mode": {
    "name": "ipython",
    "version": 3
   },
   "file_extension": ".py",
   "mimetype": "text/x-python",
   "name": "python",
   "nbconvert_exporter": "python",
   "pygments_lexer": "ipython3",
   "version": "3.6.9"
  }
 },
 "nbformat": 4,
 "nbformat_minor": 2
}
