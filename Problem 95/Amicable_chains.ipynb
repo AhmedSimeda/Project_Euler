{
 "cells": [
  {
   "cell_type": "code",
   "execution_count": 1,
   "metadata": {
    "colab": {},
    "colab_type": "code",
    "id": "nQFfvniOKDGa"
   },
   "outputs": [],
   "source": [
    "from math import sqrt"
   ]
  },
  {
   "cell_type": "code",
   "execution_count": 29,
   "metadata": {
    "colab": {},
    "colab_type": "code",
    "id": "YhaOhhcabGWM"
   },
   "outputs": [],
   "source": [
    "def is_prime(number):\n",
    "  if number < 2:\n",
    "    return False\n",
    "  else:\n",
    "    for n in range(2,int(sqrt(number))+1):\n",
    "      if number%n == 0:\n",
    "        return False\n",
    "  return True"
   ]
  },
  {
   "cell_type": "code",
   "execution_count": 2,
   "metadata": {
    "colab": {},
    "colab_type": "code",
    "id": "qf6355nKKHWE"
   },
   "outputs": [],
   "source": [
    "def get_next_number(number):\n",
    "    next_number = 0\n",
    "    for n in range(2,int(sqrt(number))+1):\n",
    "        if number%n == 0:\n",
    "            next_number += number//n + n\n",
    "    return next_number+1"
   ]
  },
  {
   "cell_type": "code",
   "execution_count": 47,
   "metadata": {
    "colab": {},
    "colab_type": "code",
    "id": "4XZ0-MMjKI3V"
   },
   "outputs": [],
   "source": [
    "def get_amicable_chain(number):\n",
    "    Achain      = []            \n",
    "    next_number = number\n",
    "    while (next_number <= 1000000) and (not is_prime(next_number)) and (not next_number in Achain):\n",
    "      Achain.append(next_number)\n",
    "      next_number = get_next_number(next_number)\n",
    "    if next_number != number: # in case it breaks before getting to itself \n",
    "        return (False,)\n",
    "    if Achain == []:           # in case it was a prime number\n",
    "      return (True,1,number)\n",
    "    return (True,len(Achain),min(Achain))"
   ]
  },
  {
   "cell_type": "code",
   "execution_count": 26,
   "metadata": {
    "colab": {},
    "colab_type": "code",
    "id": "GOKZL021KMUc"
   },
   "outputs": [],
   "source": [
    "def get_sol():\n",
    "  output      = (True,1,28)\n",
    "  max_length  = -9999999\n",
    "  min_element = 9999999\n",
    "  number      = 28\n",
    "  while number < 1000000:\n",
    "    if output[0]:\n",
    "      if output[1] > max_length:\n",
    "        min_element = output[2]\n",
    "        max_length  = output[1]\n",
    "    number += 1\n",
    "    if number%100000 == 0:\n",
    "      print(number,'>>>',max_length,',',min_element)\n",
    "    output  = get_amicable_chain(number)\n",
    "  return min_element"
   ]
  },
  {
   "cell_type": "code",
   "execution_count": 48,
   "metadata": {
    "colab": {
     "base_uri": "https://localhost:8080/",
     "height": 238
    },
    "colab_type": "code",
    "id": "4w1l10unLa-h",
    "outputId": "72141882-064e-4254-e14c-28945866b25a"
   },
   "outputs": [
    {
     "name": "stdout",
     "output_type": "stream",
     "text": [
      "100000 >>> 28 , 14316\n",
      "200000 >>> 28 , 14316\n",
      "300000 >>> 28 , 14316\n",
      "400000 >>> 28 , 14316\n",
      "500000 >>> 28 , 14316\n",
      "600000 >>> 28 , 14316\n",
      "700000 >>> 28 , 14316\n",
      "800000 >>> 28 , 14316\n",
      "900000 >>> 28 , 14316\n",
      "1000000 >>> 28 , 14316\n",
      "CPU times: user 3min 16s, sys: 19.2 ms, total: 3min 16s\n",
      "Wall time: 3min 16s\n"
     ]
    },
    {
     "data": {
      "text/plain": [
       "14316"
      ]
     },
     "execution_count": 48,
     "metadata": {
      "tags": []
     },
     "output_type": "execute_result"
    }
   ],
   "source": [
    "%time get_sol()"
   ]
  }
 ],
 "metadata": {
  "colab": {
   "name": "Amicable chains.ipynb",
   "provenance": []
  },
  "kernelspec": {
   "display_name": "Python 3",
   "language": "python",
   "name": "python3"
  },
  "language_info": {
   "codemirror_mode": {
    "name": "ipython",
    "version": 3
   },
   "file_extension": ".py",
   "mimetype": "text/x-python",
   "name": "python",
   "nbconvert_exporter": "python",
   "pygments_lexer": "ipython3",
   "version": "3.6.9"
  }
 },
 "nbformat": 4,
 "nbformat_minor": 1
}
