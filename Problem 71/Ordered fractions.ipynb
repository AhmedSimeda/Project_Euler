{
 "cells": [
  {
   "cell_type": "markdown",
   "metadata": {},
   "source": [
    "### Idea :\n",
    "to get the closest fraction we can do the following ... knowing that 3/7 can be considered as our seeked fraction (we don't know the fraction but we know that it's so close to 3/7) .. all we can do is iterate over (3/7)*i : i = 0:limit ... we get two results numbers that have small error ( < 0.5 ) and others ( > 0.5 ) the smallest error in the first approximation ( < 0.5 ) is the closest from the left and the other approximation is the closest from the right"
   ]
  },
  {
   "cell_type": "code",
   "execution_count": 43,
   "metadata": {},
   "outputs": [],
   "source": [
    "def get_closest_numo(limit):\n",
    "    Min_err = 999999\n",
    "    for i in range(limit,1,-1):\n",
    "        app_numo = (3/7)*i\n",
    "        if (int(app_numo) == round(app_numo)) & (i % 7 != 0) :                # (first approximation ( < 0.5 )\n",
    "            err = app_numo-round(app_numo)\n",
    "            if err < Min_err:\n",
    "                Min_err      = err\n",
    "                closest_numo = int(app_numo)\n",
    "                closest_deno = i\n",
    "    print(\"the closest fraction has a numerator equal to \" + str(closest_numo) + \" with a denominator equal to \" + str(closest_deno))"
   ]
  },
  {
   "cell_type": "code",
   "execution_count": 45,
   "metadata": {},
   "outputs": [
    {
     "name": "stdout",
     "output_type": "stream",
     "text": [
      "the closest fraction has a numerator equal to 428570 with a denominator equal to 999997\n",
      "Wall time: 2.19 s\n"
     ]
    }
   ],
   "source": [
    "%time get_closest_numo(1000000)"
   ]
  },
  {
   "cell_type": "code",
   "execution_count": 35,
   "metadata": {},
   "outputs": [
    {
     "data": {
      "text/plain": [
       "0.42857142857142855"
      ]
     },
     "execution_count": 35,
     "metadata": {},
     "output_type": "execute_result"
    }
   ],
   "source": [
    "3/7"
   ]
  },
  {
   "cell_type": "code",
   "execution_count": 36,
   "metadata": {},
   "outputs": [
    {
     "data": {
      "text/plain": [
       "0.42857096146615004"
      ]
     },
     "execution_count": 36,
     "metadata": {},
     "output_type": "execute_result"
    }
   ],
   "source": [
    "131072/305835 "
   ]
  },
  {
   "cell_type": "code",
   "execution_count": 39,
   "metadata": {},
   "outputs": [
    {
     "data": {
      "text/plain": [
       "0.428570961476841"
      ]
     },
     "execution_count": 39,
     "metadata": {},
     "output_type": "execute_result"
    }
   ],
   "source": [
    "131075/305842"
   ]
  },
  {
   "cell_type": "code",
   "execution_count": 42,
   "metadata": {},
   "outputs": [
    {
     "data": {
      "text/plain": [
       "0.42857096148753143"
      ]
     },
     "execution_count": 42,
     "metadata": {},
     "output_type": "execute_result"
    }
   ],
   "source": [
    "131078/305849"
   ]
  }
 ],
 "metadata": {
  "kernelspec": {
   "display_name": "Python 3",
   "language": "python",
   "name": "python3"
  },
  "language_info": {
   "codemirror_mode": {
    "name": "ipython",
    "version": 3
   },
   "file_extension": ".py",
   "mimetype": "text/x-python",
   "name": "python",
   "nbconvert_exporter": "python",
   "pygments_lexer": "ipython3",
   "version": "3.6.9"
  }
 },
 "nbformat": 4,
 "nbformat_minor": 2
}
