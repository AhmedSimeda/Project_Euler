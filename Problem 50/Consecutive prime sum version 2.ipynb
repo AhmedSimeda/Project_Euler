{
 "cells": [
  {
   "cell_type": "code",
   "execution_count": 1,
   "metadata": {},
   "outputs": [],
   "source": [
    "from math import sqrt\n",
    "\n",
    "def is_prime(Num):\n",
    "    if Num <= 1 :\n",
    "        return False\n",
    "    else:\n",
    "        for i in range(2,int(sqrt(Num))+1):\n",
    "            if Num % i == 0 :\n",
    "                return False\n",
    "        return True"
   ]
  },
  {
   "cell_type": "code",
   "execution_count": 3,
   "metadata": {},
   "outputs": [
    {
     "name": "stdout",
     "output_type": "stream",
     "text": [
      "543 997651\n"
     ]
    }
   ],
   "source": [
    "lim = 1000000\n",
    "primes = ([2] + [j for j in range(3,lim,2)if is_prime(j)])\n",
    "start, end, total, maxcount, maxprime = 0, 0, 0, 0, 0\n",
    "while start<len(primes):\n",
    "    while end<len(primes) and total+primes[end]<lim:\n",
    "        total += primes[end]\n",
    "        end += 1\n",
    "    while (end-start>maxcount and not is_prime(total)):# not in primes):\n",
    "        end -= 1\n",
    "        total -= primes[end]\n",
    "    if end-start>maxcount:\n",
    "        maxcount = end-start\n",
    "        maxprime = total\n",
    "    total -= primes[start]\n",
    "    start += 1\n",
    "print (maxcount, maxprime)"
   ]
  }
 ],
 "metadata": {
  "kernelspec": {
   "display_name": "Python 3",
   "language": "python",
   "name": "python3"
  },
  "language_info": {
   "codemirror_mode": {
    "name": "ipython",
    "version": 3
   },
   "file_extension": ".py",
   "mimetype": "text/x-python",
   "name": "python",
   "nbconvert_exporter": "python",
   "pygments_lexer": "ipython3",
   "version": "3.6.9"
  }
 },
 "nbformat": 4,
 "nbformat_minor": 2
}
