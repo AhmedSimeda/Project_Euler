{
 "cells": [
  {
   "cell_type": "code",
   "execution_count": 62,
   "metadata": {},
   "outputs": [],
   "source": [
    "def is_curious(numerator,denominator):\n",
    "    if not((numerator%10) & (denominator%10)):\n",
    "        return False\n",
    "    comm = set(str(numerator)) & set(str(denominator))\n",
    "    if len(comm) == 1:\n",
    "        num = str(numerator).split(list(comm)[0]) \n",
    "        for i in num:\n",
    "            try:\n",
    "                num = int(i)\n",
    "                break\n",
    "            except:\n",
    "                continue\n",
    "        \n",
    "        den = str(denominator).split(list(comm)[0])\n",
    "        for i in den:\n",
    "            try:\n",
    "                den = int(i)\n",
    "                break\n",
    "            except:\n",
    "                continue\n",
    "                \n",
    "        if isinstance(num,int) & isinstance(den,int) & (den != 0): \n",
    "            if ((numerator/denominator) == (num/den)):\n",
    "                return True\n",
    "        return False"
   ]
  },
  {
   "cell_type": "code",
   "execution_count": 63,
   "metadata": {},
   "outputs": [],
   "source": [
    "curious_fractions = []\n",
    "for i in range(10,100):\n",
    "    for j in range(i,100):\n",
    "        if is_curious(i,j):\n",
    "            curious_fractions.append((i,j))"
   ]
  },
  {
   "cell_type": "code",
   "execution_count": 64,
   "metadata": {},
   "outputs": [
    {
     "data": {
      "text/plain": [
       "[(16, 64), (19, 95), (26, 65), (49, 98)]"
      ]
     },
     "execution_count": 64,
     "metadata": {},
     "output_type": "execute_result"
    }
   ],
   "source": [
    "curious_fractions"
   ]
  }
 ],
 "metadata": {
  "kernelspec": {
   "display_name": "Python 3",
   "language": "python",
   "name": "python3"
  },
  "language_info": {
   "codemirror_mode": {
    "name": "ipython",
    "version": 3
   },
   "file_extension": ".py",
   "mimetype": "text/x-python",
   "name": "python",
   "nbconvert_exporter": "python",
   "pygments_lexer": "ipython3",
   "version": "3.6.9"
  }
 },
 "nbformat": 4,
 "nbformat_minor": 2
}
