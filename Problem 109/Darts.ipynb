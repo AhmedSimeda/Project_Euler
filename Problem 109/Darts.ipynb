{
 "cells": [
  {
   "cell_type": "code",
   "execution_count": 1,
   "metadata": {},
   "outputs": [],
   "source": [
    "from itertools import *"
   ]
  },
  {
   "cell_type": "code",
   "execution_count": 2,
   "metadata": {},
   "outputs": [],
   "source": [
    "singles = ['0'] + ['S'+str(i) for i in range(1,21)] + ['S25'] # The Outer bull\n",
    "doubles = ['D'+str(i) for i in range(1,21)] + ['D25'] # The inner bull\n",
    "trebles = ['T'+str(i) for i in range(1,21)]           # 'Treble' As they call it in the original game \n",
    "All     = singles+doubles+trebles"
   ]
  },
  {
   "cell_type": "code",
   "execution_count": 3,
   "metadata": {},
   "outputs": [],
   "source": [
    "whole_game = list(product(All, repeat=3))"
   ]
  },
  {
   "cell_type": "markdown",
   "metadata": {},
   "source": [
    "First of all let's make them **a valid** check out by removing all the games that end with things other than doubles."
   ]
  },
  {
   "cell_type": "code",
   "execution_count": 4,
   "metadata": {},
   "outputs": [],
   "source": [
    "whole_game_v2 = list(filter(lambda x:x[2][0] == 'D',whole_game))"
   ]
  },
  {
   "cell_type": "markdown",
   "metadata": {},
   "source": [
    "Secondly Let's keep just the distinct games"
   ]
  },
  {
   "cell_type": "code",
   "execution_count": 5,
   "metadata": {},
   "outputs": [],
   "source": [
    "def get_distict(games):\n",
    "    #creating a dictionary having {'D1':[],'D2':[],...}\n",
    "    doubles_dict = {}\n",
    "    doubles_list = ['D'+str(i) for i in range(1,21)] + ['D25']\n",
    "    for double in doubles_list:\n",
    "        doubles_dict[double] = []\n",
    "    \n",
    "    distict_games = []\n",
    "    for dart1,dart2,dart3 in games:\n",
    "        if sorted([dart1,dart2]) not in doubles_dict[dart3]:\n",
    "            doubles_dict[dart3].append(sorted([dart1,dart2]))\n",
    "            distict_games.append((dart1,dart2,dart3))\n",
    "    \n",
    "    return distict_games"
   ]
  },
  {
   "cell_type": "code",
   "execution_count": 6,
   "metadata": {},
   "outputs": [],
   "source": [
    "whole_game_v3 = get_distict(whole_game_v2)"
   ]
  },
  {
   "cell_type": "code",
   "execution_count": 7,
   "metadata": {},
   "outputs": [
    {
     "data": {
      "text/plain": [
       "42336"
      ]
     },
     "execution_count": 7,
     "metadata": {},
     "output_type": "execute_result"
    }
   ],
   "source": [
    "len(whole_game_v3)"
   ]
  },
  {
   "cell_type": "markdown",
   "metadata": {},
   "source": [
    "Let's now get the games that has scores less than 100"
   ]
  },
  {
   "cell_type": "code",
   "execution_count": 8,
   "metadata": {},
   "outputs": [],
   "source": [
    "def get_score(game):\n",
    "    score = 0\n",
    "    for dart in game:\n",
    "        score += eval(dart.replace('S','').replace('D','2*').replace('T','3*'))\n",
    "    \n",
    "    return score"
   ]
  },
  {
   "cell_type": "code",
   "execution_count": 9,
   "metadata": {},
   "outputs": [],
   "source": [
    "whole_game_v4 = list(filter(lambda x:get_score(x) < 100,whole_game_v3))"
   ]
  },
  {
   "cell_type": "code",
   "execution_count": 10,
   "metadata": {},
   "outputs": [
    {
     "data": {
      "text/plain": [
       "38182"
      ]
     },
     "execution_count": 10,
     "metadata": {},
     "output_type": "execute_result"
    }
   ],
   "source": [
    "len(whole_game_v4)"
   ]
  }
 ],
 "metadata": {
  "kernelspec": {
   "display_name": "Python 3",
   "language": "python",
   "name": "python3"
  },
  "language_info": {
   "codemirror_mode": {
    "name": "ipython",
    "version": 3
   },
   "file_extension": ".py",
   "mimetype": "text/x-python",
   "name": "python",
   "nbconvert_exporter": "python",
   "pygments_lexer": "ipython3",
   "version": "3.8.3"
  }
 },
 "nbformat": 4,
 "nbformat_minor": 4
}
