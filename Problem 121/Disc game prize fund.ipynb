{
 "cells": [
  {
   "cell_type": "markdown",
   "metadata": {},
   "source": [
    "<font color='green'>\n",
    "    <center><h1> IDEA </h1></center>\n",
    "\n",
    "![IDEA](Idea.PNG)"
   ]
  },
  {
   "cell_type": "markdown",
   "metadata": {},
   "source": [
    "#### Let's Start Coding"
   ]
  },
  {
   "cell_type": "code",
   "execution_count": 1,
   "metadata": {},
   "outputs": [],
   "source": [
    "# important libraries\n",
    "from itertools import combinations\n",
    "from functools import reduce\n",
    "import operator"
   ]
  },
  {
   "cell_type": "code",
   "execution_count": 3,
   "metadata": {},
   "outputs": [],
   "source": [
    "def get_probability(n_turns):\n",
    "    \n",
    "    turns  = [0]*n_turns\n",
    "    n_Reds = (n_turns//2)-1 if (n_turns%2==0) else (n_turns//2)\n",
    "    numerators = []\n",
    "    for n_Red in range(n_Reds, 0, -1):\n",
    "        Reds_positions = combinations(range(n_turns), n_Red)\n",
    "        for Reds_pos in Reds_positions:\n",
    "            # I will caculate the numerator only as the denominator is the same\n",
    "            numerator = reduce(operator.mul, [i+1 for i in Reds_pos])\n",
    "            \n",
    "            # As the blues numerator is ones so it will not change the previous value\n",
    "            numerators.append(numerator)\n",
    "    \n",
    "    # The last possibility is that all the balls are blue\n",
    "    numerators.append(1)\n",
    "    \n",
    "    return sum(numerators)/reduce(operator.mul, range(2, 2+n_turns))"
   ]
  },
  {
   "cell_type": "code",
   "execution_count": 4,
   "metadata": {},
   "outputs": [
    {
     "data": {
      "text/plain": [
       "0.09166666666666666"
      ]
     },
     "execution_count": 4,
     "metadata": {},
     "output_type": "execute_result"
    }
   ],
   "source": [
    "get_probability(4)"
   ]
  },
  {
   "cell_type": "markdown",
   "metadata": {},
   "source": [
    "> It Worked :)"
   ]
  },
  {
   "cell_type": "markdown",
   "metadata": {},
   "source": [
    "_Let's edit it a little bit to solve our problem_"
   ]
  },
  {
   "cell_type": "code",
   "execution_count": 6,
   "metadata": {},
   "outputs": [],
   "source": [
    "def get_max_fund(n_turns):\n",
    "    \n",
    "    turns  = [0]*n_turns\n",
    "    n_Reds = (n_turns//2)-1 if (n_turns%2==0) else (n_turns//2)\n",
    "    numerators = []\n",
    "    for n_Red in range(n_Reds, 0, -1):\n",
    "        Reds_positions = combinations(range(n_turns), n_Red)\n",
    "        for Reds_pos in Reds_positions:\n",
    "            # I will caculate the numerator only as the denominator is the same\n",
    "            numerator = reduce(operator.mul, [i+1 for i in Reds_pos])\n",
    "            \n",
    "            # As the blues numerator is ones so it will not change the previous value\n",
    "            numerators.append(numerator)\n",
    "    \n",
    "    # The last possibility is that all the balls are blue\n",
    "    numerators.append(1)\n",
    "    \n",
    "    return reduce(operator.mul, range(2, 2+n_turns))//sum(numerators)"
   ]
  },
  {
   "cell_type": "code",
   "execution_count": 8,
   "metadata": {},
   "outputs": [
    {
     "name": "stdout",
     "output_type": "stream",
     "text": [
      "Wall time: 0 ns\n"
     ]
    },
    {
     "data": {
      "text/plain": [
       "10"
      ]
     },
     "execution_count": 8,
     "metadata": {},
     "output_type": "execute_result"
    }
   ],
   "source": [
    "%time get_max_fund(4)"
   ]
  },
  {
   "cell_type": "code",
   "execution_count": 9,
   "metadata": {},
   "outputs": [
    {
     "name": "stdout",
     "output_type": "stream",
     "text": [
      "Wall time: 41 ms\n"
     ]
    },
    {
     "data": {
      "text/plain": [
       "2269"
      ]
     },
     "execution_count": 9,
     "metadata": {},
     "output_type": "execute_result"
    }
   ],
   "source": [
    "%time get_max_fund(15)"
   ]
  },
  {
   "cell_type": "code",
   "execution_count": null,
   "metadata": {},
   "outputs": [],
   "source": []
  }
 ],
 "metadata": {
  "kernelspec": {
   "display_name": "Python 3",
   "language": "python",
   "name": "python3"
  },
  "language_info": {
   "codemirror_mode": {
    "name": "ipython",
    "version": 3
   },
   "file_extension": ".py",
   "mimetype": "text/x-python",
   "name": "python",
   "nbconvert_exporter": "python",
   "pygments_lexer": "ipython3",
   "version": "3.8.5"
  }
 },
 "nbformat": 4,
 "nbformat_minor": 4
}
