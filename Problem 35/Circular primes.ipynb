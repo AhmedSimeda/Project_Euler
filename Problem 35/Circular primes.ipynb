{
 "cells": [
  {
   "cell_type": "code",
   "execution_count": 9,
   "metadata": {},
   "outputs": [],
   "source": [
    "import math\n",
    "def is_prime(Num):\n",
    "    if Num < 0:\n",
    "        return False\n",
    "    elif Num in [0,1,-1]:\n",
    "        return False\n",
    "    elif Num < 4:\n",
    "        return True\n",
    "    else:\n",
    "        for i in range(2,int(math.sqrt(abs(Num))+1)):\n",
    "            if Num % i == 0:\n",
    "                return False\n",
    "        return True"
   ]
  },
  {
   "cell_type": "code",
   "execution_count": 21,
   "metadata": {},
   "outputs": [
    {
     "name": "stdout",
     "output_type": "stream",
     "text": [
      "time taken : 62.75901389122009 s\n"
     ]
    }
   ],
   "source": [
    "import time\n",
    "start = time.time()\n",
    "Cir_Primes = [2]\n",
    "for i in range(1,1000000,2):\n",
    "    Num = []\n",
    "    for k in str(i):\n",
    "        Num.append(k)\n",
    "    \n",
    "    count = 0\n",
    "    for j in range(len(Num)):\n",
    "        if is_prime(int(''.join((Num*2)[j:j+len(Num)]))):\n",
    "            count +=1\n",
    "\n",
    "    if count == len(Num):\n",
    "        Cir_Primes.append(i)\n",
    "end = time.time()\n",
    "print(\"time taken : \" + str(end-start) + \" s\")"
   ]
  },
  {
   "cell_type": "code",
   "execution_count": 22,
   "metadata": {},
   "outputs": [
    {
     "data": {
      "text/plain": [
       "55"
      ]
     },
     "execution_count": 22,
     "metadata": {},
     "output_type": "execute_result"
    }
   ],
   "source": [
    "len(Cir_Primes)"
   ]
  }
 ],
 "metadata": {
  "kernelspec": {
   "display_name": "Python 3",
   "language": "python",
   "name": "python3"
  },
  "language_info": {
   "codemirror_mode": {
    "name": "ipython",
    "version": 3
   },
   "file_extension": ".py",
   "mimetype": "text/x-python",
   "name": "python",
   "nbconvert_exporter": "python",
   "pygments_lexer": "ipython3",
   "version": "3.6.9"
  }
 },
 "nbformat": 4,
 "nbformat_minor": 2
}
