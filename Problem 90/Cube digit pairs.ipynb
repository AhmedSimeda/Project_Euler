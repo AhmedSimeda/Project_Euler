{
 "cells": [
  {
   "cell_type": "code",
   "execution_count": 22,
   "metadata": {},
   "outputs": [],
   "source": [
    "def can_be_turned(square,comb1,comb2):\n",
    "    if '6' in square: #we can replace '6' by turning the cube upside down if '9' exists\n",
    "        if ((9 in comb1) and (int(square[square.index('6')-1]) in comb2)) or ((9 in comb2) and (int(square[square.index('6')-1]) in comb1)):\n",
    "            return True\n",
    "    elif '9' in square: #we can replace '9' by turning the cube upside down if '6' exists\n",
    "        if ((6 in comb1) and (int(square[square.index('9')-1]) in comb2)) or ((6 in comb2) and (int(square[square.index('9')-1]) in comb1)):\n",
    "            return True\n",
    "    return False"
   ]
  },
  {
   "cell_type": "code",
   "execution_count": 23,
   "metadata": {},
   "outputs": [],
   "source": [
    "def is_right_comb(comb1,comb2):\n",
    "    squares = [ '01', '04', '09', '16', '25', '36', '49', '64', '81']\n",
    "    for square in squares:\n",
    "        if not(((int(square[0]) in comb1) and (int(square[1]) in comb2)) or ((int(square[1]) in comb1) and (int(square[0]) in comb2))):\n",
    "            if not can_be_turned(square,comb1,comb2):\n",
    "                return False\n",
    "    return True"
   ]
  },
  {
   "cell_type": "code",
   "execution_count": 2,
   "metadata": {},
   "outputs": [],
   "source": [
    "from itertools import combinations"
   ]
  },
  {
   "cell_type": "code",
   "execution_count": 3,
   "metadata": {},
   "outputs": [],
   "source": [
    "combs = list(combinations(range(10),6))"
   ]
  },
  {
   "cell_type": "code",
   "execution_count": 25,
   "metadata": {},
   "outputs": [],
   "source": [
    "def get_sol(combs):\n",
    "    dist_arr = 0\n",
    "    for c1 in range(len(combs)):\n",
    "        for c2 in range(c1+1,len(combs)):\n",
    "            if is_right_comb(combs[c1],combs[c2]):\n",
    "                dist_arr += 1\n",
    "    return dist_arr"
   ]
  },
  {
   "cell_type": "code",
   "execution_count": 26,
   "metadata": {},
   "outputs": [
    {
     "name": "stdout",
     "output_type": "stream",
     "text": [
      "Wall time: 235 ms\n"
     ]
    },
    {
     "data": {
      "text/plain": [
       "1217"
      ]
     },
     "execution_count": 26,
     "metadata": {},
     "output_type": "execute_result"
    }
   ],
   "source": [
    "%time get_sol(combs)"
   ]
  }
 ],
 "metadata": {
  "kernelspec": {
   "display_name": "Python 3",
   "language": "python",
   "name": "python3"
  },
  "language_info": {
   "codemirror_mode": {
    "name": "ipython",
    "version": 3
   },
   "file_extension": ".py",
   "mimetype": "text/x-python",
   "name": "python",
   "nbconvert_exporter": "python",
   "pygments_lexer": "ipython3",
   "version": "3.6.9"
  }
 },
 "nbformat": 4,
 "nbformat_minor": 2
}
