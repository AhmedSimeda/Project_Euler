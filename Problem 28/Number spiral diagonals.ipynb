{
 "cells": [
  {
   "cell_type": "code",
   "execution_count": 1,
   "metadata": {},
   "outputs": [],
   "source": [
    "import numpy as np"
   ]
  },
  {
   "cell_type": "code",
   "execution_count": 98,
   "metadata": {},
   "outputs": [],
   "source": [
    "Nums = np.zeros((1001, 1001))"
   ]
  },
  {
   "cell_type": "code",
   "execution_count": 99,
   "metadata": {},
   "outputs": [],
   "source": [
    "Horizontal = False\n",
    "Vertical   = True\n",
    "count      = 1001*1001 \n",
    "y          = 1000       #col-position\n",
    "x          = 0          #row-position\n",
    "i          = 0          #iterations to change the number of positions to be filled\n",
    "J          = 0          #to control when we change the number of positions to be filled\n",
    "I          = 0          #number of iterations  \n",
    "while count != 0:\n",
    "    for j in range(i,1001):\n",
    "        if I % 2 == 0:\n",
    "            Nums[x][y] = count\n",
    "            if Horizontal:\n",
    "                y += 1\n",
    "            else:\n",
    "                y -= 1\n",
    "        else:\n",
    "            Nums[x][y] = count\n",
    "            if Vertical:\n",
    "                x += 1\n",
    "            else:\n",
    "                x -= 1\n",
    "    \n",
    "        count -= 1\n",
    "    \n",
    "    if (I % 2 == 0) & (Horizontal):\n",
    "        Horizontal = not Horizontal\n",
    "        x -= 1\n",
    "        y -= 1\n",
    "    elif (I % 2 == 0) & (not Horizontal):\n",
    "        Horizontal = not Horizontal\n",
    "        x += 1\n",
    "        y += 1\n",
    "    elif (I % 2 != 0) & (Vertical):\n",
    "        Vertical   = not Vertical\n",
    "        y += 1\n",
    "        x -= 1\n",
    "    else:\n",
    "        Vertical   = not Vertical\n",
    "        y -= 1\n",
    "        x += 1\n",
    "        \n",
    "    if (i == 0) & (J == 0) :\n",
    "        i += 1\n",
    "    elif J == 2:\n",
    "        J = 0\n",
    "        i +=1\n",
    "        \n",
    "    J += 1\n",
    "    I += 1\n",
    "    \n",
    "    #if I == 9:\n",
    "        #print(i,J)\n",
    "        #print(Nums)\n",
    "        #break"
   ]
  },
  {
   "cell_type": "code",
   "execution_count": 102,
   "metadata": {},
   "outputs": [
    {
     "name": "stdout",
     "output_type": "stream",
     "text": [
      "669171001.0\n"
     ]
    }
   ],
   "source": [
    "Sum = 0\n",
    "for i in range(1001):\n",
    "    Sum += Nums[i][i]\n",
    "    Sum += Nums[i][1000-i]\n",
    "print(Sum-1)"
   ]
  }
 ],
 "metadata": {
  "kernelspec": {
   "display_name": "Python 3",
   "language": "python",
   "name": "python3"
  },
  "language_info": {
   "codemirror_mode": {
    "name": "ipython",
    "version": 3
   },
   "file_extension": ".py",
   "mimetype": "text/x-python",
   "name": "python",
   "nbconvert_exporter": "python",
   "pygments_lexer": "ipython3",
   "version": "3.6.9"
  }
 },
 "nbformat": 4,
 "nbformat_minor": 2
}
