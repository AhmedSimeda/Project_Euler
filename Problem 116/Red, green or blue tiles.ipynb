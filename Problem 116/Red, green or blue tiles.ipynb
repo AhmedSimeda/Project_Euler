{
 "cells": [
  {
   "cell_type": "code",
   "execution_count": 1,
   "metadata": {},
   "outputs": [],
   "source": [
    "# Also as prevoius ones but m=2\n",
    "cache = {'red':{}, 'green':{}, 'blue':{}}\n",
    "def count_ways(n, tile):\n",
    "    \"\"\"\n",
    "    n : the length of the grey bar \n",
    "    tile : 'red', 'green', 'blue'\n",
    "    \"\"\"\n",
    "    tiles = {'red':2, 'green':3, 'blue':4}\n",
    "    length = tiles[tile]\n",
    "    ways = 1\n",
    "\n",
    "    if length > n: return ways\n",
    "    \n",
    "    if n in cache[tile]: return cache[tile][n]\n",
    "    \n",
    "    for start_pos in range(n-length+1):\n",
    "        ways += count_ways(n-length-start_pos, tile)   \n",
    "    \n",
    "    cache[tile][n] = ways\n",
    "    return ways"
   ]
  },
  {
   "cell_type": "code",
   "execution_count": 2,
   "metadata": {},
   "outputs": [
    {
     "name": "stdout",
     "output_type": "stream",
     "text": [
      "Help on function count_ways in module __main__:\n",
      "\n",
      "count_ways(n, tile)\n",
      "    n : the length of the grey bar \n",
      "    tile : 'red', 'green', 'blue'\n",
      "\n"
     ]
    }
   ],
   "source": [
    "help(count_ways)"
   ]
  },
  {
   "cell_type": "code",
   "execution_count": 3,
   "metadata": {},
   "outputs": [
    {
     "name": "stdout",
     "output_type": "stream",
     "text": [
      "Wall time: 0 ns\n"
     ]
    },
    {
     "data": {
      "text/plain": [
       "8"
      ]
     },
     "execution_count": 3,
     "metadata": {},
     "output_type": "execute_result"
    }
   ],
   "source": [
    "%time count_ways(5, 'red')"
   ]
  },
  {
   "cell_type": "code",
   "execution_count": 4,
   "metadata": {},
   "outputs": [
    {
     "name": "stdout",
     "output_type": "stream",
     "text": [
      "Wall time: 0 ns\n"
     ]
    },
    {
     "data": {
      "text/plain": [
       "4"
      ]
     },
     "execution_count": 4,
     "metadata": {},
     "output_type": "execute_result"
    }
   ],
   "source": [
    "%time count_ways(5, 'green')"
   ]
  },
  {
   "cell_type": "code",
   "execution_count": 5,
   "metadata": {},
   "outputs": [
    {
     "name": "stdout",
     "output_type": "stream",
     "text": [
      "Wall time: 0 ns\n"
     ]
    },
    {
     "data": {
      "text/plain": [
       "3"
      ]
     },
     "execution_count": 5,
     "metadata": {},
     "output_type": "execute_result"
    }
   ],
   "source": [
    "%time count_ways(5, 'blue')"
   ]
  },
  {
   "cell_type": "code",
   "execution_count": 6,
   "metadata": {},
   "outputs": [],
   "source": [
    "def get_sol(n):\n",
    "    ways = 0\n",
    "    for tile in ['red', 'green', 'blue']:\n",
    "        ways += count_ways(n, tile)\n",
    "    return ways-3  #because at least one coloured tile must be used"
   ]
  },
  {
   "cell_type": "code",
   "execution_count": 7,
   "metadata": {},
   "outputs": [
    {
     "name": "stdout",
     "output_type": "stream",
     "text": [
      "Wall time: 6.95 ms\n"
     ]
    },
    {
     "data": {
      "text/plain": [
       "20492570929"
      ]
     },
     "execution_count": 7,
     "metadata": {},
     "output_type": "execute_result"
    }
   ],
   "source": [
    "%time get_sol(50)"
   ]
  },
  {
   "cell_type": "code",
   "execution_count": null,
   "metadata": {},
   "outputs": [],
   "source": []
  }
 ],
 "metadata": {
  "kernelspec": {
   "display_name": "Python 3",
   "language": "python",
   "name": "python3"
  },
  "language_info": {
   "codemirror_mode": {
    "name": "ipython",
    "version": 3
   },
   "file_extension": ".py",
   "mimetype": "text/x-python",
   "name": "python",
   "nbconvert_exporter": "python",
   "pygments_lexer": "ipython3",
   "version": "3.8.3"
  }
 },
 "nbformat": 4,
 "nbformat_minor": 4
}
