{
 "cells": [
  {
   "cell_type": "code",
   "execution_count": 1,
   "metadata": {},
   "outputs": [],
   "source": [
    "from itertools import *\n",
    "import numpy as np"
   ]
  },
  {
   "cell_type": "code",
   "execution_count": 2,
   "metadata": {},
   "outputs": [],
   "source": [
    "def is_really_special(C,B):\n",
    "    for i in range(1,len(B)+1):\n",
    "        Bs = list(combinations(B,i))\n",
    "        for j in range(len(Bs)):\n",
    "            if sum(list(C)) == sum(list(Bs[j])):\n",
    "                #print('11')\n",
    "                #print(C,Bs[j])\n",
    "                return False\n",
    "            elif len(list(C)) < len(list(Bs[j])):\n",
    "                if sum(list(C)) > sum(list(Bs[j])):\n",
    "                    #print('22')\n",
    "                    #print(C,Bs[j])\n",
    "                    return False\n",
    "    return True"
   ]
  },
  {
   "cell_type": "code",
   "execution_count": 3,
   "metadata": {},
   "outputs": [],
   "source": [
    "def is_special_sum(A):\n",
    "    if len(A) > len (set(A)): #should not be any repeated values\n",
    "        return False\n",
    "    else:\n",
    "        A = set(A)\n",
    "        for i in range(1,(len(A)//2)+1):\n",
    "            Cs = list(combinations(A,i))\n",
    "            Bs = list(map(lambda x:A-set(x),Cs))\n",
    "            for j in range(len(Cs)):\n",
    "                if not is_really_special(Cs[j],Bs[j]):\n",
    "                    return False\n",
    "        return True"
   ]
  },
  {
   "cell_type": "code",
   "execution_count": 4,
   "metadata": {},
   "outputs": [],
   "source": [
    "def get_sol(ranges,expected):\n",
    "    Min = 99999999\n",
    "    to_add = list(product(ranges,repeat=len(expected)))\n",
    "    for add in to_add:\n",
    "        added = np.array(expected) + np.array(add)\n",
    "        if not all(sorted(added) == np.array(expected)):\n",
    "            if is_special_sum(added):\n",
    "                if added.sum() < Min:\n",
    "                    Min = added.sum()\n",
    "                    optimum = added\n",
    "    print('Optimum solution is',optimum,' with a sum of:',optimum.sum())"
   ]
  },
  {
   "cell_type": "markdown",
   "metadata": {},
   "source": [
    "### For the example in the problem "
   ]
  },
  {
   "cell_type": "code",
   "execution_count": 5,
   "metadata": {
    "scrolled": true
   },
   "outputs": [
    {
     "name": "stdout",
     "output_type": "stream",
     "text": [
      "Optimum solution is [11 17 21 23 22 25]  with a sum of: 119\n",
      "Wall time: 851 ms\n"
     ]
    }
   ],
   "source": [
    "%time get_sol([1,0,-1],[11, 17, 20, 22, 23, 24])"
   ]
  },
  {
   "cell_type": "code",
   "execution_count": 6,
   "metadata": {},
   "outputs": [
    {
     "name": "stdout",
     "output_type": "stream",
     "text": [
      "Optimum solution is [11 19 18 20 25 22]  with a sum of: 115\n",
      "Wall time: 14.2 s\n"
     ]
    }
   ],
   "source": [
    "%time get_sol([2,1,0,-1,-2],[11, 17, 20, 22, 23, 24])"
   ]
  },
  {
   "cell_type": "markdown",
   "metadata": {},
   "source": [
    "### The Sol"
   ]
  },
  {
   "cell_type": "markdown",
   "metadata": {},
   "source": [
    "Before doing anything, we should try the expected value first...and voila it's the right answer"
   ]
  },
  {
   "cell_type": "code",
   "execution_count": 7,
   "metadata": {},
   "outputs": [
    {
     "data": {
      "text/plain": [
       "255"
      ]
     },
     "execution_count": 7,
     "metadata": {},
     "output_type": "execute_result"
    }
   ],
   "source": [
    "expected = [20,31,38,39,40,42,45]\n",
    "sum(expected)"
   ]
  },
  {
   "cell_type": "code",
   "execution_count": null,
   "metadata": {},
   "outputs": [],
   "source": []
  }
 ],
 "metadata": {
  "kernelspec": {
   "display_name": "Python 3",
   "language": "python",
   "name": "python3"
  },
  "language_info": {
   "codemirror_mode": {
    "name": "ipython",
    "version": 3
   },
   "file_extension": ".py",
   "mimetype": "text/x-python",
   "name": "python",
   "nbconvert_exporter": "python",
   "pygments_lexer": "ipython3",
   "version": "3.8.5"
  }
 },
 "nbformat": 4,
 "nbformat_minor": 4
}
