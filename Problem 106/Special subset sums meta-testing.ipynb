{
 "cells": [
  {
   "cell_type": "code",
   "execution_count": 1,
   "metadata": {},
   "outputs": [],
   "source": [
    "def fact(n):\n",
    "    if n == 0:\n",
    "        return 1\n",
    "    return n*fact(n-1)"
   ]
  },
  {
   "cell_type": "code",
   "execution_count": 2,
   "metadata": {},
   "outputs": [],
   "source": [
    "def nCr(n,r):\n",
    "    return fact(n)//(fact(n-r)*fact(r))"
   ]
  },
  {
   "cell_type": "markdown",
   "metadata": {},
   "source": [
    "Just for fun let's get number of possible pairs.[source](https://math.stackexchange.com/questions/216984/finding-the-number-of-subset-pairs-of-a-set)"
   ]
  },
  {
   "cell_type": "code",
   "execution_count": 3,
   "metadata": {},
   "outputs": [],
   "source": [
    "def get_n_subsets(n):\n",
    "    return (3**n - 2**(n+1) + 1 )//2"
   ]
  },
  {
   "cell_type": "markdown",
   "metadata": {},
   "source": [
    "Now also for fun let's get the number of pairs considering the number of elements in each disjoint subset (see the **`pic`** attached)"
   ]
  },
  {
   "cell_type": "code",
   "execution_count": 8,
   "metadata": {},
   "outputs": [],
   "source": [
    "def get_n_pairs(n_A,n_B,n_C):\n",
    "    #n_A : number of the elements in the main set\n",
    "    n = nCr(n_A,n_B)*nCr(n_A-n_B,n_C)\n",
    "    if n_B == n_C: #to eliminate repeated subsets like (x,y) and (y,x)\n",
    "        return n//2\n",
    "    return n"
   ]
  },
  {
   "cell_type": "code",
   "execution_count": 77,
   "metadata": {},
   "outputs": [
    {
     "name": "stdout",
     "output_type": "stream",
     "text": [
      "55\n"
     ]
    }
   ],
   "source": [
    "total = 0\n",
    "for i in range(2,4):\n",
    "    total += get_n_pairs(6,i,i)\n",
    "print(total)"
   ]
  },
  {
   "cell_type": "markdown",
   "metadata": {},
   "source": [
    "### Now Let's solve the Problem"
   ]
  },
  {
   "cell_type": "code",
   "execution_count": 83,
   "metadata": {},
   "outputs": [],
   "source": [
    "from functools import reduce\n",
    "from itertools import *\n",
    "import numpy as np\n",
    "import operator"
   ]
  },
  {
   "cell_type": "code",
   "execution_count": 50,
   "metadata": {},
   "outputs": [],
   "source": [
    "# Let's Assign B to each C\n",
    "def get_pairs(B,Cs):\n",
    "    return list(map(lambda x:sorted(x),list(product(B,Cs))))"
   ]
  },
  {
   "cell_type": "code",
   "execution_count": 74,
   "metadata": {},
   "outputs": [],
   "source": [
    "# Let's get all the pairs that has equal elements in B,C\n",
    "def get_all_pairs(n_A):\n",
    "    A = set(range(n_A))\n",
    "    pairs = []\n",
    "    for i in range(2,(len(A)//2)+1):\n",
    "        Bs = list(combinations(A,i))\n",
    "        Cs = list(map(lambda x:list(combinations(A-set(x),i)),Bs))\n",
    "        for j in range(len(Bs)):\n",
    "            p = get_pairs([Bs[j]],Cs[j]) #[Bs[j]] fot \"product\" function\n",
    "            for pair in p:\n",
    "                if not pair in pairs:\n",
    "                    pairs.append(pair)\n",
    "    \n",
    "    return pairs"
   ]
  },
  {
   "cell_type": "markdown",
   "metadata": {},
   "source": [
    "### Quoted from [here](https://projecteuler.chat/viewtopic.php?f=50&t=1314&sid=e2485cd6553d84e41d658904bdb93a11&start=20)\n",
    "When the problem refers to subsets that **\"need to be tested for equality\"** it means pairs of subsets that COULD have equal sums without breaking prior conditions (condition ii. and strictly increasing elements) and therefore must be tested.\n",
    "\n",
    "for example, when n=4 and the set is {a1,a2,a3,a4} we only need to check whether S({a1,a4}) = S({a2,a3}) since:\n",
    "- Disjoint sets of unequal size have different sums (condition ii.).\n",
    "- Disjoint sets of size 1 have one element each and the elements are distinct (strictly increasing elements).\n",
    "- The only disjoint sets of size 2 are {a1,a2},{a3,a4}, {a1,a3},{a2,a4} ,and {a1,a4},{b,c}. It is not possible that S({a1,a2}) = S({a3,a4}) since a1<a3, a2<a4 (and the same goes for {a1,a3},{a2,a4}), so the only thing we need to test is S({a1,a4}) = S({a2,a3})."
   ]
  },
  {
   "cell_type": "code",
   "execution_count": 87,
   "metadata": {},
   "outputs": [],
   "source": [
    "def is_necessary(pair):\n",
    "    pair1,pair2 = pair\n",
    "    if all(np.array(pair1) < np.array(pair2)):\n",
    "        return False\n",
    "    return True"
   ]
  },
  {
   "cell_type": "code",
   "execution_count": 60,
   "metadata": {},
   "outputs": [],
   "source": [
    "def get_sol(n_A):\n",
    "    necessary = 0\n",
    "    pairs = get_all_pairs(n_A)\n",
    "    for pair in pairs:\n",
    "        if is_necessary(pair):\n",
    "            necessary += 1\n",
    "    print(\"number of to-test pairs is\",necessary)"
   ]
  },
  {
   "cell_type": "code",
   "execution_count": 90,
   "metadata": {},
   "outputs": [
    {
     "name": "stdout",
     "output_type": "stream",
     "text": [
      "number of to-test pairs is 21384\n",
      "Wall time: 2min 39s\n"
     ]
    }
   ],
   "source": [
    "%time get_sol(12)"
   ]
  },
  {
   "cell_type": "code",
   "execution_count": null,
   "metadata": {},
   "outputs": [],
   "source": []
  }
 ],
 "metadata": {
  "kernelspec": {
   "display_name": "Python 3",
   "language": "python",
   "name": "python3"
  },
  "language_info": {
   "codemirror_mode": {
    "name": "ipython",
    "version": 3
   },
   "file_extension": ".py",
   "mimetype": "text/x-python",
   "name": "python",
   "nbconvert_exporter": "python",
   "pygments_lexer": "ipython3",
   "version": "3.8.5"
  }
 },
 "nbformat": 4,
 "nbformat_minor": 4
}
