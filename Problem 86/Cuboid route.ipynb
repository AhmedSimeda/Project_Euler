{
 "cells": [
  {
   "cell_type": "code",
   "execution_count": null,
   "metadata": {},
   "outputs": [],
   "source": [
    "from math import sqrt"
   ]
  },
  {
   "cell_type": "code",
   "execution_count": null,
   "metadata": {},
   "outputs": [],
   "source": [
    "def get_roots(a,b,c):\n",
    "    D = b**2 - 4*a*c\n",
    "    if D < 0:\n",
    "        return (-1,-1)\n",
    "    elif D == 0:\n",
    "        R = -b/(2*a)\n",
    "        return (R,R)\n",
    "    else:\n",
    "        R1 = -b/(2*a) + sqrt(D)/(2*a)\n",
    "        R2 = -b/(2*a) - sqrt(D)/(2*a)\n",
    "        return (R1,R2)"
   ]
  },
  {
   "cell_type": "code",
   "execution_count": null,
   "metadata": {},
   "outputs": [],
   "source": [
    "def calc_path(w,l,h,x,i):   # i is the equation number\n",
    "    if i == 1:\n",
    "        p = sqrt((w-x)**2 + l**2) + sqrt(x**2 + h**2)\n",
    "        return p\n",
    "    elif i == 2:\n",
    "        p = sqrt((l-x)**2 + w**2) + sqrt(x**2 + h**2)\n",
    "        return p\n",
    "    else:\n",
    "        p = sqrt((w-x)**2 + h**2) + sqrt(x**2 + l**2)\n",
    "        return p"
   ]
  },
  {
   "cell_type": "code",
   "execution_count": null,
   "metadata": {},
   "outputs": [],
   "source": [
    "def get_shortest_path(width,length,height):\n",
    "    paths = []\n",
    "    if length == height:\n",
    "        x1 = (width/2,width/2)\n",
    "        x3 = x1\n",
    "    else:\n",
    "        x1 = get_roots((1-(length**2)/(height**2)),-2*width,width**2)\n",
    "        x3 = get_roots((1-(height**2)/(length**2)),-2*width,width**2)\n",
    "    if width == height:\n",
    "        x2 = (length/2,length/2)\n",
    "    else:\n",
    "        x2 = get_roots((1-(width**2)/(height**2)),-2*length,length**2)\n",
    "    \n",
    "    for i in range(1,4):\n",
    "        x = eval('x'+str(i))\n",
    "        if x[0] >= 0:\n",
    "            paths.append(calc_path(width,length,height,x[0],i))\n",
    "        if x[1] >= 0:\n",
    "            paths.append(calc_path(width,length,height,x[1],i))\n",
    "    \n",
    "    return min(paths)"
   ]
  },
  {
   "cell_type": "code",
   "execution_count": null,
   "metadata": {},
   "outputs": [],
   "source": [
    "%time get_shortest_path(100,100,100)"
   ]
  },
  {
   "cell_type": "code",
   "execution_count": null,
   "metadata": {},
   "outputs": [],
   "source": [
    "from time import time "
   ]
  },
  {
   "cell_type": "code",
   "execution_count": null,
   "metadata": {},
   "outputs": [],
   "source": [
    "start = time()\n",
    "\n",
    "cuboids = []\n",
    "no_cuboids = 0\n",
    "for w in range(1,101):\n",
    "    for l in range(1,101):\n",
    "        for h in range(1,101):\n",
    "            if not sorted((w,l,h)) in cuboids:\n",
    "                shortestPath = get_shortest_path(w,l,h)\n",
    "                if int(shortestPath) == shortestPath:\n",
    "                    no_cuboids += 1\n",
    "                cuboids.append(sorted((w,l,h)))\n",
    "\n",
    "print(no_cuboids)\n",
    "\n",
    "end = time()\n",
    "print(\"=================================\")\n",
    "print(\"time taken is : \" + str(end-start))\n",
    "print(\"=================================\")"
   ]
  },
  {
   "cell_type": "markdown",
   "metadata": {},
   "source": [
    "## Another Approach"
   ]
  },
  {
   "cell_type": "code",
   "execution_count": 1,
   "metadata": {},
   "outputs": [],
   "source": [
    "from math import sqrt\n",
    "def get_shortest_path(width,length,height):\n",
    "    x1 = sqrt((width+height)**2 + length**2)\n",
    "    x2 = sqrt(width**2 + (length+height)**2)\n",
    "    x3 = sqrt((height+width)**2 + length**2)\n",
    "    return min(x1,x2,x3)\n",
    "    #return x"
   ]
  },
  {
   "cell_type": "code",
   "execution_count": 6,
   "metadata": {},
   "outputs": [
    {
     "data": {
      "text/plain": [
       "10.0"
      ]
     },
     "execution_count": 6,
     "metadata": {},
     "output_type": "execute_result"
    }
   ],
   "source": [
    "get_shortest_path(6,1,7)"
   ]
  },
  {
   "cell_type": "code",
   "execution_count": 5,
   "metadata": {},
   "outputs": [],
   "source": [
    "from itertools import combinations_with_replacement"
   ]
  },
  {
   "cell_type": "code",
   "execution_count": 7,
   "metadata": {},
   "outputs": [],
   "source": [
    "from time import time "
   ]
  },
  {
   "cell_type": "code",
   "execution_count": 8,
   "metadata": {},
   "outputs": [
    {
     "name": "stdout",
     "output_type": "stream",
     "text": [
      "2060\n",
      "=================================\n",
      "time taken is : 1.4522922039031982\n",
      "=================================\n"
     ]
    }
   ],
   "source": [
    "diff_cuboids = list(combinations_with_replacement([i for i in range(1,101)],3))\n",
    "\n",
    "start = time()\n",
    "\n",
    "cuboids = []\n",
    "no_cuboids  = 0\n",
    "for cuboid in diff_cuboids:\n",
    "    h,l,w = cuboid\n",
    "    shortestPath = get_shortest_path(w,l,h)\n",
    "    if int(shortestPath) == shortestPath:\n",
    "        no_cuboids += 1\n",
    "\n",
    "print(no_cuboids)\n",
    "\n",
    "end = time()\n",
    "print(\"=================================\")\n",
    "print(\"time taken is : \" + str(end-start))\n",
    "print(\"=================================\")"
   ]
  },
  {
   "cell_type": "code",
   "execution_count": null,
   "metadata": {},
   "outputs": [],
   "source": []
  }
 ],
 "metadata": {
  "kernelspec": {
   "display_name": "Python 3",
   "language": "python",
   "name": "python3"
  },
  "language_info": {
   "codemirror_mode": {
    "name": "ipython",
    "version": 3
   },
   "file_extension": ".py",
   "mimetype": "text/x-python",
   "name": "python",
   "nbconvert_exporter": "python",
   "pygments_lexer": "ipython3",
   "version": "3.6.9"
  }
 },
 "nbformat": 4,
 "nbformat_minor": 2
}
