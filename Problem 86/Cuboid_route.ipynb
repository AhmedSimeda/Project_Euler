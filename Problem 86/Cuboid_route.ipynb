{
  "nbformat": 4,
  "nbformat_minor": 0,
  "metadata": {
    "colab": {
      "name": "Cuboid_route.ipynb",
      "provenance": [],
      "collapsed_sections": []
    },
    "kernelspec": {
      "name": "python3",
      "display_name": "Python 3"
    }
  },
  "cells": [
    {
      "cell_type": "code",
      "metadata": {
        "id": "ZoJyw4Kmr7IK",
        "colab_type": "code",
        "colab": {}
      },
      "source": [
        "from math import sqrt"
      ],
      "execution_count": null,
      "outputs": []
    },
    {
      "cell_type": "code",
      "metadata": {
        "id": "cU9cd6y92q9U",
        "colab_type": "code",
        "colab": {}
      },
      "source": [
        "def get_shortest_path(sides):\n",
        "  width,length,height = sorted(sides)[::-1] #ignoring rotations\n",
        "  x = sqrt(width**2 + (length+height)**2) # width >= length >= height \n",
        "  return x"
      ],
      "execution_count": null,
      "outputs": []
    },
    {
      "cell_type": "code",
      "metadata": {
        "id": "SN0_Frlo3i7a",
        "colab_type": "code",
        "colab": {}
      },
      "source": [
        "def get_diff_sides(triplet):\n",
        "  diff_sides = []\n",
        "  for t in range(len(triplet)):\n",
        "    for i in range(1,(triplet[t]//2)+1):\n",
        "      diff_sides.append((triplet[t-1],triplet[t]-i,i))\n",
        "  \n",
        "  return diff_sides"
      ],
      "execution_count": null,
      "outputs": []
    },
    {
      "cell_type": "code",
      "metadata": {
        "id": "OYkhDzDxKHek",
        "colab_type": "code",
        "colab": {}
      },
      "source": [
        "def get_pythagorean_triples(M):\n",
        "  M = 100\n",
        "  if \n",
        "  for a in range(1,2*M+1):\n",
        "    if a < M:\n",
        "      for b in range(1,a) :\n",
        "        c = sqrt(a**2 + b**2)\n",
        "        if int(c) == c:\n",
        "          yield (a,b)\n",
        "    else:\n",
        "      for b in range(1,M+1) :\n",
        "        c = sqrt(a**2 + b**2)\n",
        "        if int(c) == c:\n",
        "          yield (a,b)"
      ],
      "execution_count": null,
      "outputs": []
    },
    {
      "cell_type": "code",
      "metadata": {
        "id": "MhprDEU-gdPj",
        "colab_type": "code",
        "colab": {}
      },
      "source": [
        "from time import time "
      ],
      "execution_count": null,
      "outputs": []
    },
    {
      "cell_type": "code",
      "metadata": {
        "id": "WhNKN1i6MCtv",
        "colab_type": "code",
        "colab": {
          "base_uri": "https://localhost:8080/",
          "height": 85
        },
        "outputId": "fb4705b1-6885-40fe-fe09-498757f8125f"
      },
      "source": [
        "start = time()\n",
        "\n",
        "no_cuboids = 0\n",
        "Triple = get_pythagorean_triples(M=1)\n",
        "while True:\n",
        "  try:\n",
        "    triple = next(Triple)\n",
        "    diff_sides = get_diff_sides(triple)\n",
        "    for sides in diff_sides:\n",
        "      shortestPath = get_shortest_path(sides)\n",
        "      if int(shortestPath) == shortestPath:\n",
        "        no_cuboids += 1\n",
        "  except:\n",
        "    break\n",
        "\n",
        "print(no_cuboids)\n",
        "\n",
        "end = time()\n",
        "print(\"=================================\")\n",
        "print(\"time taken is : \" + str(end-start))\n",
        "print(\"=================================\")"
      ],
      "execution_count": null,
      "outputs": [
        {
          "output_type": "stream",
          "text": [
            "3873\n",
            "=================================\n",
            "time taken is : 0.024478435516357422\n",
            "=================================\n"
          ],
          "name": "stdout"
        }
      ]
    },
    {
      "cell_type": "markdown",
      "metadata": {
        "id": "dfVFLHv7WBJD",
        "colab_type": "text"
      },
      "source": [
        "**Brute Force**"
      ]
    },
    {
      "cell_type": "code",
      "metadata": {
        "id": "0qALMMPgWqz5",
        "colab_type": "code",
        "colab": {}
      },
      "source": [
        "from math import sqrt"
      ],
      "execution_count": 1,
      "outputs": []
    },
    {
      "cell_type": "code",
      "metadata": {
        "id": "cZ3qIVLqWkVQ",
        "colab_type": "code",
        "colab": {}
      },
      "source": [
        "def get_shortest_path(width,length,height):\n",
        "  x = sqrt(width**2 + (length+height)**2) # width >= length >= height \n",
        "  return x"
      ],
      "execution_count": 2,
      "outputs": []
    },
    {
      "cell_type": "code",
      "metadata": {
        "id": "sD0NuIAtWHPr",
        "colab_type": "code",
        "colab": {}
      },
      "source": [
        "def count_cuboids(M):\n",
        "  # W >= l >= h\n",
        "  no_cuboids = 0\n",
        "  for h in range(1,M+1):\n",
        "    for l in range(h,M+1):\n",
        "      for w in range(l,M+1):\n",
        "        shortestPath = get_shortest_path(w,l,h)\n",
        "        if int(shortestPath) == shortestPath:\n",
        "          no_cuboids += 1\n",
        "          if no_cuboids > 1000000:\n",
        "            return True\n",
        "  return no_cuboids > 1000000"
      ],
      "execution_count": 8,
      "outputs": []
    },
    {
      "cell_type": "code",
      "metadata": {
        "id": "mrsttvxDY64p",
        "colab_type": "code",
        "colab": {}
      },
      "source": [
        "from time import time "
      ],
      "execution_count": 4,
      "outputs": []
    },
    {
      "cell_type": "markdown",
      "metadata": {
        "id": "M55VUFC9jrqu",
        "colab_type": "text"
      },
      "source": [
        " To select the boundaries of the binary search:"
      ]
    },
    {
      "cell_type": "code",
      "metadata": {
        "id": "TSy2qyd5jJI9",
        "colab_type": "code",
        "colab": {
          "base_uri": "https://localhost:8080/",
          "height": 102
        },
        "outputId": "fc9e1d1e-fac1-4354-9325-6d8a30f2c547"
      },
      "source": [
        "start = time()\n",
        "\n",
        "m = 1000     #the amount to be added\n",
        "M = 1000\n",
        "no_cuboids = False\n",
        "while not no_cuboids:\n",
        "  no_cuboids = count_cuboids(M)\n",
        "  print(M,no_cuboids)\n",
        "  M += m\n",
        "\n",
        "end = time()\n",
        "print(\"=================================\")\n",
        "print(\"time taken is : \" + str(end-start))\n",
        "print(\"=================================\")"
      ],
      "execution_count": 15,
      "outputs": [
        {
          "output_type": "stream",
          "text": [
            "1000 False\n",
            "2000 True\n",
            "=================================\n",
            "time taken is : 1005.5803852081299\n",
            "=================================\n"
          ],
          "name": "stdout"
        }
      ]
    },
    {
      "cell_type": "code",
      "metadata": {
        "id": "4jwjhz8XW0-U",
        "colab_type": "code",
        "colab": {
          "base_uri": "https://localhost:8080/",
          "height": 204
        },
        "outputId": "d2993794-f4b6-45de-9fd3-e13617bfffb3"
      },
      "source": [
        "start = time()\n",
        "\n",
        "m = 500     #the amount to be added\n",
        "M = 1500\n",
        "while m > 1:\n",
        "  no_cuboids = count_cuboids(M)\n",
        "  if no_cuboids:    # no_cuboids > 1000000\n",
        "    print(M,'1000000+')\n",
        "    m //= 2\n",
        "    M -= m\n",
        "  else:\n",
        "    print(M,'1000000-')\n",
        "    m //= 2\n",
        "    M += m\n",
        "\n",
        "end = time()\n",
        "print(\"=================================\")\n",
        "print(\"time taken is : \" + str(end-start))\n",
        "print(\"=================================\")"
      ],
      "execution_count": 17,
      "outputs": [
        {
          "output_type": "stream",
          "text": [
            "1500 1000000-\n",
            "1750 1000000-\n",
            "1875 1000000+\n",
            "1813 1000000-\n",
            "1844 1000000+\n",
            "1829 1000000+\n",
            "1822 1000000+\n",
            "1819 1000000+\n",
            "=================================\n",
            "time taken is : 6393.563569068909\n",
            "=================================\n"
          ],
          "name": "stdout"
        }
      ]
    },
    {
      "cell_type": "code",
      "metadata": {
        "id": "_glDL7e1M_o3",
        "colab_type": "code",
        "colab": {
          "base_uri": "https://localhost:8080/",
          "height": 34
        },
        "outputId": "1a4198be-3b74-4dac-cb5e-200ede3587cf"
      },
      "source": [
        "count_cuboids(1818) #because i forgot \"=\" in \"while m >= 1\""
      ],
      "execution_count": 18,
      "outputs": [
        {
          "output_type": "execute_result",
          "data": {
            "text/plain": [
              "True"
            ]
          },
          "metadata": {
            "tags": []
          },
          "execution_count": 18
        }
      ]
    },
    {
      "cell_type": "code",
      "metadata": {
        "id": "RZAvWwxMNF3J",
        "colab_type": "code",
        "colab": {
          "base_uri": "https://localhost:8080/",
          "height": 34
        },
        "outputId": "20c65c8f-9835-47a5-948b-7001710409f0"
      },
      "source": [
        "count_cuboids(1817)"
      ],
      "execution_count": 19,
      "outputs": [
        {
          "output_type": "execute_result",
          "data": {
            "text/plain": [
              "False"
            ]
          },
          "metadata": {
            "tags": []
          },
          "execution_count": 19
        }
      ]
    }
  ]
}