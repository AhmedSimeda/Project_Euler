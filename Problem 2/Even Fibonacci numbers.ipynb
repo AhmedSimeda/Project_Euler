{
 "cells": [
  {
   "cell_type": "code",
   "execution_count": 9,
   "metadata": {},
   "outputs": [],
   "source": [
    "def Is_Even(num):\n",
    "    if num % 2 ==0:\n",
    "        return True\n",
    "    else:\n",
    "        return False"
   ]
  },
  {
   "cell_type": "code",
   "execution_count": 14,
   "metadata": {},
   "outputs": [],
   "source": [
    "def Fibonacci_Gen(N):\n",
    "    Series = [1,2]\n",
    "    for i in range(1,int(N)-1):\n",
    "        if ( (Series[i-1]+Series[i]) <= 4e6 ) :\n",
    "            Series.append(Series[i-1]+Series[i])\n",
    "        else:\n",
    "            break\n",
    "            \n",
    "    Series = list(filter(Is_Even,Series))\n",
    "    Sum = sum(Series)\n",
    "    \n",
    "    return Series,Sum    "
   ]
  },
  {
   "cell_type": "code",
   "execution_count": 17,
   "metadata": {
    "scrolled": true
   },
   "outputs": [
    {
     "name": "stdout",
     "output_type": "stream",
     "text": [
      "[2, 8, 34, 144, 610, 2584, 10946, 46368, 196418, 832040, 3524578]\n",
      "4613732\n"
     ]
    }
   ],
   "source": [
    "A , B = Fibonacci_Gen(1e14)\n",
    "print(A)\n",
    "print(B)"
   ]
  },
  {
   "cell_type": "markdown",
   "metadata": {},
   "source": [
    "## After Solving 85 problems"
   ]
  },
  {
   "cell_type": "code",
   "execution_count": 2,
   "metadata": {},
   "outputs": [],
   "source": [
    "def get_Feven_sum(limit):\n",
    "    f   = 1\n",
    "    s   = 1\n",
    "    Sum = 0\n",
    "    while (f+s) <= limit:\n",
    "        temp = f+s\n",
    "        if temp%2 == 0:\n",
    "            Sum += temp\n",
    "        f = s\n",
    "        s = temp\n",
    "    \n",
    "    print(Sum)"
   ]
  },
  {
   "cell_type": "code",
   "execution_count": 4,
   "metadata": {},
   "outputs": [
    {
     "name": "stdout",
     "output_type": "stream",
     "text": [
      "4613732\n",
      "Wall time: 0 ns\n"
     ]
    }
   ],
   "source": [
    "%time get_Feven_sum(4e6)"
   ]
  },
  {
   "cell_type": "markdown",
   "metadata": {},
   "source": [
    "## Fibonacci  with recursion"
   ]
  },
  {
   "cell_type": "code",
   "execution_count": 1,
   "metadata": {},
   "outputs": [],
   "source": [
    "def fib(n):\n",
    "    if n < 3:\n",
    "        return 1\n",
    "    else:\n",
    "        return fib(n-2)+fib(n-1)"
   ]
  }
 ],
 "metadata": {
  "kernelspec": {
   "display_name": "Python 3",
   "language": "python",
   "name": "python3"
  },
  "language_info": {
   "codemirror_mode": {
    "name": "ipython",
    "version": 3
   },
   "file_extension": ".py",
   "mimetype": "text/x-python",
   "name": "python",
   "nbconvert_exporter": "python",
   "pygments_lexer": "ipython3",
   "version": "3.6.9"
  }
 },
 "nbformat": 4,
 "nbformat_minor": 2
}
