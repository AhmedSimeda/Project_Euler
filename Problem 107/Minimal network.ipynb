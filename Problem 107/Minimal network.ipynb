{
 "cells": [
  {
   "cell_type": "code",
   "execution_count": 1,
   "metadata": {},
   "outputs": [],
   "source": [
    "#import pandas as pd\n",
    "import numpy as np"
   ]
  },
  {
   "cell_type": "code",
   "execution_count": 2,
   "metadata": {},
   "outputs": [
    {
     "data": {
      "text/plain": [
       "array([[1000, 1000, 1000, ..., 1000, 1000,  774],\n",
       "       [1000, 1000,  262, ...,  102,  636,  289],\n",
       "       [1000,  262, 1000, ...,  168,  432,  833],\n",
       "       ...,\n",
       "       [1000,  102,  168, ..., 1000,  371,  680],\n",
       "       [1000,  636,  432, ...,  371, 1000,  540],\n",
       "       [ 774,  289,  833, ...,  680,  540, 1000]])"
      ]
     },
     "execution_count": 2,
     "metadata": {},
     "output_type": "execute_result"
    }
   ],
   "source": [
    "table = ''\n",
    "with open('p107_network.txt','r') as file:\n",
    "    for line in file:\n",
    "        table += line.rstrip().replace('-','1000') + ','    # 1000 as it's bigger than the maximum value in the original table\n",
    "                                                            # to unite the separate item ','\n",
    "# [:-1] to remove the last ','\n",
    "table = np.array(table[:-1].split(',')).reshape(40,40).astype(int)  \n",
    "table"
   ]
  },
  {
   "cell_type": "code",
   "execution_count": 14,
   "metadata": {},
   "outputs": [],
   "source": [
    "ex_table = np.array([[1000,16,12,21,1000,1000,1000],\n",
    "                  [16,1000,1000,17,20,1000,1000],\n",
    "                  [12,1000,1000,28,1000,31,1000],\n",
    "                  [21,17,28,1000,18,19,23],\n",
    "                  [1000,20,1000,18,1000,1000,11],\n",
    "                  [1000,1000,31,19,1000,1000,27],\n",
    "                  [1000,1000,1000,23,11,27,1000]])"
   ]
  },
  {
   "cell_type": "code",
   "execution_count": null,
   "metadata": {},
   "outputs": [],
   "source": [
    "# get minmum values first\n",
    "def first_step(table):\n",
    "    # creating a new table in which we will put our new edges\n",
    "    new_table = np.zeros(table.shape)\n",
    "    \n",
    "    # first let's get the position of the minmum value in each row(or column as you like)\n",
    "    mins = np.argmin(table, axis=1)\n",
    "    \n",
    "    # let's then fill the new table with the mins\n",
    "    for row,col in enumerate(mins):\n",
    "        value = table[row,col]\n",
    "        new_table[row,col] = new_table[col,row] = value\n",
    "              \n",
    "    return new_table,(new_table.shape[0]-1)-(len(np.unique(new_table))-1)"
   ]
  },
  {
   "cell_type": "code",
   "execution_count": null,
   "metadata": {},
   "outputs": [],
   "source": [
    "# get the index of the second smallest number\n",
    "def get_second(table,idx):\n",
    "    return list(table[idx]).index(sorted(table[idx])[1])\n",
    "\n",
    "#let's combine each only-two-connected vertices to the nearest graph\n",
    "def second_step(oldTable,newTable): \n",
    "    taken   = [] #containg taken rows\n",
    "    only_us = []\n",
    "    for row in range(newTable.shape[0]):\n",
    "        #get the number of connected vertices for each vertices\n",
    "        values ,indices = np.unique(newTable[row],return_index=True) \n",
    "        \n",
    "        if  len(values)-1 == 1:  # len()-1 because i don't care about '0'\n",
    "            for v,i in zip(values,indices): # just to make sure that we don't choose '0'\n",
    "                if (v != 0) and (len(np.unique(newTable[i]))-1 == 1): #making sure that the other vertex is also connected to it only\n",
    "                    idx_r,idx_c = get_second(oldTable,row),get_second(oldTable,i)\n",
    "                    value_r,value_c = oldTable[row,idx_r],oldTable[i,idx_c]\n",
    "                    if value_r < value_c :\n",
    "                        if not row in taken:\n",
    "                            only_us.append((value_r,row,idx_r))\n",
    "                            taken.append(row)\n",
    "                    else:\n",
    "                        if not i in taken:\n",
    "                            only_us.append((value_c,i,idx_c))\n",
    "                            taken.append(i)\n",
    "                            \n",
    "    #now let's add the edges that have the smallest weights to our new table\n",
    "    for value, row, col in only_us:\n",
    "        newTable[row,col] = newTable[col,row] = value\n",
    "    \n",
    "    return newTable,(newTable.shape[0]-1)-(len(np.unique(newTable))-1)"
   ]
  },
  {
   "cell_type": "code",
   "execution_count": null,
   "metadata": {},
   "outputs": [],
   "source": [
    "ex_new_table,edges_left = first_step(ex_table)\n",
    "edges_left"
   ]
  },
  {
   "cell_type": "code",
   "execution_count": null,
   "metadata": {},
   "outputs": [],
   "source": [
    "second_step(ex_table.copy(),ex_new_table.copy())"
   ]
  },
  {
   "cell_type": "markdown",
   "metadata": {},
   "source": [
    "Now let's contue to see what will happen for the other table"
   ]
  },
  {
   "cell_type": "code",
   "execution_count": null,
   "metadata": {},
   "outputs": [],
   "source": [
    "new_table,edges_left = first_step(table)\n",
    "edges_left"
   ]
  },
  {
   "cell_type": "code",
   "execution_count": null,
   "metadata": {},
   "outputs": [],
   "source": [
    "new_table,edges_left = second_step(table.copy(),new_table.copy())\n",
    "edges_left"
   ]
  },
  {
   "cell_type": "code",
   "execution_count": null,
   "metadata": {},
   "outputs": [],
   "source": [
    "pd.DataFrame(new_table).to_csv(\"new_table.csv\")"
   ]
  },
  {
   "cell_type": "markdown",
   "metadata": {},
   "source": [
    "# Using [Prim's Algorithm: Minimal Spanning Tree](https://www.youtube.com/watch?v=YyLaRffCdk4&ab_channel=BarryBrown)"
   ]
  },
  {
   "cell_type": "code",
   "execution_count": 4,
   "metadata": {},
   "outputs": [],
   "source": [
    "def get_min_edge(network,visited,min_edges):\n",
    "    Min = (999999,(0,0))\n",
    "    for v in visited:\n",
    "        row   = network[v].copy()\n",
    "        idx   = np.argmin(row)\n",
    "        edge  = (row[idx],(v,idx))\n",
    "        #finding the smallest edge in this row other than the chosen ones and the ones that leads to the visited vertices    \n",
    "        while np.sum(row == 1000) < len(row):\n",
    "            if  not(edge in min_edges) and not(idx in visited):\n",
    "                break\n",
    "            row[idx] = 1000\n",
    "            idx   = np.argmin(row)\n",
    "            edge  = (row[idx],(v,idx))\n",
    "        #print('-----------')\n",
    "        #print(edge)\n",
    "        #Testing\n",
    "        if edge[0] <= Min[0]:\n",
    "            #print('True')\n",
    "            Min = edge\n",
    "    \n",
    "    #appending the results\n",
    "    visited.append(Min[1][1])\n",
    "    min_edges.append(Min)\n",
    "    \n",
    "    return min_edges,visited"
   ]
  },
  {
   "cell_type": "code",
   "execution_count": 13,
   "metadata": {},
   "outputs": [],
   "source": [
    "#Note: there may be two equal weights for two different edges\n",
    "#that's why i can't use np.unique then sum()\n",
    "def get_weight(network):\n",
    "    taken  = [] \n",
    "    weight = 0\n",
    "    for row in range(network.shape[0]):\n",
    "        for col in range(network.shape[1]):\n",
    "            if (not sorted([row,col]) in taken) and (network[row,col] != 1000):\n",
    "                weight += network[row,col]\n",
    "                #print(network[row,col])\n",
    "            taken.append(sorted([row,col]))\n",
    "    \n",
    "    return weight"
   ]
  },
  {
   "cell_type": "code",
   "execution_count": 19,
   "metadata": {},
   "outputs": [],
   "source": [
    "def get_sol(network):\n",
    "    visited     = [0]                             #I'll begin with the first row \n",
    "    min_edges   = []\n",
    "    # let's iterate (vertices-1) times\n",
    "    for _ in range(network.shape[0]-1):      # '_' as i am not interested in using it \n",
    "        min_edges,visited = get_min_edge(network,visited,min_edges)\n",
    "    \n",
    "    overall_weight = get_weight(network)\n",
    "    minmum_weight  = sum([min_edges[i][0] for i in range(len(min_edges))])\n",
    "    #print(min_edges)\n",
    "    print(\"Maximum saving for this network is: \" + str(overall_weight-minmum_weight) )"
   ]
  },
  {
   "cell_type": "code",
   "execution_count": 20,
   "metadata": {},
   "outputs": [
    {
     "name": "stdout",
     "output_type": "stream",
     "text": [
      "Maximum saving for this network is: 259679\n",
      "Wall time: 391 ms\n"
     ]
    }
   ],
   "source": [
    "%time get_sol(table)"
   ]
  },
  {
   "cell_type": "code",
   "execution_count": null,
   "metadata": {},
   "outputs": [],
   "source": []
  }
 ],
 "metadata": {
  "kernelspec": {
   "display_name": "Python 3",
   "language": "python",
   "name": "python3"
  },
  "language_info": {
   "codemirror_mode": {
    "name": "ipython",
    "version": 3
   },
   "file_extension": ".py",
   "mimetype": "text/x-python",
   "name": "python",
   "nbconvert_exporter": "python",
   "pygments_lexer": "ipython3",
   "version": "3.8.3"
  }
 },
 "nbformat": 4,
 "nbformat_minor": 4
}
