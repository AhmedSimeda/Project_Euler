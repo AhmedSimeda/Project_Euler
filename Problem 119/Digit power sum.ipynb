{
 "cells": [
  {
   "cell_type": "code",
   "execution_count": 5,
   "metadata": {},
   "outputs": [
    {
     "name": "stdout",
     "output_type": "stream",
     "text": [
      "==================================================\n",
      "a10 is 614656\n",
      "--------------------------------------------------\n",
      "time taken is equal to 4.069263458251953 s\n",
      "==================================================\n"
     ]
    }
   ],
   "source": [
    "from time import time\n",
    "\n",
    "start = time()\n",
    "\n",
    "num = 10                # the first number that has more than one digit\n",
    "nth = 10\n",
    "n = 0\n",
    "while n != nth:\n",
    "    num    +=1                     # As 10 can never be one of them\n",
    "    sum_num = sum(list(map(int, list(str(num)))))\n",
    "    power   = 1\n",
    "    res     = sum_num**power\n",
    "    while (res < num) and (sum_num != 1):\n",
    "        power += 1 \n",
    "        res = sum_num**power\n",
    "        \n",
    "    if res == num:\n",
    "        n += 1\n",
    "\n",
    "end = time()\n",
    "print('='*50)\n",
    "print(f'a{nth} is {num}')\n",
    "print('-'*50)\n",
    "print(f'time taken is equal to {end-start} s')\n",
    "print('='*50)"
   ]
  },
  {
   "cell_type": "markdown",
   "metadata": {},
   "source": [
    "> This Approach took large time. let's try the other way around"
   ]
  },
  {
   "cell_type": "markdown",
   "metadata": {},
   "source": [
    "## Approach 2"
   ]
  },
  {
   "cell_type": "code",
   "execution_count": 12,
   "metadata": {},
   "outputs": [
    {
     "name": "stdout",
     "output_type": "stream",
     "text": [
      "2401 7\n",
      "512 8\n",
      "81 9\n",
      "4913 17\n",
      "5832 18\n",
      "81920000000000000 20\n",
      "234256 22\n",
      "390625 25\n",
      "17576 26\n",
      "19683 27\n",
      "==================================================\n",
      "a10 is 19683\n",
      "--------------------------------------------------\n",
      "time taken is equal to 0.005954742431640625 s\n",
      "==================================================\n"
     ]
    }
   ],
   "source": [
    "from time import time\n",
    "\n",
    "start = time()\n",
    "\n",
    "num = 2\n",
    "nth = 10\n",
    "n = 0\n",
    "while n != nth:\n",
    "    num    +=1                     # As 10 can never be one of them\n",
    "    power   = 1\n",
    "    res     = num**power\n",
    "    sum_res = sum(list(map(int, list(str(res))))) if len(str(res))> 1 else 0\n",
    "    while (power < 20) and (sum_res != num):\n",
    "        power += 1 \n",
    "        res = num**power\n",
    "        sum_res = sum(list(map(int, list(str(res)))))\n",
    "        \n",
    "    if sum_res == num:\n",
    "        print(res, num)\n",
    "        n += 1\n",
    "\n",
    "end = time()\n",
    "print('='*50)\n",
    "print(f'a{nth} is {res}')\n",
    "print('-'*50)\n",
    "print(f'time taken is equal to {end-start} s')\n",
    "print('='*50)"
   ]
  },
  {
   "cell_type": "markdown",
   "metadata": {},
   "source": [
    "> We can see that it's fast but not ordered let's try to generate 100 ones and see if the answer among them "
   ]
  },
  {
   "cell_type": "code",
   "execution_count": 15,
   "metadata": {},
   "outputs": [
    {
     "ename": "KeyboardInterrupt",
     "evalue": "",
     "output_type": "error",
     "traceback": [
      "\u001b[1;31m---------------------------------------------------------------------------\u001b[0m",
      "\u001b[1;31mKeyboardInterrupt\u001b[0m                         Traceback (most recent call last)",
      "\u001b[1;32m<ipython-input-15-a641d689522d>\u001b[0m in \u001b[0;36m<module>\u001b[1;34m\u001b[0m\n\u001b[0;32m     15\u001b[0m         \u001b[0mpower\u001b[0m \u001b[1;33m+=\u001b[0m \u001b[1;36m1\u001b[0m\u001b[1;33m\u001b[0m\u001b[1;33m\u001b[0m\u001b[0m\n\u001b[0;32m     16\u001b[0m         \u001b[0mres\u001b[0m \u001b[1;33m=\u001b[0m \u001b[0mnum\u001b[0m\u001b[1;33m**\u001b[0m\u001b[0mpower\u001b[0m\u001b[1;33m\u001b[0m\u001b[1;33m\u001b[0m\u001b[0m\n\u001b[1;32m---> 17\u001b[1;33m         \u001b[0msum_res\u001b[0m \u001b[1;33m=\u001b[0m \u001b[0msum\u001b[0m\u001b[1;33m(\u001b[0m\u001b[0mlist\u001b[0m\u001b[1;33m(\u001b[0m\u001b[0mmap\u001b[0m\u001b[1;33m(\u001b[0m\u001b[0mint\u001b[0m\u001b[1;33m,\u001b[0m \u001b[0mlist\u001b[0m\u001b[1;33m(\u001b[0m\u001b[0mstr\u001b[0m\u001b[1;33m(\u001b[0m\u001b[0mres\u001b[0m\u001b[1;33m)\u001b[0m\u001b[1;33m)\u001b[0m\u001b[1;33m)\u001b[0m\u001b[1;33m)\u001b[0m\u001b[1;33m)\u001b[0m\u001b[1;33m\u001b[0m\u001b[1;33m\u001b[0m\u001b[0m\n\u001b[0m\u001b[0;32m     18\u001b[0m \u001b[1;33m\u001b[0m\u001b[0m\n\u001b[0;32m     19\u001b[0m     \u001b[1;32mif\u001b[0m \u001b[0msum_res\u001b[0m \u001b[1;33m==\u001b[0m \u001b[0mnum\u001b[0m\u001b[1;33m:\u001b[0m\u001b[1;33m\u001b[0m\u001b[1;33m\u001b[0m\u001b[0m\n",
      "\u001b[1;31mKeyboardInterrupt\u001b[0m: "
     ]
    }
   ],
   "source": [
    "from time import time\n",
    "\n",
    "start = time()\n",
    "\n",
    "num = 2\n",
    "nth = 100\n",
    "n = 0\n",
    "nums = []\n",
    "while n != nth:\n",
    "    num    +=1                     # As 10 can never be one of them\n",
    "    power   = 1\n",
    "    res     = num**power\n",
    "    sum_res = sum(list(map(int, list(str(res))))) if len(str(res))> 1 else 0\n",
    "    while (power < 8) and (sum_res != num):\n",
    "        power += 1 \n",
    "        res = num**power\n",
    "        sum_res = sum(list(map(int, list(str(res)))))\n",
    "        \n",
    "    if sum_res == num:\n",
    "        n += 1\n",
    "        nums.append(res)\n",
    "\n",
    "end = time()\n",
    "print('='*50)\n",
    "print(f'a{nth} is {res}')\n",
    "print('-'*50)\n",
    "print(f'time taken is equal to {end-start} s')\n",
    "print('='*50)"
   ]
  },
  {
   "cell_type": "markdown",
   "metadata": {},
   "source": [
    "> Let's stop and see what we've got"
   ]
  },
  {
   "cell_type": "code",
   "execution_count": 16,
   "metadata": {
    "scrolled": true
   },
   "outputs": [
    {
     "data": {
      "text/plain": [
       "23"
      ]
     },
     "execution_count": 16,
     "metadata": {},
     "output_type": "execute_result"
    }
   ],
   "source": [
    "len(nums)   #  I didn't got them all but it seems that i got the 30th one"
   ]
  },
  {
   "cell_type": "code",
   "execution_count": 17,
   "metadata": {},
   "outputs": [
    {
     "data": {
      "text/plain": [
       "248155780267521"
      ]
     },
     "execution_count": 17,
     "metadata": {},
     "output_type": "execute_result"
    }
   ],
   "source": [
    "sorted(nums)[-1]"
   ]
  },
  {
   "cell_type": "markdown",
   "metadata": {},
   "source": [
    "# After Many Tries ... This is the best parameters do not ask why :) ."
   ]
  },
  {
   "cell_type": "code",
   "execution_count": 1,
   "metadata": {},
   "outputs": [
    {
     "name": "stdout",
     "output_type": "stream",
     "text": [
      "==================================================\n",
      "a30 is 248155780267521\n",
      "--------------------------------------------------\n",
      "time taken is equal to 0.0030035972595214844 s\n",
      "==================================================\n"
     ]
    }
   ],
   "source": [
    "from time import time\n",
    "\n",
    "start = time()\n",
    "\n",
    "num = 2\n",
    "nth = 23\n",
    "n = 0\n",
    "nums = []\n",
    "while n != nth:\n",
    "    num    += 1                     # As 10 can never be one of them\n",
    "    power   = 1\n",
    "    res     = num**power\n",
    "    sum_res = sum(list(map(int, list(str(res))))) if len(str(res))> 1 else 0\n",
    "    while (power < 8) and (sum_res != num):\n",
    "        power += 1 \n",
    "        res = num**power\n",
    "        sum_res = sum(list(map(int, list(str(res)))))\n",
    "        \n",
    "    if sum_res == num:\n",
    "        n += 1\n",
    "        nums.append(res)\n",
    "\n",
    "end = time()\n",
    "print('='*50)\n",
    "print(f'a{30} is {sorted(nums)[-1]}')\n",
    "print('-'*50)\n",
    "print(f'time taken is equal to {end-start} s')\n",
    "print('='*50)"
   ]
  },
  {
   "cell_type": "code",
   "execution_count": null,
   "metadata": {},
   "outputs": [],
   "source": []
  }
 ],
 "metadata": {
  "kernelspec": {
   "display_name": "Python 3",
   "language": "python",
   "name": "python3"
  },
  "language_info": {
   "codemirror_mode": {
    "name": "ipython",
    "version": 3
   },
   "file_extension": ".py",
   "mimetype": "text/x-python",
   "name": "python",
   "nbconvert_exporter": "python",
   "pygments_lexer": "ipython3",
   "version": "3.8.3"
  }
 },
 "nbformat": 4,
 "nbformat_minor": 4
}
