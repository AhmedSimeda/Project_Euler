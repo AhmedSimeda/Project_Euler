{
 "cells": [
  {
   "cell_type": "code",
   "execution_count": 1,
   "metadata": {},
   "outputs": [],
   "source": [
    "import math\n",
    "\n",
    "def is_prime(Num):\n",
    "    if Num < 0:\n",
    "        return False\n",
    "    elif Num in [0,1,-1]:\n",
    "        return False\n",
    "    elif Num < 4:\n",
    "        return True\n",
    "    else:\n",
    "        for i in range(2,int(math.sqrt(abs(Num))+1)):\n",
    "            if Num % i == 0:\n",
    "                return False\n",
    "        return True"
   ]
  },
  {
   "cell_type": "code",
   "execution_count": 7,
   "metadata": {},
   "outputs": [],
   "source": [
    "def do_satisfy(Num):\n",
    "    primes = [2] + [i for i in range(3,Num,2)if((i < Num)&(is_prime(i)))]\n",
    "    for prime in primes:\n",
    "        A = math.sqrt((Num-prime)//2)\n",
    "        if A == int(A):\n",
    "            return True\n",
    "    return False"
   ]
  },
  {
   "cell_type": "code",
   "execution_count": 11,
   "metadata": {},
   "outputs": [
    {
     "name": "stdout",
     "output_type": "stream",
     "text": [
      "5777\n"
     ]
    }
   ],
   "source": [
    "for i in range(9,10000,2):\n",
    "    if (not do_satisfy(i)) & (not is_prime(i)):\n",
    "        print(i)\n",
    "        break"
   ]
  }
 ],
 "metadata": {
  "kernelspec": {
   "display_name": "Python 3",
   "language": "python",
   "name": "python3"
  },
  "language_info": {
   "codemirror_mode": {
    "name": "ipython",
    "version": 3
   },
   "file_extension": ".py",
   "mimetype": "text/x-python",
   "name": "python",
   "nbconvert_exporter": "python",
   "pygments_lexer": "ipython3",
   "version": "3.6.9"
  }
 },
 "nbformat": 4,
 "nbformat_minor": 2
}
