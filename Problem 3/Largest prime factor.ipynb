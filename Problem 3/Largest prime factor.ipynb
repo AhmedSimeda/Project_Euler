{
 "cells": [
  {
   "cell_type": "code",
   "execution_count": 6,
   "metadata": {},
   "outputs": [],
   "source": [
    "def is_prime(Number):\n",
    "    for i in range(2,(Number//2)+1):\n",
    "        if Number % i == 0:\n",
    "            return False\n",
    "    return True"
   ]
  },
  {
   "cell_type": "code",
   "execution_count": 2,
   "metadata": {},
   "outputs": [],
   "source": [
    "from functools import reduce\n",
    "\n",
    "def factors(n):    \n",
    "    return set(reduce(list.__add__,([i, n//i] for i in range(1, int(n**0.5) + 1) if n % i == 0)))"
   ]
  },
  {
   "cell_type": "markdown",
   "metadata": {},
   "source": [
    "if you forgot why it's a square root ( The auther comment ) :\n",
    "\n",
    "Why square root as the upper limit?\n",
    "\n",
    "sqrt(x) * sqrt(x) = x. So if the two factors are the same, they're both the square root. If you make one factor bigger, you have to make the other factor smaller. This means that one of the two will always be less than or equal to sqrt(x), so you only have to search up to that point to find one of the two matching factors. You can then use x / fac1 to get fac2.\n",
    "\n",
    "The reduce(list.__add__, ...) is taking the little lists of [fac1, fac2] and joining them together in one long list.\n",
    "\n",
    "The [i, n/i] for i in range(1, int(sqrt(n)) + 1) if n % i == 0 returns a pair of factors if the remainder when you divide n by the smaller one is zero (it doesn't need to check the larger one too; it just gets that by dividing n by the smaller one.)\n",
    "\n",
    "The set(...) on the outside is getting rid of duplicates, which only happens for perfect squares. For n = 4, this will return 2 twice, so set gets rid of one of them.\n"
   ]
  },
  {
   "cell_type": "code",
   "execution_count": 6,
   "metadata": {},
   "outputs": [
    {
     "name": "stdout",
     "output_type": "stream",
     "text": [
      "6857\n"
     ]
    }
   ],
   "source": [
    "for i in sorted(factors(600851475143))[::-1]:\n",
    "    if is_prime(i):\n",
    "        print(i)\n",
    "        break"
   ]
  },
  {
   "cell_type": "markdown",
   "metadata": {},
   "source": [
    "# My sol after reaching to problem 65"
   ]
  },
  {
   "cell_type": "code",
   "execution_count": 2,
   "metadata": {},
   "outputs": [],
   "source": [
    "from time import time"
   ]
  },
  {
   "cell_type": "code",
   "execution_count": 4,
   "metadata": {},
   "outputs": [
    {
     "name": "stdout",
     "output_type": "stream",
     "text": [
      "6857\n",
      "=====================================\n",
      "time taken : 0.0029976367950439453 s\n",
      "=====================================\n"
     ]
    }
   ],
   "source": [
    "start = time()\n",
    "\n",
    "def factorize(Num):\n",
    "    Factors = []\n",
    "    factor  = 2\n",
    "    while Num > 1:\n",
    "        n = 0\n",
    "        if Num % factor == 0:\n",
    "            while Num % factor == 0:\n",
    "                Num = Num // factor\n",
    "                n += 1\n",
    "            Factors.append((factor,n))\n",
    "        factor += 1\n",
    "    return Factors\n",
    "\n",
    "print(max(factorize(600851475143),key = lambda x:x[0])[0])\n",
    "end = time()\n",
    "print(\"=====================================\")\n",
    "print(\"time taken : \" + str(end-start) + \" s\")\n",
    "print(\"=====================================\")"
   ]
  }
 ],
 "metadata": {
  "kernelspec": {
   "display_name": "Python 3",
   "language": "python",
   "name": "python3"
  },
  "language_info": {
   "codemirror_mode": {
    "name": "ipython",
    "version": 3
   },
   "file_extension": ".py",
   "mimetype": "text/x-python",
   "name": "python",
   "nbconvert_exporter": "python",
   "pygments_lexer": "ipython3",
   "version": "3.6.9"
  }
 },
 "nbformat": 4,
 "nbformat_minor": 2
}
