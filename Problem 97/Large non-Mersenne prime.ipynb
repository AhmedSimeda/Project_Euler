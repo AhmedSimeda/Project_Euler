{
 "cells": [
  {
   "cell_type": "code",
   "execution_count": 1,
   "metadata": {},
   "outputs": [],
   "source": [
    "def get_sol():\n",
    "    num = 1\n",
    "    for n in range(7830457):\n",
    "        num *= 2\n",
    "        if len(str(num)) > 10:\n",
    "            num = int(str(num)[-10:])\n",
    "    num *= 28433\n",
    "    num += 1\n",
    "    print(str(num)[-10:])"
   ]
  },
  {
   "cell_type": "code",
   "execution_count": 3,
   "metadata": {},
   "outputs": [
    {
     "name": "stdout",
     "output_type": "stream",
     "text": [
      "8739992577\n",
      "Wall time: 15.1 s\n"
     ]
    }
   ],
   "source": [
    "%time get_sol()"
   ]
  }
 ],
 "metadata": {
  "kernelspec": {
   "display_name": "Python 3",
   "language": "python",
   "name": "python3"
  },
  "language_info": {
   "codemirror_mode": {
    "name": "ipython",
    "version": 3
   },
   "file_extension": ".py",
   "mimetype": "text/x-python",
   "name": "python",
   "nbconvert_exporter": "python",
   "pygments_lexer": "ipython3",
   "version": "3.6.9"
  }
 },
 "nbformat": 4,
 "nbformat_minor": 2
}
