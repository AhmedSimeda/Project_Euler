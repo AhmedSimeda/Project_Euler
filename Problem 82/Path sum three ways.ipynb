{
 "cells": [
  {
   "cell_type": "markdown",
   "metadata": {},
   "source": [
    "The idea here is :\n",
    "- the first column can be computed directly\n",
    "- for the other columns it's more difficult actually (for example if i started at the top of the column i don't know the best \n",
    "  value below me ( so here i tried all the ways below me )"
   ]
  },
  {
   "cell_type": "code",
   "execution_count": 12,
   "metadata": {
    "collapsed": true
   },
   "outputs": [
    {
     "data": {
      "image/png": "[encoded data removed]",
      "text/plain": [
       "<IPython.core.display.Image object>"
      ]
     },
     "execution_count": 12,
     "metadata": {},
     "output_type": "execute_result"
    }
   ],
   "source": [
    "from IPython.display import Image\n",
    "Image(\"The idea.png\")"
   ]
  },
  {
   "cell_type": "code",
   "execution_count": 1,
   "metadata": {},
   "outputs": [],
   "source": [
    "import numpy as np"
   ]
  },
  {
   "cell_type": "code",
   "execution_count": 2,
   "metadata": {},
   "outputs": [],
   "source": [
    "Test_Matrix = np.array([[131,673,234,103,18],\n",
    "                        [201,96,342,965,150],\n",
    "                        [630,803,746,422,111],\n",
    "                        [537,699,497,121,956],\n",
    "                        [805,732,524,37,331]])"
   ]
  },
  {
   "cell_type": "code",
   "execution_count": 3,
   "metadata": {},
   "outputs": [],
   "source": [
    "Problem_Matrix = open(\"p081_matrix.txt\",'r')"
   ]
  },
  {
   "cell_type": "code",
   "execution_count": 4,
   "metadata": {},
   "outputs": [],
   "source": [
    "Prob_Matrix = []\n",
    "for row in Problem_Matrix:\n",
    "    Row = row.split(',')\n",
    "    Row[-1] = Row[-1][:-1]                     #not to take '\\n'\n",
    "    Prob_Matrix.append(list(map(int,Row)))\n",
    "Prob_Matrix = np.array(Prob_Matrix)"
   ]
  },
  {
   "cell_type": "code",
   "execution_count": 5,
   "metadata": {},
   "outputs": [],
   "source": [
    "def get_min_in_firsts(matrix,matrix_size,start_pos):\n",
    "    #put the minimum cost in each cell in the first row and column\n",
    "    min_sum_matrix = np.zeros((matrix_size,matrix_size))\n",
    "    min_sum_matrix[start_pos,0] = matrix[start_pos,0]\n",
    "    Range = [i for i in range(matrix_size)]\n",
    "    Range.remove(start_pos)\n",
    "    for i in Range:            \n",
    "        if i > start_pos:\n",
    "            min_sum_matrix[i,0] = sum(matrix[start_pos:i+1,0])\n",
    "        else:\n",
    "            min_sum_matrix[i,0] = sum(matrix[i:start_pos+1,0])\n",
    "    \n",
    "    return min_sum_matrix"
   ]
  },
  {
   "cell_type": "code",
   "execution_count": 6,
   "metadata": {},
   "outputs": [],
   "source": [
    "def get_min_down(row,col,matrix_result,matrix_reference,matrix_size):\n",
    "    cells_below = []\n",
    "    for r in range(row+1,matrix_size):\n",
    "         cells_below.append(matrix_result[r,col-1]+sum(matrix_reference[row+1:r+1,col])) \n",
    "    \n",
    "    return min(cells_below)"
   ]
  },
  {
   "cell_type": "code",
   "execution_count": 21,
   "metadata": {},
   "outputs": [],
   "source": [
    "def get_min_col_by_col(matrix_result,matrix_reference,matrix_size):\n",
    "    for col in range(1,matrix_size):\n",
    "        left_cell = matrix_result[0,col-1]\n",
    "        down_cell = get_min_down(0,col,matrix_result,matrix_reference,matrix_size)\n",
    "        matrix_result[0,col] = matrix_reference[0,col] + min(left_cell,down_cell)\n",
    "        for row in range(1,matrix_size):\n",
    "            up_cell   = matrix_result[row-1,col]\n",
    "            left_cell = matrix_result[row,col-1]\n",
    "            down_cell = get_min_down(row,col,matrix_result,matrix_reference,matrix_size) if(row!=(matrix_size-1))else 9999999 \n",
    "            matrix_result[row,col] = matrix_reference[row,col] + min(left_cell,down_cell,up_cell)  \n",
    "  \n",
    "    #return min(matrix_result[:,matrix_size-1])\n",
    "    return matrix_result"
   ]
  },
  {
   "cell_type": "code",
   "execution_count": 9,
   "metadata": {},
   "outputs": [],
   "source": [
    "def get_min_from_left_2_right(matrix_reference):\n",
    "    Min = 9999999\n",
    "    matrix_size = matrix_reference.shape[0]\n",
    "    for s in range(matrix_size):\n",
    "        matrix_result = get_min_in_firsts(matrix_reference,matrix_size,s)\n",
    "        Sum           = get_min_col_by_col(matrix_result,matrix_reference,matrix_size)\n",
    "        \n",
    "        if Sum < Min:\n",
    "            Min = Sum\n",
    "    \n",
    "    print(Min)"
   ]
  },
  {
   "cell_type": "code",
   "execution_count": 11,
   "metadata": {},
   "outputs": [
    {
     "name": "stdout",
     "output_type": "stream",
     "text": [
      "260324.0\n",
      "Wall time: 4min 24s\n"
     ]
    }
   ],
   "source": [
    "%time get_min_from_left_2_right(Prob_Matrix)"
   ]
  },
  {
   "cell_type": "markdown",
   "metadata": {},
   "source": [
    "### Short Sol"
   ]
  },
  {
   "cell_type": "code",
   "execution_count": 31,
   "metadata": {},
   "outputs": [],
   "source": [
    "def short_sol():\n",
    "    f = open('p081_matrix.txt')\n",
    "    m = [list(map(int, line.strip().split(','))) for line in f]\n",
    "    f.close()\n",
    "\n",
    "    #m = Test_Matrix\n",
    "    opt = [[row[0]] for row in m]\n",
    "    for col in range(1, len(m[0])):\n",
    "        for row in range(len(m)):\n",
    "            opt[row].append(m[row][col] + opt[row][col - 1])\n",
    "\n",
    "        for row in range(1, len(m)):\n",
    "            if opt[row - 1][col] + m[row][col] < opt[row][col]:\n",
    "                opt[row][col] = opt[row - 1][col] + m[row][col]\n",
    "\n",
    "        for row in reversed(range(len(m) - 1)):\n",
    "            if opt[row + 1][col] + m[row][col] < opt[row][col]:\n",
    "                opt[row][col] = opt[row + 1][col] + m[row][col]\n",
    "\n",
    "    print(min(row[-1] for row in opt))"
   ]
  },
  {
   "cell_type": "code",
   "execution_count": 32,
   "metadata": {},
   "outputs": [
    {
     "name": "stdout",
     "output_type": "stream",
     "text": [
      "260324\n",
      "Wall time: 298 ms\n"
     ]
    }
   ],
   "source": [
    "%time short_sol()"
   ]
  }
 ],
 "metadata": {
  "kernelspec": {
   "display_name": "Python 3",
   "language": "python",
   "name": "python3"
  },
  "language_info": {
   "codemirror_mode": {
    "name": "ipython",
    "version": 3
   },
   "file_extension": ".py",
   "mimetype": "text/x-python",
   "name": "python",
   "nbconvert_exporter": "python",
   "pygments_lexer": "ipython3",
   "version": "3.6.9"
  }
 },
 "nbformat": 4,
 "nbformat_minor": 2
}
