{
 "cells": [
  {
   "cell_type": "code",
   "execution_count": 5,
   "metadata": {},
   "outputs": [],
   "source": [
    "import math\n",
    "def S_Factors(Num):\n",
    "    factors = [1]\n",
    "    for i in range(2,int(math.sqrt(Num))+1):\n",
    "        if Num % i == 0:\n",
    "            factors += [i,Num//i]\n",
    "    return sum(list(sorted(set(factors))))"
   ]
  },
  {
   "cell_type": "code",
   "execution_count": 6,
   "metadata": {},
   "outputs": [
    {
     "name": "stdout",
     "output_type": "stream",
     "text": [
      "4179871\n"
     ]
    }
   ],
   "source": [
    "abundants = set(i for i in range(1,28124) if S_Factors(i) > i)\n",
    "\n",
    "def abundantsum(i):\n",
    "    return any(i-j in abundants for j in abundants)\n",
    "\n",
    "print(sum(i for i in range(1,28124) if not abundantsum(i)))"
   ]
  }
 ],
 "metadata": {
  "kernelspec": {
   "display_name": "Python 3",
   "language": "python",
   "name": "python3"
  },
  "language_info": {
   "codemirror_mode": {
    "name": "ipython",
    "version": 3
   },
   "file_extension": ".py",
   "mimetype": "text/x-python",
   "name": "python",
   "nbconvert_exporter": "python",
   "pygments_lexer": "ipython3",
   "version": "3.6.9"
  }
 },
 "nbformat": 4,
 "nbformat_minor": 2
}
