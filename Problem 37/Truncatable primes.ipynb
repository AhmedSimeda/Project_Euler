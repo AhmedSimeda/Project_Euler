{
 "cells": [
  {
   "cell_type": "code",
   "execution_count": 1,
   "metadata": {},
   "outputs": [],
   "source": [
    "import math\n",
    "def is_prime(Num):\n",
    "    if Num < 0:\n",
    "        return False\n",
    "    elif Num in [0,1,-1]:\n",
    "        return False\n",
    "    elif Num < 4:\n",
    "        return True\n",
    "    else:\n",
    "        for i in range(2,int(math.sqrt(abs(Num))+1)):\n",
    "            if Num % i == 0:\n",
    "                return False\n",
    "        return True"
   ]
  },
  {
   "cell_type": "code",
   "execution_count": 2,
   "metadata": {},
   "outputs": [],
   "source": [
    "def trunc_R2L(Num):\n",
    "    Num = str(Num)\n",
    "    count = 0\n",
    "    for i in range(len(Num),0,-1):\n",
    "        if is_prime(int(Num[:i])):\n",
    "            count += 1\n",
    "    if count == len(Num):\n",
    "        return True\n",
    "    return False\n",
    "\n",
    "def trunc_L2R(Num):\n",
    "    Num = str(Num)\n",
    "    count = 0\n",
    "    for i in range(len(Num)):\n",
    "        if is_prime(int(Num[i:])):\n",
    "            count += 1\n",
    "    if count == len(Num):\n",
    "        return True\n",
    "    return False"
   ]
  },
  {
   "cell_type": "code",
   "execution_count": 4,
   "metadata": {},
   "outputs": [
    {
     "name": "stdout",
     "output_type": "stream",
     "text": [
      "time taken :96.74489045143127 s\n"
     ]
    }
   ],
   "source": [
    "import time\n",
    "start = time.time()\n",
    "\n",
    "Trunc_Primes = []\n",
    "for i in range(1000000):\n",
    "    if trunc_R2L(i) & trunc_L2R(i):\n",
    "        Trunc_Primes.append(i)\n",
    "\n",
    "end = time.time()\n",
    "print(\"time taken :\" + str(end - start) + \" s\")"
   ]
  },
  {
   "cell_type": "code",
   "execution_count": 8,
   "metadata": {},
   "outputs": [
    {
     "data": {
      "text/plain": [
       "748317"
      ]
     },
     "execution_count": 8,
     "metadata": {},
     "output_type": "execute_result"
    }
   ],
   "source": [
    "sum(Trunc_Primes[4:])"
   ]
  }
 ],
 "metadata": {
  "kernelspec": {
   "display_name": "Python 3",
   "language": "python",
   "name": "python3"
  },
  "language_info": {
   "codemirror_mode": {
    "name": "ipython",
    "version": 3
   },
   "file_extension": ".py",
   "mimetype": "text/x-python",
   "name": "python",
   "nbconvert_exporter": "python",
   "pygments_lexer": "ipython3",
   "version": "3.7.3"
  }
 },
 "nbformat": 4,
 "nbformat_minor": 2
}
