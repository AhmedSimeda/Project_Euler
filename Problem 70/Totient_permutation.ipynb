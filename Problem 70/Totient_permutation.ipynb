{
 "cells": [
  {
   "cell_type": "code",
   "execution_count": 0,
   "metadata": {
    "colab": {},
    "colab_type": "code",
    "id": "tQ_ub9OMZWj0"
   },
   "outputs": [],
   "source": [
    "from math import sqrt "
   ]
  },
  {
   "cell_type": "code",
   "execution_count": 0,
   "metadata": {
    "colab": {},
    "colab_type": "code",
    "id": "SIpsi1olZZVP"
   },
   "outputs": [],
   "source": [
    "def is_prime(Num):\n",
    "    if Num <= 1 :\n",
    "        return False\n",
    "    else:\n",
    "        for i in range(2,int(sqrt(Num))+1):\n",
    "            if Num % i == 0 :\n",
    "                return False\n",
    "    return True"
   ]
  },
  {
   "cell_type": "code",
   "execution_count": 0,
   "metadata": {
    "colab": {},
    "colab_type": "code",
    "id": "Fh_dFp-6ZeWk"
   },
   "outputs": [],
   "source": [
    "def phai(Num):\n",
    "    if is_prime(Num):\n",
    "        return Num-1\n",
    "    Factors = []\n",
    "    factor  = 2\n",
    "    phai_n  = Num\n",
    "    while factor*factor <= Num:\n",
    "        if Num % factor == 0:\n",
    "            phai_n *= (1-1/factor)\n",
    "            while Num % factor == 0:\n",
    "                Num = Num // factor\n",
    "        factor += 1\n",
    "    if Num > 1:\n",
    "        phai_n = phai_n * (1.0 - (1.0 / float(Num)))\n",
    "    return int(phai_n)"
   ]
  },
  {
   "cell_type": "code",
   "execution_count": 0,
   "metadata": {
    "colab": {},
    "colab_type": "code",
    "id": "8tpMS4DSZgAj"
   },
   "outputs": [],
   "source": [
    "from collections import Counter\n",
    "from time import time"
   ]
  },
  {
   "cell_type": "code",
   "execution_count": 8,
   "metadata": {
    "colab": {
     "base_uri": "https://localhost:8080/",
     "height": 85
    },
    "colab_type": "code",
    "id": "V3Mp1U-uZiSN",
    "outputId": "ae855d79-07ea-41f9-b09f-53016303e193"
   },
   "outputs": [
    {
     "name": "stdout",
     "output_type": "stream",
     "text": [
      "8319823\n",
      "========================================\n",
      "time taken is : 621.9322850704193 s\n",
      "========================================\n"
     ]
    }
   ],
   "source": [
    "start = time()\n",
    "\n",
    "Min   = 9999999\n",
    "limit = 10000000\n",
    "for n in range(2,limit+1):\n",
    "    phai_n  = phai(n)\n",
    "    if Counter(str(n)) == Counter(str(phai_n)) :\n",
    "        if n/phai_n < Min:\n",
    "            Min = n/phai_n\n",
    "            N   = n\n",
    "\n",
    "print(N)\n",
    "\n",
    "end   = time()\n",
    "print(\"========================================\")\n",
    "print(\"time taken is : \" + str(end-start) + \" s\")\n",
    "print(\"========================================\")"
   ]
  }
 ],
 "metadata": {
  "colab": {
   "name": "Totient permutation.ipynb",
   "provenance": []
  },
  "kernelspec": {
   "display_name": "Python 3",
   "language": "python",
   "name": "python3"
  },
  "language_info": {
   "codemirror_mode": {
    "name": "ipython",
    "version": 3
   },
   "file_extension": ".py",
   "mimetype": "text/x-python",
   "name": "python",
   "nbconvert_exporter": "python",
   "pygments_lexer": "ipython3",
   "version": "3.6.9"
  }
 },
 "nbformat": 4,
 "nbformat_minor": 1
}
