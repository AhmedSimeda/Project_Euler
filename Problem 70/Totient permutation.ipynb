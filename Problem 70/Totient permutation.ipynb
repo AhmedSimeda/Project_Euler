{
 "cells": [
  {
   "cell_type": "code",
   "execution_count": null,
   "metadata": {},
   "outputs": [],
   "source": [
    "from math import sqrt "
   ]
  },
  {
   "cell_type": "code",
   "execution_count": null,
   "metadata": {},
   "outputs": [],
   "source": [
    "def is_prime(Num):\n",
    "    if Num <= 1 :\n",
    "        return False\n",
    "    else:\n",
    "        for i in range(2,int(sqrt(Num))+1):\n",
    "            if Num % i == 0 :\n",
    "                return False\n",
    "    return True"
   ]
  },
  {
   "cell_type": "code",
   "execution_count": null,
   "metadata": {},
   "outputs": [],
   "source": [
    "def phai(Num):\n",
    "    if is_prime(Num):\n",
    "        return Num-1\n",
    "    Factors = []\n",
    "    factor  = 2\n",
    "    phai_n  = Num\n",
    "    while factor*factor <= Num:\n",
    "        if Num % factor == 0:\n",
    "            phai_n *= (1-1/factor)\n",
    "            while Num % factor == 0:\n",
    "                Num = Num // factor\n",
    "        factor += 1\n",
    "    if Num > 1:\n",
    "        phai_n = phai_n * (1.0 - (1.0 / float(Num)))\n",
    "    return int(phai_n)"
   ]
  },
  {
   "cell_type": "code",
   "execution_count": null,
   "metadata": {},
   "outputs": [],
   "source": [
    "from time import time"
   ]
  },
  {
   "cell_type": "code",
   "execution_count": null,
   "metadata": {},
   "outputs": [],
   "source": [
    "start = time()\n",
    "\n",
    "Min   = 9999999\n",
    "limit = 10000000\n",
    "for n in range(2,limit+1):\n",
    "    phai_n  = phai(n)\n",
    "    if set(str(n)) == set(str(phai_n)):\n",
    "        if n/phai_n < Min:\n",
    "            Min = n/phai_n\n",
    "            N   = n\n",
    "\n",
    "print(N)\n",
    "\n",
    "end   = time()\n",
    "print(\"========================================\")\n",
    "print(\"time taken is : \" + str(end-start) + \" s\")\n",
    "print(\"========================================\")"
   ]
  }
 ],
 "metadata": {
  "kernelspec": {
   "display_name": "Python 3",
   "language": "python",
   "name": "python3"
  },
  "language_info": {
   "codemirror_mode": {
    "name": "ipython",
    "version": 3
   },
   "file_extension": ".py",
   "mimetype": "text/x-python",
   "name": "python",
   "nbconvert_exporter": "python",
   "pygments_lexer": "ipython3",
   "version": "3.6.9"
  }
 },
 "nbformat": 4,
 "nbformat_minor": 2
}
