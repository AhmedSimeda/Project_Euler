{
 "cells": [
  {
   "cell_type": "code",
   "execution_count": 1,
   "metadata": {},
   "outputs": [],
   "source": [
    "import math"
   ]
  },
  {
   "cell_type": "code",
   "execution_count": 11,
   "metadata": {},
   "outputs": [],
   "source": [
    "def factorize(Num):\n",
    "    factors = []\n",
    "    for i in range(2,int(math.sqrt(Num))+1):\n",
    "        if Num % i == 0:\n",
    "            factors.append((i,Num//i))\n",
    "    return factors\n",
    "\n",
    "def is_pandigital(product):\n",
    "    product = str(product[0]) + str(product[1]) + str(product[0]*product[1])\n",
    "    if ( len(set(product)) == len(list(product)) ) and ( len(product) == 9 ) and ( not \"0\" in product ):\n",
    "        return True\n",
    "    return False"
   ]
  },
  {
   "cell_type": "code",
   "execution_count": 12,
   "metadata": {},
   "outputs": [],
   "source": [
    "Nums = []\n",
    "for i in range(1000,9877):\n",
    "    factors = factorize(i)\n",
    "    for factor in factors:\n",
    "        if is_pandigital(factor):\n",
    "            Nums.append(i)"
   ]
  },
  {
   "cell_type": "code",
   "execution_count": 13,
   "metadata": {},
   "outputs": [
    {
     "data": {
      "text/plain": [
       "45228"
      ]
     },
     "execution_count": 13,
     "metadata": {},
     "output_type": "execute_result"
    }
   ],
   "source": [
    "sum(set(Nums))"
   ]
  }
 ],
 "metadata": {
  "kernelspec": {
   "display_name": "Python 3",
   "language": "python",
   "name": "python3"
  },
  "language_info": {
   "codemirror_mode": {
    "name": "ipython",
    "version": 3
   },
   "file_extension": ".py",
   "mimetype": "text/x-python",
   "name": "python",
   "nbconvert_exporter": "python",
   "pygments_lexer": "ipython3",
   "version": "3.6.9"
  }
 },
 "nbformat": 4,
 "nbformat_minor": 2
}
