{
 "cells": [
  {
   "cell_type": "code",
   "execution_count": 1,
   "metadata": {},
   "outputs": [],
   "source": [
    "from functools import reduce\n",
    "import numpy as np\n",
    "import operator"
   ]
  },
  {
   "cell_type": "code",
   "execution_count": 2,
   "metadata": {},
   "outputs": [],
   "source": [
    "Games = [line.strip() for line in open('p096_sudoku.txt','r').readlines()] #to eliminate '\\n'"
   ]
  },
  {
   "cell_type": "code",
   "execution_count": 3,
   "metadata": {},
   "outputs": [],
   "source": [
    "sep_games  = []\n",
    "for l in range(1,len(Games),10):\n",
    "    game = np.zeros((9,9))\n",
    "    for row in range(l,l+9):\n",
    "        line = Games[row]\n",
    "        for col in range(len(line)):\n",
    "            game[row-l,col] = int(line[col])\n",
    "    sep_games.append(game)"
   ]
  },
  {
   "cell_type": "code",
   "execution_count": 4,
   "metadata": {},
   "outputs": [],
   "source": [
    "def check_column_poss(cell,game,poss_nums):\n",
    "    row_to_check = [r for r in range(9)if r != cell[0]]\n",
    "    for row in row_to_check:\n",
    "        if (game[row,cell[1]] != 0) and (game[row,cell[1]] in poss_nums):\n",
    "            poss_nums.remove(game[row,cell[1]])\n",
    "            #print(game[row,cell[1]],[row,cell[1]])\n",
    "    \n",
    "    return poss_nums"
   ]
  },
  {
   "cell_type": "code",
   "execution_count": 5,
   "metadata": {},
   "outputs": [],
   "source": [
    "def check_column_unique(cell,game):\n",
    "    row_to_check = [r for r in range(9)if r != cell[0]]\n",
    "    nums_around = ''\n",
    "    for row in row_to_check:\n",
    "        nums_around += str(game[row,cell[1]])\n",
    "    \n",
    "    unique = set(str(game[cell[0],cell[1]])) - set(nums_around)\n",
    "    if len(unique) == 1:\n",
    "        game[cell[0],cell[1]] = int(list(unique)[0])\n",
    "        game = get_possibilities(game)\n",
    "        return game\n",
    "    return game"
   ]
  },
  {
   "cell_type": "code",
   "execution_count": 6,
   "metadata": {},
   "outputs": [],
   "source": [
    "def check_row_poss(cell,game,poss_nums):\n",
    "    cols_to_check = [c for c in range(9)if c != cell[1]]\n",
    "    for col in cols_to_check:\n",
    "        if (game[cell[0],col] != 0) and (game[cell[0],col] in poss_nums):\n",
    "            poss_nums.remove(game[cell[0],col])\n",
    "            #print(game[cell[0],col],[cell[0],col])\n",
    "        \n",
    "    return poss_nums"
   ]
  },
  {
   "cell_type": "code",
   "execution_count": 7,
   "metadata": {},
   "outputs": [],
   "source": [
    "def check_row_unique(cell,game):\n",
    "    cols_to_check = [c for c in range(9)if c != cell[1]]\n",
    "    nums_around = ''\n",
    "    for col in cols_to_check:\n",
    "        nums_around += str(game[cell[0],col])\n",
    "    unique = set(str(game[cell[0],cell[1]])) - set(nums_around)\n",
    "    if len(unique) == 1:\n",
    "        game[cell[0],cell[1]] = int(list(unique)[0])\n",
    "        game = get_possibilities(game)\n",
    "        return game\n",
    "    return game"
   ]
  },
  {
   "cell_type": "code",
   "execution_count": 8,
   "metadata": {},
   "outputs": [],
   "source": [
    "def chec_square_poss(cell,game,poss_nums):\n",
    "    cell_position = (cell[0]//3,cell[1]//3)\n",
    "    corner_cell = [0,0]\n",
    "    for p in range(len(cell_position)):\n",
    "        if cell_position[p] == 0:\n",
    "            corner_cell[p] = cell_position[p]\n",
    "        elif cell_position[p] == 1:\n",
    "            corner_cell[p] = cell_position[p]+2\n",
    "        else : # = 2\n",
    "            corner_cell[p] = cell_position[p]+4\n",
    "    \n",
    "    #after detectecting the corner cell of the square\n",
    "    #let's reduce the possible numbers\n",
    "    for r in range(3):\n",
    "        for c in range(3):\n",
    "            if (game[corner_cell[0]+r,corner_cell[1]+c] != 0) and (game[corner_cell[0]+r,corner_cell[1]+c] in poss_nums):\n",
    "                poss_nums.remove(game[corner_cell[0]+r,corner_cell[1]+c])\n",
    "                #print(game[corner_cell[0]+r,corner_cell[1]+c],[corner_cell[0]+r,corner_cell[1]+c])\n",
    "    \n",
    "    return poss_nums"
   ]
  },
  {
   "cell_type": "code",
   "execution_count": 9,
   "metadata": {},
   "outputs": [],
   "source": [
    "def chec_square_unique(cell,game):\n",
    "    cell_position = (cell[0]//3,cell[1]//3)\n",
    "    corner_cell = [0,0]\n",
    "    for p in range(len(cell_position)):\n",
    "        if cell_position[p] == 0:\n",
    "            corner_cell[p] = cell_position[p]\n",
    "        elif cell_position[p] == 1:\n",
    "            corner_cell[p] = cell_position[p]+2\n",
    "        else : # = 2\n",
    "            corner_cell[p] = cell_position[p]+4\n",
    "    \n",
    "    nums_around = ''\n",
    "    #after detectecting the corner cell of the square\n",
    "    #let's get the around numbers\n",
    "    for r in range(3):\n",
    "        for c in range(3):\n",
    "            nums_around += str(game[corner_cell[0]+r,corner_cell[1]+c])\n",
    "    \n",
    "    unique = set(str(game[cell[0],cell[1]])) - set(nums_around)\n",
    "    if len(unique) == 1:\n",
    "        game[cell[0],cell[1]] = int(list(unique)[0])\n",
    "        game = get_possibilities(game)\n",
    "        return game\n",
    "    return game"
   ]
  },
  {
   "cell_type": "code",
   "execution_count": 10,
   "metadata": {},
   "outputs": [],
   "source": [
    "def get_possibilities(game):\n",
    "    for row in range(9):\n",
    "        for col in range(9):\n",
    "            if (game[row,col] == 0) or (game[row,col] > 9):\n",
    "                cell = (row,col)\n",
    "                poss_nums = [i for i in range(1,10)]\n",
    "                poss_nums = check_column_poss(cell,game,poss_nums)\n",
    "                poss_nums = check_row_poss(cell,game,poss_nums)\n",
    "                poss_nums = chec_square_poss(cell,game,poss_nums)\n",
    "                poss_nums = int(reduce(operator.add,map(str,poss_nums)))\n",
    "                game[row,col] = poss_nums\n",
    "                if len(str(poss_nums)) == 1:\n",
    "                    game = get_possibilities(game)\n",
    "                \n",
    "    return game"
   ]
  },
  {
   "cell_type": "code",
   "execution_count": 11,
   "metadata": {},
   "outputs": [],
   "source": [
    "def get_unique(game):\n",
    "    for row in range(9):\n",
    "        for col in range(9):\n",
    "            cell = (row,col)\n",
    "            game = check_column_unique(cell,game)\n",
    "            game = check_row_unique(cell,game)\n",
    "            game = chec_square_unique(cell,game)\n",
    "    return game"
   ]
  },
  {
   "cell_type": "code",
   "execution_count": 12,
   "metadata": {},
   "outputs": [],
   "source": [
    "def no_guessing(game):\n",
    "    game = game.astype(int)\n",
    "    last_game = game.copy()\n",
    "    game = get_possibilities(game)\n",
    "    while (last_game != game).any():\n",
    "        last_game = game.copy()\n",
    "        game = get_unique(game)\n",
    "        \n",
    "    return game"
   ]
  },
  {
   "cell_type": "code",
   "execution_count": null,
   "metadata": {},
   "outputs": [],
   "source": [
    "def check_column_correct(cell,game,poss_nums):\n",
    "    for row in range(9):\n",
    "        if game[row,cell[1]] in poss_nums:\n",
    "            poss_nums.remove(game[row,cell[1]])\n",
    "            #print(game[row,cell[1]],[row,cell[1]])\n",
    "    \n",
    "    return len(poss_nums) == 0"
   ]
  },
  {
   "cell_type": "code",
   "execution_count": null,
   "metadata": {},
   "outputs": [],
   "source": [
    "def check_row_correct(cell,game,poss_nums):\n",
    "    for col in range(9):\n",
    "        if (game[cell[0],col] in poss_nums):\n",
    "            poss_nums.remove(game[cell[0],col])\n",
    "            #print(game[cell[0],col],[cell[0],col])\n",
    "        \n",
    "    return len(poss_nums) == 0"
   ]
  },
  {
   "cell_type": "code",
   "execution_count": null,
   "metadata": {},
   "outputs": [],
   "source": [
    "def chec_square_correct(cell,game,poss_nums):\n",
    "    cell_position = (cell[0]//3,cell[1]//3)\n",
    "    corner_cell = [0,0]\n",
    "    for p in range(len(cell_position)):\n",
    "        if cell_position[p] == 0:\n",
    "            corner_cell[p] = cell_position[p]\n",
    "        elif cell_position[p] == 1:\n",
    "            corner_cell[p] = cell_position[p]+2\n",
    "        else : # = 2\n",
    "            corner_cell[p] = cell_position[p]+4\n",
    "    \n",
    "    #after detectecting the corner cell of the square\n",
    "    #let's reduce the possible numbers\n",
    "    for r in range(3):\n",
    "        for c in range(3):\n",
    "            if game[corner_cell[0]+r,corner_cell[1]+c] in poss_nums:\n",
    "                poss_nums.remove(game[corner_cell[0]+r,corner_cell[1]+c])\n",
    "                #print(game[corner_cell[0]+r,corner_cell[1]+c],[corner_cell[0]+r,corner_cell[1]+c])\n",
    "    \n",
    "    return len(poss_nums) == 0"
   ]
  },
  {
   "cell_type": "code",
   "execution_count": null,
   "metadata": {},
   "outputs": [],
   "source": [
    "def is_correct(game):\n",
    "    for row in range(9):\n",
    "        for col in range(9):\n",
    "            cell = (row,col)\n",
    "            poss_nums = [i for i in range(1,10)]\n",
    "            cond_1 = check_column_correct(cell,game,poss_nums)\n",
    "            cond_2 = check_row_correct(cell,game,poss_nums)\n",
    "            cond_3 = chec_square_correct(cell,game,poss_nums)\n",
    "            if not(cond_1 & cond_2 & cond_3):\n",
    "                return False\n",
    "    return True"
   ]
  },
  {
   "cell_type": "code",
   "execution_count": 13,
   "metadata": {},
   "outputs": [],
   "source": [
    "def sol_sudoku(Games):\n",
    "    for g in range(len(Games)):\n",
    "        print('=======================================')\n",
    "        decision   = 't'   \n",
    "        print('sudoku' + str(g+1) + ' : ')\n",
    "        game = Games[g]\n",
    "        print(game)\n",
    "        print('----------------------------------------')\n",
    "        while decision == 't': #try again\n",
    "            if not 0 in game:\n",
    "                row = int(input('enter the row : '))\n",
    "                col = int(input('enter the column : '))\n",
    "                guess = int(input('enter your guess : '))\n",
    "                game[row,col] = guess\n",
    "                \n",
    "            game = no_guessing(game)\n",
    "            print(game)\n",
    "            decision = input(\"So what's next? : \")\n",
    "       # if not is_correct(game):   \n",
    "        with open('Answers.txt','a') as Answers:\n",
    "            Answers.write(reduce(operator.add,map(str,game[0,:3]))+'\\n')   \n",
    "      #  else:\n",
    "           # print(\"there's something wrong\")\n",
    "           # break"
   ]
  },
  {
   "cell_type": "code",
   "execution_count": null,
   "metadata": {},
   "outputs": [],
   "source": [
    "sol_sudoku(sep_games)"
   ]
  },
  {
   "cell_type": "code",
   "execution_count": null,
   "metadata": {},
   "outputs": [],
   "source": [
    "sum(list(map(int,list(open('Answers.txt','r')))))"
   ]
  }
 ],
 "metadata": {
  "kernelspec": {
   "display_name": "Python 3",
   "language": "python",
   "name": "python3"
  },
  "language_info": {
   "codemirror_mode": {
    "name": "ipython",
    "version": 3
   },
   "file_extension": ".py",
   "mimetype": "text/x-python",
   "name": "python",
   "nbconvert_exporter": "python",
   "pygments_lexer": "ipython3",
   "version": "3.6.9"
  }
 },
 "nbformat": 4,
 "nbformat_minor": 2
}
