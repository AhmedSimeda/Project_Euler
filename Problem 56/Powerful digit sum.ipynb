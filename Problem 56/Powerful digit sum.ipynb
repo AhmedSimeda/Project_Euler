{
 "cells": [
  {
   "cell_type": "code",
   "execution_count": 4,
   "metadata": {},
   "outputs": [],
   "source": [
    "def digits_sum(num):\n",
    "    Sum = 0\n",
    "    for i in str(int(num)):\n",
    "        Sum += int(i)\n",
    "    \n",
    "    return Sum"
   ]
  },
  {
   "cell_type": "code",
   "execution_count": 5,
   "metadata": {},
   "outputs": [
    {
     "name": "stdout",
     "output_type": "stream",
     "text": [
      "972\n",
      "=======================================\n",
      "time taken : 0.46164679527282715 s\n",
      "=======================================\n"
     ]
    }
   ],
   "source": [
    "from time import time\n",
    "start = time()\n",
    "\n",
    "Max = 0\n",
    "for i in range(2,100):\n",
    "    for j in range(100):\n",
    "        if digits_sum(i**j) > Max:\n",
    "            Max = digits_sum(i**j)\n",
    "\n",
    "end = time()\n",
    "\n",
    "print(Max)\n",
    "print(\"=======================================\")\n",
    "print(\"time taken : \" + str(end - start) + \" s\")\n",
    "print(\"=======================================\")"
   ]
  }
 ],
 "metadata": {
  "kernelspec": {
   "display_name": "Python 3",
   "language": "python",
   "name": "python3"
  },
  "language_info": {
   "codemirror_mode": {
    "name": "ipython",
    "version": 3
   },
   "file_extension": ".py",
   "mimetype": "text/x-python",
   "name": "python",
   "nbconvert_exporter": "python",
   "pygments_lexer": "ipython3",
   "version": "3.6.9"
  }
 },
 "nbformat": 4,
 "nbformat_minor": 2
}
