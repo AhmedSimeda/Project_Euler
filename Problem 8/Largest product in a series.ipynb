{
 "cells": [
  {
   "cell_type": "code",
   "execution_count": 1,
   "metadata": {},
   "outputs": [],
   "source": [
    "from functools import reduce\n",
    "import operator"
   ]
  },
  {
   "cell_type": "code",
   "execution_count": 2,
   "metadata": {},
   "outputs": [],
   "source": [
    "with open('1000-digit number.txt','r') as file:\n",
    "    numbers = ''\n",
    "    for line in file:\n",
    "        numbers += line.strip()\n",
    "    numbers = list(numbers)"
   ]
  },
  {
   "cell_type": "code",
   "execution_count": 9,
   "metadata": {},
   "outputs": [],
   "source": [
    "def get_sol(adj_nums,numbers):\n",
    "    m_prod = 0\n",
    "    for i in range(len(numbers)-adj_nums):\n",
    "        nums = [int(i) for i in numbers[i:i+adj_nums]]\n",
    "        prod = reduce(operator.mul,nums)\n",
    "        if prod > m_prod:\n",
    "            m_prod = prod\n",
    "            m_nums = nums\n",
    "    print('for these',adj_nums,'adjacent numbers:',m_nums)        \n",
    "    print('thier product is:',m_prod)"
   ]
  },
  {
   "cell_type": "code",
   "execution_count": 10,
   "metadata": {},
   "outputs": [
    {
     "name": "stdout",
     "output_type": "stream",
     "text": [
      "for these 4 adjacent numbers: [9, 9, 8, 9]\n",
      "thier product is: 5832\n",
      "Wall time: 7 ms\n"
     ]
    }
   ],
   "source": [
    "%time get_sol(4,numbers)"
   ]
  },
  {
   "cell_type": "code",
   "execution_count": 11,
   "metadata": {},
   "outputs": [
    {
     "name": "stdout",
     "output_type": "stream",
     "text": [
      "for these 13 adjacent numbers: [5, 5, 7, 6, 6, 8, 9, 6, 6, 4, 8, 9, 5]\n",
      "thier product is: 23514624000\n",
      "Wall time: 14 ms\n"
     ]
    }
   ],
   "source": [
    "%time get_sol(13,numbers)"
   ]
  },
  {
   "cell_type": "code",
   "execution_count": null,
   "metadata": {},
   "outputs": [],
   "source": []
  }
 ],
 "metadata": {
  "kernelspec": {
   "display_name": "Python 3",
   "language": "python",
   "name": "python3"
  },
  "language_info": {
   "codemirror_mode": {
    "name": "ipython",
    "version": 3
   },
   "file_extension": ".py",
   "mimetype": "text/x-python",
   "name": "python",
   "nbconvert_exporter": "python",
   "pygments_lexer": "ipython3",
   "version": "3.8.5"
  }
 },
 "nbformat": 4,
 "nbformat_minor": 4
}
