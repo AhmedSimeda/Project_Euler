{
  "nbformat": 4,
  "nbformat_minor": 0,
  "metadata": {
    "colab": {
      "name": "Prime square remainders.ipynb",
      "provenance": []
    },
    "kernelspec": {
      "name": "python3",
      "display_name": "Python 3"
    }
  },
  "cells": [
    {
      "cell_type": "code",
      "metadata": {
        "id": "hLxmPER7OW0B"
      },
      "source": [
        "from sympy import prime"
      ],
      "execution_count": 1,
      "outputs": []
    },
    {
      "cell_type": "code",
      "metadata": {
        "id": "6xpP4IR8O6vy"
      },
      "source": [
        "def get_least_n(limit):\r\n",
        "  #n = 1\r\n",
        "  n = 7037                                  \r\n",
        "  p_n = prime(n)\r\n",
        "  term_1, term_2 = (p_n - 1)**n, (p_n + 1)**n\r\n",
        "  while ((term_1+term_2)%(p_n**2)) < limit:\r\n",
        "    n += 1\r\n",
        "    p_n = prime(n)\r\n",
        "    term_1, term_2 = (p_n - 1)**n, (p_n + 1)**n\r\n",
        "\r\n",
        "    if n%1000==0:print(n)\r\n",
        "  \r\n",
        "  print(f'The least value of n for which the remainder first exceeds {limit} is {n}')"
      ],
      "execution_count": 20,
      "outputs": []
    },
    {
      "cell_type": "code",
      "metadata": {
        "colab": {
          "base_uri": "https://localhost:8080/"
        },
        "id": "1Q9tDWXuP_eP",
        "outputId": "612481d2-2940-467e-95bc-d379629a933f"
      },
      "source": [
        "%time get_least_n(1e9)  "
      ],
      "execution_count": 18,
      "outputs": [
        {
          "output_type": "stream",
          "text": [
            "1000\n",
            "2000\n",
            "3000\n",
            "4000\n",
            "5000\n",
            "6000\n",
            "7000\n",
            "The least value of n for which the remainder first exceeds 1000000000.0 is 7037\n",
            "CPU times: user 3min 33s, sys: 518 ms, total: 3min 34s\n",
            "Wall time: 3min 35s\n"
          ],
          "name": "stdout"
        }
      ]
    },
    {
      "cell_type": "code",
      "metadata": {
        "colab": {
          "base_uri": "https://localhost:8080/"
        },
        "id": "hy1azLrVQ3Q7",
        "outputId": "d61e9273-0e08-42ae-df71-f54503d9b5a8"
      },
      "source": [
        "%time get_least_n(1e10) # I will edit the function and begin from n=7037 instead of n=1"
      ],
      "execution_count": 21,
      "outputs": [
        {
          "output_type": "stream",
          "text": [
            "8000\n",
            "9000\n",
            "10000\n",
            "11000\n",
            "12000\n",
            "13000\n",
            "14000\n",
            "15000\n",
            "16000\n",
            "17000\n",
            "18000\n",
            "19000\n",
            "20000\n",
            "21000\n",
            "The least value of n for which the remainder first exceeds 10000000000.0 is 21035\n",
            "CPU times: user 10min 28s, sys: 475 ms, total: 10min 29s\n",
            "Wall time: 10min 32s\n"
          ],
          "name": "stdout"
        }
      ]
    },
    {
      "cell_type": "code",
      "metadata": {
        "id": "1b6C8izhSjbW"
      },
      "source": [
        ""
      ],
      "execution_count": null,
      "outputs": []
    }
  ]
}