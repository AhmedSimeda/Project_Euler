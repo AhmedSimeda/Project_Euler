{
 "cells": [
  {
   "cell_type": "markdown",
   "metadata": {},
   "source": [
    "[Math Blog](https://www.mathblog.dk/project-euler-114-fill-row-with-blocks/)'s code and idea"
   ]
  },
  {
   "cell_type": "code",
   "execution_count": 1,
   "metadata": {},
   "outputs": [],
   "source": [
    "cache = {}\n",
    "def F(n, m):\n",
    "    \"\"\"\n",
    "    A row measuring n units in length has red blocks with a minimum length of m units placed on it, \n",
    "    such that any two red blocks (which are allowed to be different lengths) are separated by at least one black square.\n",
    "    \"\"\"\n",
    "    solutions = 1\n",
    "    \n",
    "    if m>n: return solutions\n",
    "    \n",
    "    if n in cache: return cache[n]\n",
    "    \n",
    "    for startpos in range(0, n-m+1):\n",
    "        for blocklength in range(m, n-startpos+1):\n",
    "            solutions += F(n - startpos - blocklength-1, m)\n",
    "            \n",
    "    cache[n] = solutions\n",
    "    return solutions"
   ]
  },
  {
   "cell_type": "code",
   "execution_count": 2,
   "metadata": {},
   "outputs": [
    {
     "name": "stdout",
     "output_type": "stream",
     "text": [
      "Wall time: 1.01 ms\n"
     ]
    },
    {
     "data": {
      "text/plain": [
       "17"
      ]
     },
     "execution_count": 2,
     "metadata": {},
     "output_type": "execute_result"
    }
   ],
   "source": [
    "%time F(7, 3)"
   ]
  },
  {
   "cell_type": "code",
   "execution_count": 3,
   "metadata": {},
   "outputs": [
    {
     "name": "stdout",
     "output_type": "stream",
     "text": [
      "Wall time: 19.2 ms\n"
     ]
    },
    {
     "data": {
      "text/plain": [
       "16475640049"
      ]
     },
     "execution_count": 3,
     "metadata": {},
     "output_type": "execute_result"
    }
   ],
   "source": [
    "%time F(50, 3)"
   ]
  },
  {
   "cell_type": "code",
   "execution_count": null,
   "metadata": {},
   "outputs": [],
   "source": []
  }
 ],
 "metadata": {
  "kernelspec": {
   "display_name": "Python 3",
   "language": "python",
   "name": "python3"
  },
  "language_info": {
   "codemirror_mode": {
    "name": "ipython",
    "version": 3
   },
   "file_extension": ".py",
   "mimetype": "text/x-python",
   "name": "python",
   "nbconvert_exporter": "python",
   "pygments_lexer": "ipython3",
   "version": "3.8.3"
  }
 },
 "nbformat": 4,
 "nbformat_minor": 4
}
