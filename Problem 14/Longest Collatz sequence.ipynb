{
 "cells": [
  {
   "cell_type": "code",
   "execution_count": 3,
   "metadata": {},
   "outputs": [],
   "source": [
    "def get_seq(start_num):\n",
    "    length = 1     # the number itself is counted\n",
    "    while start_num != 1:\n",
    "        if start_num%2 == 0:\n",
    "            start_num //= 2\n",
    "        else:\n",
    "            start_num = 3*start_num+1\n",
    "        \n",
    "        length += 1\n",
    "        \n",
    "    return length"
   ]
  },
  {
   "cell_type": "code",
   "execution_count": 6,
   "metadata": {},
   "outputs": [],
   "source": [
    "def get_sol(limit):\n",
    "    max_len = -99999\n",
    "    for n in range(1,limit):\n",
    "        length = get_seq(n)\n",
    "        if length > max_len:\n",
    "            max_len = length\n",
    "            start_num = n\n",
    "    \n",
    "    print(\"The starting number, under one million, produces the longest chain is:\",start_num)"
   ]
  },
  {
   "cell_type": "code",
   "execution_count": 7,
   "metadata": {},
   "outputs": [
    {
     "name": "stdout",
     "output_type": "stream",
     "text": [
      "The starting number, under one million, produces the longest chain is: 837799\n",
      "Wall time: 1min 32s\n"
     ]
    }
   ],
   "source": [
    "%time get_sol(1000000)"
   ]
  },
  {
   "cell_type": "code",
   "execution_count": null,
   "metadata": {},
   "outputs": [],
   "source": []
  }
 ],
 "metadata": {
  "kernelspec": {
   "display_name": "Python 3",
   "language": "python",
   "name": "python3"
  },
  "language_info": {
   "codemirror_mode": {
    "name": "ipython",
    "version": 3
   },
   "file_extension": ".py",
   "mimetype": "text/x-python",
   "name": "python",
   "nbconvert_exporter": "python",
   "pygments_lexer": "ipython3",
   "version": "3.8.3"
  }
 },
 "nbformat": 4,
 "nbformat_minor": 4
}
