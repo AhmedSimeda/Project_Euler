{
  "nbformat": 4,
  "nbformat_minor": 0,
  "metadata": {
    "colab": {
      "name": "Diophantine reciprocals I.ipynb",
      "provenance": []
    },
    "kernelspec": {
      "name": "python3",
      "display_name": "Python 3"
    }
  },
  "cells": [
    {
      "cell_type": "code",
      "metadata": {
        "id": "d_Y2Um_BDu0p"
      },
      "source": [
        "from functools import reduce \n",
        "import operator"
      ],
      "execution_count": 1,
      "outputs": []
    },
    {
      "cell_type": "code",
      "metadata": {
        "id": "n6vtEmBTEl9H"
      },
      "source": [
        "def get_Nfactors(number):\n",
        "    exponents = []\n",
        "    factor = 2\n",
        "    while number > 1:\n",
        "        n = 0\n",
        "        if number%factor == 0:\n",
        "            while number%factor == 0:\n",
        "                number //= factor\n",
        "                n +=1\n",
        "            exponents.append(n+1)    #adding one to the exponent\n",
        "            \n",
        "        factor +=1\n",
        "    \n",
        "    num_factors = reduce(operator.mul,exponents)\n",
        "    \n",
        "    # As something like 16 --> 5 factors only {1,2,4,8,16} so we need to do the following\n",
        "    if num_factors%2 == 0:\n",
        "        return num_factors\n",
        "    return num_factors+1"
      ],
      "execution_count": 2,
      "outputs": []
    },
    {
      "cell_type": "code",
      "metadata": {
        "id": "FWUVjRL9EnbS"
      },
      "source": [
        "def get_sol(limit):\n",
        "    n = 2\n",
        "    sols = get_Nfactors(n**2)//2\n",
        "    while sols <= limit:\n",
        "        n += 1\n",
        "        sols = get_Nfactors(n**2)//2\n",
        "    \n",
        "    print (\"The least value of n for which the number of distinct solutions exceeds one-thousand is \" + str(n))"
      ],
      "execution_count": 5,
      "outputs": []
    },
    {
      "cell_type": "code",
      "metadata": {
        "id": "_TCNh2XTEpLI",
        "outputId": "52ccc132-29e4-499a-ab95-852162443a05",
        "colab": {
          "base_uri": "https://localhost:8080/",
          "height": 67
        }
      },
      "source": [
        "%time get_sol(1000)"
      ],
      "execution_count": 6,
      "outputs": [
        {
          "output_type": "stream",
          "text": [
            "The least value of n for which the number of distinct solutions exceeds one-thousand is 180180\n",
            "CPU times: user 5min 34s, sys: 41.7 ms, total: 5min 34s\n",
            "Wall time: 5min 34s\n"
          ],
          "name": "stdout"
        }
      ]
    },
    {
      "cell_type": "code",
      "metadata": {
        "id": "Xkyqx6VpErWf"
      },
      "source": [
        ""
      ],
      "execution_count": null,
      "outputs": []
    }
  ]
}