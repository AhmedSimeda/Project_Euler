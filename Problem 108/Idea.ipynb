{
 "cells": [
  {
   "cell_type": "markdown",
   "metadata": {},
   "source": [
    "With the help of this [great website](https://www.alpertron.com.ar/QUAD.HTM) again.Let's get started :)"
   ]
  },
  {
   "cell_type": "markdown",
   "metadata": {},
   "source": [
    "## The idea :\n",
    "**The equation we're trying to solve:**\n",
    "$$a⁢x^2 + b⁢x⁢y + c⁢y^2 + d⁢x + e⁢y + f = 0$$\n",
    "where :$$(a = 0, b=-1, c=0, d=n, e=n, f=0)$$\n",
    "**Steps:**\n",
    "- calculate the discriminant:$$b² − 4⁢a⁢c$$\n",
    "<center>(which will always be equal to one in this case)</center>\n",
    "- Let D be the discriminant. We apply the transformation of Legendre **`Dx = X + α, Dy = Y + β`**, and we obtain:\n",
    "\n",
    "$$α = 2⁢c⁢d - b⁢e$$\n",
    ">by substituting the above values we get:**`α = n`**\n",
    "\n",
    "$$β = 2⁢a⁢e - b⁢d$$\n",
    ">by substituting the above values we get:**`β = n`**\n",
    "\n",
    "- I donno the where this equation came from :\n",
    "\n",
    "$$-X⁢Y = -D (a⁢e^2 - b⁢e⁢d + c⁢d^2 + f⁢D)$$\n",
    ">by substituting the above values we get:**`X⁢Y = n^2`**"
   ]
  },
  {
   "cell_type": "markdown",
   "metadata": {},
   "source": [
    "In other words if we find **all the factors of n^2** we can find **the number of valid solution to this equation** and by some mathematics we can also find the real value of x and y.But i think i doesn't matter here."
   ]
  },
  {
   "cell_type": "markdown",
   "metadata": {},
   "source": [
    "with the help of this [idea](https://discuss.codechef.com/t/what-is-the-most-efficient-way-to-find-no-of-factors-of-a-number/14370/2) we can calculate the number of factors without knowing the all the factors just the prime ones.\n",
    "\n",
    "**Steps:**\n",
    "- Let X be a number, whose prime factorization yields-\n",
    "\n",
    "$$X= 2^a * 3^b *… $$\n",
    "- Then number of factors is product of (exponents +1). Meaning, number of factors are :\n",
    "**`Number of factors = (a+1)x(b+1)…`**"
   ]
  },
  {
   "cell_type": "code",
   "execution_count": 23,
   "metadata": {},
   "outputs": [],
   "source": [
    "from functools import reduce \n",
    "import operator"
   ]
  },
  {
   "cell_type": "code",
   "execution_count": 37,
   "metadata": {},
   "outputs": [],
   "source": [
    "def get_Nfactors(number):\n",
    "    exponents = []\n",
    "    factor = 2\n",
    "    while number > 1:\n",
    "        n = 0\n",
    "        if number%factor == 0:\n",
    "            while number%factor == 0:\n",
    "                number //= factor\n",
    "                n +=1\n",
    "            exponents.append(n+1)    #adding one to the exponent\n",
    "            \n",
    "        factor +=1\n",
    "    \n",
    "    num_factors = reduce(operator.mul,exponents)\n",
    "    \n",
    "    # As something like 16 --> 5 factors only {1,2,4,8,16} so we need to do the following\n",
    "    if num_factors%2 == 0:\n",
    "        return num_factors\n",
    "    return num_factors+1"
   ]
  },
  {
   "cell_type": "code",
   "execution_count": 40,
   "metadata": {},
   "outputs": [],
   "source": [
    "def get_sol(limit):\n",
    "    n = 2\n",
    "    sols = get_Nfactors(n**2)//2\n",
    "    while sols <= limit:\n",
    "        n += 1\n",
    "        sols = get_Nfactors(n**2)//2\n",
    "    \n",
    "    print (\"The least value of n for which the number of distinct solutions exceeds one-thousand is \" + str(n))"
   ]
  },
  {
   "cell_type": "code",
   "execution_count": null,
   "metadata": {},
   "outputs": [],
   "source": [
    "%time get_sol(1000)"
   ]
  }
 ],
 "metadata": {
  "kernelspec": {
   "display_name": "Python 3",
   "language": "python",
   "name": "python3"
  },
  "language_info": {
   "codemirror_mode": {
    "name": "ipython",
    "version": 3
   },
   "file_extension": ".py",
   "mimetype": "text/x-python",
   "name": "python",
   "nbconvert_exporter": "python",
   "pygments_lexer": "ipython3",
   "version": "3.8.3"
  }
 },
 "nbformat": 4,
 "nbformat_minor": 4
}
