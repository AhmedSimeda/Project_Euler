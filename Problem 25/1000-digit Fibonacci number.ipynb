{
 "cells": [
  {
   "cell_type": "code",
   "execution_count": 4,
   "metadata": {},
   "outputs": [
    {
     "name": "stdout",
     "output_type": "stream",
     "text": [
      "4782\n"
     ]
    }
   ],
   "source": [
    "F1 = 1\n",
    "F2 = 1\n",
    "Num = 0\n",
    "index = 2\n",
    "while 1:\n",
    "    index += 1 \n",
    "    if len(str(F1+F2)) == 1000:\n",
    "        Num = F1+F2\n",
    "        break\n",
    "    temp = F2\n",
    "    F2 = F1 + F2\n",
    "    F1 = temp\n",
    "\n",
    "#print(Num)\n",
    "print(index)"
   ]
  }
 ],
 "metadata": {
  "kernelspec": {
   "display_name": "Python 3",
   "language": "python",
   "name": "python3"
  },
  "language_info": {
   "codemirror_mode": {
    "name": "ipython",
    "version": 3
   },
   "file_extension": ".py",
   "mimetype": "text/x-python",
   "name": "python",
   "nbconvert_exporter": "python",
   "pygments_lexer": "ipython3",
   "version": "3.6.9"
  }
 },
 "nbformat": 4,
 "nbformat_minor": 2
}
