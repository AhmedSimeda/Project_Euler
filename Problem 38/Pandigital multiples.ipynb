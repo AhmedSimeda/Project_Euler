{
 "cells": [
  {
   "cell_type": "code",
   "execution_count": 1,
   "metadata": {},
   "outputs": [],
   "source": [
    "import numpy as np"
   ]
  },
  {
   "cell_type": "code",
   "execution_count": 4,
   "metadata": {},
   "outputs": [],
   "source": [
    "def concatenate(array):\n",
    "    conc =\"\"\n",
    "    for Num in array:\n",
    "        conc += str(Num)\n",
    "    \n",
    "    return conc"
   ]
  },
  {
   "cell_type": "code",
   "execution_count": 19,
   "metadata": {},
   "outputs": [],
   "source": [
    "def is_pandigital(Num):\n",
    "    return (len(set(Num)) == len(Num)) and (not \"0\" in Num) "
   ]
  },
  {
   "cell_type": "code",
   "execution_count": 30,
   "metadata": {},
   "outputs": [
    {
     "name": "stdout",
     "output_type": "stream",
     "text": [
      "time taken :1.007913589477539 s\n"
     ]
    }
   ],
   "source": [
    "import time\n",
    "start = time.time()\n",
    "\n",
    "pandigit_Mul = []\n",
    "for i in range(1,9876):\n",
    "    count = 1\n",
    "    subset = []\n",
    "    while len(concatenate(np.arange(1,count+1)*i)) <= 9:\n",
    "        array = np.arange(1,count+1)\n",
    "        array *= i\n",
    "        count += 1\n",
    "        if (len(concatenate(array)) == 9) and (is_pandigital(concatenate(array))):\n",
    "            subset.append(int(concatenate(array)))\n",
    "    try:        \n",
    "        pandigit_Mul.append(max(subset))\n",
    "    except:\n",
    "        continue\n",
    "\n",
    "end = time.time()\n",
    "print(\"time taken :\" + str(end-start) + \" s\")"
   ]
  },
  {
   "cell_type": "code",
   "execution_count": 31,
   "metadata": {},
   "outputs": [
    {
     "data": {
      "text/plain": [
       "932718654"
      ]
     },
     "execution_count": 31,
     "metadata": {},
     "output_type": "execute_result"
    }
   ],
   "source": [
    "max(pandigit_Mul)"
   ]
  }
 ],
 "metadata": {
  "kernelspec": {
   "display_name": "Python 3",
   "language": "python",
   "name": "python3"
  },
  "language_info": {
   "codemirror_mode": {
    "name": "ipython",
    "version": 3
   },
   "file_extension": ".py",
   "mimetype": "text/x-python",
   "name": "python",
   "nbconvert_exporter": "python",
   "pygments_lexer": "ipython3",
   "version": "3.7.3"
  }
 },
 "nbformat": 4,
 "nbformat_minor": 2
}
