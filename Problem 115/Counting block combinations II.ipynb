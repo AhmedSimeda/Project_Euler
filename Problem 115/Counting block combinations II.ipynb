{
 "cells": [
  {
   "cell_type": "code",
   "execution_count": 7,
   "metadata": {},
   "outputs": [],
   "source": [
    "# Like we did in the previous problem\n",
    "cache = {}\n",
    "def F(m, n):\n",
    "    \"\"\"\n",
    "    A row measuring n units in length has red blocks with a minimum length of m units placed on it, \n",
    "    such that any two red blocks (which are allowed to be different lengths) are separated by at least one black square.\n",
    "    \"\"\"\n",
    "    ways = 1\n",
    "    \n",
    "    if m>n: return ways\n",
    "    \n",
    "    if n in cache: return cache[n]\n",
    "    \n",
    "    for start_pos in range(n-m+1):\n",
    "        for block_length in range(m, n-start_pos+1):\n",
    "            ways += F(m, n-start_pos-block_length-1)\n",
    "        \n",
    "    cache[n] = ways\n",
    "    \n",
    "    return ways"
   ]
  },
  {
   "cell_type": "code",
   "execution_count": 9,
   "metadata": {},
   "outputs": [],
   "source": [
    "def get_sol(limit):\n",
    "    n = 50\n",
    "    ways = 0\n",
    "    while ways <= limit:\n",
    "        n += 1\n",
    "        ways = F(50, n)\n",
    "    \n",
    "    print(\"For m = 50, The least value of n for which the fill-count function first exceeds one million is\",n)"
   ]
  },
  {
   "cell_type": "code",
   "execution_count": 10,
   "metadata": {},
   "outputs": [
    {
     "name": "stdout",
     "output_type": "stream",
     "text": [
      "For m = 50, The least value of n for which the fill-count function first exceeds one million is 168\n",
      "Wall time: 175 ms\n"
     ]
    }
   ],
   "source": [
    "%time get_sol(1e6)"
   ]
  },
  {
   "cell_type": "code",
   "execution_count": null,
   "metadata": {},
   "outputs": [],
   "source": []
  }
 ],
 "metadata": {
  "kernelspec": {
   "display_name": "Python 3",
   "language": "python",
   "name": "python3"
  },
  "language_info": {
   "codemirror_mode": {
    "name": "ipython",
    "version": 3
   },
   "file_extension": ".py",
   "mimetype": "text/x-python",
   "name": "python",
   "nbconvert_exporter": "python",
   "pygments_lexer": "ipython3",
   "version": "3.8.3"
  }
 },
 "nbformat": 4,
 "nbformat_minor": 4
}
