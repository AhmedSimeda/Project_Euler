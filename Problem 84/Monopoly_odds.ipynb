{
  "nbformat": 4,
  "nbformat_minor": 0,
  "metadata": {
    "kernelspec": {
      "display_name": "Python 3",
      "language": "python",
      "name": "python3"
    },
    "language_info": {
      "codemirror_mode": {
        "name": "ipython",
        "version": 3
      },
      "file_extension": ".py",
      "mimetype": "text/x-python",
      "name": "python",
      "nbconvert_exporter": "python",
      "pygments_lexer": "ipython3",
      "version": "3.6.9"
    },
    "colab": {
      "name": "Monopoly odds.ipynb",
      "provenance": []
    }
  },
  "cells": [
    {
      "cell_type": "code",
      "metadata": {
        "id": "Ta9Gq5hyqalK",
        "colab_type": "code",
        "colab": {}
      },
      "source": [
        "from random import randint,choice\n",
        "from itertools import cycle"
      ],
      "execution_count": 3,
      "outputs": []
    },
    {
      "cell_type": "code",
      "metadata": {
        "id": "lp-t_vfTqalQ",
        "colab_type": "code",
        "colab": {}
      },
      "source": [
        "def determine_next_action(current_position):\n",
        "    if (current_position == 'CC1') or (current_position == 'CC2') or (current_position == 'CC3'):\n",
        "        card = choice(['A2G','G2J']+['Stay']*14)\n",
        "        if card == 'A2G':\n",
        "            return \"GO\"\n",
        "        elif card == 'G2J':\n",
        "            return \"JAIL\"\n",
        "        else:\n",
        "          return current_position\n",
        "    elif (current_position == 'CH1') or (current_position == 'CH2') or (current_position == 'CH3'):\n",
        "        card = choice(['A2G','G2J','G2C1','G2E3','G2H2','G2R1','G2NR','G2NR','G2NU','GB3S']+['Stay']*6)\n",
        "        if card == 'A2G':\n",
        "          return \"GO\"\n",
        "        elif card == 'G2J':\n",
        "          return \"JAIL\"\n",
        "        elif card == 'G2C1':\n",
        "          return \"C1\"\n",
        "        elif card == 'G2E3':\n",
        "          return \"E3\"\n",
        "        elif card == 'G2H2':\n",
        "          return \"H2\"\n",
        "        elif card == 'G2R1':\n",
        "          return \"R1\"\n",
        "        elif card == 'G2NR':\n",
        "          return \"R+\"\n",
        "        elif card == 'G2NU':\n",
        "          return \"U+\"\n",
        "        elif card == 'GB3S':\n",
        "          return \"-3\"\n",
        "        else:\n",
        "          return current_position\n",
        "    elif current_position == 'G2J':\n",
        "      return \"JAIL\"\n",
        "    else:\n",
        "      return current_position"
      ],
      "execution_count": 38,
      "outputs": []
    },
    {
      "cell_type": "code",
      "metadata": {
        "id": "DjZ3fkMgqalU",
        "colab_type": "code",
        "colab": {}
      },
      "source": [
        "def play(properties_dictionary,position):\n",
        "    properties_list = list(properties_dictionary.keys())\n",
        "    double_counter  = 0\n",
        "    nerd_1 = randint(1,4) \n",
        "    nerd_2 = randint(1,4)\n",
        "\n",
        "    if nerd_1 == nerd_2:\n",
        "      double_counter += 1\n",
        "    nerd   = nerd_1 + nerd_2\n",
        "\n",
        "    if double_counter == 3:\n",
        "      curr_pos = \"JAIL\"\n",
        "      double_counter = 0\n",
        "    else:\n",
        "      curr_pos = (properties_list*2)[properties_list.index(position) + nerd]\n",
        "\n",
        "    last_pos = determine_next_action(curr_pos)\n",
        "\n",
        "    if last_pos == 'R+':\n",
        "      p = properties_list.index(curr_pos)+1\n",
        "      while properties_list[p][0] != 'R':\n",
        "        p += 1\n",
        "        if (p+1) == 41:\n",
        "          p = 0\n",
        "      last_pos = properties_list[p]\n",
        "    elif last_pos == 'U+':\n",
        "      p = properties_list.index(curr_pos)+1\n",
        "      while properties_list[p][0] != 'U':\n",
        "        p += 1\n",
        "        if (p+1) == 41:\n",
        "          p = 0\n",
        "      last_pos = properties_list[p]\n",
        "    elif last_pos == '-3':\n",
        "      last_pos = properties_list[properties_list.index(curr_pos)-3]\n",
        "\n",
        "    properties_dictionary[last_pos] += 1\n",
        "\n",
        "    return last_pos,properties_dictionary    "
      ],
      "execution_count": 47,
      "outputs": []
    },
    {
      "cell_type": "code",
      "metadata": {
        "id": "nQ4a8E-gqalY",
        "colab_type": "code",
        "colab": {}
      },
      "source": [
        "def roll(number_of_rolls):\n",
        "    last_pos = \"GO\"\n",
        "    properties_dict = {\"GO\": 0,\"A1\": 0,\"CC1\": 0,\"A2\": 0,\"T1\": 0,\"R1\": 0,\"B1\": 0,\"CH1\": 0,\"B2\": 0,\"B3\": 0,\"JAIL\": 0,\"C1\": 0,\"U1\": 0,\"C2\": 0,\"C3\": 0,\"R2\": 0,\"D1\": 0,\"CC2\": 0,\"D2\": 0,\"D3\": 0,\"FP\": 0,\"E1\": 0,\"CH2\": 0,\"E2\": 0,\"E3\": 0,\"R3\": 0,\"F1\": 0,\"F2\": 0,\"U2\": 0,\"F3\": 0,\"G2J\": 0,\"G1\": 0,\"G2\": 0,\"CC3\": 0,\"G3\": 0,\"R4\": 0,\"CH3\": 0,\"H1\": 0,\"T2\": 0,\"H2\": 0}\n",
        "    for i in range(number_of_rolls):\n",
        "        last_pos,properties_dict = play(properties_dict,last_pos)\n",
        "    \n",
        "    #print(last_pos)\n",
        "    #print(\"=============\")\n",
        "    return properties_dict"
      ],
      "execution_count": 32,
      "outputs": []
    },
    {
      "cell_type": "code",
      "metadata": {
        "id": "JmQllQFS0EaR",
        "colab_type": "code",
        "colab": {
          "base_uri": "https://localhost:8080/",
          "height": 697
        },
        "outputId": "a2d26425-048a-4d7f-bd8d-37354a4a0876"
      },
      "source": [
        "prop_dic = roll(30000000)\n",
        "prop_dic"
      ],
      "execution_count": 48,
      "outputs": [
        {
          "output_type": "execute_result",
          "data": {
            "text/plain": [
              "{'A1': 553767,\n",
              " 'A2': 637733,\n",
              " 'B1': 658068,\n",
              " 'B2': 668230,\n",
              " 'B3': 665842,\n",
              " 'C1': 771886,\n",
              " 'C2': 748548,\n",
              " 'C3': 844435,\n",
              " 'CC1': 523070,\n",
              " 'CC2': 794051,\n",
              " 'CC3': 676311,\n",
              " 'CH1': 245813,\n",
              " 'CH2': 334233,\n",
              " 'CH3': 242370,\n",
              " 'D1': 939176,\n",
              " 'D2': 883059,\n",
              " 'D3': 910376,\n",
              " 'E1': 898044,\n",
              " 'E2': 889844,\n",
              " 'E3': 988026,\n",
              " 'F1': 795300,\n",
              " 'F2': 768893,\n",
              " 'F3': 834451,\n",
              " 'FP': 888140,\n",
              " 'G1': 856965,\n",
              " 'G2': 784694,\n",
              " 'G2J': 0,\n",
              " 'G3': 671551,\n",
              " 'GO': 857826,\n",
              " 'H1': 657507,\n",
              " 'H2': 770199,\n",
              " 'JAIL': 1793256,\n",
              " 'R1': 907230,\n",
              " 'R2': 1038783,\n",
              " 'R3': 930560,\n",
              " 'R4': 613512,\n",
              " 'T1': 713144,\n",
              " 'T2': 640503,\n",
              " 'U1': 745461,\n",
              " 'U2': 859143}"
            ]
          },
          "metadata": {
            "tags": []
          },
          "execution_count": 48
        }
      ]
    },
    {
      "cell_type": "code",
      "metadata": {
        "id": "3cl8J3ZH1WGT",
        "colab_type": "code",
        "colab": {
          "base_uri": "https://localhost:8080/",
          "height": 697
        },
        "outputId": "0281b26f-2397-4cf0-b9b5-21a4c5b8c2d5"
      },
      "source": [
        "sorted(prop_dic,key=lambda x:prop_dic[x])"
      ],
      "execution_count": 49,
      "outputs": [
        {
          "output_type": "execute_result",
          "data": {
            "text/plain": [
              "['G2J',\n",
              " 'CH3',\n",
              " 'CH1',\n",
              " 'CH2',\n",
              " 'CC1',\n",
              " 'A1',\n",
              " 'R4',\n",
              " 'A2',\n",
              " 'T2',\n",
              " 'H1',\n",
              " 'B1',\n",
              " 'B3',\n",
              " 'B2',\n",
              " 'G3',\n",
              " 'CC3',\n",
              " 'T1',\n",
              " 'U1',\n",
              " 'C2',\n",
              " 'F2',\n",
              " 'H2',\n",
              " 'C1',\n",
              " 'G2',\n",
              " 'CC2',\n",
              " 'F1',\n",
              " 'F3',\n",
              " 'C3',\n",
              " 'G1',\n",
              " 'GO',\n",
              " 'U2',\n",
              " 'D2',\n",
              " 'FP',\n",
              " 'E2',\n",
              " 'E1',\n",
              " 'R1',\n",
              " 'D3',\n",
              " 'R3',\n",
              " 'D1',\n",
              " 'E3',\n",
              " 'R2',\n",
              " 'JAIL']"
            ]
          },
          "metadata": {
            "tags": []
          },
          "execution_count": 49
        }
      ]
    },
    {
      "cell_type": "code",
      "metadata": {
        "id": "Jlwchwx35DpU",
        "colab_type": "code",
        "colab": {}
      },
      "source": [
        ""
      ],
      "execution_count": null,
      "outputs": []
    }
  ]
}