{
 "cells": [
  {
   "cell_type": "code",
   "execution_count": 26,
   "metadata": {},
   "outputs": [],
   "source": [
    "from random import randint,choice"
   ]
  },
  {
   "cell_type": "code",
   "execution_count": null,
   "metadata": {},
   "outputs": [],
   "source": [
    "def determine_next_action(current_position):\n",
    "    if (current_position == 'CC1') or (current_position == 'CC2') or (current_position == 'CC3'):\n",
    "        card = choice(['A2G','G2J'])\n",
    "        if card == 'A2G':\n",
    "            return \"GO\"\n",
    "        else:\n",
    "            return \"JAIL\"\n",
    "    elif (current_position == 'CH1') or (current_position == 'CH2') or (current_position == 'CH3'):\n",
    "        card = choice(['A2G','G2J','G2C1','G2E3','G2H2','G2R1','G2NR','G2NR','G2NU','GB3S'])\n",
    "        "
   ]
  },
  {
   "cell_type": "code",
   "execution_count": null,
   "metadata": {},
   "outputs": [],
   "source": [
    "def play(properties_dictionary,position):\n",
    "    properties_dict = {\"GO\": 0,\"A1\": 0,\"CC1\": 0,\"A2\": 0,\"T1\": 0,\"R1\": 0,\"B1\": 0,\"CH1\": 0,\"B2\": 0,\"B3\": 0,\"JAIL\": 0,\"C1\": 0,\"U1\": 0,\"C2\": 0,\"C3\": 0,\"R2\": 0,\"D1\": 0,\"CC2\": 0,\"D2\": 0,\"D3\": 0,\"FP\": 0,\"E1\": 0,\"CH2\": 0,\"E2\": 0,\"E3\": 0,\"R3\": 0,\"F1\": 0,\"F2\": 0,\"U2\": 0,\"F3\": 0,\"G2J\": 0,\"G1\": 0,\"G2\": 0,\"CC3\": 0,\"G3\": 0,\"R4\": 0,\"CH3\": 0,\"H1\": 0,\"T2\": 0,\"H2\": 0}\n",
    "    properties_list = list(properties.keys())\n",
    "    nerd = randint(1,6) + randint(1,6)\n",
    "    curr_pos = properties_list[properties_list.index(position) + nerd]\n",
    "    last_pos = determine_next_action(curr_pos)"
   ]
  },
  {
   "cell_type": "code",
   "execution_count": null,
   "metadata": {},
   "outputs": [],
   "source": [
    "def roll(number_of_rolls):\n",
    "    last_pos = \"GO\"\n",
    "    for i in range(number_of_rolls):\n",
    "        last_pos,propertiesDic = play(propertiesDic,last_pos)"
   ]
  }
 ],
 "metadata": {
  "kernelspec": {
   "display_name": "Python 3",
   "language": "python",
   "name": "python3"
  },
  "language_info": {
   "codemirror_mode": {
    "name": "ipython",
    "version": 3
   },
   "file_extension": ".py",
   "mimetype": "text/x-python",
   "name": "python",
   "nbconvert_exporter": "python",
   "pygments_lexer": "ipython3",
   "version": "3.6.9"
  }
 },
 "nbformat": 4,
 "nbformat_minor": 2
}
